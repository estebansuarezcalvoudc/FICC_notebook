{
 "cells": [
  {
   "cell_type": "markdown",
   "metadata": {
    "slideshow": {
     "slide_type": "slide"
    }
   },
   "source": [
    "\n",
    "<table width=\"100%\">\n",
    "<td style=\"font-size:45px;font-style:italic;text-align:right;background-color:rgba(0, 220, 170,0.7)\">\n",
    "Ejercicios y Soluciones\n",
    "</td></table>\n",
    "\n",
    "\n",
    "\n",
    "$ \\renewcommand{\\bra}[1]{\\langle #1|} $\n",
    "$ \\renewcommand{\\ket}[1]{|#1\\rangle} $\n",
    "$ \\renewcommand{\\braket}[2]{\\langle #1 | #2\\rangle} $\n",
    "$ \\renewcommand{\\ketbra}[2]{\\ket{ #1} \\bra{#2}} $\n",
    "$ \\renewcommand{\\i}{{\\color{blue} i}} $ \n",
    "$ \\renewcommand{\\Hil}{{\\mathcal H}} $\n",
    "$ \\renewcommand{\\cg}[1]{{\\rm C}#1} $\n",
    "$ \\renewcommand{\\tr}{{\\rm Tr}\\,} $\n",
    "$ \\renewcommand{\\boldsig}{\\boldsymbol{\\sigma}} $\n",
    "$ \\renewcommand{\\Lin}{\\hbox{Lin}} $"
   ]
  },
  {
   "cell_type": "code",
   "execution_count": 22,
   "metadata": {
    "slideshow": {
     "slide_type": "skip"
    }
   },
   "outputs": [],
   "source": [
    "import numpy as np\n",
    "import scipy.linalg as la\n",
    "' qiskit tiene un visualizador '\n",
    "from qiskit.tools.visualization import array_to_latex\n",
    "from IPython.display import display, Latex\n",
    "\n",
    "import macro_tQ as tQ"
   ]
  },
  {
   "cell_type": "markdown",
   "metadata": {},
   "source": [
    "<table width=\"100%\">\n",
    "<td style=\"font-size:30px;font-style:italic;text-align:left;background-color:rgba(0, 220, 170,0.7)\">\n",
    "1.2 Vectores\n",
    "</td></table>"
   ]
  },
  {
   "cell_type": "markdown",
   "metadata": {},
   "source": [
    "<a id=\"Ex_1.2.1\"></a>\n",
    "<div class=\"alert alert-block alert-success\">\n",
    "<b>Ejercicio 1.2.1</b>\n",
    "<br>\n",
    "\n",
    "- escribe una función $braket(u,v)$ que calcule y devuelva la el producto escalar $\\braket{u}{v}$, y, con ella, una función $norm(u)$ que calcule la norma $\\| \\ket{u}\\|$.\n",
    "Verifica que $\\| \\ket{u}\\| = \\sqrt{\\braket{u}{u}}$ coincide con el resultado que da la función $np.linalg.norm$.\n",
    "\n",
    "- escribe una función $random\\_ket$ que genere un vector normalizado  $\\ket{v}\\in\\Hil$ de dimensión $d$.\n",
    "        \n",
    "</div>\n",
    "\n",
    "\n",
    "</div>"
   ]
  },
  {
   "cell_type": "code",
   "execution_count": 2,
   "metadata": {
    "code_folding": []
   },
   "outputs": [],
   "source": [
    "def braket(u,v):\n",
    "        assert len(u) == len(v)\n",
    "        vket = v   \n",
    "        ubra = u.conj().T\n",
    "        return np.round(np.dot(ubra,vket),10)     \n",
    "    \n",
    "def braket2(u,v):\n",
    "    assert len(u)==len(v)\n",
    "    u = np.array(u).flatten()\n",
    "    v = np.array(v).flatten()\n",
    "    return np.sum([u[i].conjugate()*v[i] for i in range(len(u))])\n",
    "\n",
    "\n",
    "def norm(u):\n",
    "        return np.sqrt(braket(u,u).real)    \n",
    "    \n",
    "def normalized(u):\n",
    "        return u/norm(u)   \n",
    "    \n",
    "def random_ket(d, seed = None):\n",
    "    np.random.seed(seed)\n",
    "    ket = np.array([complex(np.random.uniform(-1, 1), np.random.uniform(-1, 1)) for _ in range(d)])\n",
    "    ket /= norm(ket)\n",
    "    return ket.reshape(d,1)"
   ]
  },
  {
   "cell_type": "markdown",
   "metadata": {},
   "source": [
    "<table width=\"100%\">\n",
    "<td style=\"font-size:30px;font-style:italic;text-align:left;background-color:rgba(0, 220, 170,0.7)\">\n",
    "1.3 Operadores\n",
    "</td></table>"
   ]
  },
  {
   "cell_type": "markdown",
   "metadata": {},
   "source": [
    "<div class=\"alert alert-block alert-success\">\n",
    "<b>Ejercicio:</b>\n",
    "<br>\n",
    "escribe una función, $ket\\_bra$, que calcule y devuelva la el producto externo $\\ketbra{u}{v}$  de dos vectores  $\\ket{u},\\ket{v} \\in \\Hil$.\n",
    "</div>"
   ]
  },
  {
   "cell_type": "code",
   "execution_count": 5,
   "metadata": {},
   "outputs": [],
   "source": [
    "def ket_bra(u,v):\n",
    "    uket = u\n",
    "    vbra = v.conj()\n",
    "    return np.outer(uket,vbra)"
   ]
  },
  {
   "cell_type": "code",
   "execution_count": 6,
   "metadata": {},
   "outputs": [],
   "source": [
    "def ket_bra(u,v):\n",
    "    assert len(u) == len(v)\n",
    "    d = len(u)\n",
    "    vbra = v.conj()\n",
    "    ket_bra = np.zeros([d,d],dtype=complex)\n",
    "    for i in range(d):\n",
    "        for j in range(d):\n",
    "            ket_bra[i,j] = u[i]*v[j].conjugate()\n",
    "   \n",
    "    return ket_bra"
   ]
  },
  {
   "cell_type": "markdown",
   "metadata": {},
   "source": [
    "comprobamos"
   ]
  },
  {
   "cell_type": "code",
   "execution_count": 7,
   "metadata": {},
   "outputs": [
    {
     "data": {
      "text/latex": [
       "$$\n",
       "\n",
       "\\begin{bmatrix}\n",
       "0.0412657794 + 0.487238719 i & -0.3964811999 + 0.0648844078 i  \\\\\n",
       " -0.5918879231 + 0.0869570915 i & -0.1089875443 - 0.4792881218 i  \\\\\n",
       " \\end{bmatrix}\n",
       "$$"
      ],
      "text/plain": [
       "<IPython.core.display.Latex object>"
      ]
     },
     "execution_count": 7,
     "metadata": {},
     "output_type": "execute_result"
    }
   ],
   "source": [
    "array_to_latex(ket_bra(random_ket(2),random_ket(2)))"
   ]
  },
  {
   "cell_type": "markdown",
   "metadata": {},
   "source": [
    "<div class=\"alert alert-block alert-success\">\n",
    "<b>Ejercicio:</b>$~$\n",
    "<br>    \n",
    "comprueba la consistencia de las expresiones $~A = \\sum_{i,j=1}^N A_{ij} \\ketbra{i}{j} $ y $~A_{ij} = \\bra{i} A \\ket{j}$\n",
    "</div>"
   ]
  },
  {
   "cell_type": "markdown",
   "metadata": {},
   "source": [
    "\\begin{eqnarray}\n",
    "\\bra{i} A \\ket{j} &=&  \\bra{i}\\left(\\sum_{k,l=1}^N A_{kl} \\ketbra{k}{l}  \\right) \\ket{j}\\nonumber\\\\\n",
    "    &=&\\sum_{k,l=1}^N \\braket{i}{k} A_{kl} \\braket{l}{j} \\nonumber\\\\\n",
    "    &=&\\sum_{k,l=1}^N \\delta_{ik} A_{kl} \\delta_{lj} = A_{ij}\n",
    "\\end{eqnarray}\n"
   ]
  },
  {
   "cell_type": "markdown",
   "metadata": {},
   "source": [
    "<div class=\"alert alert-block alert-success\">\n",
    "<b>Ejercicio:</b>$~$\n",
    "<br>    \n",
    "Escribe una función $basis\\_change$ que reciba una matriz $C_{ij}$ de cambio de base $\\ket{\\tilde e_j} = \\sum_i{C_{ij}}\\ket{e_i}$, la columna  $O_i$ de componentes de un vector, ó la matriz $O_{ij}$ de componentes un operador, y devuelva las componentes transformadas $\\tilde O_i~$ ó $~\\tilde O_{ij}$ en la nueva base. \n",
    "    \n",
    "</div>"
   ]
  },
  {
   "cell_type": "code",
   "execution_count": 8,
   "metadata": {},
   "outputs": [],
   "source": [
    "def basis_change(C,O):\n",
    "    \n",
    "    assert O.shape[0]==C.shape[0]\n",
    "    \n",
    "    if O.shape[1] != 1:\n",
    "        tO = C.conjugate().T@O@C\n",
    "    \n",
    "    elif O.shape[1] == 1:\n",
    "        tO = C.conjugate().T@O\n",
    "        \n",
    "    return tO"
   ]
  },
  {
   "cell_type": "markdown",
   "metadata": {},
   "source": [
    "<div class=\"alert alert-block alert-success\">\n",
    "<b>Ejercicio:</b>\n",
    "<br>    \n",
    "\n",
    "Resta de  ${\\rm dim}_{\\bf R}({\\rm L}(\\Hil)) =  2N^2$ el número de ecuaciones que restringen la matriz de un operador \n",
    "unitario y halla así la  dimensión (real) de la <i>variedad de operadores unitarios</i>\n",
    "</div>"
   ]
  },
  {
   "cell_type": "markdown",
   "metadata": {},
   "source": [
    "En $\\Hil$ un espacio complejo de dimensión <i>compleja</i> $N$, una matriz genérica $U\\in \\Lin(\\Hil)$ tiene $2N^2$ parámetros reales.\n",
    "\n",
    "La condición de unitariedad $U^\\dagger U  = I $ es un conjunto de $N^2$ ecuaciones complejas. Sin embargo\n",
    "\n",
    "- la ecuaciones fuera de la diagonal forman un conjunto invariante transposición, por tanto, sólo son $N(N-1)/2$ ecuaciones complejas, es decir $N^2 - N$ reals.  \n",
    "\n",
    "- las ecuaciones de la diagonal son reales, por lo tanto sólo contribuyen con $N$ ecuaciones. \n",
    "\n",
    "En total, la condición de unitariedad supone $N^2$ condiciones para los $2N^2$ parámetros reales iniciales, lo cual deja libres $N^2$ parámetros. Ésta es la dimensión de la variedad $U(N)$ de matrices unitarias $N\\times N$.\n"
   ]
  },
  {
   "cell_type": "markdown",
   "metadata": {},
   "source": [
    "<div class=\"alert alert-block alert-success\">\n",
    "    <b>Ejercicio:</b>\n",
    "<br>    \n",
    "Demuestra que la combinación lineal de dos operadores <i>hermíticos</i>  es hermítica sólo si los coeficientes son reales. Demuestra que su composición no es hermítica en general.\n",
    "\n",
    "Resta de  ${\\rm dim}_{\\bf R}({\\rm L}(\\Hil)) =  2N^2$ el número de ecuaciones que restringen la matriz de un operador \n",
    "hermítico y halla así la dimensión (real) de la  <i>subespacio vectorial de operadores hermíticos</i>. \n",
    "</div>"
   ]
  },
  {
   "cell_type": "markdown",
   "metadata": {},
   "source": [
    "$$\n",
    " (a A+ b B)^\\dagger = a^* A^\\dagger+ b^* B^\\dagger = a^* A + b^* B = aA + bB ~~~\\Leftrightarrow ~~~~ a = a^*, b=b^* \n",
    "$$\n",
    "    \n",
    "$$\n",
    "(AB)^\\dagger = B^\\dagger A^\\dagger = B A  \\neq AB\n",
    "$$\n",
    "    \n",
    "\n",
    "en $\\Hil$ un espacio complejo de dimensión <i>compleja</i> $N$, una matriz genérica $A\\in \\Lin(\\Hil)$ tiene $2N^2$ parámetros reales.\n",
    "\n",
    "La condición de hermiticidad $A^*_{ij} = A_{ji}$ tiene la siguiente solución \n",
    "\n",
    "- la parte real es una matriz simétrica $\\hbox{Re}(A_{ij}) = \\hbox{Re}(A_{ji})$, son $N(N+1)/2$ parámetros libres\n",
    "<br>\n",
    "\n",
    "- la parte imaginaria es una matriz antisimétrica  $\\hbox{Im}(A_{ij}) = -\\hbox{Im}(A_{ji})$, son $N(N-1)/2$ parámetros libres\n",
    "\n",
    "En total $N(N+1)/2 + N(N-1)/2 = N^2$ parámetros libres, es la dimensión del subespacio hermítico.\n"
   ]
  },
  {
   "cell_type": "markdown",
   "metadata": {},
   "source": [
    "<div class=\"alert alert-block alert-success\">\n",
    "    <b>Ejercicio:</b>\n",
    "<br>\n",
    "    \n",
    "Escribe una función, $random\\_hermitian$, que genere una matriz hermítica de dimensión $d$.\n",
    "Comprueba en distintos casos que el espectro es real. \n",
    " "
   ]
  },
  {
   "cell_type": "code",
   "execution_count": 9,
   "metadata": {},
   "outputs": [],
   "source": [
    "def random_hermitian(d):   \n",
    "    real_part = np.random.uniform(-1, 1, (d, d))\n",
    "    imag_part = np.random.uniform(-1, 1, (d, d))\n",
    "    complex_matrix = np.matrix(real_part + imag_part * 1j)\n",
    "    hermitian_matrix = 0.5*(complex_matrix + complex_matrix.conj().T)\n",
    "    return hermitian_matrix"
   ]
  },
  {
   "cell_type": "markdown",
   "metadata": {},
   "source": [
    "Generemos una matriz hermítica y comprobemos que sus autovalores son reales"
   ]
  },
  {
   "cell_type": "code",
   "execution_count": 10,
   "metadata": {},
   "outputs": [
    {
     "data": {
      "text/plain": [
       "array([ 2.2278 -0.j, -1.33681+0.j, -0.44292+0.j,  0.39432-0.j])"
      ]
     },
     "execution_count": 10,
     "metadata": {},
     "output_type": "execute_result"
    }
   ],
   "source": [
    "d=4 \n",
    "\n",
    "hermit_mat = random_hermitian(d).getH()\n",
    "\n",
    "np.round(la.eig(hermit_mat)[0],5)"
   ]
  },
  {
   "cell_type": "markdown",
   "metadata": {},
   "source": [
    "<div class=\"alert alert-block alert-success\">\n",
    "    <b>Ejercicio:</b>\n",
    "<br>\n",
    "\n",
    "Escribe una función, $random\\_unitary$, que genere una matriz unitaria aleatoria de dimensión $d$.\n",
    "Comprueba en distintos casos que el espectro está formado por fases\n",
    "</div> "
   ]
  },
  {
   "cell_type": "markdown",
   "metadata": {},
   "source": [
    "<div class=\"alert alert-block alert-success\">\n",
    "    <b> Ejercicio: </b>  (<i> Reflector</i>)\n",
    "<br>\n",
    "\n",
    "Dado un vector unitario $\\ket{u}$, escribe \n",
    "<br>    \n",
    "<br>    \n",
    "- el operador $R_{u}^{\\perp}$ que refleja la componente perpendicular a $\\ket{u}$ de cualquier  vector $\\ket{\\psi}$   \n",
    "<br>\n",
    "<br>\n",
    "- el operador $R_{u}^{\\|}$ que refleja la componente paralela a $\\ket{u}$ de cualquier  vector $\\ket{\\psi}$  \n",
    "<br>  \n",
    "    \n",
    "</div>"
   ]
  },
  {
   "cell_type": "markdown",
   "metadata": {},
   "source": [
    "<div class=\"alert alert-block alert-success\">\n",
    "<b> Ejercicio: </b> <br> \n",
    "\n",
    "Escribe una función, $spectral\\_decomp$, que devuelva las dos listas $\\lambda_i$ y $P_i$ asociadas a la decomposición espectral de un operador diagonalizable $A = \\sum_i \\lambda_i P_i$.   \n",
    "    \n",
    "Obtén la descomposición espectral de las tres matrices de Pauli, $\\sigma_x, \\sigma_y $ y $\\sigma_z$.   \n",
    "    \n",
    "Utiliza esta descomposición para demostrar que\n",
    "$$\n",
    "e^{i \\alpha\\,  {\\bf n}\\cdot\\boldsymbol{\\sigma}} = \\cos \\alpha \\, I + i \\sin \\alpha \\, {\\bf n}\\cdot\\boldsymbol{\\sigma}\n",
    "$$\n",
    "</div>"
   ]
  },
  {
   "cell_type": "code",
   "execution_count": 11,
   "metadata": {},
   "outputs": [],
   "source": [
    "def spectral_decomp(A):\n",
    "    eigvals, eigvecs = np.linalg.eigh(A)\n",
    "    return eigvals, [ket_bra(eigvecs[:,i],eigvecs[:,i]) for i in range(A.shape[0])]"
   ]
  },
  {
   "cell_type": "code",
   "execution_count": 12,
   "metadata": {},
   "outputs": [],
   "source": [
    "A = random_hermitian(3)  \n",
    "' Matrices de Pauli'\n",
    "s0 = np.matrix([[1,0],[0,1]]) # matriz identidad\n",
    "s1 = np.matrix([[0,1],[1,0]],dtype = complex)\n",
    "s2 = np.matrix([[0,-1j],[1j,0]])\n",
    "s3 = np.matrix([[1,0],[0,-1]])"
   ]
  },
  {
   "cell_type": "code",
   "execution_count": 13,
   "metadata": {},
   "outputs": [
    {
     "name": "stdout",
     "output_type": "stream",
     "text": [
      "[-1.  1.]\n"
     ]
    },
    {
     "data": {
      "text/latex": [
       "$$\n",
       "\n",
       "\\begin{bmatrix}\n",
       "\\frac{1}{2} & \\frac{1}{2}  \\\\\n",
       " \\frac{1}{2} & \\frac{1}{2}  \\\\\n",
       " \\end{bmatrix}\n",
       "$$"
      ],
      "text/plain": [
       "<IPython.core.display.Latex object>"
      ]
     },
     "execution_count": 13,
     "metadata": {},
     "output_type": "execute_result"
    }
   ],
   "source": [
    "eigenvalues, proyectors = spectral_decomp(s1)\n",
    "print(eigenvalues)\n",
    "array_to_latex(proyectors[1])"
   ]
  },
  {
   "cell_type": "code",
   "execution_count": 14,
   "metadata": {},
   "outputs": [
    {
     "data": {
      "text/plain": [
       "array([[0.+0.j, 1.+0.j],\n",
       "       [1.+0.j, 0.+0.j]])"
      ]
     },
     "execution_count": 14,
     "metadata": {},
     "output_type": "execute_result"
    }
   ],
   "source": [
    "sum(eigenvalues[i]*proyectors[i] for i in range(2))"
   ]
  },
  {
   "cell_type": "markdown",
   "metadata": {},
   "source": [
    "<div class=\"alert alert-block alert-success\">\n",
    "<b>Ejercicio:</b>$~$\n",
    "\n",
    "Genera tres matrices aleatorias $A,B$ y $C$ y comprueba la igualdad\n",
    "<br>\n",
    "<br>\n",
    "$$\n",
    "{\\rm tr}(ABC)= {\\rm tr}(BCA) = {\\rm tr}(CAB)\n",
    "$$\n",
    "Demuestra dicha igualdad matemáticamente\n",
    "    \n",
    "</div>"
   ]
  },
  {
   "cell_type": "code",
   "execution_count": 15,
   "metadata": {},
   "outputs": [
    {
     "name": "stdout",
     "output_type": "stream",
     "text": [
      "tr(ABC)= 1.335203363636943\n",
      "tr(BCA)= 1.3352033636369431\n",
      "tr(CAB)= 1.3352033636369431\n"
     ]
    }
   ],
   "source": [
    "A =np.random.rand(2,2)\n",
    "B =np.random.rand(2,2)\n",
    "C =np.random.rand(2,2)                  \n",
    "\n",
    "print('tr(ABC)=', np.trace(A@B@C))\n",
    "print('tr(BCA)=', np.trace(B@C@A))\n",
    "print('tr(CAB)=', np.trace(C@A@B))"
   ]
  },
  {
   "cell_type": "markdown",
   "metadata": {},
   "source": [
    "\\begin{eqnarray}\n",
    "{\\rm tr}(ABC)&=& \\sum_{i,j,k}A_{ij}B_{jk}C_{ki} =\\sum_{j,k,i}B_{jk}C_{ki}A_{ij}={\\rm tr}(BCA) \\end{eqnarray}\n"
   ]
  },
  {
   "cell_type": "markdown",
   "metadata": {},
   "source": [
    "<div class=\"alert alert-block alert-success\">\n",
    "<b>Ejercicio:</b>$~$\n",
    "escribe una función $trace\\_norm(A)$ que calcule la norma de la traza de un operador. \n",
    "</div>"
   ]
  },
  {
   "cell_type": "markdown",
   "metadata": {},
   "source": [
    "<table width=\"100%\">\n",
    "<td style=\"font-size:30px;font-style:italic;text-align:right;background-color:rgba(0, 220, 170,0.7)\">\n",
    "Tensores\n",
    "</td></table>"
   ]
  },
  {
   "cell_type": "markdown",
   "metadata": {},
   "source": [
    "<div class=\"alert alert-block alert-success\">\n",
    "    <b>Ejercicio:</b> \n",
    "    \n",
    "escribe una función  <i>kronecker(u,v)</i> que tome dos kets (como vectores columna)  y devuelva su producto de Kronecker. Verifica el resultado con la funcion $kron$ de numpy.  \n",
    "</div>"
   ]
  },
  {
   "cell_type": "code",
   "execution_count": 16,
   "metadata": {},
   "outputs": [],
   "source": [
    "def kronecker(u,v):\n",
    "    u = np.array(u).flatten()\n",
    "    v = np.array(v).flatten()\n",
    "    return [u[i]*v[j] for j in range(len(v)) for i in range(len(u))]   "
   ]
  },
  {
   "cell_type": "code",
   "execution_count": 17,
   "metadata": {},
   "outputs": [
    {
     "data": {
      "text/plain": [
       "[0, 0, 0, 1]"
      ]
     },
     "execution_count": 17,
     "metadata": {},
     "output_type": "execute_result"
    }
   ],
   "source": [
    "import numpy as np\n",
    "\n",
    "u = [0,1]\n",
    "v = [0,1]\n",
    "w = [0,1]\n",
    "\n",
    "kronecker(u,v)"
   ]
  },
  {
   "cell_type": "markdown",
   "metadata": {},
   "source": [
    "<table width=\"100%\">\n",
    "<td style=\"font-size:30px;font-style:italic;text-align:right;background-color:rgba(0, 220, 170,0.7)\">\n",
    "Un cúbit\n",
    "</td></table>"
   ]
  },
  {
   "cell_type": "markdown",
   "metadata": {},
   "source": [
    "<div class=\"alert alert-block alert-success\">\n",
    "<b>Ejercicio:</b> \n",
    "En la figura observamos el resultado de hacer pasar una nube de electrones a través de tres detectores de Stern Gerlach perpendiculares.\n",
    "<br>\n",
    "<br>\n",
    "    \n",
    "<img src=\"images/Stern-Gerlach_Analyzer.png\" width=\"60%\" style=\"margin:auto\"/>\n",
    "    \n",
    " Reproduce ese experimento en un circuito. Toma el eje $Y$ como eje de propagación orienta los detectores sucesivamente a lo largo de $Z$, y $X$ y $Z$ de nuevo. \n",
    "    \n",
    "Ejecuta el circuito lanzando los electrones de 1 en 1 en un estado inicial arbitrario y observa los resultados intermedios. \n",
    "    \n",
    "Lanza ahora una nube de electrones y observa la estadística    \n",
    "</div>"
   ]
  },
  {
   "cell_type": "code",
   "execution_count": 18,
   "metadata": {},
   "outputs": [
    {
     "data": {
      "text/plain": [
       "{'010': 1}"
      ]
     },
     "execution_count": 18,
     "metadata": {},
     "output_type": "execute_result"
    }
   ],
   "source": [
    "from qiskit import Aer, execute, QuantumCircuit\n",
    "\n",
    "qc = QuantumCircuit(1,3)\n",
    "\n",
    "#qc.h(0)\n",
    "qc.measure(0,2)\n",
    "qc.h(0)\n",
    "qc.measure(0,1)\n",
    "qc.h(0)\n",
    "qc.measure(0,0)\n",
    "qc.draw('mpl')\n",
    "\n",
    "nshots = 1\n",
    "\n",
    "M_simulator = Aer.get_backend('qasm_simulator')\n",
    "\n",
    "execute(qc,M_simulator,shots = nshots).result().get_counts()\n"
   ]
  },
  {
   "cell_type": "markdown",
   "metadata": {},
   "source": [
    "<div class=\"alert alert-block alert-success\">\n",
    "<b>Ejercicio:</b> \n",
    "\n",
    " genera un estado arbitrario, $\\ket{\\psi}$, y calcula el valor esperado $\\langle X\\rangle_\\psi = \\bra{\\psi}X\\ket{\\psi}$\n",
    "</div>"
   ]
  },
  {
   "cell_type": "code",
   "execution_count": 19,
   "metadata": {},
   "outputs": [
    {
     "name": "stdout",
     "output_type": "stream",
     "text": [
      "<X> = -0.34856\n"
     ]
    },
    {
     "data": {
      "image/png": "[encoded data removed]",
      "text/plain": [
       "<Figure size 519.897x200.667 with 1 Axes>"
      ]
     },
     "execution_count": 19,
     "metadata": {},
     "output_type": "execute_result"
    }
   ],
   "source": [
    "from qiskit import Aer, execute, QuantumCircuit \n",
    "\n",
    "# definimos un estado arbitrario en la esfera de Bloch\n",
    "theta = 1.  #rad\n",
    "phi   = 2.  #rad\n",
    "psi_state = [np.cos(theta/2),(np.exp(1j*phi))*np.sin(theta/2)]\n",
    "\n",
    "qc = QuantumCircuit(1,1)\n",
    "qc.initialize(psi_state,0)\n",
    "#qc.u(theta,phi,0,0)\n",
    "qc.h(0)\n",
    "qc.measure(0,0)\n",
    "\n",
    "shots = 100000\n",
    "counts=execute(qc,backend=Aer.get_backend('qasm_simulator'),shots=shots).result().get_counts()\n",
    "\n",
    "mean_X = 0\n",
    "for bits, counts  in counts.items():\n",
    "    mean_X += (-1)**(int(bits)) * counts/shots  \n",
    "\n",
    "print('<X> =',np.round(mean_X,5))\n",
    "\n",
    "qc.draw('mpl')"
   ]
  },
  {
   "cell_type": "markdown",
   "metadata": {},
   "source": [
    "<div class=\"alert alert-block alert-success\">\n",
    "<b>Ejercicio:</b> \n",
    "\n",
    " calcula el valor esperado $\\langle Y\\rangle_\\psi = \\bra{\\psi}Y\\ket{\\psi}$\n",
    "</div>"
   ]
  },
  {
   "cell_type": "code",
   "execution_count": 20,
   "metadata": {},
   "outputs": [
    {
     "name": "stdout",
     "output_type": "stream",
     "text": [
      "<Y> = 0.76562\n"
     ]
    },
    {
     "data": {
      "image/png": "[encoded data removed]",
      "text/plain": [
       "<Figure size 603.508x200.667 with 1 Axes>"
      ]
     },
     "execution_count": 20,
     "metadata": {},
     "output_type": "execute_result"
    }
   ],
   "source": [
    "# definimos un estado arbitrario en la esfera de Bloch\n",
    "theta = 1.  #rad\n",
    "phi   = 2.  #rad\n",
    "psi_state = [np.cos(theta/2),(np.exp(1j*phi))*np.sin(theta/2)]\n",
    "\n",
    "qc = QuantumCircuit(1,1)\n",
    "qc.initialize(psi_state,0)\n",
    "#qc.u(theta,phi,0,0)\n",
    "qc.sdg(0)\n",
    "qc.h(0)\n",
    "qc.measure(0,0)\n",
    "\n",
    "shots = 100000\n",
    "counts=execute(qc,backend=Aer.get_backend('qasm_simulator'),shots=shots).result().get_counts()\n",
    "\n",
    "mean_Y = 0\n",
    "for bits, counts  in counts.items():\n",
    "    mean_Y += (-1)**(int(bits)) * counts/shots  \n",
    "\n",
    "print('<Y> =',np.round(mean_Y,5))\n",
    "\n",
    "qc.draw('mpl')"
   ]
  },
  {
   "cell_type": "markdown",
   "metadata": {},
   "source": [
    "<div class=\"alert alert-block alert-success\">\n",
    "<b>Ejercicio:</b> \n",
    "Calcula por este procedimiento los valores de  $\\langle X\\rangle_\\psi$, $\\langle Y\\rangle_\\psi$ y $\\langle Z\\rangle_\\psi$ encontrados anteriormente y verifica que obtienes el mismo resultado. \n",
    "</div>"
   ]
  },
  {
   "cell_type": "code",
   "execution_count": 21,
   "metadata": {},
   "outputs": [
    {
     "data": {
      "image/png": "[encoded data removed]",
      "text/plain": [
       "<Figure size 436.286x200.667 with 1 Axes>"
      ]
     },
     "metadata": {},
     "output_type": "display_data"
    },
    {
     "ename": "AttributeError",
     "evalue": "module 'macro_tQ' has no attribute 'get_probs'",
     "output_type": "error",
     "traceback": [
      "\u001b[0;31m---------------------------------------------------------------------------\u001b[0m",
      "\u001b[0;31mAttributeError\u001b[0m                            Traceback (most recent call last)",
      "Cell \u001b[0;32mIn[21], line 23\u001b[0m\n\u001b[1;32m     21\u001b[0m shots\u001b[38;5;241m=\u001b[39m \u001b[38;5;241m100000\u001b[39m\n\u001b[1;32m     22\u001b[0m counts\u001b[38;5;241m=\u001b[39mexecute(qc_Upsi,backend\u001b[38;5;241m=\u001b[39mM_simulator,shots\u001b[38;5;241m=\u001b[39mshots)\u001b[38;5;241m.\u001b[39mresult()\u001b[38;5;241m.\u001b[39mget_counts()\n\u001b[0;32m---> 23\u001b[0m probs \u001b[38;5;241m=\u001b[39m \u001b[43mtQ\u001b[49m\u001b[38;5;241;43m.\u001b[39;49m\u001b[43mget_probs\u001b[49m(counts)\n\u001b[1;32m     25\u001b[0m \u001b[38;5;124m'\u001b[39m\u001b[38;5;124m ahora solo nos interesa el número de 0 \u001b[39m\u001b[38;5;124m'\u001b[39m\n\u001b[1;32m     26\u001b[0m mean_A \u001b[38;5;241m=\u001b[39m np\u001b[38;5;241m.\u001b[39msqrt(counts[\u001b[38;5;124m'\u001b[39m\u001b[38;5;124m0\u001b[39m\u001b[38;5;124m'\u001b[39m]\u001b[38;5;241m/\u001b[39mshots)\n",
      "\u001b[0;31mAttributeError\u001b[0m: module 'macro_tQ' has no attribute 'get_probs'"
     ]
    }
   ],
   "source": [
    "from qiskit.circuit.library.standard_gates import U3Gate\n",
    "M_simulator = Aer.get_backend('qasm_simulator')\n",
    "\n",
    "'definimos un estado arbitrario en la esfera de Bloch'\n",
    "theta = 1.  #rad\n",
    "phi   = 2.  #rad\n",
    "\n",
    "' el operador unitario que lo genera a partir de |0> es u(theta, phi, 0,0)'\n",
    "qc_Upsi = QuantumCircuit(1,1)\n",
    "qc_Upsi.u(theta,phi,0,0)\n",
    "qc_Upsi.z(0)\n",
    "#qc_Upsi.x(0)\n",
    "#qc_Upsi.y(0)\n",
    "qc_Upsi.u(-theta,0,-phi,0)\n",
    "\n",
    "qc_Upsi.measure(0,0)\n",
    "\n",
    "display(qc_Upsi.draw('mpl'))\n",
    "\n",
    "' ejecutamos '\n",
    "shots= 100000\n",
    "counts=execute(qc_Upsi,backend=M_simulator,shots=shots).result().get_counts()\n",
    "probs = tQ.get_probs(counts)\n",
    "\n",
    "' ahora solo nos interesa el número de 0 '\n",
    "mean_A = np.sqrt(counts['0']/shots)\n",
    "print('<A> =',np.round(mean_A,5))\n"
   ]
  },
  {
   "cell_type": "markdown",
   "metadata": {},
   "source": [
    "<div class=\"alert alert-block alert-success\">\n",
    "<b>Ejercicio:</b> \n",
    "\n",
    "genera un observable arbitrario $A \\in \\hbox{Lin}({\\cal H})$ y calcula el valor esperado $\\bra{\\psi}A\\ket{\\psi}$\n",
    "</div>"
   ]
  },
  {
   "cell_type": "code",
   "execution_count": null,
   "metadata": {},
   "outputs": [],
   "source": [
    "' Matriz genérica '\n",
    "A = np.matrix(np.random.rand(2,2) + 1j*np.random.rand(2,2))\n",
    "A += A.getH()"
   ]
  },
  {
   "cell_type": "code",
   "execution_count": null,
   "metadata": {},
   "outputs": [],
   "source": [
    "' Matrices de Pauli'\n",
    "s0 = np.matrix([[1,0],[0,1]]) # matriz identidad\n",
    "s1 = np.matrix([[0,1],[1,0]])\n",
    "s2 = np.matrix([[0,-1j],[1j,0]])\n",
    "s3 = np.matrix([[1,0],[0,-1]])\n",
    "\n",
    "ss = [s0,s1,s2,s3]\n",
    "\n",
    "aa = [np.trace(np.dot(A,ss[i])) for i in range(4)] "
   ]
  },
  {
   "cell_type": "code",
   "execution_count": null,
   "metadata": {},
   "outputs": [],
   "source": [
    "\n",
    "import copy\n",
    "M_simulator = Aer.get_backend('qasm_simulator')\n",
    "\n",
    "'estado genérico'\n",
    "# definimos un estado arbitrario en la esfera de Bloch\n",
    "theta = 1.  #rad\n",
    "phi   = 2.  #rad\n",
    "\n",
    "shots = 100000\n",
    "\n",
    "qc = QuantumCircuit(1,1)\n",
    "qc.u(theta,phi,0,0)\n",
    "\n",
    "' medimos <X> '\n",
    "mean_X = 0\n",
    "qcx = copy.deepcopy(qc)\n",
    "qcx.h(0)\n",
    "qcx.measure(0,0)\n",
    "counts_x=execute(qcx,backend= M_simulator,shots=shots).result().get_counts()\n",
    "for bits, counts  in counts_x.items():\n",
    "    mean_X += (-1)**(int(bits)) * counts/shots  \n",
    "\n",
    "' medimos <Y> '\n",
    "mean_Y = 0\n",
    "qcy = copy.deepcopy(qc)\n",
    "qcy.sdg(0)\n",
    "qcy.h(0)\n",
    "qcy.measure(0,0)\n",
    "counts_y=execute(qcy,backend=M_simulator,shots=shots).result().get_counts()\n",
    "for bits, counts  in counts_y.items():\n",
    "    mean_Y += (-1)**(int(bits)) * counts/shots    \n",
    " \n",
    "' medimos <Z> '\n",
    "mean_Z = 0\n",
    "qcz = copy.deepcopy(qc)\n",
    "qcz.measure(0,0)\n",
    "counts_z=execute(qcz,backend=M_simulator,shots=shots).result().get_counts()\n",
    "for bits, counts  in counts_y.items():\n",
    "    mean_Z += (-1)**(int(bits)) * counts/shots  \n",
    "\n",
    "' componemos <A> '    \n",
    "    \n",
    "mean_A = aa[0] + aa[1]*mean_X + aa[2]*mean_Y + aa[3]*mean_Z\n",
    "\n",
    "print('<psi|A|psi>' = 5)"
   ]
  },
  {
   "cell_type": "markdown",
   "metadata": {},
   "source": [
    "<table width=\"100%\">\n",
    "<td style=\"font-size:30px;font-style:italic;text-align:right;background-color:rgba(0, 220, 170,0.7)\">\n",
    "Estados multi-cúbit\n",
    "</td></table>"
   ]
  },
  {
   "cell_type": "markdown",
   "metadata": {},
   "source": [
    "<div class='alert alert-block alert-success'>\n",
    "    <b>Ejercicio </b> \n",
    "<br>\n",
    "\n",
    "escribe una función $exp\\_val\\_pauli(P,u)$ que reciba como dato, un estado $\\ket{u}\\in \\Hil^{\\otimes n}$ y una cadena $P = 'IXYZZ..'$ que represente un operador de Pauli múltiple  y   devuelva el valor esperado $\\bra{u}P\\ket{u}$.\n",
    "    \n",
    "</div>"
   ]
  },
  {
   "cell_type": "code",
   "execution_count": null,
   "metadata": {},
   "outputs": [],
   "source": [
    "def add_multi_measure_IXYZ(qc,pauli_string):\n",
    "\n",
    "    assert(qc.num_qubits==len(pauli_string))\n",
    "\n",
    "    for i,basis in enumerate(pauli_string):\n",
    "        if  basis == 'X':\n",
    "            qc.h(i)    \n",
    "            qc.measure(i, i)\n",
    "        elif basis == 'Z' or basis =='I':\n",
    "            qc.measure(i, i)\n",
    "            pass    \n",
    "        elif basis == 'Y':\n",
    "            qc.sdg(i)\n",
    "            qc.h(i)\n",
    "            qc.measure(i, i)\n",
    "\n",
    "    return qc "
   ]
  },
  {
   "cell_type": "code",
   "execution_count": null,
   "metadata": {},
   "outputs": [],
   "source": [
    "def exp_val_pauli(pauli_string,u):\n",
    "    \n",
    "    u = u.reshape(u.shape[0])# this is what statevector wants, a row array\n",
    "    N = len(u)\n",
    "    n = int(np.log2(N))\n",
    "    assert(n == len(pauli_string))\n",
    "\n",
    "    '''creamos un circuito e inicializamos el estado'''\n",
    "    from qiskit import Aer, QuantumCircuit, QuantumRegister, ClassicalRegister, execute\n",
    "    qr = QuantumRegister(n,name='q')\n",
    "    cr = ClassicalRegister(n,name='c')\n",
    "    qc = QuantumCircuit(qr,cr)\n",
    "  \n",
    "    qc.initialize(u,qr)\n",
    "\n",
    "    '''añadimos las medidas en las bases rotadas'''\n",
    "    add_multi_measure_IXYZ(qc,pauli_string)\n",
    "    #print(qc.draw())\n",
    "    '''ejecutamos el circuito '''\n",
    "    shots = 4000\n",
    "    counts=execute(qc,backend=Aer.get_backend('qasm_simulator'),shots=shots).result().get_counts() # Hacemos la simulación 4096 veces )\n",
    "    '''calculamos el valor esperado'''\n",
    "    #print(counts)\n",
    "    expval=0\n",
    "    for bitstring, count  in counts.items():\n",
    "        phase = 0\n",
    "        for i in range(len(bitstring)):\n",
    "            if pauli_string[i]!= 'I':   # esto hay que hacerlo para no contabilizar qubits con la identidad\n",
    "                phase+=int(bitstring[i]) \n",
    "                \n",
    "        expval += (-1)**phase * count/shots \n",
    "    \n",
    "    return expval   "
   ]
  },
  {
   "cell_type": "code",
   "execution_count": null,
   "metadata": {},
   "outputs": [],
   "source": [
    "from qiskit import Aer, QuantumCircuit, QuantumRegister, ClassicalRegister, execute\n",
    "\n",
    "u = random_ket(8,seed = 3)\n",
    "u = np.array([1,0,0,0,0,0,0,0])\n",
    "\n",
    "exp_val_pauli('III',u)"
   ]
  },
  {
   "cell_type": "markdown",
   "metadata": {},
   "source": [
    "<div class=\"alert alert-block alert-success\">\n",
    "<b>Exercies 3.5:</b> \n",
    " (challenge!)\n",
    "\n",
    "Extend the  function  $exp\\_val(A,u)$ to return the expectation value $\\bra{u}A\\ket{u}$ of an observable in the multicubit state  $\\ket{u}\\in\\Hil^{\\otimes n}$.\n",
    "\n",
    "Apply this function to the   Heisenberg hamiltonian in $\\Hil^{\\otimes 2}$, taking $J=1eV$ and obtain the value of the energy $E = \\langle H\\rangle_\\Psi$  in the four Bell states  $\\ket{\\psi} = \\ket{B_{ij}}$.  \n",
    "\n",
    "<i>Tip</i>: you can ask for help if you lack coding skills, but you should document all the steps in the code. \n",
    "</div>"
   ]
  },
  {
   "cell_type": "markdown",
   "metadata": {},
   "source": [
    "<div class=\"alert alert-block alert-success\">\n",
    " <b>Ejercicio </b>  \n",
    "    \n",
    "escribe una función $exp\\_val(A,u)$  que reciba como argumento un estado $\\ket{u}$ y un observable $A$, definidos  sobre $\\Hil^{\\otimes n}$ y devuelva el valor esperado $\\bra{u}A\\ket{u}$.\n",
    "<div>\n"
   ]
  },
  {
   "cell_type": "markdown",
   "metadata": {},
   "source": [
    "Primero calculamos todas las posibles cadenas de Pauli"
   ]
  },
  {
   "cell_type": "code",
   "execution_count": null,
   "metadata": {},
   "outputs": [],
   "source": [
    "def exp_val(A,u):\n",
    "    \n",
    "    ' Matrices de Pauli'\n",
    "    s0 = np.matrix([[1,0],[0,1]]) # matriz identidad\n",
    "    s1 = np.matrix([[0,1],[1,0]])\n",
    "    s2 = np.matrix([[0,-1j],[1j,0]])\n",
    "    s3 = np.matrix([[1,0],[0,-1]])\n",
    "    ss = [s0,s1,s2,s3]\n",
    "\n",
    "    from itertools import product\n",
    "    idx = [0, 1, 2, 3]\n",
    "\n",
    "    '''compute the projections'''\n",
    "    idx2srt_0123 = {0: '0', 1: '1', 2: '2', 3: '3'} \n",
    "    idxs_variations = product(idx, repeat=n)\n",
    "    idxs_list = [''.join([idx2srt_0123[idx] for idx in idxs]) for idxs in idxs_variations]\n",
    "    #print(idxs_list)\n",
    "    \n",
    "    paulistr_mat_list = []\n",
    "    for i in range(len(idxs_list)):\n",
    "        paulistr_mat = ss[int(idxs_list[i][0])]\n",
    "        for j in range(n-1):\n",
    "            paulistr_mat = np.kron(ss[int(idxs_list[i][j+1])],paulistr_mat)\n",
    "        paulistr_mat_list.append(paulistr_mat)\n",
    "        \n",
    "    a_list = [np.trace(np.dot(paulistr_mat_list[i],A))/N for i in range(len(paulistr_mat_list))]\n",
    "    #print(a_list)\n",
    "    \n",
    "    '''compute the expectation values in each Pauli string and add up'''   \n",
    "    idx2str_IXYZ = {0: 'I', 1: 'X', 2: 'Y', 3: 'Z'} \n",
    "    idxs_variations = product(idx, repeat=n)\n",
    "    idxs_IXYZ_list = [''.join([idx2str_IXYZ[idx] for idx in idxs]) for idxs in idxs_variations]\n",
    "    #print(idxs_IXYZ_list)\n",
    "\n",
    "    from qiskit import Aer, QuantumCircuit, QuantumRegister, ClassicalRegister, execute\n",
    "    exp_val_A = 0 \n",
    "    for i in range(len(paulistr_mat_list)):\n",
    "        exp_val_A += a_list[i] * exp_val_pauli(idxs_IXYZ_list[i],u)\n",
    "\n",
    "    return np.round(exp_val_A, 6)\n",
    "    \n"
   ]
  },
  {
   "cell_type": "code",
   "execution_count": null,
   "metadata": {},
   "outputs": [],
   "source": [
    "n = 2\n",
    "N = int(2**n)\n",
    "\n",
    "A = random_hermitian(N)\n",
    "#A = np.kron(s3,np.kron(s3,s3))\n",
    "\n",
    "#u = random_ket(N)\n",
    "u = np.array([1. + 0*1j,0,0,0])\n",
    "\n",
    "exp_val(A,u)"
   ]
  },
  {
   "cell_type": "markdown",
   "metadata": {},
   "source": [
    "Veamos los 4 estados de Bell, en el modelo de Heisenberg"
   ]
  },
  {
   "cell_type": "code",
   "execution_count": null,
   "metadata": {},
   "outputs": [],
   "source": [
    "n=2\n",
    "N = int(2**n)\n",
    "\n",
    "B00 = normalized(np.array([1.,0.,0.,1]))\n",
    "B01 = normalized(np.array([1,0,0,-1]))\n",
    "B10 = normalized(np.array([0,1,1,0]))\n",
    "B11 = normalized(np.array([0,1,-1,0]))\n",
    "\n",
    "J = 1\n",
    "H =  (J/4)*(np.kron(s1,s1) + np.kron(s2,s2) + np.kron(s3,s3) - np.kron(s0,s0))\n",
    "array_to_latex(H)"
   ]
  },
  {
   "cell_type": "code",
   "execution_count": null,
   "metadata": {},
   "outputs": [],
   "source": [
    "exp_val(H,B11)"
   ]
  },
  {
   "cell_type": "markdown",
   "metadata": {},
   "source": [
    "<div class=\"alert alert-block alert-success\">\n",
    "<b>Ejercicio </b> \n",
    "    \n",
    "Usar bases perpendiculares de  Alice $A\\perp A'$,  y Bob $B\\perp B'$, y formando un ángulo $\\varphi$ entre sí. \n",
    "    \n",
    "Sin pérdida de generalidad puedes tomar $B = X\\perp Z = B'$. \n",
    "    \n",
    "Variar $\\varphi$ en el intervalo $(0,\\pi)$ y hallar el valor de la máxima violación de la desigualdad de Bell.\n",
    "¿Es mayor que en el ejemplo de clase? ¿Podrías  hallar otra violación aún mayor?\n",
    "\n",
    "    \n",
    "</div>"
   ]
  },
  {
   "cell_type": "code",
   "execution_count": null,
   "metadata": {},
   "outputs": [],
   "source": [
    "'angulos de medida'\n",
    "rangephi=[0,2*np.pi] #Intervalo'\n",
    "ang_div=128       #divisiones'\n",
    "valphi=np.linspace(rangephi[0],rangephi[1],ang_div) #lista de angulos'\n",
    "\n",
    "'lista de correlaciones a calcular'\n",
    "C=[0,0,0,0]\n",
    "\n",
    "'lista de valores de R'\n",
    "R=np.zeros(ang_div)\n",
    "\n",
    "'Numero de medidas'\n",
    "Nshots = 2048\n",
    "\n",
    "from qiskit import QuantumCircuit, Aer\n",
    "M_backend = Aer.get_backend('qasm_simulator')\n",
    "\n",
    "for j in range(ang_div):\n",
    "   \n",
    "    'ángulos de medida'\n",
    "    phi=valphi[j] \n",
    "    angmed=[[phi,np.pi/2],[phi+np.pi/2,np.pi/2],[phi,0],[phi+np.pi/2,0]] # AB , A'B , AB', A'B'\n",
    "\n",
    "    for i in range(4):\n",
    "        \n",
    "        'una pareja de ángulos uno para A y otro para B '\n",
    "        angs_AB=angmed[i]\n",
    "\n",
    "        'hay un circuito para cada proceso de medida'\n",
    "        qc=QuantumCircuit(2,2)\n",
    "\n",
    "        'creamos el par de Bell B(11)'\n",
    "        qc.x(0)\n",
    "        qc.x(1)\n",
    "        qc.h(0)\n",
    "        qc.cx(0,1)\n",
    "        \n",
    "        'simulamos la medida en la base de los polarizadores de A y B rotados en torno al eje x'\n",
    "        qc.rx(-angs_AB[0],0)\n",
    "        qc.rx(-angs_AB[1],1)\n",
    "        qc.measure([0,1],[0,1])\n",
    "        \n",
    "        #print(qc.draw())\n",
    "        ' medimos '\n",
    "        job=M_backend.run(qc,shots=Nshots)\n",
    "        cuentas=job.result().get_counts()\n",
    "          \n",
    "        'construimos el correlador'\n",
    "        C[i]= tq_expval_Zn_from_counts(cuentas)[0] # esta función está definida en macro_CURSO.py\n",
    "  \n",
    "    'construimos la cantidad R'\n",
    "    R[j]=C[0]+C[1]+C[2]-C[3]\n"
   ]
  },
  {
   "cell_type": "code",
   "execution_count": null,
   "metadata": {},
   "outputs": [],
   "source": [
    "3*np.pi/2"
   ]
  },
  {
   "cell_type": "code",
   "execution_count": 2,
   "metadata": {},
   "outputs": [
    {
     "ename": "NameError",
     "evalue": "name 'valphi' is not defined",
     "output_type": "error",
     "traceback": [
      "\u001b[0;31m---------------------------------------------------------------------------\u001b[0m",
      "\u001b[0;31mNameError\u001b[0m                                 Traceback (most recent call last)",
      "Cell \u001b[0;32mIn[2], line 3\u001b[0m\n\u001b[1;32m      1\u001b[0m \u001b[38;5;28;01mimport\u001b[39;00m \u001b[38;5;21;01mnumpy\u001b[39;00m \u001b[38;5;28;01mas\u001b[39;00m \u001b[38;5;21;01mnp\u001b[39;00m\n\u001b[1;32m      2\u001b[0m \u001b[38;5;124m'\u001b[39m\u001b[38;5;124m función analítica \u001b[39m\u001b[38;5;124m'\u001b[39m\n\u001b[0;32m----> 3\u001b[0m fx\u001b[38;5;241m=\u001b[39m \u001b[38;5;241m1\u001b[39m \u001b[38;5;241m+\u001b[39m \u001b[38;5;241m2\u001b[39m\u001b[38;5;241m*\u001b[39mnp\u001b[38;5;241m.\u001b[39mcos(\u001b[43mvalphi\u001b[49m) \u001b[38;5;241m-\u001b[39m np\u001b[38;5;241m.\u001b[39mcos(\u001b[38;5;241m2\u001b[39m\u001b[38;5;241m*\u001b[39mvalphi)\n\u001b[1;32m      4\u001b[0m plt\u001b[38;5;241m.\u001b[39mplot(valphi,\u001b[38;5;241m-\u001b[39mfx,\u001b[38;5;124m'\u001b[39m\u001b[38;5;124mk-\u001b[39m\u001b[38;5;124m'\u001b[39m,linewidth\u001b[38;5;241m=\u001b[39m\u001b[38;5;241m1\u001b[39m)\n\u001b[1;32m      5\u001b[0m \u001b[38;5;124m'\u001b[39m\u001b[38;5;124m resultado de la simulación\u001b[39m\u001b[38;5;124m'\u001b[39m\n",
      "\u001b[0;31mNameError\u001b[0m: name 'valphi' is not defined"
     ]
    }
   ],
   "source": [
    "import numpy as np\n",
    "' función analítica '\n",
    "fx= 1 + 2*np.cos(valphi) - np.cos(2*valphi)\n",
    "plt.plot(valphi,-fx,'k-',linewidth=1)\n",
    "' resultado de la simulación'\n",
    "plt.plot(valphi,R,'.')\n",
    "plt.axhline(y = 2, color = 'r', linestyle = '-')\n",
    "plt.axhline(y = -2, color = 'r', linestyle = '-')\n",
    "plt.axhline(y = 2*np.sqrt(2), color = 'm', linestyle = '-')\n",
    "plt.axhline(y = -2*np.sqrt(2), color = 'm', linestyle = '-')\n",
    "' líneas horizotales en +2 y - 2'\n",
    "plt.axvline(x = np.pi/3, color = 'b', linestyle = '-')\n",
    "plt.axvline(x = 5*np.pi/3, color = 'b', linestyle = '-')\n",
    "plt.xlabel(r'$\\varphi$')\n",
    "plt.ylabel(r'$R(\\varphi)$')\n",
    "plt.show()"
   ]
  },
  {
   "cell_type": "markdown",
   "metadata": {},
   "source": [
    "<div class=\"alert alert-block alert-success\">\n",
    "<b>Exercise 3.2:</b> \n",
    "    \n",
    "By evolving the initial state show that the following circuit indeed creates a $\\ket{B_{00}}_{AC}$ Bell state between $A$ and $C$.  Complete the circuit to teleport a state $\\ket{\\psi}$ from $A$ to  $C$. \n",
    "<br>\n",
    "<br>\n",
    "    \n",
    "<div>\n",
    "<img src=\"images/ent_swap.png\" width=\"30%\" style=\"margin:auto\"/>\n",
    "</div>\n"
   ]
  },
  {
   "cell_type": "code",
   "execution_count": null,
   "metadata": {},
   "outputs": [],
   "source": []
  },
  {
   "cell_type": "markdown",
   "metadata": {},
   "source": [
    "<table width=\"100%\">\n",
    "<td style=\"font-size:30px;font-style:italic;text-align:right;background-color:rgba(0, 220, 170,0.7)\">\n",
    "Mezcla de Estados\n",
    "</td></table>"
   ]
  },
  {
   "cell_type": "markdown",
   "metadata": {},
   "source": [
    "<div class=\"alert alert-block alert-success\">\n",
    "<b> Ejercicio </b>:   \n",
    "<br>    \n",
    "    Escribe una función $get\\_density\\_operator$ en python que tome por argumentos una lista $\\{p_a\\}, \\, a=1,..,r$ de probabilidades, y otra lista $\\{\\ket{\\psi_a}\\}$ de vectores normalizados en un espacio $\\Hil$ de dimensión $d$, y devuelva el operador densidad $\\rho$.\n",
    "    \n",
    "Ejecútala con argumentos generados aleatoriamente.\n",
    "</div>"
   ]
  },
  {
   "cell_type": "code",
   "execution_count": 23,
   "metadata": {},
   "outputs": [],
   "source": [
    "\n",
    "def density_operator(probs,vector_list):\n",
    "\n",
    "    r = len(probs)\n",
    "    d = len(vector_list[0])\n",
    "    rho = np.zeros([d, d], dtype=complex)\n",
    "\n",
    "    for i in range(r):\n",
    "        rho += probs[i]*np.outer(np.conjugate(vector_list[i]),vector_list[i])\n",
    "        \n",
    "    return rho\n",
    "\n",
    "def random_probs(r):\n",
    "    probs=np.random.rand(r)\n",
    "    probs /= np.sum(probs)\n",
    "    return probs\n",
    "\n",
    "\n",
    "def random_factor_vector(dA,dB):\n",
    "    vectorA= np.array([complex(np.random.uniform(-1, 1), np.random.uniform(-1, 1)) for _ in range(dA)])\n",
    "    vectorA/=la.norm(vectorA)\n",
    "    vectorB= np.array([complex(np.random.uniform(-1, 1), np.random.uniform(-1, 1)) for _ in range(dB)])\n",
    "    vectorB/=la.norm(vectorB)\n",
    "    vector = np.kron(vectorA,vectorB)  \n",
    "    return vector\n",
    "\n"
   ]
  },
  {
   "cell_type": "markdown",
   "metadata": {},
   "source": [
    "<div class=\"alert alert-block alert-success\">\n",
    "<b> Ejercicio </b>:     \n",
    "Usando la función $get\\_density\\_operator$, genera de forma aleatoria operadores densidad para distintos valores de $r$ y $d$. Obtén los valores de $\\tr \\rho$ y $\\tr \\rho^2$ \n",
    "\n",
    "</div>"
   ]
  },
  {
   "cell_type": "code",
   "execution_count": null,
   "metadata": {},
   "outputs": [],
   "source": [
    "r = 4\n",
    "d = 4\n",
    "\n",
    "#probs = get_random_probs(r)\n",
    "probs = [1.,1,1.001,1.001]\n",
    "\n",
    "#normalizamos las probabilidades\n",
    "probs /= np.sum(probs)\n",
    "\n",
    "vectors = [random_ket(d) for _ in range(r)]\n",
    "vectors = [1/np.sqrt(2.)*np.array([1,0,0,1]),1/np.sqrt(2.)*np.array([0,1,-1,0]),1/np.sqrt(2.)*np.array([0,1,+1,0]),1/np.sqrt(2.)*np.array([1,0,0,-1])]\n",
    "\n",
    "rho = density_operator(probs,vectors)\n",
    "\n",
    "array_to_latex(rho)\n",
    "\n",
    "print('Tr(rho)=',np.round(np.trace(rho),4) , ' ;   Tr(rho^2)=',np.round(np.trace(rho**2),4) )"
   ]
  },
  {
   "cell_type": "markdown",
   "metadata": {},
   "source": [
    "<div class=\"alert alert-block alert-success\">\n",
    "<b> Ejercicio </b>:    genera  operadores densidad con $d=2$ usando la función $get\\_density\\_operator$ y obtén, en cada caso, el valor del vector  ${\\bf u}$ y su módulo $u$. Observa la variación con $r$. \n",
    "    \n",
    "Para $r=d=2$ genera un estado $\\rho$ máximamente mezclado y verifica que ${\\bf u} = 0$.\n",
    "</div>"
   ]
  },
  {
   "cell_type": "code",
   "execution_count": null,
   "metadata": {},
   "outputs": [],
   "source": [
    "# Matrices de Pauli\n",
    "sx= np.matrix([[0,1],[1,0]])\n",
    "sy= np.matrix([[0,-1j],[1j,0]])\n",
    "sz= np.matrix([[1,0],[0,-1]])\n",
    "\n",
    "\n",
    "####################\n",
    "r = 4\n",
    "d = 2\n",
    "#####################\n",
    "\n",
    "probs = random_probs(r)\n",
    "\n",
    "vectors = [random_ket(d) for _ in range(r)]\n",
    "\n",
    "rho = density_operator(probs,vectors)\n",
    "\n",
    "uvec = [np.trace(np.dot(sx,rho).real),np.trace(np.dot(sy,rho).real),np.trace(np.dot(sz,rho).real)]\n",
    "print( 'u = ',uvec)\n",
    "print( '|u| = ',la.norm(uvec))"
   ]
  },
  {
   "cell_type": "code",
   "execution_count": null,
   "metadata": {},
   "outputs": [],
   "source": [
    "####################\n",
    "r = 2\n",
    "d = 2\n",
    "#####################\n",
    "\n",
    "probs = np.array([1/2,1/2])\n",
    "vectors = [1/np.sqrt(2.)*np.array([1,1]),1/np.sqrt(2.)*np.array([1,-1])]\n",
    "\n",
    "rho = density_operator(probs,vectors)\n",
    "\n",
    "\n",
    "uvec = [np.trace(np.dot(sx,rho).real),np.trace(np.dot(sy,rho).real),np.trace(np.dot(sz,rho).real)]\n",
    "print( 'u = ',uvec)\n",
    "print( '|u| = ',la.norm(uvec))"
   ]
  },
  {
   "cell_type": "markdown",
   "metadata": {},
   "source": [
    "<div class=\"alert alert-block alert-success\">\n",
    "<b>Ejercicio:</b> \n",
    "    define una función $get\\_partial\\_traces$ de Python que recibe como argumentos, una matriz $\\rho$ de dimensión $d = d_A d_B$ y los datos $d_A$ y $d_B$ como dimensiones de $\\Hil_A$ y $\\Hil_B$. La función devuelve las dos matrices densidad  $\\rho_A$ y $\\rho_B$ obtenidas mediante las trazas parciales. \n",
    "    \n",
    "Examina los casos en que $\\rho$ es pura o mezclada, así como el caso en que $\\rho= \\ket{\\psi}\\bra{\\psi}$ con $\\ket{\\psi}$  factorizable.\n",
    "</div>"
   ]
  },
  {
   "cell_type": "code",
   "execution_count": 26,
   "metadata": {},
   "outputs": [],
   "source": [
    "def partial_traces(rho,dA,dB):\n",
    "    \n",
    "    rhoA = np.zeros((dA,dA),dtype=complex)\n",
    "    rhoB = np.zeros((dB,dB),dtype=complex)\n",
    "    \n",
    "    for i in range(dA):\n",
    "        for j in range(dA):\n",
    "            rhoA[i,j] = np.sum([rho.reshape(dA,dB,dA,dB)[i,a,j,a] for a in range(dB)])\n",
    "\n",
    "    for a in range(dB):\n",
    "        for b in range(dB):\n",
    "            rhoB[a,b] = np.sum([rho.reshape(dA,dB,dA,dB)[i,a,i,b] for i in range(dA)])\n",
    "            \n",
    "    return rhoA, rhoB"
   ]
  },
  {
   "cell_type": "code",
   "execution_count": 28,
   "metadata": {},
   "outputs": [],
   "source": [
    "def partial_traces_2(rho,dA,dB):\n",
    "    \n",
    "    rhoA = np.zeros((dA,dA),dtype=complex)\n",
    "    rhoB = np.zeros((dB,dB),dtype=complex)\n",
    "    \n",
    "    for i in range(dA):\n",
    "        for j in range(dA):\n",
    "            rhoA[i,j] = np.sum([rho[dB*i+a,dB*j+a] for a in range(dB)])\n",
    "\n",
    "    for a in range(dB):\n",
    "        for b in range(dB):\n",
    "            rhoB[a,b] = np.sum([rho[dB*i+a,dB*i+b] for i in range(dA)])\n",
    "            \n",
    "    return rhoA, rhoB"
   ]
  },
  {
   "cell_type": "markdown",
   "metadata": {},
   "source": [
    "**Caso 1**: probemos con un estado puro $r=1$. En este caso esperamos que los operadores reducidos sean iguales."
   ]
  },
  {
   "cell_type": "code",
   "execution_count": 29,
   "metadata": {},
   "outputs": [
    {
     "data": {
      "text/latex": [
       "$$\n",
       "\n",
       "\\begin{bmatrix}\n",
       "0.1280587232 & -0.1796234509 + 0.0045920144 i  \\\\\n",
       " -0.1796234509 - 0.0045920144 i & 0.8719412768  \\\\\n",
       " \\end{bmatrix}\n",
       "$$"
      ],
      "text/plain": [
       "<IPython.core.display.Latex object>"
      ]
     },
     "metadata": {},
     "output_type": "display_data"
    },
    {
     "data": {
      "text/latex": [
       "$$\n",
       "\n",
       "\\begin{bmatrix}\n",
       "0.1280587232 & -0.1796234509 + 0.0045920144 i  \\\\\n",
       " -0.1796234509 - 0.0045920144 i & 0.8719412768  \\\\\n",
       " \\end{bmatrix}\n",
       "$$"
      ],
      "text/plain": [
       "<IPython.core.display.Latex object>"
      ]
     },
     "metadata": {},
     "output_type": "display_data"
    }
   ],
   "source": [
    "r = 1\n",
    "d = 4\n",
    "\n",
    "probs = random_probs(r)\n",
    "vectors = [random_ket(d) for _ in range(r)]\n",
    "\n",
    "\n",
    "rho = density_operator(probs,vectors)\n",
    "\n",
    "dA = 2\n",
    "dB = 2\n",
    "rhoA, rhoB = partial_traces(rho,dA,dB)\n",
    "rhoA2, rhoB2 = partial_traces_2(rho,dA,dB)\n",
    "\n",
    "display(array_to_latex(rhoA))\n",
    "display(array_to_latex(rhoA2))\n"
   ]
  },
  {
   "cell_type": "code",
   "execution_count": null,
   "metadata": {},
   "outputs": [],
   "source": [
    "array_to_latex(rhoB)"
   ]
  },
  {
   "cell_type": "markdown",
   "metadata": {},
   "source": [
    "podemos comprobar que no son puros, debido a que el estado  inicial era entrelazado"
   ]
  },
  {
   "cell_type": "code",
   "execution_count": 30,
   "metadata": {},
   "outputs": [
    {
     "name": "stdout",
     "output_type": "stream",
     "text": [
      " pureza(rho_A) =  0.8413\n",
      " pureza(rho_B) =  0.8413\n"
     ]
    }
   ],
   "source": [
    "print(' pureza(rho_A) = ',np.round(np.trace(np.dot(rhoA,rhoA)),4).real)\n",
    "print(' pureza(rho_B) = ',np.round(np.trace(np.dot(rhoB,rhoB)),4).real)"
   ]
  },
  {
   "cell_type": "markdown",
   "metadata": {},
   "source": [
    "comprobamos que, efectivamente los operadores reducidos son los mismos."
   ]
  },
  {
   "cell_type": "code",
   "execution_count": 31,
   "metadata": {},
   "outputs": [
    {
     "name": "stdout",
     "output_type": "stream",
     "text": [
      "eigA =  [0.0869+0.j 0.9131-0.j]\n",
      "eigB =  [0.0869-0.j 0.9131+0.j]\n"
     ]
    }
   ],
   "source": [
    "eigvalA, eigvecA = la.eig(rhoA)\n",
    "print('eigA = ',np.round(eigvalA,4))\n",
    "eigvalB, eigvecB = la.eig(rhoB)\n",
    "print('eigB = ',np.round(eigvalB,4))"
   ]
  },
  {
   "cell_type": "markdown",
   "metadata": {},
   "source": [
    "**Caso 2**:  Ahora podemos hacer lo mismo con una mezcla, $r\\geq 2$"
   ]
  },
  {
   "cell_type": "code",
   "execution_count": 32,
   "metadata": {},
   "outputs": [
    {
     "data": {
      "text/latex": [
       "$$\n",
       "\n",
       "\\begin{bmatrix}\n",
       "0.2486511299 & 0.0001178034 + 0.1528073952 i  \\\\\n",
       " 0.0001178034 - 0.1528073952 i & 0.7513488702  \\\\\n",
       " \\end{bmatrix}\n",
       "$$"
      ],
      "text/plain": [
       "<IPython.core.display.Latex object>"
      ]
     },
     "execution_count": 32,
     "metadata": {},
     "output_type": "execute_result"
    }
   ],
   "source": [
    "r = 2\n",
    "d = 4\n",
    "\n",
    "probs = random_probs(r)\n",
    "vectors = [random_ket(d) for _ in range(r)]\n",
    "\n",
    "\n",
    "rho = density_operator(probs,vectors)\n",
    "\n",
    "dA = 2\n",
    "dB = 2\n",
    "rhoA, rhoB = partial_traces(rho,dA,dB)\n",
    "\n",
    "array_to_latex(rhoA)"
   ]
  },
  {
   "cell_type": "code",
   "execution_count": 33,
   "metadata": {},
   "outputs": [
    {
     "data": {
      "text/latex": [
       "$$\n",
       "\n",
       "\\begin{bmatrix}\n",
       "0.3803597653 & 0.2115034451 - 0.1786101151 i  \\\\\n",
       " 0.2115034451 + 0.1786101151 i & 0.6196402347  \\\\\n",
       " \\end{bmatrix}\n",
       "$$"
      ],
      "text/plain": [
       "<IPython.core.display.Latex object>"
      ]
     },
     "execution_count": 33,
     "metadata": {},
     "output_type": "execute_result"
    }
   ],
   "source": [
    "array_to_latex(rhoB)"
   ]
  },
  {
   "cell_type": "markdown",
   "metadata": {},
   "source": [
    "Ahora, de nuevo, los estados reducidos no son puros"
   ]
  },
  {
   "cell_type": "code",
   "execution_count": 34,
   "metadata": {},
   "outputs": [
    {
     "name": "stdout",
     "output_type": "stream",
     "text": [
      " pureza(rho_A) =  0.6731\n",
      " pureza(rho_B) =  0.6819\n"
     ]
    }
   ],
   "source": [
    "print(' pureza(rho_A) = ', np.round(np.trace(np.dot(rhoA,rhoA)),4).real)\n",
    "print(' pureza(rho_B) = ',np.round(np.trace(np.dot(rhoB,rhoB)),4).real)"
   ]
  },
  {
   "cell_type": "markdown",
   "metadata": {},
   "source": [
    "además, en este caso, las matrices reducidas ya no son iguales"
   ]
  },
  {
   "cell_type": "code",
   "execution_count": 35,
   "metadata": {},
   "outputs": [
    {
     "name": "stdout",
     "output_type": "stream",
     "text": [
      "eigA =  [0.2058+0.j 0.7942-0.j]\n",
      "eigB =  [0.1984+0.j 0.8016-0.j]\n"
     ]
    }
   ],
   "source": [
    "eigvalA, eigvecA = la.eig(rhoA)\n",
    "print('eigA = ',np.round(eigvalA,4))\n",
    "eigvalB, eigvecB = la.eig(rhoB)\n",
    "print('eigB = ',np.round(eigvalB,4))"
   ]
  },
  {
   "cell_type": "markdown",
   "metadata": {},
   "source": [
    "**Caso 3**: Estado puro $\\rho = \\ketbra{\\Psi}{\\Psi}$, con $\\ket{\\Psi}= \\ket{\\varphi}\\ket{\\phi}$ factorizable"
   ]
  },
  {
   "cell_type": "code",
   "execution_count": 36,
   "metadata": {},
   "outputs": [
    {
     "data": {
      "text/plain": [
       "(1+0j)"
      ]
     },
     "execution_count": 36,
     "metadata": {},
     "output_type": "execute_result"
    }
   ],
   "source": [
    "dA = 3\n",
    "dB = 4\n",
    "\n",
    "probs = [1] # estado puro\n",
    "\n",
    "vectors = [random_factor_vector(dA,dB)]\n",
    "\n",
    "rho = density_operator(probs,vectors)\n",
    "'verificamos que rho es un proyector'\n",
    "np.round(np.trace(np.dot(rho,rho)),4)"
   ]
  },
  {
   "cell_type": "markdown",
   "metadata": {},
   "source": [
    "Tomamos trazas parciales y comprobamos que siguen siendo estados puros"
   ]
  },
  {
   "cell_type": "code",
   "execution_count": 37,
   "metadata": {},
   "outputs": [
    {
     "name": "stdout",
     "output_type": "stream",
     "text": [
      "pureza(rho_A)= (1-0j)\n",
      "pureza(rho_B)= (1+0j)\n"
     ]
    }
   ],
   "source": [
    "rhoA, rhoB = partial_traces(rho,dA,dB)\n",
    "\n",
    "print('pureza(rho_A)=', np.round(np.trace(np.dot(rhoA,rhoA)),4))\n",
    "\n",
    "print('pureza(rho_B)=', np.round(np.trace(np.dot(rhoB,rhoB)),4))\n"
   ]
  },
  {
   "cell_type": "markdown",
   "metadata": {},
   "source": [
    "de hecho siguen siendo operadores iguales $\\rho_A = \\rho_B$"
   ]
  },
  {
   "cell_type": "code",
   "execution_count": 38,
   "metadata": {},
   "outputs": [
    {
     "name": "stdout",
     "output_type": "stream",
     "text": [
      "eigA =  [-0.-0.j  1.-0.j -0.+0.j]\n",
      "eigB =  [-0.-0.j  1.-0.j  0.+0.j -0.+0.j]\n"
     ]
    }
   ],
   "source": [
    "eigvalA, eigvecA = la.eig(rhoA)\n",
    "print('eigA = ',np.round(eigvalA,4))\n",
    "eigvalB, eigvecB = la.eig(rhoB)\n",
    "print('eigB = ',np.round(eigvalB,4))"
   ]
  },
  {
   "cell_type": "markdown",
   "metadata": {},
   "source": [
    "<div class=\"alert alert-block alert-success\">\n",
    "<b>Ejercicio:</b> \n",
    "considera el estado generado por el circuito $\\ket{\\psi} =  \\hbox{CNOT}(1,0)\\hbox{CNOT}(0,2)H(1) R_x(\\alpha,0)\\ket{000}$\n",
    "con $\\alpha = \\pi/3$.\n",
    "    \n",
    " Calcula las matrices densidad parciales $\\rho_B =\\tr_{01}( \\ket{\\psi}\\bra{\\psi})$ y $\\rho_A =\\tr_{2}( \\ket{\\psi}\\bra{\\psi})$. Verifica que corresponden a idénticos operadores y obtén su pureza. \n",
    "</div>"
   ]
  },
  {
   "cell_type": "code",
   "execution_count": 2,
   "metadata": {},
   "outputs": [
    {
     "data": {
      "image/png": "[encoded data removed]",
      "text/plain": [
       "<Figure size 402.751x451.5 with 1 Axes>"
      ]
     },
     "metadata": {},
     "output_type": "display_data"
    },
    {
     "data": {
      "text/latex": [
       "$$0.61237 |000\\rangle+0.61237 |011\\rangle- 0.35355 i |101\\rangle- 0.35355 i |110\\rangle$$"
      ],
      "text/plain": [
       "<IPython.core.display.Latex object>"
      ]
     },
     "execution_count": 2,
     "metadata": {},
     "output_type": "execute_result"
    }
   ],
   "source": [
    "import numpy as np\n",
    "from qiskit import QuantumCircuit,Aer,execute, QuantumRegister, ClassicalRegister\n",
    "from qiskit.quantum_info import DensityMatrix, partial_trace, Statevector\n",
    "M_simulator = Aer.get_backend('qasm_simulator')\n",
    "S_simulator = Aer.get_backend('statevector_simulator')\n",
    "\n",
    "qrA = QuantumRegister(2,name = 'qrA')\n",
    "qrB = QuantumRegister(1,name = 'qrB')\n",
    "crA = ClassicalRegister(2,name = 'crA')\n",
    "crB = ClassicalRegister(1,name = 'crB')\n",
    "\n",
    "qc = QuantumCircuit(qrA,qrB,crA,crB)\n",
    "\n",
    "qc.rx(np.pi/3,0)\n",
    "#qc.t(0)\n",
    "qc.h(1)\n",
    "qc.cx(0, 2)\n",
    "qc.cx(1, 0)\n",
    "#qc.cx(1,2)\n",
    "#qc.h(2)\n",
    "\n",
    "display(qc.draw('mpl'))\n",
    "\n",
    "state_vector = execute(qc,Aer.get_backend('statevector_simulator')).result().get_statevector(decimals=5)\n",
    "Statevector(state_vector).draw('latex')"
   ]
  },
  {
   "cell_type": "code",
   "execution_count": null,
   "metadata": {},
   "outputs": [],
   "source": [
    "rho = DensityMatrix(qc)\n",
    "display(array_to_latex(rho,prefix = r'\\rho = '))\n",
    "print(rho.purity())"
   ]
  },
  {
   "cell_type": "code",
   "execution_count": null,
   "metadata": {},
   "outputs": [],
   "source": [
    "rho_B = partial_trace(state=rho, qargs=[0, 1])\n",
    "display(array_to_latex(rho_B,prefix = r'\\rho_{B} = '))\n",
    "print('pureza de rho_B =', rho2.purity())\n",
    "\n",
    "Z = np.array([[1,0],[0,-1]])"
   ]
  },
  {
   "cell_type": "code",
   "execution_count": null,
   "metadata": {},
   "outputs": [],
   "source": [
    "rho_A = partial_trace(state=rho, qargs=[2])\n",
    "display(array_to_latex(rho_A,prefix = r'\\rho_A = '))\n",
    "print('pureza de rho_A=', rho_A.purity())\n",
    "\n",
    "array_to_latex(la.eigh(rho_A)[0])"
   ]
  },
  {
   "cell_type": "markdown",
   "metadata": {},
   "source": [
    " <div class=\"alert alert-block alert-success\">\n",
    "<b>Exercise 3.4:</b> \n",
    "Code the circuit that prepares the state $\\ket{\\psi} =  \\hbox{CNOT}(1,0)\\hbox{CNOT}(0,2)H(1) R_x(\\alpha,0)\\ket{000}$\n",
    "with $\\alpha = \\pi/3$. \n",
    "    \n",
    "- Obtain  $\\rho_B =\\tr_{01}\\rho $ y $\\rho_A =\\tr_{2}\\rho$ donde $\\rho = \\ket{\\psi}\\bra{\\psi}$.\n",
    "<br>    \n",
    "    \n",
    "- experimentally compute $\\langle  Z_2\\rangle_\\psi = \\langle I\\otimes I\\otimes   Z\\rangle_\\psi $ and compare it with the prediction $\\tr (Z\\cdot\\rho_B)$\n",
    "<br>\n",
    "\n",
    "- experimentally $\\langle Z_0Z_1 \\rangle_\\psi $ and compare it with the perdiction $\\tr (Z \\otimes Z\\cdot \\rho_{A})$\n",
    "<br>    \n",
    "\n",
    "- Repeat for $\\langle X_2\\rangle_B$  y $\\langle Z_0X_1\\rangle_A$ \n",
    "    \n",
    "</div>\n",
    "</div>"
   ]
  },
  {
   "cell_type": "code",
   "execution_count": null,
   "metadata": {},
   "outputs": [],
   "source": [
    "import copy\n",
    "qcB = copy.deepcopy(qc)\n",
    "qcB.barrier()\n",
    "qcB.measure(qrB,crB)\n",
    "qcB.draw('mpl')\n",
    "shots = 1000000\n",
    "countsB = execute(qcB,M_simulator,shots = shots).result().get_counts()\n",
    "ev_Z_B = 0\n",
    "print(countsB,'the measured bits are in position 0 in the bitstring')\n",
    "\n",
    "for bitstring,  counts  in countsB.items():\n",
    "    ev_Z_B += (-1)**(sum([int(bit) for bit in bitstring[0]]))*counts/shots  \n",
    "\n",
    "    \n",
    "print('<Z>_B experimental =',ev_Z_B)\n",
    "\n",
    "print('<Z>_B theoretical =',np.trace(Z@rho_B.data))"
   ]
  },
  {
   "cell_type": "code",
   "execution_count": null,
   "metadata": {},
   "outputs": [],
   "source": [
    "qcA = copy.deepcopy(qc)\n",
    "qcA.barrier()\n",
    "qcA.measure(qrA,crA)\n",
    "display(qcA.draw('mpl'))\n",
    "shots = 1000000\n",
    "counts_A = execute(qcA,M_simulator,shots = shots).result().get_counts()\n",
    "ev_Z_A = 0\n",
    "print(counts_A,'the measured bits are in positions 2 and 3 in the bitstring') \n",
    "\n",
    "for bitstring,  counts  in counts_A.items():\n",
    "    ev_Z_A += (-1)**(sum([int(bit) for bit in bitstring[2:4]]))*counts/shots  \n",
    "\n",
    "print('<Z0Z1>_A experimental =',ev_Z_A)\n",
    "\n",
    "print('<Z0Z1>_A theoretical =',np.trace(np.kron(Z,Z)@rho_A.data))"
   ]
  },
  {
   "cell_type": "code",
   "execution_count": null,
   "metadata": {},
   "outputs": [],
   "source": []
  },
  {
   "cell_type": "code",
   "execution_count": null,
   "metadata": {},
   "outputs": [],
   "source": []
  },
  {
   "cell_type": "markdown",
   "metadata": {},
   "source": [
    "<div class=\"alert alert-block alert-success\">\n",
    "<b>Exercise 5.1:</b>  \n",
    "Prove that:\n",
    "    \n",
    "$a)$  for any observable $A$,  the expectation value $\\lambda_{min}\\leq \\bra{\\psi} E \\ket{\\psi}  \\leq \\lambda_{max}$ where $\\lambda_{min},\\lambda_{max}$ are the smallest and largest eigenvalues of $E$, and $\\ket{\\psi}$ is any state.\n",
    "\n",
    "$b)$  for any member  of a POVM, $\\{ E_m\\}\\, ,  m=1,...,r $\n",
    "\n",
    "-  the eigenvalues of $E_m $ are $\\lambda_i \\in [0,1]$.\n",
    "\n",
    "- the following implications are valid for $\\mu = 1, 0$\n",
    "$$\n",
    "\\bra{\\psi}E_m\\ket{\\psi} = \\mu ~~~\\Leftrightarrow ~~~E_m\\ket{\\psi} = \\mu\\ket{\\psi}\n",
    "$$\n",
    "\n",
    "</div>"
   ]
  },
  {
   "cell_type": "markdown",
   "metadata": {},
   "source": [
    "<div class=\"alert alert-block alert-success\">\n",
    "<b>Exercise 5.2:</b> \n",
    "Consider the following POVM \n",
    "$$\n",
    "E_1 = \\alpha(I-\\ket{2}\\bra{2})~~~,~~~E_2 = \\alpha(I- \\ket{1}\\bra{1}) ~~~,~~~ E_3 = I-E_1 - E_2\n",
    "$$\n",
    "explicitely designed to distinguish one among the two of states $\\{\\ket{1},\\ket{2}\\}$ with   $\\braket{1}{2}=c$. Show that the optimal value to maximize  the  probability of correct identification, $p$, when measuring on an  equiprobable ensemble of states is\n",
    "$$\n",
    "\\alpha_{opt} = \\frac{1}{1 + |c|} ~~~\\Rightarrow ~~~p = 1-|c|\n",
    "$$\n",
    "\n",
    "</div>"
   ]
  },
  {
   "cell_type": "markdown",
   "metadata": {},
   "source": [
    "<div class=\"alert alert-block alert-success\">\n",
    "<b>Exercise 5.3:</b> \n",
    "Suppose that Alice sends with equal  probability  $1/2$ the states   $ \\ket{a_\\perp} = \\ket{1} ,  \\ket{b_\\perp} =  \\frac{\\sqrt{3}}{2}\\ket{0} + \\frac{1}{2}\\ket{1}\\}$. Write the density operator that Bob uses to describe the statistical mixture. \n",
    "\n",
    "Bob tries to identify correctly which state was actually sent first by using the projective measurement $Z = P_0 + P_1$.\n",
    "Show that only $P_0$ discriminates and that this only occurs with probability 3/8 hence the identification rate is  $37.5\\%$.\n",
    "\n",
    "Then Bob tries to use the triangular POVM. Consider  directions $\\{(\\theta_a = 0,\\phi_a = 0)$, $(\\theta_b = 4\\pi/3,\\phi_b = 0)\\}$ and $(\\theta_c = 8\\pi/3,\\phi_c = 0)$.  Find the associated Bloch vectors \n",
    "$\\{\\ket{i} = \\ket{\\hat{\\bf n}_i}\\} , ~i=a,b,c$ and build the POVM $\\{ E_i = \\frac{2}{3}\\ket{i}\\bra{i}\\}$.\n",
    "Show that now Bob can discriminate $\\ket{a_\\perp}$ from $\\ket{b_\\perp}$ with up to $50\\%$ certainty.\n",
    "     \n",
    "    \n",
    "    \n",
    "</div>"
   ]
  },
  {
   "cell_type": "markdown",
   "metadata": {},
   "source": [
    "<div class=\"alert alert-block alert-success\">\n",
    "<b>Ejercicio 5.4:</b> \n",
    "<br> Trabaja numéricamente en $\\Hil$ de dimensión $4$.\n",
    "    \n",
    "- de forma aleatoria, define un colectivo $\\{\\ket{\\psi_a},q_a\\},\\, a = 0,...,3$. \n",
    "    \n",
    "- obtén  $S(\\rho)$   y calcula la entropía de formación. \n",
    "\n",
    "- haz una medida no-selectiva proyectiva en la base $\\ket{i}$  computacional. Obtén la variación de entropía por la \n",
    "medida. \n",
    "\n",
    "- repite, haciendo la medida en la base $\\ket{\\lambda_i}$ de autoestados de $\\rho$.   \n",
    "    \n",
    "\n",
    "</div>  "
   ]
  },
  {
   "cell_type": "markdown",
   "metadata": {},
   "source": [
    "<div class=\"alert alert-block alert-success\">\n",
    "<b>Exercise 5.4:</b> \n",
    "Sean las dos matrices densidad $\\rho_i = \\frac{1}{2}(I + \\frac{1}{2} \\sigma_i)$   con $i = 2,3$.\n",
    "Para la mezcla $\\rho(\\lambda) = \\lambda \\rho_2 + (1-\\lambda)\\rho_3$, calcula numéricamente  la información de Holevo y verifica la desigualdad que satisface. \n",
    "    \n",
    "</div>"
   ]
  },
  {
   "cell_type": "code",
   "execution_count": null,
   "metadata": {},
   "outputs": [],
   "source": []
  }
 ],
 "metadata": {
  "kernelspec": {
   "display_name": "Python 3 (ipykernel)",
   "language": "python",
   "name": "python3"
  },
  "language_info": {
   "codemirror_mode": {
    "name": "ipython",
    "version": 3
   },
   "file_extension": ".py",
   "mimetype": "text/x-python",
   "name": "python",
   "nbconvert_exporter": "python",
   "pygments_lexer": "ipython3",
   "version": "3.9.18"
  },
  "nbTranslate": {
   "displayLangs": [
    "*"
   ],
   "hotkey": "alt-t",
   "langInMainMenu": true,
   "sourceLang": "en",
   "targetLang": "fr",
   "useGoogleTranslate": true
  },
  "toc": {
   "base_numbering": 1,
   "nav_menu": {},
   "number_sections": true,
   "sideBar": true,
   "skip_h1_title": false,
   "title_cell": "Table of Contents",
   "title_sidebar": "Contents",
   "toc_cell": false,
   "toc_position": {},
   "toc_section_display": true,
   "toc_window_display": false
  },
  "varInspector": {
   "cols": {
    "lenName": 16,
    "lenType": 16,
    "lenVar": 40
   },
   "kernels_config": {
    "python": {
     "delete_cmd_postfix": "",
     "delete_cmd_prefix": "del ",
     "library": "var_list.py",
     "varRefreshCmd": "print(var_dic_list())"
    },
    "r": {
     "delete_cmd_postfix": ") ",
     "delete_cmd_prefix": "rm(",
     "library": "var_list.r",
     "varRefreshCmd": "cat(var_dic_list()) "
    }
   },
   "types_to_exclude": [
    "module",
    "function",
    "builtin_function_or_method",
    "instance",
    "_Feature"
   ],
   "window_display": false
  }
 },
 "nbformat": 4,
 "nbformat_minor": 4
}
