{
 "cells": [
  {
   "cell_type": "markdown",
   "id": "81fd03cf",
   "metadata": {
    "slideshow": {
     "slide_type": "slide"
    }
   },
   "source": [
    "<img src=\"../figuras/logos/logo_usc.jpg\" align=right width='80px'/>\n",
    "<br>\n",
    "\n",
    "\n",
    "<table width=\"100%\">\n",
    "<td style=\"font-size:40px;font-style:italic;text-align:left;background-color:rgba(0, 220, 170,0.7)\">\n",
    "Circuitería cuántica elemental \n",
    "</td></table>\n",
    "\n",
    "\n",
    "$ \\newcommand{\\bra}[1]{\\langle #1|} $\n",
    "$ \\newcommand{\\ket}[1]{|#1\\rangle} $\n",
    "$ \\newcommand{\\braket}[2]{\\langle #1|#2\\rangle} $\n",
    "$ \\newcommand{\\i}{{\\color{blue} i}} $ \n",
    "$ \\newcommand{\\Hil}{{\\mathbb H}} $\n",
    "$ \\newcommand{\\cg}[1]{{\\rm C}#1} $"
   ]
  },
  {
   "cell_type": "code",
   "execution_count": 1,
   "id": "0abf8d27",
   "metadata": {
    "slideshow": {
     "slide_type": "-"
    }
   },
   "outputs": [],
   "source": [
    "import sys\n",
    "sys.path.append('../')\n",
    "import macro_tQ as tQ\n",
    "\n",
    "import numpy as np\n",
    "import matplotlib.pyplot as plt\n",
    "from qiskit.tools.visualization import array_to_latex"
   ]
  },
  {
   "cell_type": "markdown",
   "id": "4c2b6d5c",
   "metadata": {
    "slideshow": {
     "slide_type": "slide"
    }
   },
   "source": [
    "# Circuitos Equivalentes\n"
   ]
  },
  {
   "cell_type": "markdown",
   "id": "a18c721f",
   "metadata": {
    "slideshow": {
     "slide_type": "-"
    }
   },
   "source": [
    "\n",
    "Es posible encontrar distintos circuitos que producen acciones idénticas sobre un estado arbitrario. Se denominan *circuitos equivalentes*. \n",
    "\n",
    "Matemáticamente, representan distintas descomposiciones del mismo operador unitario en *puertas simples*"
   ]
  },
  {
   "cell_type": "markdown",
   "id": "46ce7ee6",
   "metadata": {
    "slideshow": {
     "slide_type": "slide"
    }
   },
   "source": [
    "## Conjugación\n",
    "\n",
    "\n",
    "Una caso muy frecuente es la **conjugación** de una puerta $V$  por un **unitario** $U$\n",
    "\n",
    "\n",
    "$$\n",
    "V' = U V  U^\\dagger  \n",
    "$$\n",
    "\n",
    "El operador conjugado $V'$ tiene **la misma acción** sobre la base *base rotada* $\\{\\ket{e'} = U\\ket{e}\\}$\n",
    "que la que tiene $V$ sobre la original $\\{\\ket{e}\\}$."
   ]
  },
  {
   "cell_type": "markdown",
   "id": "f5b6b1fd",
   "metadata": {
    "slideshow": {
     "slide_type": "fragment"
    }
   },
   "source": [
    " Por ello, \n",
    " - los *autovalores* de $V$ y de $V'$ son los *mismos* y \n",
    " \n",
    " - los *autovectores* son los *rotados*\n",
    "\n",
    "$$\n",
    "\\lambda' = \\lambda ~~~~~~\\hbox{y}~~~~~~  \\ket{\\lambda}' = U\\ket{\\lambda}\n",
    "$$"
   ]
  },
  {
   "cell_type": "markdown",
   "id": "65bbfe7c",
   "metadata": {
    "slideshow": {
     "slide_type": "slide"
    }
   },
   "source": [
    "Comprobémoslo\n",
    "\n",
    "$$\n",
    "\\fbox{$V \\ket{\\lambda}= \\lambda\\ket{\\lambda}$} ~~\\Rightarrow ~~~V'\\ket{\\lambda}' = (UVU^\\dagger) U\\ket{\\lambda} = UV\\ket{\\lambda} =  U(\\lambda\\ket{\\lambda}) = \\lambda U\\ket{\\lambda} = \\lambda\\ket{\\lambda}' ~~\\Rightarrow ~~~ \\fbox{$ V' \\ket{\\lambda}' = \\lambda\\ket{\\lambda}'$}\n",
    "$$\n",
    "<br>"
   ]
  },
  {
   "cell_type": "markdown",
   "id": "9d0df563",
   "metadata": {
    "slideshow": {
     "slide_type": "fragment"
    }
   },
   "source": [
    "Por ejemplo \n",
    "\n",
    "\n",
    "<figure><center>\n",
    "<a id='fig_ref'></a>\n",
    "<img src=\"images/H_conjugation.png\" align=center width='50%'/>\n",
    "<center></center>\n",
    "</center></figure>\n",
    "<br>\n",
    "\n",
    "y,  equivalentemente, intercambiando $X \\leftrightarrow Z$. \n"
   ]
  },
  {
   "cell_type": "markdown",
   "id": "7c1bbf94",
   "metadata": {
    "slideshow": {
     "slide_type": "slide"
    }
   },
   "source": [
    "<br>\n",
    "\n",
    "- Este tipo de equivalencia se sigue de las identidades algebraicas\n",
    "<br>\n",
    "<br>\n",
    "\\begin{eqnarray}\n",
    "HXH = Z ~~~~~&&~~ ~~~\n",
    "HZH = X \\nonumber\n",
    "\\end{eqnarray}\n",
    "<br>\n",
    "que son fáciles de visualizar recordando que  $H$ es una rotación de 180$^\\circ$ en torno al eje diagonal en el plano $XZ$\n",
    "\n"
   ]
  },
  {
   "cell_type": "markdown",
   "id": "6e1bb68a",
   "metadata": {
    "slideshow": {
     "slide_type": "fragment"
    }
   },
   "source": [
    "<br>\n",
    "\n",
    "- Análogamente\n",
    "<br>\n",
    "<br>\n",
    "\\begin{eqnarray}\n",
    "S X S^\\dagger  = Y~~~~~&&~~~ ~~~\n",
    "S Y S^\\dagger = -X  ~~~~~~~~ S Z S^\\dagger = Z\\nonumber\\\\\n",
    "\\end{eqnarray}\n",
    "<br>\n",
    "también  son fáciles de visualizar recordando que \n",
    " $S=\\sqrt{Z}$ es una rotación de $90^\\circ$ en torno al eje $Z$.\n"
   ]
  },
  {
   "cell_type": "markdown",
   "id": "a5575fb5",
   "metadata": {
    "slideshow": {
     "slide_type": "slide"
    }
   },
   "source": [
    "### Conjugación de una exponencial\n",
    "\n",
    "muchas puertas unitarias son de la forma $V = e^{\\alpha A}$"
   ]
  },
  {
   "cell_type": "markdown",
   "id": "814f2265",
   "metadata": {
    "slideshow": {
     "slide_type": "fragment"
    }
   },
   "source": [
    "Por ejemplo, si  $A = \\hat{\\bf n}\\cdot \\boldsymbol{\\sigma} $ entonces $  ~\\Rightarrow ~V= R_{\\hat{\\bf n}}(\\theta)$ es el operador que rota un ángulo $\\theta$ en torno al vector $\\hat{\\bf n}$ en la esfera de Bloch.\n",
    "\n",
    "$$\n",
    " R_{\\hat{\\bf n}}(\\theta) = e^{-i\\frac{\\theta}{2}\\hat{\\bf n}\\cdot \\boldsymbol{\\sigma}}\n",
    "$$\n",
    "\n"
   ]
  },
  {
   "cell_type": "markdown",
   "id": "51b6e10a",
   "metadata": {
    "slideshow": {
     "slide_type": "fragment"
    }
   },
   "source": [
    "<div class=\"alert alert-block alert-info\">\n",
    "<p style=\"color: navy;\">\n",
    "<b>Lema:</b>\n",
    "la conjugación de una exponencial se exponencia\n",
    "<br>\n",
    "</div>\n",
    "\n",
    "\\begin{eqnarray}\n",
    "U e^{\\alpha A} U^\\dagger &=&  U \\left(1 + \\alpha A  + \\frac{1}{2} \\alpha^2 A^2 + ... \\right) U^\\dagger \\\\ \\rule{0mm}{8mm}\n",
    "&=& 1 + \\alpha UAU^\\dagger + \\frac{1}{2}\\alpha^2 UAU^\\dagger U AU^\\dagger + ... \\\\ \\rule{0mm}{8mm}\n",
    "&=& e^{ \\alpha UAU^\\dagger} \n",
    "\\end{eqnarray}\n",
    "\n"
   ]
  },
  {
   "cell_type": "markdown",
   "id": "642149ce",
   "metadata": {
    "slideshow": {
     "slide_type": "slide"
    }
   },
   "source": [
    "Para el caso $A = \\hat{\\bf n}\\cdot \\boldsymbol{\\sigma} $  la conjugación es\n",
    "<br><br>\n",
    "$$\n",
    "U A U^\\dagger ~\\to ~U (\\hat{\\bf n}\\cdot \\boldsymbol{\\sigma} ) U^\\dagger = \\hat{\\bf n}'\\cdot  \\boldsymbol{\\sigma} = A'\n",
    "$$\n",
    "<br>\n",
    "donde $\\hat{\\bf n}' = U \\hat{\\bf n}$."
   ]
  },
  {
   "cell_type": "markdown",
   "id": "da156220",
   "metadata": {
    "slideshow": {
     "slide_type": "fragment"
    }
   },
   "source": [
    "<div class=\"alert alert-block alert-info\">\n",
    "<p style=\"color: navy;\">\n",
    "<b>Corolario:</b>\n",
    "  $~$ <i>la conjugación de una rotación en torno a un eje produce una rotación en torno al eje conjugado</i>\n",
    "<br><br>\n",
    "$$\n",
    "U R_{\\hat{\\bf n}}(\\theta) U^\\dagger = R_{U\\hat{\\bf n}}(\\theta)\n",
    "$$\n",
    "</div>\n"
   ]
  },
  {
   "cell_type": "markdown",
   "id": "0c681047",
   "metadata": {
    "slideshow": {
     "slide_type": "fragment"
    }
   },
   "source": [
    "Por ejemplo:\n",
    "\n",
    "\\begin{eqnarray}\n",
    "H R_z(\\theta) H &=& e^{-i \\theta/2 HZH} =  e^{-i (\\theta/2) X}. \\\\ \\rule{0mm}{8mm}\n",
    "&=& R_x(\\theta)\n",
    "\\end{eqnarray}\n",
    "\n",
    "<br>\n",
    "<figure><center>\n",
    "<a id='fig_ref'></a>\n",
    "<img src=\"images/HRzHconjugation.png\" align=center width='70%'/>\n",
    "<center></center>\n",
    "</center></figure>\n",
    "<br>\n"
   ]
  },
  {
   "cell_type": "markdown",
   "id": "4f888edb",
   "metadata": {},
   "source": [
    "### Circuitos con controles\n",
    "\n",
    "La puerta  controlada $\\cg{Z} =  {\\rm diag}(1,1,1,-1)$   es simétrica ya que lo único que hace es cambiar de signo al estado $\\ket{11}$. Es decir\n",
    "\n",
    "<br>\n",
    "\n",
    "<figure><center>\n",
    "<img src=\"images/Equiv_Z.png\" align=center width='300px'/>\n",
    "<center></center>\n",
    "</center></figure>\n",
    "\n",
    "<br>\n",
    "\n",
    "En realidad, $\\cg{Z}$ es un caso particular de   $\\cg{P(\\phi)} = {\\rm diag} (1,1,1, e^{i\\phi})$, para la cual la equivalencia es la misma. \n",
    "\n",
    "\n",
    "Una equivalencia importante es\n",
    "\n",
    "<br>\n",
    "<figure><center>\n",
    "<img src=\"images/Equiv_HH.png\" align=center width='400px'/>\n",
    "<center></center>\n",
    "</center></figure>\n",
    "<br>\n",
    "\n",
    "Para probar esta identidad  observemos que las tres puertas del segundo cúbit se pueden componer para dar $HXH=Z$. Por el contrario, las dos puertas de Hadamard en el primer cúbit no se pueden multiplicar al haber un control entre ellas. \n",
    "Sin embargo, usando la  equivalencia anterior podemos invertir la puerta $\\cg{Z}$ y, finalmente, conjugar en el primer cúbit $HZH=X$.\n",
    "\n",
    "\n",
    "\n",
    "\n",
    "Otra  equivalencia nada intuitiva pero muy importante relaciona tres operaciones CNOT con la permutación U$_{\\rm SWAP}$\n",
    "\n",
    "\n",
    "<br>\n",
    "<figure><center>\n",
    "<img src=\"images/Equiv_CNOTs.png\" align=center width='400px'/>\n",
    "<center></center>\n",
    "</center></figure>\n",
    "<br>\n",
    "\n",
    "No hay una forma sencilla de probar esta identidad, así que lo recomendable es escribir las matrices asociadas a cada miembro y comprobar que son iguales. \n",
    "\n",
    "Esta identidad es tan importante que, de hecho es la forma en la que simplementa el operador U$_{\\rm SWAP}$ en un ordenador cuántico. \n",
    "\n",
    "\n",
    " \n",
    "\n",
    "La puerta de phase global controlada, $\\cg{K_\\phi} = {\\rm diag} (1,1,e^{i\\phi}, e^{i\\phi})$, secretamente, no es una puerta controlada\n",
    "\n",
    "\n",
    "<br>\n",
    "<figure><center>\n",
    "<img src=\"images/Equiv_Kphase.png\" align=center width='30%'/>\n",
    "<center></center>\n",
    "</center></figure>\n",
    "<br>\n",
    "\n",
    "\n",
    "Hay que tener cuidado a la hora de pasar operadores de Pauli por encima de un control\n",
    "Es sencillo comprobar que el resultado de los dos circuitos siguientes es el mismo, por tanto son equivalentes. \n",
    "\n",
    "<br>\n",
    "<figure><center>\n",
    "<img src=\"images/control_conj_Z.png\" align=center width='30%'/>\n",
    "<center></center>\n",
    "</center></figure>\n",
    "<br>\n",
    "\n",
    "En cambio, la conjugación por $X$ o por $Y$ cambia el cúbit de control de $\\ket{1}$ a $\\ket{0}$, lo cual se representa con un botón vacío\n",
    "\n",
    "\n",
    "<br>\n",
    "<figure><center>\n",
    "<img src=\"images/control_conj_XY.png\" align=center width='700px'/>\n",
    "<center></center>\n",
    "</center></figure>\n",
    "<br>\n",
    "\n",
    "\n",
    "\n",
    "\n",
    "\n",
    "\n",
    "Podemos verificar la veracidad de las anteriores identidades programando los circuitos de ambos miembros\n",
    "\n",
    "from qiskit import QuantumCircuit\n",
    "from qiskit_aer import UnitarySimulator\n",
    "\n",
    "U_simulator = UnitarySimulator\n",
    "\n",
    "qc_left= QuantumCircuit(2)\n",
    "qc_right= QuantumCircuit(2)\n",
    "\n",
    "qc_left.cx(0,1)\n",
    "qc_left.cx(1,0)\n",
    "qc_left.cx(0,1)\n",
    "qc_right.swap(1,0)\n",
    " \n",
    "print(qc_left)\n",
    "print(qc_right)\n",
    "\n",
    "U_left = U_simulator().run(qc_left).result().get_unitary()\n",
    "U_right = U_simulator().run(qc_right).result().get_unitary()\n",
    "\n",
    "comprobemos que las matrices que representan los circuitos coinciden\n",
    "\n",
    "from qiskit.visualization import array_to_latex\n",
    "display(array_to_latex(U_left, prefix=' U_{left} = '))\n",
    "display(array_to_latex(U_right, prefix=' U_{right} = '))\n",
    "\n",
    "### Medidas y controles\n",
    "\n",
    "En muchas instancias el resultado de una medida se utiliza para efectuar una operación condicionada sobre un cierto cúbit. Es el caso de la teleportación o la codificación superdensa. \n",
    "\n",
    "En estos casos hay una equivalencia de circuitos que responde al siguiente principio\n",
    "\n",
    "<div class=\"alert alert-block alert-info\">\n",
    "<p style=\"text-align: center;\"> <p style=\"text-align: left ;color: navy;\">  \n",
    "<b>Teorema:</b> <i>Principio de la medida diferida</i>\n",
    "<br>    \n",
    "Las medidas pueden siempre moverse de un lugar intermedio en un circuito, al final del mismo. Si los resultados de las medidas se usan para operaciones controladas clásicamente, estas pueden remplazarse por operadores condicionados cuánticamente \n",
    "<br>\n",
    "<br>     \n",
    "</p></div>\n",
    "\n",
    "La siguiente imagen ilustra la equivalencia de circuitos a que se refiere el teorema anterior.\n",
    "\n",
    "<br>\n",
    "<figure><center>\n",
    "<img src=\"images/deferred_meas.png\" align=center width='500px'/>\n",
    "<center></center>\n",
    "</center></figure>\n",
    "<br>\n",
    "\n",
    "La tercera figura es sólo notación en la que directamente un aparato de medida controla un operador. \n",
    "\n",
    "<div class=\"alert alert-block alert-success\">\n",
    "<b>Ejercicio:</b> \n",
    "<br> demuestra la equivalencia de los circuitos anteriores.  \n",
    "</div>    \n",
    "\n",
    "### Reinicialización a cero\n",
    "\n",
    "\n",
    "La las medidas intermedias sirven para poder efectuar operaciones controladas por un bit clásico. Veremos una utilización de este recurso cuando estudiemos la teleportación. Aquí vamos a ver cómo podemos utilizar dicha medida para reinicializar un cúbit al estado de partida $\\ket{0}$.\n",
    "\n",
    "En el siguiente circuto, $\\ket{\\psi} = a\\ket{0} + b\\ket{1}$ puede colapsar en el aparato de medida a $\\ket{0}$ ó a \n",
    "$\\ket{1}$. En ambos casos, la salida del circuitos será el estado $\\ket{0}$\n",
    "\n",
    "<br>\n",
    "<figure><center>\n",
    "<img src=\"images/reset.png\" align=center width='230px'/>\n",
    "<center></center>\n",
    "</center></figure>\n",
    "<br>"
   ]
  },
  {
   "cell_type": "markdown",
   "id": "988829b2",
   "metadata": {
    "slideshow": {
     "slide_type": "slide"
    }
   },
   "source": [
    "# Retroceso de Fase"
   ]
  },
  {
   "cell_type": "markdown",
   "id": "a2aae500",
   "metadata": {
    "slideshow": {
     "slide_type": "-"
    }
   },
   "source": [
    "Hemos estudiado ya el operador controlado $\\cg{U}$ en el que el operador $U$ es aplicado dependiendo del estado en el que se encuentra el cúbit controlador. Es un error frecuente pensar que dicho cúbit controlador no se modifica.\n",
    "\n",
    "\n"
   ]
  },
  {
   "cell_type": "markdown",
   "id": "3d55f526",
   "metadata": {
    "slideshow": {
     "slide_type": "fragment"
    }
   },
   "source": [
    "Este es el  caso  cuando el estado sobre el cual actúa el operador $U$ es uno de sus autoestados \n",
    "(recuerda que los autovalores de  un operador unitario son fases puras)\n",
    "\n",
    "$$\n",
    "U\\ket{u} = e^{i\\lambda} \\ket{u}\n",
    "$$"
   ]
  },
  {
   "cell_type": "markdown",
   "id": "0f1ea671",
   "metadata": {
    "slideshow": {
     "slide_type": "slide"
    }
   },
   "source": [
    " Supongamos que por el *cúbit controlador* circula una superposición $(a\\ket{0}+b\\ket{1})$ y un autoestado $\\ket{u}$ de $U$ por el cúbit controlado. La acción de $\\cg{U}$ es\n",
    "<br>\n",
    "<br>\n",
    "\n",
    "$$\n",
    "\\cg{U}: (a\\ket{0} + b\\ket{1})\\otimes \\ket{u} ~\\to ~ a\\ket{0}\\ket{u} + b \\ket{1}e^{i\\lambda}\\ket{u}  = \\left( a\\ket{0}\\ket{u} + be^{i\\lambda} \\ket{1} \\rule{0mm}{4mm} \\right)\\otimes \\ket{u}\n",
    "$$\n",
    "<br>"
   ]
  },
  {
   "cell_type": "markdown",
   "id": "b48cc1c7",
   "metadata": {
    "slideshow": {
     "slide_type": "fragment"
    }
   },
   "source": [
    "En resultado final es que la fase $e^{i\\lambda}$ **ha modificado** el estado de entrada, mientras que el segundo cúbit no ha cambiado. \n"
   ]
  },
  {
   "cell_type": "markdown",
   "id": "3b07a7bb",
   "metadata": {
    "slideshow": {
     "slide_type": "slide"
    }
   },
   "source": [
    "La clave está en que, en el segundo paso, la fase generada por la acción de U *no pertenece* realmente a ninguno de los dos espacios sino al producto\n",
    "\n",
    "De modo que puede adscribirse al primer espacio, como hemos hecho en el último paso\n",
    "\n",
    "De ahí el nombre de *retroceso de fase*, en inglés \"phase kickback\"\n"
   ]
  },
  {
   "cell_type": "markdown",
   "id": "9bda00ba",
   "metadata": {
    "slideshow": {
     "slide_type": "fragment"
    }
   },
   "source": [
    "El siguiente circuito resume la acción de retroceso de fase\n",
    "<br>\n",
    "\n",
    "<figure><center>\n",
    "<a id='fig_ref'></a>\n",
    "<img src=\"images/phase_kickback.png\" align=center width='35%'/>\n",
    "<center></center>\n",
    "</center></figure>\n"
   ]
  },
  {
   "cell_type": "markdown",
   "id": "c3bded23",
   "metadata": {
    "slideshow": {
     "slide_type": "slide"
    }
   },
   "source": [
    "<div class=\"alert alert-block alert-success\">\n",
    "\n",
    "<b>Ejercicio 1.3.1.1 </b> \n",
    "    \n",
    "programa un circuito en el que  $U = P(\\phi)$ es el operador de fase y el estado en el primer cúbit es $\\ket{0}$ y en el segundo es $\\ket{1}$. \n",
    "    \n",
    "    \n",
    "- Usando el *statevector_simulator* representa el estado de salida para distintos de valores de $\\phi\\in $ \n",
    "    \n",
    "- ¿en qué plano rota el vector del primer cúbit? ¿Cómo podemos cambiar dicho plano de rotación?\n",
    "</div>\n"
   ]
  },
  {
   "cell_type": "markdown",
   "id": "cf7275b2",
   "metadata": {},
   "source": [
    "Un caso muy frecuente ocurre cuando $U = X$, es decir $\\cg{U} = \\hbox{CNOT}$. Los autovalores de $X$ son los que forman la base $\\ket{\\pm}$. En el caso de $\\ket{-}$ tendremos\n",
    "que la fase es $e^{i\\pi} = -1$\n",
    "\n",
    "$$\n",
    "X \\ket{-} = (-1) \\ket{-}\n",
    "$$\n",
    "\n",
    "\n",
    "\n",
    "$$\n",
    "\\cg{X} \\big( \\ket{x}\\otimes \\ket{-}\\big) ~=~ \\ket{x} X^x\\ket{-} =  (-1)^x \\ket{x} \\otimes \\ket{-}\n",
    "$$\n",
    "\n",
    "El retroceso de fase consigue de esta manera imprimir el valor del cúbit de control en una fase. "
   ]
  },
  {
   "cell_type": "markdown",
   "id": "5364c340",
   "metadata": {
    "slideshow": {
     "slide_type": "slide"
    }
   },
   "source": [
    "# Puertas de Clifford\n"
   ]
  },
  {
   "cell_type": "markdown",
   "id": "3ef1b024",
   "metadata": {
    "slideshow": {
     "slide_type": "slide"
    }
   },
   "source": [
    "\n",
    "<div class=\"alert alert-block alert-info\">\n",
    "<p style=\"text-align: center;\"> <p style=\"text-align: left ;color: navy;\">  \n",
    "<b>Definición:</b> se define un <i>operador de Clifford</i>, $U$ como aquel que <i>conjuga</i> un operador de Pauli a otro operador de Pauli.\n",
    "</p></div>\n",
    "\n",
    "Los propios operadores de Pauli son operadores de Clifford.  La conjugación correspondiente simplemente refleja el operador de Pauli. Por ejemplo con $U=Z$\n",
    "\n",
    "$$\n",
    "ZXZ = -X~~~~~~~~~ZYZ = -Y ~~~~~~~~~ZZZ = Z \n",
    "$$\n",
    "\n",
    "\n",
    "Pero vemos que también $H$ y $S$ son de Clifford. \n",
    "Por el contrario $T$ no es un operador de Clifford."
   ]
  },
  {
   "cell_type": "markdown",
   "id": "9b4e900e",
   "metadata": {
    "slideshow": {
     "slide_type": "fragment"
    }
   },
   "source": [
    "<div class=\"alert alert-block alert-danger\">\n",
    "<b>Notar:</b> \n",
    "    \n",
    "La forma más fácil de calcular estas conjugaciones es  recordar el álgebra de operadores de Pauli\n",
    "\n",
    "$$\n",
    "X Y = i Z ~~~~~ Y Z = i X ~~~~~ ZX = iY\n",
    "$$\n",
    "donde todas involucran a $X,Y$ y $Z$ en orden cíclico.\n",
    "También el hecho de que dos operadores de Pauli distintos anti-conmutan. Por ejemplo\n",
    "\n",
    "$$\n",
    "\\{X,Y\\} = XY + YX = 0\n",
    "$$\n",
    "</p></div>\n"
   ]
  },
  {
   "cell_type": "markdown",
   "id": "f9d25e22",
   "metadata": {
    "slideshow": {
     "slide_type": "slide"
    }
   },
   "source": [
    "Esta definición se extiende a puertas multi-cúbits. Un *operador de Clifford multicúbit* será aquel que conjuga una cadena de Pauli para dar otra cadena de Pauli. Por ejemplo\n",
    "\n",
    "\\begin{eqnarray}\n",
    "(XXH) \\, (YZX) \\,  (XXH)^\\dagger &=& XXH \\otimes YZX \\otimes XXH \\\\ \\rule{0mm}{10mm}\n",
    "&=& XYX \\otimes  XZX \\otimes HXH \\\\ \\rule{0mm}{10mm}\n",
    "&=& (-Y)\\otimes (-Z) \\otimes Z \\\\ \\rule{0mm}{10mm} &=& YZZ\n",
    "\\end{eqnarray}"
   ]
  },
  {
   "cell_type": "markdown",
   "id": "e8e6dbbc",
   "metadata": {
    "slideshow": {
     "slide_type": "fragment"
    }
   },
   "source": [
    "También podemos conjugar operadores obtenidos por exponenciación\n",
    "\n",
    "$$\n",
    "(XXH) \\, e^{aYZX} \\,  (XXH)^\\dagger =e^{a XXH \\otimes XZX \\otimes XXH} =  e^{a YZZ}\n",
    "$$"
   ]
  },
  {
   "cell_type": "markdown",
   "id": "91c25234",
   "metadata": {
    "slideshow": {
     "slide_type": "slide"
    }
   },
   "source": [
    "Para 2 cúbits la *clase de Clifford* admite puertas controladas.\n",
    "\n",
    "$$\n",
    "\\cg{X} \\, (X\\otimes I)\\,  \\cg{X} = X \\otimes X\n",
    "$$\n",
    "\n",
    "que copia el operador $X$ en el segundo cúbit\n",
    "\n",
    "\n"
   ]
  },
  {
   "cell_type": "markdown",
   "id": "96ddcefb",
   "metadata": {
    "slideshow": {
     "slide_type": "fragment"
    }
   },
   "source": [
    "Esta identidad se puede demostrar gráficamente \n",
    "\n",
    "<br>\n",
    "<figure><center>\n",
    "<a id='fig_ref'></a>\n",
    "<img src=\"images/clone_X.png\" align=center width='90%'/>\n",
    "<center></center>\n",
    "</center></figure>\n",
    "<br>\n"
   ]
  },
  {
   "cell_type": "markdown",
   "id": "4747aaec",
   "metadata": {
    "slideshow": {
     "slide_type": "slide"
    }
   },
   "source": [
    "## Computación Cuántica Universal"
   ]
  },
  {
   "cell_type": "markdown",
   "id": "45b529ae",
   "metadata": {
    "slideshow": {
     "slide_type": "-"
    }
   },
   "source": [
    "El objetivo de un *computador cuántico universal* es el de ser capaz de implementar el operador unitario más general\n",
    "\n",
    "$$\n",
    "U  = \\sum_x \\ket{f(x)}\\bra{x}\n",
    "$$\n"
   ]
  },
  {
   "cell_type": "markdown",
   "id": "076c2574",
   "metadata": {
    "slideshow": {
     "slide_type": "slide"
    }
   },
   "source": [
    "<div class=\"alert alert-block alert-info\">\n",
    "<p style=\"text-align: center;\"> <p style=\"text-align: left ;color: navy;\">  \n",
    "<b>Teorema</b> <i>(Barenco et. al. 1995):</i> \n",
    "<br>\n",
    "cualquier operador unitario $U_n$ sobre $n$ cúbits puede expresarse como el producto de \n",
    "<br>\n",
    "<br>   \n",
    "-  puertas continuas de <i>un cubit</i> \n",
    "<br>  \n",
    "<br>\n",
    "-  puertas CNOT.\n",
    "</p></div>"
   ]
  },
  {
   "cell_type": "markdown",
   "id": "7515e3ef",
   "metadata": {
    "slideshow": {
     "slide_type": "fragment"
    }
   },
   "source": [
    "Por ejemplo la puerta controlada $\\cg{P_\\phi}$ admite la descomposición siguiente\n",
    "<br>\n",
    "<figure><center>\n",
    "<a id='fig_ref'></a>\n",
    "<img src=\"images/Equiv_Phase.png\" align=center width='60%'/>\n",
    "<center></center>\n",
    "</center></figure>\n",
    "<br>\n"
   ]
  },
  {
   "cell_type": "markdown",
   "id": "5a81eb10",
   "metadata": {
    "slideshow": {
     "slide_type": "slide"
    }
   },
   "source": [
    "La prueba del teorema de Barenco consta de varios pasos\n",
    "\n"
   ]
  },
  {
   "cell_type": "markdown",
   "id": "4450ff46",
   "metadata": {
    "slideshow": {
     "slide_type": "fragment"
    }
   },
   "source": [
    "1.  cualquier operador $U_n$ sobre $n$ cúbits se puede descomponer como *producto de operadores* $\\cg{^kU}$  donde $U$ es un operador de 1 cúbit controlado por $k$ cúbits "
   ]
  },
  {
   "cell_type": "markdown",
   "id": "95a429d3",
   "metadata": {
    "slideshow": {
     "slide_type": "fragment"
    }
   },
   "source": [
    "2. los operadores $\\hbox{C}^kU$ se pueden descomponer como productos de un  operador $\\cg{U}$ y puertas de Toffoli CCNOT\n"
   ]
  },
  {
   "cell_type": "markdown",
   "id": "31642972",
   "metadata": {
    "slideshow": {
     "slide_type": "fragment"
    }
   },
   "source": [
    "En general para $\\cg{^kU}$ necesitamos $k-1$ ancillas\n",
    "\n",
    "\n",
    "<br>\n",
    "<figure><center>\n",
    "<a id='fig_ref'></a>\n",
    "<img src=\"images/CkUdecomposition.png\" align=center width='40%'/>\n",
    "<center></center>\n",
    "</center></figure>\n",
    "<br>\n"
   ]
  },
  {
   "cell_type": "markdown",
   "id": "0068c9d4",
   "metadata": {
    "slideshow": {
     "slide_type": "slide"
    }
   },
   "source": [
    "<a id=\"Toffolidecomposition\"></a>\n",
    "3. Las puertas de Toffoli puede descomponerse como productos de $H$, $\\cg{X}$ y $\\cg{S}$\n",
    "\n",
    "\n",
    "<br>\n",
    "<figure><center>\n",
    "<a id='fig_ref'></a>\n",
    "<img src=\"images/Toffolidecomposition.png\" align=center width='45%'/>\n",
    "<center></center>\n",
    "</center></figure>\n",
    "<br>\n",
    "\n",
    "\n",
    "Este no es más que el caso particular  de la descomposición general de $\\cg{^2U}$ usando $U = X = HZH=HSSH =  (HSH)(HSH)= V^2 ~~\\Rightarrow ~~V = HSH$."
   ]
  },
  {
   "cell_type": "markdown",
   "id": "a1437702",
   "metadata": {
    "slideshow": {
     "slide_type": "slide"
    }
   },
   "source": [
    "<a id=\"CUdecomposition\"></a>\n",
    "4. Una puerta $\\cg{U}$ puede descomponerse de forma única usando tres rotaciones $A, B$ y $C$ que verifiquen\n",
    "\n",
    "$$\n",
    "ABC = I ~~~~~,~~~~ e^{i\\delta}  AXBXC = U\n",
    "$$\n",
    "\n",
    "<br>\n",
    "<figure><center>\n",
    "<a id='fig_ref'></a>\n",
    "<img src=\"images/CUdecomposition.png\" align=center width='60%'/>\n",
    "<center></center>\n",
    "</center></figure>\n",
    "<br>\n",
    "\n",
    "En efecto, si el cúbit de control es $\\ket{0}$ la fase $P(\\delta)$ no le afecta y el operador efectivo en el segundo cúbit es $ABC= I$.\n",
    "\n",
    "Por el contrario, si el primer cúbits es $\\ket{1}$, entonces se aplica $AXBXC$ al segundo cúbit, y \n",
    "el operador $P(\\delta)$ añade la fase global, que al ser global podemos pasársela al segundo cúbit, lo que hace $e^{i\\delta} AXBXC = U$\n"
   ]
  },
  {
   "cell_type": "markdown",
   "id": "4e9450d8",
   "metadata": {
    "slideshow": {
     "slide_type": "skip"
    }
   },
   "source": [
    "<details>\n",
    "\n",
    "Las dos condiciones  algebráicas admiten una solución única para un operador unitario genérico\n",
    "   \n",
    "$$\n",
    "U = e^{i\\delta}\\begin{bmatrix}\\displaystyle e^{-i(\\alpha+\\beta)/2}\\cos\\frac{\\theta}{2} & \\displaystyle - e^{i(-\\alpha+\\beta)/2}\\sin\\frac{\\theta}{2}  \\\\  \n",
    "\\rule{0mm}{5mm}\n",
    "\\displaystyle   e^{i(\\alpha-\\beta)/2}\\sin\\frac{\\theta}{2}  &\\displaystyle e^{i(\\alpha+\\beta)/2}\\cos\\frac{\\theta}{2}\n",
    "\\end{bmatrix} = e^{i\\delta} AXBXC ~  \\Longrightarrow ~\n",
    "\\left\\{ \\begin{array}{l} A = R_z(\\alpha) R_y\\left(\\frac{\\theta}{2}\\right) \\\\ B = R_y\\left(-\\frac{\\theta}{2}\\right) R_z\\left(-\\frac{\\alpha + \\beta}{2}\\right) \\\\\n",
    "C = R_z\\left( \\frac{\\beta-\\alpha}{2}\\right)\\end{array}\n",
    "\\right.\n",
    "$$\n",
    "\n",
    "<i> Nota: </i>: $U\\in U(2)$  es un operador unitario y  su determinante es una fase $\\det U = e^{i\\delta}$.     Por su parte $\\det(AXBXC) = 1$, y por tanto es un elemento de $SU(2)$.  Por esta razón es necesario añadir la fase $e^{i\\delta}$ para obtener un operador unitario general. \n",
    "    \n",
    "    \n",
    "</details>    \n",
    "\n"
   ]
  },
  {
   "cell_type": "markdown",
   "id": "52d6442b",
   "metadata": {
    "slideshow": {
     "slide_type": "slide"
    }
   },
   "source": [
    "### Puertas universales\n",
    "\n",
    "\n",
    "- La descomposición del teorema de Barenco es  una identidad exacta capaz de descomponer un conjunto infinito y continuo de operadores $U_n$ en puertas CNOT y puertas *continuas* $U$ \n",
    "\n",
    "\n"
   ]
  },
  {
   "cell_type": "markdown",
   "id": "05ebddf3",
   "metadata": {
    "slideshow": {
     "slide_type": "fragment"
    }
   },
   "source": [
    "- La computación cuántica *resistentes a errores (\"fault tolerant\")* demanda la **discretización** del proceso de computación.\n",
    "\n"
   ]
  },
  {
   "cell_type": "markdown",
   "id": "65010d66",
   "metadata": {
    "slideshow": {
     "slide_type": "fragment"
    }
   },
   "source": [
    "\n",
    "- Existe un *conjunto discreto de puertas universales* susceptibles de ser programadas de manera resistente a errores \n",
    "\n",
    "\n",
    "\n"
   ]
  },
  {
   "cell_type": "markdown",
   "id": "ab994a5a",
   "metadata": {
    "slideshow": {
     "slide_type": "fragment"
    }
   },
   "source": [
    " Puede ser diferente dependiendo de la plataforma utilizada. \n",
    "\n",
    "- En circuitos superconductores \n",
    "\n",
    "\\begin{eqnarray}\n",
    "\\hbox{Shor basis}~~\n",
    " ~&:& ~~ \\{ H, T, \\hbox{CNOT}\\}  \\nonumber \\\\ \\rule{0mm}{5mm}\n",
    "\\hbox{NCT}~ ~&:& ~~ \\{ X,\\hbox{CNOT}, \\hbox{Toffoli}\\}   \\nonumber\n",
    "\\end{eqnarray}\n"
   ]
  },
  {
   "cell_type": "markdown",
   "id": "b17456a2",
   "metadata": {
    "slideshow": {
     "slide_type": "slide"
    }
   },
   "source": [
    "- Es importante relacionar las puertas universales con *puertas nativas*\n",
    "\n",
    "Por ejemplo, en ordenadores de iones atrapados hay las siguientes [puertas nativas](https://ionq.com/docs/getting-started-with-native-gates#introducing-the-native-gates)\n",
    "\n",
    "$$\n",
    "\\{ \\hbox{GPi},\\hbox{Virtual}Z, \\hbox{MS}\\} \n",
    "$$\n",
    "\n",
    "<br>\n",
    "<br>\n",
    "donde \n",
    "$$\n",
    "\\hbox{GPi} = \\begin{bmatrix} 0 & e^{-i\\phi} \\\\e^{i\\phi} & 0 \\end{bmatrix}~~~,~~~\n",
    "\\hbox{Virtual}Z = \\begin{bmatrix} e^{-i\\phi} & 0 \\\\ 0 & e^{i\\phi} \\end{bmatrix} ~~,~~~~\n",
    "$$\n",
    "\n",
    "y la puerta de Mølmer-Sørensen\n",
    "\n",
    "$$\n",
    "\\hbox{MS}(\\phi_1,\\phi_2) = \\frac{1}{\\sqrt{2}}\n",
    "\\begin{bmatrix}\n",
    "1 & 0 & 0 & e^{-i(\\phi_1+\\phi_2)} \\\\ 0 & 1 &-i e^{-i(\\phi_1-\\phi_2)} & 0 \\\\ 0 & -i e^{i(\\phi_1-\\phi_2)} & 1 & 0  \\\\ \n",
    "-ie^{i(\\phi_1+\\phi_2)} & 0 & 0 & 1 \n",
    "\\end{bmatrix}\n",
    "$$\n",
    "\n"
   ]
  },
  {
   "cell_type": "markdown",
   "id": "69bbfaaa",
   "metadata": {
    "slideshow": {
     "slide_type": "slide"
    }
   },
   "source": [
    "<div class=\"alert alert-block alert-info\">\n",
    "<p style=\"text-align: center;\"> <p style=\"text-align: left ;color: navy;\">  \n",
    "<b>Teorema</b> <i>(Solovay Kitaev et. al. 1995):</i>   \n",
    "<br>    \n",
    "una puerta simple $U$ arbitraria puede ser aproximada con precisión $\\epsilon$ usando una secuencia de puertas discretas \n",
    "$R$ en el siguiente sentido de proximidad\n",
    "<br>\n",
    "<br>\n",
    "$$\n",
    "\\| (U - R)\\|_{\\infty} = \\hbox{max}_{\\ket{\\psi}} \\| (U - R)\\ket{\\psi} \\|<\\epsilon\n",
    "$$\n",
    "<br>    \n",
    "donde la secuencia aproximante $R$ involucra   $\\leq {\\cal O}(\\log^2(1/\\epsilon))$ puertas de un conjunto discreto universal, \n",
    "</p></div>\n",
    "\n",
    "Referencia: M.A. Nielsen y L.I. Chuang *Quantum Computation and Quantum Information*, pág. 197.\n"
   ]
  },
  {
   "cell_type": "markdown",
   "id": "77f962b3",
   "metadata": {
    "slideshow": {
     "slide_type": "slide"
    }
   },
   "source": [
    "# Medidas de calidad en circuitos\n"
   ]
  },
  {
   "cell_type": "markdown",
   "id": "10c0bd54",
   "metadata": {},
   "source": [
    "A la hora de comparar algoritmos es deseable poder caracterizar los circuitos que intervienen.\n",
    "Consideremos el siguiente circuito. "
   ]
  },
  {
   "cell_type": "code",
   "execution_count": 1,
   "id": "63474baa",
   "metadata": {
    "run_control": {
     "marked": false
    },
    "slideshow": {
     "slide_type": "slide"
    }
   },
   "outputs": [
    {
     "data": {
      "image/png": "[encoded data removed]",
      "text/plain": [
       "<Figure size 789.163x535.111 with 1 Axes>"
      ]
     },
     "execution_count": 1,
     "metadata": {},
     "output_type": "execute_result"
    }
   ],
   "source": [
    "from qiskit import QuantumCircuit\n",
    "qc = QuantumCircuit(5,2)\n",
    "\n",
    "\n",
    "qc.h(0)\n",
    "qc.swap(3,1)\n",
    "qc.h(3)\n",
    "qc.cx(3,0)\n",
    "qc.h([0,3])\n",
    "qc.s([2])\n",
    "qc.cx(4,2)\n",
    "qc.measure(4,1)\n",
    "qc.cx(2,4)\n",
    "qc.cx(4,2)\n",
    "qc.t(1)\n",
    "qc.measure(1,0)\n",
    "qc.h(1)\n",
    "qc.draw('mpl')\n"
   ]
  },
  {
   "cell_type": "markdown",
   "id": "228fe94d",
   "metadata": {
    "slideshow": {
     "slide_type": "slide"
    }
   },
   "source": [
    "Alguna medidas cuantitativas  permiten comparar la calidad de distintos circuitos que efectúan la misma tarea. \n",
    "\n",
    "- **anchura** *(width)*: es el número total de registros cuánticos y clásicos  que necesita.   \n",
    "\n",
    " El uso de ancillas incrementa la anchura de un circuito, y por tanto, reduce su calidad en comparación con otro circuito que tenga menor anchura. \n"
   ]
  },
  {
   "cell_type": "code",
   "execution_count": 5,
   "id": "221386f7",
   "metadata": {},
   "outputs": [
    {
     "name": "stdout",
     "output_type": "stream",
     "text": [
      "anchura= 7\n"
     ]
    }
   ],
   "source": [
    "print('anchura=', qc.width())"
   ]
  },
  {
   "cell_type": "markdown",
   "id": "e9ab6f4e",
   "metadata": {
    "slideshow": {
     "slide_type": "fragment"
    }
   },
   "source": [
    "- **tamaño =  coste** *(size)*: el número de puertas  y aparatos de medida presentes en el mismo. \n"
   ]
  },
  {
   "cell_type": "code",
   "execution_count": 6,
   "id": "a1103083",
   "metadata": {},
   "outputs": [
    {
     "name": "stdout",
     "output_type": "stream",
     "text": [
      "tamaño= 14\n"
     ]
    }
   ],
   "source": [
    "print('tamaño=',qc.size())\n"
   ]
  },
  {
   "cell_type": "markdown",
   "id": "a8a73fce",
   "metadata": {},
   "source": [
    "- **complejidad**= es una medida de la *produndidad real* asociada al número de *puertas elementales* en las que se descompone un circuito. \n",
    "\n",
    " Es un número a reducir. Sin embargo no es una medida inambigua ya que depende de la librería utilizada. Por ejemplo, si ésta es la NCT, entonces el coste del [circuito](#Toffolidecomposition) es 1. Sin embargo, si la librería es la tomada por $ \\{ H, S, T, \\hbox{CNOT}\\} $\n",
    "entonces el coste sube hasta 7. Por ello, a la hora de comparar circuitos es importante definirlos en la misma base. \n"
   ]
  },
  {
   "cell_type": "code",
   "execution_count": 7,
   "id": "865a02df",
   "metadata": {
    "run_control": {
     "marked": false
    },
    "slideshow": {
     "slide_type": "slide"
    }
   },
   "outputs": [
    {
     "name": "stdout",
     "output_type": "stream",
     "text": [
      "complejidad= 16\n"
     ]
    },
    {
     "data": {
      "image/png": "[encoded data removed]",
      "text/plain": [
       "<Figure size 1040x535.111 with 1 Axes>"
      ]
     },
     "execution_count": 7,
     "metadata": {},
     "output_type": "execute_result"
    }
   ],
   "source": [
    "qc_dec=qc.decompose()\n",
    "print('complejidad=', qc_dec.size())\n",
    "qc_dec.draw('mpl')"
   ]
  },
  {
   "cell_type": "markdown",
   "id": "af35ae62",
   "metadata": {
    "slideshow": {
     "slide_type": "fragment"
    }
   },
   "source": [
    "- **profundidad**= para evaluar la *profundidad*  es necesario agrupar todas las puertas  que se puedan realizar en paralelo en cortes temporales de duración $\\Delta$ (pulso).\n",
    " \n",
    " En particular puertas que actúen sobre registros diferentes no interferirán y se podrán paralelizar. \n",
    " Por ejemplo, el [circuito que descompone $U$](#CUdecomposition)   tiene un coste igual a 6, pero una profundidad igual a 5. \n",
    " \n",
    "\n"
   ]
  },
  {
   "cell_type": "code",
   "execution_count": 8,
   "id": "1fc3c191",
   "metadata": {},
   "outputs": [
    {
     "name": "stdout",
     "output_type": "stream",
     "text": [
      "profundidad= 5\n"
     ]
    }
   ],
   "source": [
    "print('profundidad=', qc.depth())"
   ]
  },
  {
   "cell_type": "markdown",
   "id": "89073fea",
   "metadata": {
    "slideshow": {
     "slide_type": "fragment"
    }
   },
   "source": [
    "- **factores unitarios**= un circuito es un operador unitario que puede estar formado por $r$ factores $U = U_1 U_2...U_r$. En el circuito cada factor se corresponde con un grupo de cúbits que están desconectados de los demás. Esto sólo afecta a las puertas lógicas, no a los aparatos de medida, que siempre son locales."
   ]
  },
  {
   "cell_type": "code",
   "execution_count": 9,
   "id": "058bae54",
   "metadata": {},
   "outputs": [
    {
     "name": "stdout",
     "output_type": "stream",
     "text": [
      "factores unitarios = 2\n"
     ]
    }
   ],
   "source": [
    "print('factores unitarios =', qc.num_unitary_factors())"
   ]
  },
  {
   "cell_type": "markdown",
   "id": "f59e42d1",
   "metadata": {},
   "source": [
    "No es evidente este resultado a priori, pero si permutamos los cúbits 2 y 3 el circuito muestra claramente esta factorización"
   ]
  },
  {
   "cell_type": "code",
   "execution_count": 10,
   "id": "9c9ab34f",
   "metadata": {},
   "outputs": [
    {
     "data": {
      "image/png": "[encoded data removed]",
      "text/plain": [
       "<Figure size 621.941x535.111 with 1 Axes>"
      ]
     },
     "execution_count": 10,
     "metadata": {},
     "output_type": "execute_result"
    }
   ],
   "source": [
    "from qiskit import QuantumCircuit\n",
    "qc = QuantumCircuit(5,2)\n",
    "\n",
    "\n",
    "qc.h(0)\n",
    "qc.swap(2,1)\n",
    "qc.h(2)\n",
    "qc.cx(2,0)\n",
    "qc.h([0,2])\n",
    "qc.s([3])\n",
    "qc.cx(4,3)\n",
    "qc.measure(4,1)\n",
    "qc.cx(3,4)\n",
    "qc.cx(4,3)\n",
    "qc.t(1)\n",
    "qc.measure(1,0)\n",
    "qc.h(1)\n",
    "qc.draw('mpl')\n"
   ]
  },
  {
   "cell_type": "markdown",
   "id": "c0ced0a4",
   "metadata": {
    "slideshow": {
     "slide_type": "slide"
    }
   },
   "source": [
    "<div class=\"alert alert-block alert-success\">\n",
    "<b>Ejercicio 1.3.1.4</b> \n",
    "\n",
    "\n",
    "1: Programa y ejecuta un circuito de 16 cúbits que prepare el estado $\\ket{00\\ldots 0} \\to \\frac{1}{\\sqrt{2}}\\left(\\ket{00\\ldots 0} + \\ket{11\\ldots 1}\\right) $ \n",
    "\n",
    "2: Modifica la posición de los controladores hasta reducir la profundidad a 5.\n",
    "\n",
    "</div>"
   ]
  },
  {
   "cell_type": "markdown",
   "id": "c15a9779",
   "metadata": {
    "slideshow": {
     "slide_type": "slide"
    }
   },
   "source": [
    "# Complejidad computacional"
   ]
  },
  {
   "cell_type": "markdown",
   "id": "fae2bb1d",
   "metadata": {
    "slideshow": {
     "slide_type": "slide"
    }
   },
   "source": [
    "Un algoritmo es una descomposición de una función en composición de un conjunto de *funciones primitivas*"
   ]
  },
  {
   "cell_type": "markdown",
   "id": "6772fe59",
   "metadata": {
    "slideshow": {
     "slide_type": "fragment"
    }
   },
   "source": [
    "A la hora de comparar estrategias de computación es necesario  analizar el coste relativo de diferentes algoritmos. Esta es la labor de teoría de la complejidad computacional. "
   ]
  },
  {
   "cell_type": "markdown",
   "id": "5191daac",
   "metadata": {
    "slideshow": {
     "slide_type": "fragment"
    }
   },
   "source": [
    "Como regla general, cada *modelo computacional* reducirá un problema complejo a una serie de pasos elementales (*operaciones primitivas*), a los que les asignaremos un coste computacional 1. \n"
   ]
  },
  {
   "cell_type": "markdown",
   "id": "017cda54",
   "metadata": {
    "slideshow": {
     "slide_type": "fragment"
    }
   },
   "source": [
    "La teoría de la *complejidad computacional* agrupa problemas por clases en las que el uso de recursos computacionales (tiempo o espacio) crece de forma similar. "
   ]
  },
  {
   "cell_type": "markdown",
   "id": "ca13946f",
   "metadata": {
    "slideshow": {
     "slide_type": "slide"
    }
   },
   "source": [
    "## Complejidad clásica:\n",
    "<br>\n",
    "\n",
    "\n",
    " -  **P** ( *Polinómica*):  decimos que un problema pertenece a esta clase si puede ser resuelto en un tiempo ($t \\sim $número de pasos) polinómico en el tamaño $n$ del dato de entrada $t\\sim \\exists k \\Rightarrow  {\\cal O}(n^k)\\, $. \n"
   ]
  },
  {
   "cell_type": "markdown",
   "id": "67698c50",
   "metadata": {
    "slideshow": {
     "slide_type": "fragment"
    }
   },
   "source": [
    "- **BPP** (\"*Bounded probabilistic polynomial*\"): problemas que se pueden resolver mediante una máquina de Turing probabilística en tiempo polinómico y con una probabilidad de error $\\leq 1/3$ para cualquier dato de entrada. "
   ]
  },
  {
   "cell_type": "markdown",
   "id": "5334c8f5",
   "metadata": {
    "slideshow": {
     "slide_type": "fragment"
    }
   },
   "source": [
    "- **NP** (\"*No determinista Polinómica*\"): clase de problemas que pueden ser  *verificados* en tiempo polinómico,\n",
    "pero carecen de un algoritmo para ser resueltos en tiempo polinómico. \n",
    "\n",
    "\n",
    "Es evidente que **P**$\\subseteq$ **NP**. No es evidente, aunque sí conjeturado, que **P**$\\neq$ **NP**, siendo este un problema central en matemáticas. \n",
    "\n"
   ]
  },
  {
   "cell_type": "markdown",
   "id": "f8e217ea",
   "metadata": {
    "slideshow": {
     "slide_type": "slide"
    }
   },
   "source": [
    "\n",
    "-  **NPC** (*NP-Completa*): es un subconjunto de **NPC**$\\subset$**NP** que contiene a los problemas más difíciles en esta clase. \n",
    "<br>\n",
    "<br>\n",
    " Un problema es **NPC** si cualquier  problema en **NP** puede aplicarse al mismo  mediante un algoritmo de coste polinómico. \n",
    "\n",
    "\n"
   ]
  },
  {
   "cell_type": "markdown",
   "id": "e252f1b0",
   "metadata": {},
   "source": [
    "La importancia de esta subclase es que la resolución eficiente de uno solo de sus elementos implica lo mismo para toda la clase, o lo que es igual implicaría que **NP** = **P**.\n",
    "\n",
    "Ejemplos de esta clase son  el *problema del viajante* y  el de la *satisfabilidad booleana*.\n"
   ]
  },
  {
   "cell_type": "markdown",
   "id": "5a1ba07b",
   "metadata": {
    "slideshow": {
     "slide_type": "fragment"
    }
   },
   "source": [
    "- **PSPACE**. Clase de problemas con necesidades de *memoria* exponencial en el tamaño del problema."
   ]
  },
  {
   "cell_type": "markdown",
   "id": "51384efe",
   "metadata": {},
   "source": [
    "<div class=\"alert alert-block alert-warning\">\n",
    "<b> Ejemplos:</b> \n",
    "\n",
    "-  ejemplos de la clase <b>NP</b>: la <i>factorización entera</i>, o la evaluación de  <i>logaritmos discretos</i>,... \n",
    "    \n",
    "    \n",
    "- ejemplos de la clase <b>NPC</b> son el <i>problema del viajante</i>, la <i>coloración de grafos</i>, \n",
    "</div>\n"
   ]
  },
  {
   "cell_type": "markdown",
   "id": "3c457574",
   "metadata": {
    "slideshow": {
     "slide_type": "slide"
    }
   },
   "source": [
    "## Complejidad cuántica:\n",
    "<br>\n",
    "\n",
    "Decimos que un circuito es *eficiente* (*no-eficiente*) si su *coste* escala de forma *polinómica* (*exponencial*)  con la *anchura* del circuito. "
   ]
  },
  {
   "cell_type": "markdown",
   "id": "3ff04cfc",
   "metadata": {
    "slideshow": {
     "slide_type": "fragment"
    }
   },
   "source": [
    "La descomposición de un operador unitario genérico $U(n)$ no será eficiente, puesto que viene especificado por un número exponencial $\\sim 2^n\\times 2^n$ de parámetros. "
   ]
  },
  {
   "cell_type": "markdown",
   "id": "70935f5d",
   "metadata": {},
   "source": [
    "Al igual que en computación clásica existen clases de complejidad cuánticas asociadas a familias de problemas que escalan de la misma manera."
   ]
  },
  {
   "cell_type": "markdown",
   "id": "f18fb36b",
   "metadata": {
    "slideshow": {
     "slide_type": "slide"
    }
   },
   "source": [
    "\n",
    " - **BQP** (*Bounded Quantum Polynomial*): clase de problemas para los que existe un algoritmos cuántico de coste polinómico y con una probabilidad de error $\\leq 3$. Es el análogo cuántico de la clase **BPP**. \n"
   ]
  },
  {
   "cell_type": "markdown",
   "id": "a527158d",
   "metadata": {
    "slideshow": {
     "slide_type": "fragment"
    }
   },
   "source": [
    " - **quantum NP**: clase de problemas que admiten un circuito polinómico en el número de cúbits que *verifica*  una eventual solución con probabilidad 1 si es correcta, y *rechaza* cualquier resultado que no sea solución con la misma fiabilidad. "
   ]
  },
  {
   "cell_type": "markdown",
   "id": "bf3359f0",
   "metadata": {
    "slideshow": {
     "slide_type": "fragment"
    }
   },
   "source": [
    "- **QMA** (*Quantum Merlin-Arthur*): admitiendo una probabilidad de error $\\leq 1/3$ en la clase **quantum NP** obtenemos el análogo cuántico de la clase **NP**.  Existe una clase **QMA**-completa que contiene los problemas más duros en esta categoría. ´"
   ]
  },
  {
   "cell_type": "markdown",
   "id": "a2d13a0e",
   "metadata": {
    "slideshow": {
     "slide_type": "slide"
    }
   },
   "source": [
    "<div class=\"alert alert-block alert-warning\">\n",
    "<b> Ejemplos:</b> \n",
    "    \n",
    "- El ejemplo más famoso de problema  <b>QMA</b>-completo es determinar si la energía $E_0$ del estado fundamental de un Hamiltoniano $k-$local es $E_0\\leq a$ o bien $E_0\\geq a + 1/poly(n)$.\n",
    "</div>\n"
   ]
  },
  {
   "cell_type": "markdown",
   "id": "5b43cc6f",
   "metadata": {
    "slideshow": {
     "slide_type": "fragment"
    }
   },
   "source": [
    "<div class=\"alert alert-block alert-danger\">\n",
    "<b> Notar:</b> \n",
    "    \n",
    "\n",
    "La teoría de la complejidad computacional intenta establecer relaciones de inclusión entre estas clases. \n",
    "A parte de la mencionada <b> P $\\subseteq$ NP </b> se  puede probar que\n",
    "\n",
    "<p style=\"text-align:center;\">   <b> P $\\subseteq$ BPP $\\subseteq$ BQP $\\subseteq$ PSPACE </b>    </p>\n",
    "    \n",
    "</div>\n"
   ]
  }
 ],
 "metadata": {
  "celltoolbar": "Slideshow",
  "kernelspec": {
   "display_name": "Python 3 (ipykernel)",
   "language": "python",
   "name": "python3"
  },
  "language_info": {
   "codemirror_mode": {
    "name": "ipython",
    "version": 3
   },
   "file_extension": ".py",
   "mimetype": "text/x-python",
   "name": "python",
   "nbconvert_exporter": "python",
   "pygments_lexer": "ipython3",
   "version": "3.9.18"
  },
  "nbTranslate": {
   "displayLangs": [
    "*"
   ],
   "hotkey": "alt-t",
   "langInMainMenu": true,
   "sourceLang": "en",
   "targetLang": "fr",
   "useGoogleTranslate": true
  },
  "toc": {
   "base_numbering": 1,
   "nav_menu": {},
   "number_sections": true,
   "sideBar": true,
   "skip_h1_title": false,
   "title_cell": "Table of Contents",
   "title_sidebar": "Contents",
   "toc_cell": false,
   "toc_position": {},
   "toc_section_display": true,
   "toc_window_display": false
  },
  "varInspector": {
   "cols": {
    "lenName": 16,
    "lenType": 16,
    "lenVar": 40
   },
   "kernels_config": {
    "python": {
     "delete_cmd_postfix": "",
     "delete_cmd_prefix": "del ",
     "library": "var_list.py",
     "varRefreshCmd": "print(var_dic_list())"
    },
    "r": {
     "delete_cmd_postfix": ") ",
     "delete_cmd_prefix": "rm(",
     "library": "var_list.r",
     "varRefreshCmd": "cat(var_dic_list()) "
    }
   },
   "types_to_exclude": [
    "module",
    "function",
    "builtin_function_or_method",
    "instance",
    "_Feature"
   ],
   "window_display": false
  }
 },
 "nbformat": 4,
 "nbformat_minor": 5
}
