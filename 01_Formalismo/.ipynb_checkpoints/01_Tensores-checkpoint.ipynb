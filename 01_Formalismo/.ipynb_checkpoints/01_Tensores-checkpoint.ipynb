{
 "cells": [
  {
   "cell_type": "markdown",
   "id": "106a3297",
   "metadata": {
    "slideshow": {
     "slide_type": "slide"
    }
   },
   "source": [
    "<img   src=\"../figuras/logos/Logo TalentQ Azul.png\" align=right  width=\"12%\"/>\n",
    "<br>\n",
    "\n",
    "<table width=\"100%\">\n",
    "<td style=\"font-size:40px;font-style:italic;text-align:left;background-color:rgba(0, 220, 170,0.7)\">\n",
    "Tensores \n",
    "</td></table>\n",
    "$ \\newcommand{\\bra}[1]{\\langle #1|} $\n",
    "$ \\newcommand{\\ket}[1]{|#1\\rangle} $\n",
    "$ \\newcommand{\\braket}[2]{\\langle #1|#2\\rangle} $\n",
    "$ \\newcommand{\\ketbra}[2]{| #1\\rangle \\langle #2|} $\n",
    "$ \\newcommand{\\tr}{{\\rm tr}} $\n",
    "$ \\newcommand{\\i}{{\\color{blue} i}} $ \n",
    "$ \\newcommand{\\Hil}{{\\cal H}} $\n",
    "$ \\newcommand{\\V}{{\\cal V}} $\n",
    "$ \\newcommand{\\Lin}{\\hbox{Lin}} $\n"
   ]
  },
  {
   "cell_type": "code",
   "execution_count": 13,
   "id": "26f3c88f",
   "metadata": {
    "slideshow": {
     "slide_type": "-"
    }
   },
   "outputs": [],
   "source": [
    "import sys\n",
    "sys.path.append('../')\n",
    "import macro_tQ as tQ\n",
    "\n",
    "import numpy as np\n",
    "import scipy.linalg as la\n",
    "from IPython.display import display,Markdown,Latex\n",
    "import matplotlib.pyplot as plt\n",
    "from qiskit.visualization import array_to_latex"
   ]
  },
  {
   "cell_type": "markdown",
   "id": "bd919b35",
   "metadata": {
    "slideshow": {
     "slide_type": "slide"
    }
   },
   "source": [
    "# Producto Tensorial"
   ]
  },
  {
   "cell_type": "markdown",
   "id": "72d66123",
   "metadata": {
    "slideshow": {
     "slide_type": "skip"
    }
   },
   "source": [
    "Un computador clásico es capaz de tratar grandes cantidades de bits a base de acumular dispositivos de un solo bit. Para un computador cuántico consideraríamos una colección de sistemas que implemente, cada uno, un cúbit. Necesitamos describir cómo agrupar sistemas cuánticos. \n",
    "\n",
    "Supongamos dos sistemas  a los que podemos asociar sendos espacios de Hilbert $\\Hil_1$ y $\\Hil_2$. \n",
    "El sistema cuántico conjunto viene descrito por elementos en el espacio producto tensorial $\\Hil =\\Hil_1\\otimes \\Hil_2$. Vamos,  a ver cómo se define este espacio vectorial. Empezaremos por sus elementos.\n"
   ]
  },
  {
   "cell_type": "markdown",
   "id": "98198eef",
   "metadata": {
    "slideshow": {
     "slide_type": "-"
    }
   },
   "source": [
    "<div class=\"alert alert-block alert-info\",text-align:center>\n",
    "<p style=\"text-align: left ;color: navy;\">  \n",
    "<b> Definición</b> : Dados dos vectores $\\ket{u}_1\\in \\Hil_1$ y  $\\ket{v}_2\\in \\Hil_2$, denominamos <i>producto tensorial</i> al par ordenado\n",
    "<br>\n",
    "<br>\n",
    "$$\n",
    " \\ket{u}_1\\otimes \\ket{v}_2 \\equiv \\ket{uv}\n",
    "$$\n",
    "con la propiedad <i>bilineal</i>.    \n",
    "</div>"
   ]
  },
  {
   "cell_type": "markdown",
   "id": "43b5a97e",
   "metadata": {
    "slideshow": {
     "slide_type": "fragment"
    }
   },
   "source": [
    " La  *bilinealidad* equivale a la propiedad distributiva.\n",
    "<br>\n",
    "<br>\n",
    "\\begin{align}\n",
    "\\big(\\ket{u}+\\ket{v}\\big)\\otimes \\big(\\ket{y}+\\ket{z}\\big) ~&\\equiv ~~ ~~\n",
    "\\ket{u}\\otimes\\ket{y} ~+~ \\ket{u}\\otimes\\ket{z} ~+~ \\ket{v}\\otimes\\ket{y} ~+~~\n",
    " \\ket{v}\\otimes\\ket{z} \n",
    "\\end{align}\n",
    "\n",
    "<br>"
   ]
  },
  {
   "cell_type": "markdown",
   "id": "85c95625",
   "metadata": {
    "slideshow": {
     "slide_type": "fragment"
    }
   },
   "source": [
    "$$\n",
    "\\neq  ~~~~\\ket{u}\\otimes \\ket{y} +  \\ket{v}\\otimes \\ket{z} ~~~\\hbox{!!!}\n",
    "$$"
   ]
  },
  {
   "cell_type": "markdown",
   "id": "ac2a90b4",
   "metadata": {
    "slideshow": {
     "slide_type": "slide"
    }
   },
   "source": [
    "A continuación construimos un espacio vectorial que incluya *todas las posibles combinaciones lineales de pares ordenados*"
   ]
  },
  {
   "cell_type": "markdown",
   "id": "4af23ecb",
   "metadata": {
    "slideshow": {
     "slide_type": "-"
    }
   },
   "source": [
    "<div class=\"alert alert-block alert-info\",text-align:center>\n",
    "<p style=\"text-align: left ;color: navy;\">  \n",
    "<b> Definición</b>  \n",
    "<br>    \n",
    "El  <i>espacio producto tensorial</i>  $\\Hil = \\Hil_1 \\otimes \\Hil_2$ está formado por  <u>todas las combinaciones lineales</u> posibles de   <u>pares ordenados</u> \n",
    "<br>\n",
    "<br> \n",
    "$$\n",
    "\\ket{w}= a\\ket{u}_1\\otimes\\ket{u}_2 ~+~ b \\ket{v}_1\\otimes\\ket{v}_2 ~+ ~...\n",
    "$$\n",
    "<br>     \n",
    "donde  $\\ket{u}_1,\\ket{v}_1,...\\in \\Hil_1\\, ~$ y $~\\, \\ket{u}_2,\\ket{v}_2,...\\in \\Hil_2~$,\n",
    "    y $~a,b,... \\in {\\mathbb C}$ son coeficientes complejos.\n",
    "<br> \n",
    "</div>"
   ]
  },
  {
   "cell_type": "markdown",
   "id": "688bbca7",
   "metadata": {},
   "source": [
    "Lo que nos dice este teoremas es que al agrupar dos sistemas, los grados de libertad son muchos más que  la suma de grados de libertad de cada subsistema. Aparecen *todas las posibles combinaciones* de estos, y además sus superposiciones lineales. "
   ]
  },
  {
   "cell_type": "markdown",
   "id": "6b5b5e93",
   "metadata": {
    "slideshow": {
     "slide_type": "slide"
    }
   },
   "source": [
    "## Base y Dimensión"
   ]
  },
  {
   "cell_type": "markdown",
   "id": "d53df9ba",
   "metadata": {
    "slideshow": {
     "slide_type": "-"
    }
   },
   "source": [
    "Sea $\\ket{i_1}$ una base de $\\Hil_1$ y $\\ket{i_2}$ una base de $\\Hil_2$. Entonces, una base de $\\Hil_1\\otimes \\Hil_2$ se obtiene\n",
    "a partir de *todos* los emparejamientos \n",
    "<br>\n",
    "<br>\n",
    "$$\n",
    "\\ket{i_1 i_2} = \\ket{i_1}\\otimes \\ket{i_2}~~~~~~~~~~~~~~~~~~ \n",
    "$$\n",
    "<br>\n",
    "con\n",
    "$\n",
    "i_1=0....(d_1-1)$ y $i_2=0,...,(d_2-1)\n",
    "$. Cada elemento así formado es <i>linealmente independiente</i> de los demás. "
   ]
  },
  {
   "cell_type": "markdown",
   "id": "69049687",
   "metadata": {
    "slideshow": {
     "slide_type": "-"
    }
   },
   "source": [
    "  El número parejas posibles es $d_1d_2$, que coincide con la **dimensión** de $\\Hil_1\\otimes \\Hil_2$."
   ]
  },
  {
   "cell_type": "markdown",
   "id": "0afcbcce",
   "metadata": {
    "slideshow": {
     "slide_type": "slide"
    }
   },
   "source": [
    "Vemos que las **etiquetas** de los vectores de la base forman un *bi-índice* $\\to i_1 i_2$ que asume $d_1 d_2$ parejas de valores distintos  "
   ]
  },
  {
   "cell_type": "markdown",
   "id": "d5baf4fb",
   "metadata": {
    "slideshow": {
     "slide_type": "-"
    }
   },
   "source": [
    "Un *vector* se escribirá igualmente usando $d_1 d_2$ <i>componentes</i> complejas $w_{i_1 i_2}$, etiquetadas mediante un bi-índice en lugar de un índice\n",
    "<br>\n",
    "\n",
    "$$\n",
    "\\ket{\\omega} ~= ~ \\sum_{i_1=1}^{d_1-1}\\sum_{i_2=1}^{d_2-1} w_{i_1i_2} \\ket{i_1 i_2} \n",
    "~=~ w_{00}\\ket{00} + w_{01}\\ket{01} +  w_{10}\\ket{10} + ...\\ldots + w_{(d_1-1) (d_2-1)}\\ket{(d_1-1) (d_2-1)}   \n",
    "$$\n"
   ]
  },
  {
   "cell_type": "markdown",
   "id": "16ec7912",
   "metadata": {
    "slideshow": {
     "slide_type": "skip"
    }
   },
   "source": [
    "<br>\n",
    "\n",
    "<div class=\"alert alert-block alert-danger\">\n",
    "<b> Notar: </b>\n",
    "    \n",
    "    \n",
    "- Prescindiremos del subíndice $\\ket{u}_1\\otimes \\ket{y}_2=\\ket{u}\\otimes \\ket{y} \\equiv \\ket{uy}$ que estará implícito en el orden. \n",
    "<br>   \n",
    "    \n",
    "    \n",
    "- Para computación cuántica con <i>cúbits (cúdits)</i>, el valor relevante es $d=2\\,(d\\geq 3)$. \n",
    "<div>"
   ]
  },
  {
   "cell_type": "markdown",
   "id": "2700a049",
   "metadata": {
    "slideshow": {
     "slide_type": "slide"
    }
   },
   "source": [
    "<div class=\"alert alert-block alert-warning\">\n",
    "<b>Ejemplo: </b>\n",
    " supongamos que $d_1 = 2$ y $d_2=3$, entonces\n",
    "\n",
    "$$\n",
    "\\ket{w} = w_{00}\\ket{00} + w_{01}\\ket{01} + w_{02}\\ket{02} + w_{10}\\ket{10} + w_{11}\\ket{11} + w_{12}\\ket{12}\n",
    "$$\n",
    "\n",
    "o, en notación matricial\n",
    "\n",
    "$$\n",
    "\\ket{w} \\sim  \\begin{pmatrix} w_{00}\\\\ w_{01} \\\\ w_{02} \\\\ w_{10} \\\\ w_{11} \\\\ w_{12} \\end{pmatrix}\n",
    "$$\n",
    "</div>"
   ]
  },
  {
   "cell_type": "markdown",
   "id": "b433016d",
   "metadata": {
    "slideshow": {
     "slide_type": "slide"
    }
   },
   "source": [
    "## Indexación equivalente\n",
    "\n",
    "Podemos etiquetar las componentes (o los elementos de la base) con índices, en lugar de bi-índices\n",
    "\n",
    "Para ello basta con definir un mapa  entre dos bi-índices $i_1,i_2$ y un índice $a$ \n",
    "\n",
    "$$\n",
    "\\ket{w} ~= ~ \\sum_{i_1=1}^{d_1-1}\\sum_{i_2=1}^{d_2-1} w_{i_1 i_2} \\ket{i_1 i_2} ~=~ \\sum_{a=1}^{(d_1-1)(d_2-1)} w_{a} \\ket{a}\n",
    "$$\n",
    "<br>\n",
    "donde hemos querido resaltar que las componente y  los vectores son los mismos, etiquetados de forma diferente.\n"
   ]
  },
  {
   "cell_type": "markdown",
   "id": "cfc5b166",
   "metadata": {
    "slideshow": {
     "slide_type": "fragment"
    }
   },
   "source": [
    "<div class=\"alert alert-block alert-warning\">\n",
    "<b>Ejemplo: </b>\n",
    "\\begin{align}\n",
    "\\ket{w} & = w_{00}\\ket{00} + w_{01}\\ket{01} + w_{02}\\ket{02} + w_{10}\\ket{10} + w_{11}\\ket{11} + w_{12}\\ket{12}\n",
    "    \\\\  \\nonumber\\\\\n",
    "    & = w_0 \\ket{0} + w_1\\ket{1} + w_2\\ket{2} + w_3\\ket{3} + w_4 \\ket{4} + w_5 \\ket{5} \n",
    "\\end{align}\n",
    "\n",
    "</div>"
   ]
  },
  {
   "cell_type": "markdown",
   "id": "20e6f6ed",
   "metadata": {
    "slideshow": {
     "slide_type": "slide"
    }
   },
   "source": [
    " En el caso general el mapa es \n",
    "<br>\n",
    "\n",
    "$$\n",
    "i_1 i_2 ~~\\to ~~ a = d_2*i_1 + i_2\n",
    "$$\n",
    "<br>\n",
    "Claramente $a = 0,...,(d_1-1)(d_2-1)$ tiene $(d_1-1)(d_2-1)$ valores distintos\n"
   ]
  },
  {
   "cell_type": "markdown",
   "id": "c281e3e4",
   "metadata": {
    "slideshow": {
     "slide_type": "fragment"
    }
   },
   "source": [
    "<div class=\"alert alert-block alert-danger\">\n",
    "<b> Notar: </b>\n",
    "El método  $.reshape$ de $numpy$ re-organiza los $d_1d_2$ datos en cualquiera de las dos formas. \n",
    "</div>"
   ]
  },
  {
   "cell_type": "code",
   "execution_count": 2,
   "id": "0169df3b",
   "metadata": {
    "slideshow": {
     "slide_type": "slide"
    }
   },
   "outputs": [
    {
     "data": {
      "text/latex": [
       "$$\n",
       "\n",
       "\\begin{bmatrix}\n",
       "0.1387807186 & 0.6305473472 & 0.8352714479 & 0.9247182788  \\\\\n",
       " 0.5658675452 & 0.577124176 & 0.1224158351 & 0.2268159354  \\\\\n",
       " \\end{bmatrix}\n",
       "$$"
      ],
      "text/plain": [
       "<IPython.core.display.Latex object>"
      ]
     },
     "metadata": {},
     "output_type": "display_data"
    },
    {
     "data": {
      "text/latex": [
       "$$\n",
       "\n",
       "\\begin{bmatrix}\n",
       "0.1387807186 & 0.6305473472 & 0.8352714479 & 0.9247182788 & 0.5658675452 & 0.577124176 & 0.1224158351 & 0.2268159354  \\\\\n",
       " \\end{bmatrix}\n",
       "$$"
      ],
      "text/plain": [
       "<IPython.core.display.Latex object>"
      ]
     },
     "metadata": {},
     "output_type": "display_data"
    },
    {
     "data": {
      "text/latex": [
       "$$\n",
       "\n",
       "\\begin{bmatrix}\n",
       "0.1387807186 & 0.6305473472 & 0.8352714479 & 0.9247182788  \\\\\n",
       " 0.5658675452 & 0.577124176 & 0.1224158351 & 0.2268159354  \\\\\n",
       " \\end{bmatrix}\n",
       "$$"
      ],
      "text/plain": [
       "<IPython.core.display.Latex object>"
      ]
     },
     "metadata": {},
     "output_type": "display_data"
    }
   ],
   "source": [
    "d1 = 2 \n",
    "d2 = 4  \n",
    "\n",
    "wij = np.random.rand(d1,d2)\n",
    "wa = wij.reshape(d1*d2)\n",
    "wpij = wa.reshape(d1,d2)\n",
    "\n",
    "'component map'\n",
    "i1=1 \n",
    "i2=2 \n",
    "\n",
    "a = d2*(i1) + i2  \n",
    "\n",
    "display(array_to_latex(wij))\n",
    "display(array_to_latex(wa))\n",
    "display(array_to_latex(wpij))"
   ]
  },
  {
   "cell_type": "markdown",
   "id": "ccdf7696",
   "metadata": {
    "slideshow": {
     "slide_type": "slide"
    }
   },
   "source": [
    "<a id='Kronecker'></a>\n",
    "## Producto de Kronecker"
   ]
  },
  {
   "cell_type": "markdown",
   "id": "087e57c1",
   "metadata": {
    "slideshow": {
     "slide_type": "-"
    }
   },
   "source": [
    "Repitamos: cualquier vector admite, en una base, una representación como un vector columna con sus coeficientes como entradas \n",
    "\n",
    "<br>\n",
    "<br>\n",
    "$$\n",
    "\\ket{w} ~= ~ \\sum_{i,j=1}^2 w_{ij} \\ket{e_{ij}}\\sim~ \\begin{pmatrix}w_{11}\\\\ w_{12}\\\\ w_{21} \\\\ w_{22}  \\end{pmatrix}  ~  \n",
    "$$\n"
   ]
  },
  {
   "cell_type": "markdown",
   "id": "29d206c4",
   "metadata": {
    "slideshow": {
     "slide_type": "slide"
    }
   },
   "source": [
    "La matriz columna asociada $\\ket{uv}= \\ket{u}\\otimes \\ket{v}$ se forma a partir de las matrices columna de $\\ket{u}$ y $\\ket{v}$ mediante el denominado *producto de Kronecker* o, también *producto tensorial*. \n",
    "<br>\n",
    "<br>\n",
    "\n",
    "$$\n",
    " \\ket{uv} = \\ket{u}\\otimes \\ket{v} ~\\sim~ \n",
    "\\begin{pmatrix}u_1\\\\ u_2 \\end{pmatrix}\\otimes \\begin{pmatrix}v_1\\\\ v_2 \\end{pmatrix} ~\\equiv ~\n",
    "\\begin{pmatrix}u_1 \\begin{pmatrix}v_1\\\\ v_2 \\end{pmatrix} \\\\ u_2 \\begin{pmatrix}v_1\\\\ v_2 \\end{pmatrix}  \\end{pmatrix}\n",
    "~=~\\begin{pmatrix}u_1v_1\\\\ u_1v_2 \\\\ u_2 v_1 \\\\ u_2 v_2  \\end{pmatrix}\n",
    "$$"
   ]
  },
  {
   "cell_type": "markdown",
   "id": "07847719",
   "metadata": {
    "slideshow": {
     "slide_type": "slide"
    }
   },
   "source": [
    "<div class=\"alert alert-block alert-danger\">\n",
    "<b>Notar:</b> \n",
    "con dos vectores $\\ket{u} = \\sum_i u_i \\ket{e_i}$ y $\\ket{v} = \\sum_i v_i \\ket{e_i} \\in \\Hil$, hay dos objetos muy parecidos que podemos formar\n",
    "<br>    \n",
    "<br>\n",
    "1. un operador $$\\Omega = \\ketbra{u}{v} = \\sum_{ij}u_i v^*_j\\ketbra{e_i}{e_j}~ \\in~ \\Lin(\\Hil)$$  \n",
    "<br>\n",
    "<br>    \n",
    "2. un vector $$\\ket{\\omega} = \\ket{u}\\otimes \\ket{v} = \\sum_{ij} u_i v_j \\ket{e_i} \\ket{e_j} ~\\in ~ \\Hil\\otimes \\Hil$$ \n",
    "<br>\n",
    "<br>\n",
    "Nota la conjugación compleja relativa entre las dos matrices de componentes $\\Omega_{ij} = u^*_i v_j$ y $\\omega_{ij} =  u_i v_j$.\n",
    "\n",
    "</div>"
   ]
  },
  {
   "cell_type": "markdown",
   "id": "638b696a",
   "metadata": {
    "slideshow": {
     "slide_type": "skip"
    }
   },
   "source": [
    "<div class=\"alert alert-block alert-success\">\n",
    "<b>Ejercicio</b>: <i>(explícaselo a tu ordenador)</i>\n",
    "<br>\n",
    "    \n",
    "escribe una función  <i>kronecker(u,v)</i> que tome dos kets (como vectores columna)  y devuelva su producto de Kronecker. Verifica el resultado con la funcion $kron$ de numpy.  \n",
    "</div>"
   ]
  },
  {
   "cell_type": "markdown",
   "id": "2ce09e57",
   "metadata": {
    "slideshow": {
     "slide_type": "slide"
    }
   },
   "source": [
    "# Factorización y Entrelazamiento"
   ]
  },
  {
   "cell_type": "markdown",
   "id": "669914c9",
   "metadata": {
    "slideshow": {
     "slide_type": "-"
    }
   },
   "source": [
    "\n",
    "<div class=\"alert alert-block alert-info\",text-align:center>\n",
    "<p style=\"text-align: left ;color: navy;\">  \n",
    "<b>Definición</b>: <i>(Vector entrelazado)</i>\n",
    "<br>\n",
    "<br>\n",
    "Decimos que, un vector $\\ket{w}\\in \\Hil\\otimes\\Hil$ es <b>factorizable</b> cuando es posible encontrar vectores $\\ket{u},\\ket{v}\\in \\Hil$ tales que $$ \\ket{w} = \\ket{u}\\otimes\\ket{v}$$\n",
    "<br>\n",
    "<br>\n",
    "Cuando esto no sea posible, decimos que  $\\ket{w}$ es un vector <b>entrelazado</b>.\n",
    "<br>\n",
    " </div>\n"
   ]
  },
  {
   "cell_type": "markdown",
   "id": "3e84df8c",
   "metadata": {
    "slideshow": {
     "slide_type": "slide"
    }
   },
   "source": [
    "Ya hemos visto que, dada una base $\\ket{e_i}$ de $\\Hil$, el vector más general que pertenece al espacio producto admite una descomposición \n",
    "\n",
    "$$\n",
    "\\ket{w} = \\sum_{i,j=1}^d w_{ij}\\ket{e_{i}}\\otimes \\ket{e_j} = w_{11}\\ket{e_1}\\otimes\\ket{e_1} + w_{12}\\ket{e_1}\\otimes\\ket{e_2} + ...\\, .\n",
    "$$"
   ]
  },
  {
   "cell_type": "markdown",
   "id": "713945ce",
   "metadata": {
    "slideshow": {
     "slide_type": "fragment"
    }
   },
   "source": [
    "Podría ocurrir que en otra base $\\ket{w} = \\tilde w_{11} \\ket{f_1}\\otimes\\ket{f_1}$ sólo tuviese un término y fuese factorizable."
   ]
  },
  {
   "cell_type": "markdown",
   "id": "b0210a63",
   "metadata": {
    "slideshow": {
     "slide_type": "-"
    }
   },
   "source": [
    "\n",
    "Discernir si un vector es factorizable o entrelazado no es algo que se pueda hacer a primera vista. \n"
   ]
  },
  {
   "cell_type": "markdown",
   "id": "7e48ac8d",
   "metadata": {
    "slideshow": {
     "slide_type": "slide"
    }
   },
   "source": [
    "<div class=\"alert alert-block alert-info\",text-align:center>\n",
    "<p style=\"text-align: left ;color: navy;\">  \n",
    "<b>Teorema</b>: el estado es $\\ket{w}$ es factorizable si y sólo si las componentes $w_{ij}$ son factorizables en la forma $w_{ij} = u_i v_j~$ con $i=1,...,d_1$ y $j = 1,...,d_2$. \n",
    "</div>\n",
    "    \n",
    "\\begin{align}\n",
    "\\ket{w} &= \\sum_{i,j=1}^d w_{ij} \\ket{e_{ij}} \\\\\n",
    "& = \\sum_{i,j} u_{i}v_j \\ket{e_i}\\otimes \\ket{e_j} \\\\\n",
    "& = \\sum_{i,j} u_{i} \\ket{e_i}\\otimes v_j\\ket{e_j}  \\\\\n",
    "& = \\sum_i u_i\\ket{e_i} \\otimes \\sum_j v_j\\ket{e_j} \\\\\n",
    "& =   \\ket{u}\\otimes \\ket{v}\n",
    "\\end{align}\n",
    "\n",
    "identidad que se puede leer en ambos sentidos.\n",
    "En general no será posible discernir si un vector es factorizable o entrelazado. Vamos a ver algunas herramientas útiles en este sentido.\n"
   ]
  },
  {
   "cell_type": "markdown",
   "id": "e0c03625",
   "metadata": {
    "slideshow": {
     "slide_type": "slide"
    }
   },
   "source": [
    "El carácter entrelazado de un vector es <i>genérico</i>, mientras que el carácter factorizable es <i>accidental</i>.\n",
    "<br>\n",
    "\n",
    "Esto se sigue de un sencillo contaje: \n",
    "\n",
    "   - como función de $d$,  $\\{w_{ij}\\}$ forma un conjunto de $d_1d_2$ parámetros complejos (grados de libertad). \n",
    "\n",
    "   \n",
    "   - sin embargo en $\\{u_i v_j\\}$ sólo hay $d_1 + d_2$ números independientes. Es evidente que $d_1 d_2 \\gg d_1 + d_2$.\n"
   ]
  },
  {
   "cell_type": "markdown",
   "id": "49afacfe",
   "metadata": {
    "slideshow": {
     "slide_type": "slide"
    }
   },
   "source": [
    "##   Concurrencia\n",
    "\n",
    "En el caso  $d_1 = d_2 =2$  la condición de *factorizabilidad* $~\\Rightarrow ~w_{ij} = u_i v_j$ es <i>equivalente</i> a verificar\n",
    "    la anulación del  determinante de la matriz $2\\times 2$ formada por las componentes\n",
    "<br>\n",
    "    \n",
    "$$ \\det w_{ij} =  w_{11}w_{22}- w_{12}w_{21} = u_1v_1u_2v_2-u_1v_2u_2v_1=0$$  \n",
    "\n"
   ]
  },
  {
   "cell_type": "markdown",
   "id": "ba66ef6c",
   "metadata": {},
   "source": [
    "<div class=\"alert alert-block alert-info\",text-align:center>\n",
    "<p style=\"text-align: left ;color: navy;\">  \n",
    "<b>Definición</b>: <i>(Concurrencia)</i>\n",
    "<br>\n",
    "    la <i>concurrencia</i> de un estado bipartito en dos dimensiones $\\ket{\\psi} = \\sum_{ij} w_{ij} \\ket{e_i}\\ket{e_j}$ es\n",
    "<br>   \n",
    "<br>\n",
    "$${\\cal C} = |\\det w_{ij}|$$ \n",
    "</div>"
   ]
  },
  {
   "cell_type": "markdown",
   "id": "7420b742",
   "metadata": {},
   "source": [
    "\n",
    "La **concurrencia** es una medida del entrelazamiento. \n",
    "\n",
    "<div class=\"alert alert-block alert-info\",text-align:center>\n",
    "<p style=\"text-align: left ;color: navy;\">  \n",
    "<b>Teorema</b>: \n",
    "$$\n",
    "0\\leq {\\cal C} \\leq 1\n",
    "$$\n",
    "</div>    \n",
    "\n",
    "- para ${\\cal C} = 0$ el estado es factorizable\n",
    "\n",
    "- cuando ${\\cal C} = 1$ el estado es máximamente entrelazado"
   ]
  },
  {
   "cell_type": "markdown",
   "id": "1eedf22f",
   "metadata": {},
   "source": [
    "<div class=\"alert alert-block alert-success\">\n",
    "    <b>Ejercicio:</b> \n",
    "Demuestra la desigualdad $0\\leq {\\cal C} \\leq 1$ que satiface la concurrencia.\n",
    "</div>"
   ]
  },
  {
   "cell_type": "markdown",
   "id": "fda8a7d3",
   "metadata": {},
   "source": [
    "##  Descomposición de Schmidt\n",
    "\n",
    " En el caso en el que alguna de las dimensiones $d_1, d_2 > 2$ la busqueda de un criterio para detectar si $w_{ij}$ es factorizable o entrelazado pasa por la descomposición de Schmidt. \n"
   ]
  },
  {
   "cell_type": "markdown",
   "id": "4fefa3a9",
   "metadata": {
    "slideshow": {
     "slide_type": "-"
    }
   },
   "source": [
    "Supongamos que, en sendas bases arbitrarias $\\{\\ket{e_{1,i}},~ i=1,...,d_1\\}$  de $\\Hil_1$ y  $\\{\\ket{e_{2,a}},~a=1,...,d_2\\}$  de $\\Hil_2$ nuestro vector se escribe\n",
    "\n",
    "$$\n",
    "\\ket{w} = \\sum_{i=1}^{d_1}\\sum_{a=1}^{d_2} w_{ia} \\ket{e_{1,i}}\\otimes \\ket{e_{2,a}}\n",
    "$$"
   ]
  },
  {
   "cell_type": "markdown",
   "id": "6f19b2df",
   "metadata": {
    "slideshow": {
     "slide_type": "skip"
    }
   },
   "source": [
    "Los valores de las *componentes* $w_{ia}$ **dependen de las bases escogida**. En *otras* base $\\ket{ \\tilde e_{1,i}}\\otimes\\ket{\\tilde e_{2,a}}$ encontraremos *otras* componentes $\\tilde w_{ia}$ para el *mismo* vector \n",
    "<br> "
   ]
  },
  {
   "cell_type": "markdown",
   "id": "b0229b6e",
   "metadata": {
    "slideshow": {
     "slide_type": "skip"
    }
   },
   "source": [
    "Si existe una base en la que $\\tilde w_{ia}=0$ para todos los $i,a$ menos para uno (por ejemplo $\\tilde w_{11}\\neq 0$), entonces \n",
    "<br>\n",
    "<br>\n",
    "$$\\ket{w}= \\tilde w_{11}\\ket{\\tilde e_{1,1}}\\otimes \\ket{\\tilde e_{2,1}}$$ \n",
    "<br>\n",
    "y, secretamente, el vector $\\ket{w}$ era factorizable. "
   ]
  },
  {
   "cell_type": "markdown",
   "id": "8a9e7ac3",
   "metadata": {
    "slideshow": {
     "slide_type": "skip"
    }
   },
   "source": [
    "El siguiente teorema nos permite averiguar **cuánto nos podemos acercar a esta situación**\n"
   ]
  },
  {
   "cell_type": "markdown",
   "id": "d71a1812",
   "metadata": {
    "slideshow": {
     "slide_type": "slide"
    }
   },
   "source": [
    "<div class=\"alert alert-block alert-info\",text-align:center>\n",
    "<p style=\"text-align: left ;color: navy;\">  \n",
    "<b>Teorema</b>: ( <i> de Schmidt</i> )\n",
    "<br>\n",
    "<br>\n",
    "para cada vector $\\ket{w}\\in \\Hil_1\\otimes \\Hil_2$, existen sendas  bases  $\\ket{f_{1,i}}$  de $\\Hil_1$ y  $\\ket{f_{2,a}}$  de $\\Hil_2$, tales que, podemos expresar \n",
    "<br>\n",
    "<br>\n",
    "$$\n",
    "\\ket{w} = \\sum_{i=1}^r \\sqrt{\\lambda_i} \\ket{f_{1,i}}\\otimes\\ket{f_{2,i}} \\, ,\n",
    "$$\n",
    "<br>    \n",
    "donde la suma   involucra el <i>mínimo número</i>, $r$, de términos.\n",
    "    \n",
    "</div>"
   ]
  },
  {
   "cell_type": "markdown",
   "id": "039ed843",
   "metadata": {
    "slideshow": {
     "slide_type": "fragment"
    }
   },
   "source": [
    "El número $1\\leq r\\leq {\\rm min}(d_1,d_2)$ es <b>rango</b> de $w$ y  se denomina <i> Número de Schmidt</i>. Es la información relevante  porque \n",
    "\n",
    "-  cuando $r=1$ el estado $\\ket{w}$ será *factorizable*\n",
    "<br>\n",
    "<br>\n",
    "-  si $r\\geq 2$ el estado será *entrelazado*\n",
    "\n"
   ]
  },
  {
   "cell_type": "markdown",
   "id": "bc3b0d93",
   "metadata": {
    "slideshow": {
     "slide_type": "slide"
    }
   },
   "source": [
    "La demostración del teorema de Schmidt se deduce fácilmente a partir de otro resultado matemático importante: la *descomposición en valores singulares* de una matriz. \n",
    "\n",
    "Vamos a ver este teorema en primer lugar"
   ]
  },
  {
   "cell_type": "markdown",
   "id": "2ad43fc4",
   "metadata": {
    "slideshow": {
     "slide_type": "fragment"
    }
   },
   "source": [
    "<div class=\"alert alert-block alert-info\",text-align:center>\n",
    "<p style=\"text-align: left ;color: navy;\">  \n",
    "<b> Teorema de descomposición en valores singulares:  SVD</b>\n",
    "<br>    \n",
    "Sea $A$ una matriz compleja $m\\times n$. Entonces  admite la siguiente forma (descomposición en valores singulares)\n",
    "<br>\n",
    "<br>\n",
    "$$\n",
    "A = U\\Sigma V^{\\dagger} \\, ,\n",
    "$$\n",
    "<br>\n",
    "donde $U$ y $V$ son matrices unitarias $m\\times m$ y $n\\times n$, y  $\\Sigma$ es una matriz diagonal $m\\times n$. \n",
    " </div>"
   ]
  },
  {
   "cell_type": "markdown",
   "id": "219f376e",
   "metadata": {
    "slideshow": {
     "slide_type": "slide"
    }
   },
   "source": [
    "<div class=\"alert alert-block alert-danger\">\n",
    "<b> Prueba:</b>\n",
    "<br>    \n",
    "La prueba se hará por construcción. Tomaremos $m>n$ sin pérdida de generalidad. \n",
    "\n",
    "Por ser $(A^\\dagger A)\\in H(n)$ hermítica tiene $n$ autovalores reales $(A^\\dagger A)\\ket{\\lambda_i} = \\lambda_i\\ket{\\lambda_i}, i=1,...,n$ y no-negativos \n",
    "<br>\n",
    "<br>\n",
    "$$\\lambda_i = \\bra{\\lambda_i}A^\\dagger A \\ket{\\lambda_i} = |A\\ket{\\lambda_i}|^2 \\geq 0.$$  \n",
    "<br>\n",
    "Ordenados   en orden decreciente, \n",
    "habrá  $r$ autovalores no nulos, $\\lambda_1\\geq\\lambda_2 \\geq  ...\\geq \\lambda_r >0 $. \n",
    "<br>    \n",
    "Su raíz cuadrada $\\sqrt{\\lambda_1}\\geq\\sqrt{\\lambda_2} , ...,\\sqrt{\\lambda_r} >0 $ define los denominados  <i> valores singulares </i> del operador $A$.\n",
    "\n",
    "</div>    "
   ]
  },
  {
   "cell_type": "markdown",
   "id": "0e4f7257",
   "metadata": {
    "slideshow": {
     "slide_type": "slide"
    }
   },
   "source": [
    "<div class=\"alert alert-block alert-danger\">\n",
    " Diagonalizando $A^\\dagger A$ obtenemos una base ortonormal $\\ket{\\lambda_i}$. Tomados como vectores columna  podemos formar las siguientes matrices  \n",
    "\n",
    "<br>\n",
    "\\begin{eqnarray}\n",
    "V(n\\times n) &=& \\left(\\rule{0mm}{5mm} \\ket{\\lambda_1},\\ket{\\lambda_2},....,\\ket{\\lambda_r},\\ket{\\lambda_{r+1}},...,\\ket{\\lambda_n}\\right)\n",
    "\\nonumber \\\\ \\rule{0mm}{12mm} \n",
    "\\Sigma(m\\times n) &=&  \\rule{0mm}{10mm} \\left(\n",
    "\\begin{array}{ccccccc} \n",
    "\\sqrt{\\lambda_1} &\\cdots  &    &  & & &  0  \\\\  \\vdots & \\ddots & & & & & \\vdots  \\\\  & & \\sqrt{\\lambda_r} & & & &  \\\\\n",
    "   & &  & 0  & &  &    \\\\ & & & & & \\ddots &  \\\\  0 & &\\cdots  & & & & 0  \\\\ \\vdots & &&&& & \\vdots \\\\ 0 & & \\cdots & & & & 0\n",
    "\\end{array}\n",
    "\\right)\n",
    "\\nonumber \\\\\n",
    "U(m\\times m) &=& \\rule{0mm}{8mm}\\left( \\rule{0mm}{3mm} \\frac{1}{\\sqrt{\\lambda_1}}A\\ket{\\lambda_1}, \\frac{1}{\\sqrt{\\lambda_2}}A\\ket{\\lambda_2}, ...., \n",
    "\\frac{1}{\\sqrt{\\lambda_r}}A\\ket{\\lambda_r}, \\ket{\\mu_{r+1}},...\\ket{\\mu_m} \\right) \\, .\n",
    "\\nonumber \n",
    "\\end{eqnarray}\n",
    "    \n",
    "donde $\\ket{\\mu_{r+1}},...\\ket{\\mu_m}$ completa la base de vectores ortonormales.\n",
    "Ahora podemos operar\n",
    "\\begin{eqnarray}\n",
    "U\\Sigma V^\\dagger &=& \\left( \\rule{0mm}{3mm} \\frac{1}{\\sqrt{\\lambda_1}}A\\ket{\\lambda_1}, \\frac{1}{\\sqrt{\\lambda_2}}A\\ket{\\lambda_2}, ...., \n",
    "\\frac{1}{\\sqrt{\\lambda_r}}A\\ket{\\lambda_r}, \\ket{\\mu_{r+1}},...\\ket{\\mu_m} \\right)\n",
    "\\begin{pmatrix} \\sqrt{\\lambda_1}\\bra{\\lambda_1} \\\\ \\sqrt{\\lambda_2}\\bra{\\lambda_2}  \\\\ \\vdots \\\\ \\sqrt{\\lambda_r}\\bra{\\lambda_r} \\\\ 0 \\\\ \\vdots \\\\ 0 \\end{pmatrix} \\nonumber\\\\\n",
    "&=& A \\sum_{i=1}^r \\ket{\\lambda_i}\\bra{\\lambda_i} = A \\sum_{i=1}^n \\ket{\\lambda_i}\\bra{\\lambda_i} = A\\, , \\nonumber\n",
    "\\end{eqnarray}\n",
    "    \n",
    "donde usamos que $A\\ket{\\lambda_i}=0$ para $i>r$.    \n",
    "    \n",
    "</div>    "
   ]
  },
  {
   "cell_type": "markdown",
   "id": "f0c57251",
   "metadata": {
    "slideshow": {
     "slide_type": "slide"
    }
   },
   "source": [
    "A efectos prácticos, la SVD implica las siguientes igualdades\n",
    "\n",
    "\\begin{align}\n",
    "\n",
    "- La matriz $V$  diagonaliza $A^\\dagger A$. Por tanto, sus columnas son los $n$ autovectores de esta matriz.\n",
    "\n",
    "- La matriz $U$ diagonaliza $A A^\\dagger$. Por tanto, sus columnas son los $m$ autovectores de esta matriz.\n",
    "\n",
    "Esta es una manera eficiente de encontrar las matrices $U$ y $V$. \n",
    "\n"
   ]
  },
  {
   "cell_type": "markdown",
   "id": "570b47ce",
   "metadata": {
    "slideshow": {
     "slide_type": "fragment"
    }
   },
   "source": [
    "A^\\dagger A &= V \\Sigma^\\dagger U U^\\dagger \\Sigma V^\\dagger = V (\\Sigma^\\dagger \\Sigma) V^\\dagger \\\\ \\rule{0mm}{6mm}\n",
    "A A^\\dagger &= U\\Sigma V^\\dagger V \\Sigma^\\dagger U^\\dagger = U (\\Sigma \\Sigma^\\dagger) U^\\dagger\n",
    "\\end{align}\n",
    "\n",
    "Las matrices $\\Sigma^\\dagger \\Sigma = \\hbox{diag}(\\lambda_1,...,\\lambda_r,0...0)_{n\\times n}~$  y  $~\\Sigma \\Sigma^\\dagger = \\hbox{diag}(\\lambda_1,...,\\lambda_r,0...0)_{m\\times m} $ son diagonales. Por tanto, la lectura de estas ecuaciones es la siguiente\n"
   ]
  },
  {
   "cell_type": "markdown",
   "id": "e280368b",
   "metadata": {
    "slideshow": {
     "slide_type": "skip"
    }
   },
   "source": [
    "Notar que el rango de $U$ y $V$ es $r\\leq m \\leq n$. Por tanto, hay una ambigüedad en la elección de los autovectores de $U$ y $V$ asociados a los valores singulares nulos. \n",
    "\n"
   ]
  },
  {
   "cell_type": "markdown",
   "id": "5e6c0312",
   "metadata": {
    "slideshow": {
     "slide_type": "slide"
    }
   },
   "source": [
    "Ahora podemos proceder a la *demostración del Teorema de Schmidt*. Es interesante porque nos da un *método constructivo* para encontrar la descomposición.  Supongamos que nuestro vector se escribe en la forma más general posible\n",
    "\n",
    "$$\n",
    "\\ket{w} = \\sum_{i=1}^{d_2}\\sum_{a=1}^{d_2} w_{ia} \\ket{e_{1,i}}\\otimes \\ket{e_{2,a}}\n",
    "$$\n",
    "\n",
    "La matriz $W$,  de coeficientes $w_{ia}$ tiene  dimension $d_1\\times d_2$. "
   ]
  },
  {
   "cell_type": "markdown",
   "id": "640148f9",
   "metadata": {
    "slideshow": {
     "slide_type": "fragment"
    }
   },
   "source": [
    " Por el  **teorema SVD**  podemos expresar dicha matriz en la forma siguiente\n",
    "<br>\n",
    "\n",
    "$$\n",
    "W = U\\Sigma V^\\dagger ~~~\\Rightarrow ~~~~w_{ia} = \\sum_{j=1}^{d_1}\\sum_{b=1}^{d_2} U_{ij}\\Sigma_{jb}V_{ab}^*\n",
    "$$\n",
    "\n",
    "donde $U$ y $V$ son unitarias $(d_1\\times d_1)$ y $(d_2\\times d_2)$ respectivamente, mientras que $\\Sigma$ es diagonal\n",
    "\n"
   ]
  },
  {
   "cell_type": "markdown",
   "id": "15f505ee",
   "metadata": {
    "slideshow": {
     "slide_type": "slide"
    }
   },
   "source": [
    "$$\n",
    "\\Sigma_{jb} = \n",
    "\\overbrace{\\left.\n",
    "\\begin{bmatrix}\n",
    "\\sqrt{\\lambda_1} &\\cdots  &    &  & & &  0  \\\\  \\vdots & \\ddots & & & & & \\vdots  \\\\  & & \\sqrt{\\lambda_r} & & & &  \\\\\n",
    "   & &  & 0  & &  &    \\\\ & & & & & \\ddots &  \\\\  0 & &\\cdots  & & & & 0  \\\\ \\vdots & &&&& & \\vdots \\\\ 0 & & \\cdots & & & & 0\n",
    "\\end{bmatrix}   \\right\\}  }^{\\displaystyle d_2} \\, d_1 ~~~~~~\\Rightarrow ~~~~~ \\Sigma_{jb} = \\sqrt{\\lambda_j}\\delta_{jb}\n",
    "$$\n",
    "\n",
    "-  $\\lambda_1,...,\\lambda_r >0$ son los autovalores   de la matriz $w^\\dagger w$."
   ]
  },
  {
   "cell_type": "markdown",
   "id": "9d07ae56",
   "metadata": {
    "slideshow": {
     "slide_type": "slide"
    }
   },
   "source": [
    "\n",
    "Esto quiere decir que podemos escribir\n",
    "\n",
    "\\begin{eqnarray}\n",
    "\\ket{w} &=& \\sum_{i=1}^{d_1}\\sum_{a=1}^{d_2}\\left( \\sum_{j=1}^{d_1}\\sum_{b=1}^{d_2} U_{ij}\\Sigma_{jb}V_{ab}^* \\right)\\ket{e_{1,i}}\\otimes \\ket{e_{2,a}}\n",
    "\\\\  \\rule{0mm}{10mm}\n",
    "&=& \\sum_{j=1}^{d_1}\\sum_{b=1}^{d_2}\\Sigma_{jb}\\left( \\sum_{i=1}^{d_1} U_{ij}\\ket{e_{1,i}} \\right)\\otimes  \\left( \\sum_{a=1}^{d_2} V_{ab}^* \\ket{e_{2,a}}\\right)\n",
    "\\\\   \\rule{0mm}{10mm}\n",
    "&=& \\sum_{j=1}^{d_1}\\sum_{b=1}^{d_2}\\sqrt{\\lambda_j}\\, \\delta_{jb} \\ket{f_{1,j}}\\otimes \\ket{f_{2,b}}\\\\   \\rule{0mm}{10mm}\n",
    "&=& \\sum_{j=1}^r \\sqrt{\\lambda_j} \\,  \\ket{f_{1,j}}\\otimes \\ket{f_{2,j}}\n",
    "\\end{eqnarray}"
   ]
  },
  {
   "cell_type": "markdown",
   "id": "ea87a2f7",
   "metadata": {
    "slideshow": {
     "slide_type": "fragment"
    }
   },
   "source": [
    "Por tanto, podemos saber si un *estado bipartito* es entrelazado calculando la descomposición en valores singulares de su matriz de coeficientes en cualquier base. "
   ]
  },
  {
   "cell_type": "markdown",
   "id": "8b28114b",
   "metadata": {
    "slideshow": {
     "slide_type": "slide"
    }
   },
   "source": [
    "La función linalg.svg de numpy nos permite obtener la descomposición SVG"
   ]
  },
  {
   "cell_type": "code",
   "execution_count": 6,
   "id": "7124247a",
   "metadata": {
    "slideshow": {
     "slide_type": "-"
    }
   },
   "outputs": [
    {
     "data": {
      "text/latex": [
       "$$\n",
       "\n",
       "\\begin{bmatrix}\n",
       "1.4947586746 - 0.2087749131 i & -1.1539603946 - 0.7489652657 i & 1.918984111 + 0.7905594114 i  \\\\\n",
       " -0.6724176922 + 0.5209696143 i & 1.0396027813 - 0.7897469747 i & -0.5939273994 + 0.2640781498 i  \\\\\n",
       " -0.8630106503 - 0.5613690805 i & 0.9929197044 - 0.3622792501 i & -2.015012858 + 0.9130792528 i  \\\\\n",
       " 0.0328841436 - 0.591396417 i & 0.3878567086 - 1.0489438638 i & 1.2895708499 + 1.4797739594 i  \\\\\n",
       " \\end{bmatrix}\n",
       "$$"
      ],
      "text/plain": [
       "<IPython.core.display.Latex object>"
      ]
     },
     "metadata": {},
     "output_type": "display_data"
    }
   ],
   "source": [
    "d1=4 # Dimensión de H1\n",
    "d2=3 # Dimensión de H2\n",
    "\n",
    "\n",
    "' generate a random complex matrix '\n",
    "w = np.random.randn(d1,d2)+ np.random.randn(d1,d2) * 1j  # coeficientes w_{ia} de un estado genérico\n",
    "display(array_to_latex(w))\n"
   ]
  },
  {
   "cell_type": "code",
   "execution_count": 7,
   "id": "0adfca00",
   "metadata": {
    "slideshow": {
     "slide_type": "fragment"
    }
   },
   "outputs": [
    {
     "name": "stdout",
     "output_type": "stream",
     "text": [
      "singular values s_i =  [4.404 1.852 1.016]\n",
      "The Schmidt number is r = 3\n"
     ]
    }
   ],
   "source": [
    "from numpy import linalg as la\n",
    "u, s, vh = la.svd(w, full_matrices=True)\n",
    "\n",
    "np.round(s,3)\n",
    "\n",
    "print('singular values s_i = ',np.round(s,3))\n",
    "print('The Schmidt number is r =', np.count_nonzero(s))"
   ]
  },
  {
   "cell_type": "markdown",
   "id": "18765345",
   "metadata": {
    "slideshow": {
     "slide_type": "fragment"
    }
   },
   "source": [
    "Corre la celda anterior muchas veces y mira si consigues encontrar algún caso en que $r<{\\rm min}(d_1,d_2)$"
   ]
  },
  {
   "cell_type": "markdown",
   "id": "e3fef374",
   "metadata": {
    "slideshow": {
     "slide_type": "slide"
    }
   },
   "source": [
    "Veamos ahora el caso particular de un estado factorizable\n"
   ]
  },
  {
   "cell_type": "code",
   "execution_count": 10,
   "id": "1b0877bb",
   "metadata": {
    "slideshow": {
     "slide_type": "slide"
    }
   },
   "outputs": [
    {
     "data": {
      "text/latex": [
       "$$\n",
       "\n",
       "\\begin{bmatrix}\n",
       "-0.419276212 + 0.0284947667 i & -0.1446572644 + 0.2375847878 i & 0.3039733541 + 0.1455251851 i  \\\\\n",
       " -0.0418217971 - 0.3196054325 i & -0.1887796632 - 0.0994004812 i & -0.0968967426 + 0.2396430017 i  \\\\\n",
       " 0.3003117737 + 0.1318087679 i & 0.1859184973 - 0.1120614709 i & -0.1576689401 - 0.2105104389 i  \\\\\n",
       " -0.2347366278 - 0.1523970485 i & -0.1720165271 + 0.0687445177 i & 0.1037627235 + 0.1990130263 i  \\\\\n",
       " 0.1102080316 + 0.0441793898 i & 0.0659616834 - 0.0427243875 i & -0.0595148945 - 0.0743263358 i  \\\\\n",
       " \\end{bmatrix}\n",
       "$$"
      ],
      "text/plain": [
       "<IPython.core.display.Latex object>"
      ]
     },
     "metadata": {},
     "output_type": "display_data"
    }
   ],
   "source": [
    "d1=5\n",
    "d2=3\n",
    "\n",
    "u = tQ.random_ket(d1)\n",
    "v = tQ.random_ket(d2)\n",
    "\n",
    "w = np.outer(u,v)\n",
    "display(array_to_latex(w))"
   ]
  },
  {
   "cell_type": "code",
   "execution_count": 12,
   "id": "62eef781",
   "metadata": {
    "slideshow": {
     "slide_type": "fragment"
    }
   },
   "outputs": [
    {
     "name": "stdout",
     "output_type": "stream",
     "text": [
      "principal values s_i =  [1. 0. 0.]\n",
      "The Schmidt number is p = 1\n"
     ]
    }
   ],
   "source": [
    "u, s, vh = la.svd(w, full_matrices=True)\n",
    "\n",
    "print('principal values s_i = ',np.round(s,3))\n",
    "print('The Schmidt number is p =', np.count_nonzero(np.round(s,3)))"
   ]
  },
  {
   "cell_type": "markdown",
   "id": "3ab4dad0",
   "metadata": {
    "slideshow": {
     "slide_type": "fragment"
    }
   },
   "source": [
    "Podemos correr la celda anterior varias veces y comprobar que nunca obtendremos $r>1$"
   ]
  },
  {
   "cell_type": "markdown",
   "id": "ad5a7080",
   "metadata": {
    "slideshow": {
     "slide_type": "slide"
    }
   },
   "source": [
    "# Producto Tensorial Múltiple"
   ]
  },
  {
   "cell_type": "markdown",
   "id": "fc4a6f79",
   "metadata": {
    "slideshow": {
     "slide_type": "slide"
    }
   },
   "source": [
    "- El producto tensorial se puede generalizar a más de un factor. \n",
    "\n"
   ]
  },
  {
   "cell_type": "markdown",
   "id": "da4e3cb1",
   "metadata": {
    "slideshow": {
     "slide_type": "fragment"
    }
   },
   "source": [
    "\n",
    "- El espacio $ \\Hil_1\\otimes \\Hil_2 ... \\otimes \\Hil_n$ formado por todas las *n-tuplas* ordenadas de vectores \n",
    "<br>\n",
    "<br>\n",
    "$$\\ket{u} = \\ket{u_1u_2...u_n} \\equiv\\ket{u_1}\\otimes\\ket{u_2}\\otimes ...\\otimes \\ket{u_n}$$ \n",
    "<br>\n",
    "donde $\\ket{u_i}\\in \n",
    "\\Hil_i$ y sus combinaciones lineales $\\{ a\\ket{u}+ b\\ket{v} + ...\\}$.\n",
    "\n",
    "<br>\n",
    "\n",
    "- Salvo mención expresa, asumiremos que todos los $\\Hil_j=\\Hil$ son iguales y de dimension $d$. En el contexto de la computación cuántica usual con cúbits $\\Rightarrow \\, d=2$ "
   ]
  },
  {
   "cell_type": "markdown",
   "id": "464d2665",
   "metadata": {
    "slideshow": {
     "slide_type": "skip"
    }
   },
   "source": [
    "<div class=\"alert alert-block alert-success\">\n",
    "<b>Ejercicio:</b> \n",
    "Escribe una función  <i>kronecker($u_1,u_2,...,u_n$)</i> que tome n kets (como vectores columna)  y devuelva su producto de Kronecker múltiple.  \n",
    "</div>"
   ]
  },
  {
   "cell_type": "markdown",
   "id": "ead7df7e",
   "metadata": {
    "slideshow": {
     "slide_type": "slide"
    }
   },
   "source": [
    "## Base de $\\Hil^{\\otimes n}$\n",
    "\n",
    "Una base de $\\Hil^{\\otimes n}$ se obtiene a partir de cadenas \n",
    "<br>\n",
    "<br>\n",
    "$$\\ket{i_1 i_2.... i_n} = \n",
    "\\ket{i_1}\\ket{i_2}  ... \\ket{i_n}$$ \n",
    "<br>\n",
    "donde $i_1,..,i_n=0,...,d-1$. "
   ]
  },
  {
   "cell_type": "markdown",
   "id": "c772ecbf",
   "metadata": {
    "slideshow": {
     "slide_type": "fragment"
    }
   },
   "source": [
    "- El número de posibles cadenas es $d^n$ que  es la dimensión de $\\Hil^{\\otimes n}$\n",
    "\n",
    "\n",
    "$$\n",
    "{\\rm dim}_{\\mathbb C} \\Hil^{\\otimes n} = d^n\n",
    "$$"
   ]
  },
  {
   "cell_type": "markdown",
   "id": "c36c253c",
   "metadata": {
    "slideshow": {
     "slide_type": "slide"
    }
   },
   "source": [
    "- Podemos cambiar de etiqueta \n",
    "<br>\n",
    "\n",
    "$$\\ket{i_1...i_n} \\to \\ket{a}$$ \n",
    "<br>\n",
    "con\n",
    "<br>\n",
    "\n",
    "$$\n",
    "a = i_n + d i_{n-1} + d^2 i_{n-2} \\, +...+ \\,  d^{n-1} i_1\n",
    "$$\n",
    "<br>\n",
    "Claramente $a ~\\in ~(0,d^n-1)$."
   ]
  },
  {
   "cell_type": "code",
   "execution_count": 33,
   "id": "ae2e20e9",
   "metadata": {},
   "outputs": [
    {
     "name": "stdout",
     "output_type": "stream",
     "text": [
      "[[[0.62002418 0.22734163]\n",
      "  [0.41199232 0.77388973]]\n",
      "\n",
      " [[0.43981103 0.01940096]\n",
      "  [0.91561321 0.20558885]]]\n"
     ]
    }
   ],
   "source": [
    "tensor = np.random.rand(2,2,2)\n",
    "tensor.shape\n",
    "\n",
    "print(tensor)\n"
   ]
  },
  {
   "cell_type": "markdown",
   "id": "ddebde6d",
   "metadata": {
    "slideshow": {
     "slide_type": "fragment"
    }
   },
   "source": [
    "-  Si cada base $\\{\\ket{i}\\}$ es ortonormal, tendremos que la *base producto* también lo será\n",
    "<br>\n",
    "\n",
    "$$\n",
    "\\braket{i_1 i_2... i_n}{j_1j_2...j_n} = \\delta_{i_1j_1}\\delta_{i_2j_2}...\\delta_{i_nj_n} ~~~~\\leftrightarrow ~~~~\n",
    "\\braket{a}{b} = \\delta_{ab}\n",
    "$$"
   ]
  },
  {
   "cell_type": "markdown",
   "id": "8170d922",
   "metadata": {
    "slideshow": {
     "slide_type": "slide"
    }
   },
   "source": [
    "\n",
    "\n",
    "## Estado entrelazado general\n",
    "\n",
    "\n",
    "-  Un *vector general* admitirá una expansión en esta base mediante $d^n$ *componentes complejas*\n",
    "$u_{i_1 i_2...i_n}$ en la forma\n",
    "<br>\n",
    "<br>\n",
    "$$\n",
    "\\ket{u} ~~=~ \\sum_{i_1,...,i_n=0}^{d-1} u_{i_1i_2...i_n} \\ket{i_1i_2...i_n} ~~=~\n",
    " \\sum_{a=0}^{d^n-1} u_a\\ket{a}\\, .\n",
    "$$\n"
   ]
  },
  {
   "cell_type": "markdown",
   "id": "db885ab3",
   "metadata": {
    "slideshow": {
     "slide_type": "fragment"
    }
   },
   "source": [
    "\n",
    "Podemos obtener cualquier componente compleja proyectando sobre el elemento correspondiente de la base\n",
    "\n",
    "$$\n",
    "u_{i_1i_2...i_n} = \\braket{i_1 i_2... i_n}{u}~~~~~~\\leftrightarrow~~~~~~~~u_a = \\braket{a}{u}\n",
    "$$\n"
   ]
  },
  {
   "cell_type": "markdown",
   "id": "12ce8ebf",
   "metadata": {
    "slideshow": {
     "slide_type": "slide"
    }
   },
   "source": [
    "<div class=\"alert alert-block alert-info\",text-align:center>\n",
    "<p style=\"text-align: left ;color: navy;\">  \n",
    "<b>Definición:</b>\n",
    "<br>\n",
    "<br>\n",
    "decimos que $u_{i_1i_2...i_n}$ forman las componentes de un <b>tensor de rango</b> $n$\n",
    "<br>\n",
    "<br>\n",
    "</div>\n",
    "<br>\n",
    "\n",
    "Un tensor de rango $n$ tiene  $d^n$ componentes independiente $u_{i_1i_2...i_n}$ que forman las componentes de un estado entrelazado genérico.\n"
   ]
  },
  {
   "cell_type": "markdown",
   "id": "da03dc3b",
   "metadata": {
    "slideshow": {
     "slide_type": "slide"
    }
   },
   "source": [
    "## Estado factorizable\n",
    "\n",
    "Al igual que antes, *sólo en casos muy particulares*, un vector de $\\Hil^{\\otimes n}$ se podrá escribir en forma factorizada\n",
    "<br>\n",
    "<br>\n",
    "$$\n",
    "\\ket{w} = \\ket{v_1}\\ket{v_2}\\ldots\\ket{v_n} \\equiv \\ket{v_1 v_2 \\ldots v_n}\n",
    "$$\n"
   ]
  },
  {
   "cell_type": "markdown",
   "id": "49345ea5",
   "metadata": {
    "slideshow": {
     "slide_type": "fragment"
    }
   },
   "source": [
    "<div class=\"alert alert-block alert-info\",text-align:center>\n",
    "<p style=\"text-align: left ;color: navy;\">  \n",
    "<b>Definición:</b>\n",
    "<br>\n",
    "    un vector es factorizable si y sólo si los coeficientes de su expansión <i>en cualquier base</i> son factorizables\n",
    "<br>\n",
    "<br>\n",
    "$$\n",
    "v_{i_1i_2...i_n}  = v_{i_1} v_{i_2}.... v_{i_n}\n",
    "$$\n",
    "<br>\n",
    "</div>\n",
    "<br>\n",
    "<br>\n",
    "El <i>conjunto de coeficientes</i>\n",
    "está parametrizado por $d +d + ...d = nd$ cantidades $v_{i_k}, \\, i_k=1,...,d, \\, k=1,...,n$."
   ]
  },
  {
   "cell_type": "markdown",
   "id": "65c19010",
   "metadata": {
    "slideshow": {
     "slide_type": "slide"
    }
   },
   "source": [
    "## Estados *Producto de Matrices* *(MPS)*\n",
    "\n"
   ]
  },
  {
   "cell_type": "markdown",
   "id": "3cad2b0e",
   "metadata": {
    "slideshow": {
     "slide_type": "slide"
    }
   },
   "source": [
    "Entre *los dos casos extremos anteriores* encontramos la posibilidad de que las componentes del tensor se puedan escribir como productos, no de números complejos, sino de matrices. \n"
   ]
  },
  {
   "cell_type": "markdown",
   "id": "25790ed0",
   "metadata": {
    "slideshow": {
     "slide_type": "fragment"
    }
   },
   "source": [
    "Por ejemplo, sean \n",
    "$$\n",
    "A_i \\to A_i^{\\alpha\\beta} \n",
    "$$\n",
    "\n",
    "un conjunto de $d$ matrices $i=1,...,d$ de dimension (*local*)  $D\\times D$, $\\alpha = 1,...,D$. \n",
    "\n",
    "Ahora el producto de números se sustituye por el producto de matrices\n",
    "$$\n",
    "A_i A_j ~~\\to~~  \\tr \\,(A_i \\cdot A_j) = \\sum_{\\alpha=1}^D\\sum_{\\gamma=1}^D A_i^{\\alpha\\gamma}A_j^{\\gamma\\alpha} \n",
    "$$\n",
    "\n",
    "Hay  más grados de libertad independientes en la expresión de la derecha $\\to d D^2 \\geq d$. \n",
    "\n",
    "Por tanto, en principio, podemos representar estados que tengan *una cantidad de entrelazamiento*  proporcional a $D$. "
   ]
  },
  {
   "cell_type": "markdown",
   "id": "1a244f80",
   "metadata": {
    "slideshow": {
     "slide_type": "slide"
    }
   },
   "source": [
    "<div class=\"alert alert-block alert-info\">\n",
    "<p style=\"text-align:left;color:navy\"> <b>Definición</b>:\n",
    "<br>\n",
    "<br>\n",
    "    Un estado $\\ket{v}$ es un <b>MPS</b> <i>(Matrix Product State)</i> si sus componentes en cualquier base pueden escribirse como la traza total de un producto de matrices\n",
    "<br>\n",
    "$$\n",
    "v_{i_1 i_2 i_3... i_n} =\\tr \\, ( A_{i_1}\\, A_{i_2}\\, A_{i_3} \\cdots A_{i_n} )\n",
    "$$\n",
    "</d>"
   ]
  },
  {
   "cell_type": "markdown",
   "id": "dd451a1a",
   "metadata": {
    "slideshow": {
     "slide_type": "fragment"
    }
   },
   "source": [
    "Por ejemplo, con $n=4$, $\\ket{v} =  \\sum v_{i_1i_2i_3i_4} \\ket{e_{i_1i_2i_3i_4} }$\n",
    " $$\n",
    "v_{i_1i_2i_3i_4} =  \\sum_{\\alpha\\beta\\gamma\\mu = 1}^DA_{i_1}^{\\mu \\alpha}A_{i_2}^{\\alpha\\beta}A_{i_3}^{\\beta\\gamma}A_{i_4}^{\\gamma\\mu}\n",
    "$$\n",
    "<br>\n",
    "<div>\n",
    "<img src=\"figuras/XTN4.png\" width=\"50%\" style='margin:auto'/>\n",
    "</div>\n",
    "<br>\n",
    "<br>\n"
   ]
  },
  {
   "cell_type": "markdown",
   "id": "973049f9",
   "metadata": {
    "slideshow": {
     "slide_type": "slide"
    }
   },
   "source": [
    "## Redes de tensores \n",
    "\n"
   ]
  },
  {
   "cell_type": "markdown",
   "id": "1abe6f2b",
   "metadata": {
    "slideshow": {
     "slide_type": "fragment"
    }
   },
   "source": [
    "\n",
    "Si queremos aumentar el entrelazamiento del estado podemos, además de aumentar $D$, recurrir a contracciones de índices de tensores de mayor rango. \n",
    "\n",
    "La figura de la derecha se corresponde con la siguiente contracción\n",
    "<br>\n",
    "<br>\n",
    "$$\n",
    "v_{i_1i_2i_3i_4} = \\sum_{\\alpha\\beta\\gamma\\mu\\delta = 1}^D A_{i_1}^{\\mu \\alpha\\delta}A_{i_2}^{\\alpha\\beta}A_{i_3}^{\\beta\\delta\\gamma}A_{i_4}^{\\gamma\\mu}\n",
    "$$\n"
   ]
  },
  {
   "cell_type": "markdown",
   "id": "23a21672",
   "metadata": {
    "slideshow": {
     "slide_type": "slide"
    }
   },
   "source": [
    "En general cualquier componente podrá esconder un número arbitrario de índices contraídos de manera que se pueden representar mediante un grafo con lineas externas. \n",
    "\n",
    "\n",
    "<br>\n",
    "<br>\n",
    "<div>\n",
    "<img src=\"figuras/XTensNet.png\" width=\"50%\" style='margin:auto'/>\n",
    "</div>\n",
    "<br>\n",
    "<br>\n",
    "\n",
    "\n"
   ]
  },
  {
   "cell_type": "markdown",
   "id": "3cc9cc27",
   "metadata": {
    "slideshow": {
     "slide_type": "skip"
    }
   },
   "source": [
    "Los estados MPS, y los estados TN  para una dimensión de enlace local $D$ finita, no son suficientemente expresivos para capturar el máximo entrelazamiento posible en un estado.\n",
    "\n",
    "<br>\n",
    "<br>\n",
    "<div>\n",
    "<img src=\"figuras/XTN_complete.png\" width=\"50%\" style='margin:auto'/>\n",
    "</div>\n",
    "<br>\n",
    "<br>\n"
   ]
  },
  {
   "cell_type": "markdown",
   "id": "7403067d",
   "metadata": {
    "slideshow": {
     "slide_type": "skip"
    }
   },
   "source": [
    "<br>\n",
    "\n",
    "<div class=\"alert alert-block alert-danger\">\n",
    "    <b>Notar:</b> \n",
    "<br>\n",
    "    \n",
    "- $nd \\ll d^n$. El crecimiento exponencial del número de estados entrelazados es el ingrediente crucial para la computación cuántica. Observar que $d^n$ es el <i>número de enteros</i> alcanzables por $n$ bits. Pero en computación cuántica es el <i>número de dimensiones</i> en la que podemos poner $d^n$ amplitudes complejas.  \n",
    "<br>\n",
    "\n",
    "- No existe un criterio general para saber si un estado es, a priori, factorizable o entrelazado. \n",
    "<br>\n",
    "\n",
    "- Además, hay formas de caracterizar matemáticamente el nivel de entrelazamiento (*entanglement witnesses, entanglement monotones* etc.) desde nulo (estado factorizable) hasta maximal.\n",
    "\n",
    "</div>"
   ]
  },
  {
   "cell_type": "markdown",
   "id": "c597d921",
   "metadata": {
    "slideshow": {
     "slide_type": "slide"
    }
   },
   "source": [
    "# Operadores sobre  $\\Hil^{\\otimes n}$\n"
   ]
  },
  {
   "cell_type": "markdown",
   "id": "bfcb699b",
   "metadata": {
    "slideshow": {
     "slide_type": "-"
    }
   },
   "source": [
    "\n",
    "\n",
    "El espacio $\\Hil^{\\otimes n}$ admite, como cualquier espacio vectorial, la acción de *operadores lineales* $A: \\Hil^{\\otimes n} \\to \\Hil^{\\otimes n}$ donde\n",
    "\n",
    "$$\n",
    "A:\\ket{u} \\to \\ket{v} \\equiv A\\ket{u}\n",
    "$$    \n",
    "\n",
    "El conjunto de todos los operadores lineales forman el espacio vectorial $\\Lin(\\Hil^{\\otimes n})$."
   ]
  },
  {
   "cell_type": "markdown",
   "id": "9e33d019",
   "metadata": {
    "slideshow": {
     "slide_type": "slide"
    }
   },
   "source": [
    "## Matrices\n",
    "\n",
    "- A cada operador, $A$, le podemos asociadar una *matriz*, una vez elijamos nuestra base  $\\{ \\ket{i_1 i_2... i_n}\\}$ donde, $i_k = 1,...,d$. \n",
    "<br> \n",
    "<br>\n",
    " \n",
    " \n",
    "- Los *elementos de matriz* ahora vendrán etiquetados por dos *multi-índices*\n",
    "<br>\n",
    "<br>\n",
    " $$\n",
    " A_{i_1...i_n, \\, j_1...j_n} = \\bra{i_1...i_n}A\\ket{j_1...j_n}  ~~~~~\\leftrightarrow ~~~~~~ A_{ab}= \\bra{a}A\\ket{b}\n",
    " $$\n",
    "<br>\n",
    "\n"
   ]
  },
  {
   "cell_type": "markdown",
   "id": "5b4b4413",
   "metadata": {
    "slideshow": {
     "slide_type": "slide"
    }
   },
   "source": [
    "-  Con la matriz, el operador se reconstruye en la base canónica de productos externos\n",
    "<br>\n",
    "\n",
    "\\begin{eqnarray} \n",
    " A &~~=~& \n",
    " \\sum_{i_1,...,i_n,\\, j_1,...,j_n=0}^{d-1} A_{i_1...i_n, \\, j_1...j_n} \\ket{i_1...i_n}\\bra{j_1...j_n}\n",
    " ~~~~=~~~~\n",
    "  \\sum_{a,b=0}^{d^{n}-1} A_{ab} \\ket{a}\\bra{b}\n",
    "\\end{eqnarray}"
   ]
  },
  {
   "cell_type": "markdown",
   "id": "f8a42ede",
   "metadata": {
    "slideshow": {
     "slide_type": "fragment"
    }
   },
   "source": [
    "- En $A_{i_1...i_n,\\,j_1...j_n} = A_{ab}$ hay $d^n\\times d^n = d^{2n}$ grados de libertad. Esta sería la dimensión del espacio  $\\Lin(\\Hil^{\\otimes n})$.\n",
    "<br>\n"
   ]
  },
  {
   "cell_type": "markdown",
   "id": "6431cabb",
   "metadata": {
    "slideshow": {
     "slide_type": "slide"
    }
   },
   "source": [
    "## Producto tensorial de operadores"
   ]
  },
  {
   "cell_type": "markdown",
   "id": "eceed79b",
   "metadata": {
    "slideshow": {
     "slide_type": "slide"
    }
   },
   "source": [
    "En $\\Lin(\\Hil^{\\otimes n})$ hay un análogo de los vectores factorizables de $\\Hil^{\\otimes n}$: los <u>*operadores factorizables*</u>\n"
   ]
  },
  {
   "cell_type": "markdown",
   "id": "9aa24cb3",
   "metadata": {
    "slideshow": {
     "slide_type": "fragment"
    }
   },
   "source": [
    "\n",
    "Supongamos que existen $n$ operadores lineales $A^{(a)}\\, ,\\, a=1,...,n$ definidos sobre cada espacio factor $\\Hil$."
   ]
  },
  {
   "cell_type": "markdown",
   "id": "68e7c0d1",
   "metadata": {
    "slideshow": {
     "slide_type": "fragment"
    }
   },
   "source": [
    "<div class=\"alert alert-block alert-info\">\n",
    "<p style=\"text-align:left;color:navy\"> <b>Definición</b>:\n",
    "<br>\n",
    "La acción del producto tensorial de operadores  $A = A^{(1)}\\otimes A^{(2)} \\otimes ...A^{(n)}$ sobre un vector $\\ket{v} = \\ket{v}_1\\otimes ...\\otimes \\ket{v_n}\\in \\Hil~$   factoriza \n",
    "<br>\n",
    "<br>\n",
    "$$\n",
    "A\\ket{v} = A^{(1)}\\ket{v_1}\\otimes ... \\otimes A^{(n)} \\ket{v_n}\\, .\n",
    "$$\n",
    "<br>\n",
    "</p>\n",
    "</div>\n"
   ]
  },
  {
   "cell_type": "markdown",
   "id": "488e9bdb",
   "metadata": {
    "slideshow": {
     "slide_type": "skip"
    }
   },
   "source": [
    "\n",
    "La acción sobre vectores generales se sigue imponiento linealidad\n",
    "\n",
    "$$\n",
    "A(\\ket{v} + \\ket{w}) = A\\ket{v} + A\\ket{w}\\, .\n",
    "$$\n"
   ]
  },
  {
   "cell_type": "markdown",
   "id": "639d37f3",
   "metadata": {
    "slideshow": {
     "slide_type": "skip"
    }
   },
   "source": [
    "-  El adjunto de un producto tensorial de operadores es el producto de los adjuntos (no se permuta el orden)\n",
    "\n",
    "$$\n",
    "A^\\dagger = A^{(1)\\dagger} \\otimes ... \\otimes A^{(n)\\dagger}\n",
    "$$"
   ]
  },
  {
   "cell_type": "markdown",
   "id": "3660653f",
   "metadata": {
    "slideshow": {
     "slide_type": "skip"
    }
   },
   "source": [
    "-  El producto tensorial de operadores hermíticos es hermítico\n",
    "\n",
    "$$ A^{(a)\\dagger} = A^{(a)} ~~\\Longrightarrow A^{\\dagger} = A $$"
   ]
  },
  {
   "cell_type": "markdown",
   "id": "659181ec",
   "metadata": {
    "slideshow": {
     "slide_type": "skip"
    }
   },
   "source": [
    "- El producto tensorial de operadores unitarios, es unitario\n",
    "\n",
    "$$ A^{(a)\\dagger} = A^{(a)\\, -1} \\,  ~~\\Longrightarrow ~~A^{\\dagger} = A^{-1} $$"
   ]
  },
  {
   "cell_type": "markdown",
   "id": "d706f452",
   "metadata": {
    "slideshow": {
     "slide_type": "slide"
    }
   },
   "source": [
    "<a id='Kronecker_mat'></a>\n",
    "## Producto de Kronecker de matrices"
   ]
  },
  {
   "cell_type": "markdown",
   "id": "f47b2df4",
   "metadata": {
    "slideshow": {
     "slide_type": "slide"
    }
   },
   "source": [
    "¿Cómo será la matriz $A_{i_1...i_n, \\, j_1...j_n}$ de un operador factorizable, $ A = A^{(1)}\\otimes A^{(2)} \\otimes ...A^{(n)}$, en términos de las matrices  $ A^{(a)}_{ij}$ de sus factores?\n"
   ]
  },
  {
   "cell_type": "markdown",
   "id": "3446b977",
   "metadata": {
    "slideshow": {
     "slide_type": "fragment"
    }
   },
   "source": [
    "Vamos a tomar  $n=2$ por simplicidad\n",
    "\\begin{eqnarray}\n",
    "A = A^{(1)}\\otimes  A^{(2)} &=&\\left( \\sum_{i_1i_2}A^{(1)}_{i_1 j_1} \\ket{i_1}\\bra{j_1}\\right)\\left( \\sum_{i_2j_2}A^{(2)}_{i_2 j_2} \\ket{i_2}\\bra{j_2}\\right)\\\\\n",
    "&=& \\sum_{i_1 i_2 , j_1 j_2} A^{(1)}_{i_1 j_1}A^{(2)}_{i_2 j_2}\\ket{i_1 i_2}\\bra{j_1j_2} \\\\\n",
    "&=& \\sum_{i_1 i_2 , j_1 j_2} A_{i_1i_2,\\, j_1j_2}\\ket{i_1 i_2}\\bra{j_1j_2}\n",
    "\\end{eqnarray}\n"
   ]
  },
  {
   "cell_type": "markdown",
   "id": "c3d3bfeb",
   "metadata": {
    "slideshow": {
     "slide_type": "fragment"
    }
   },
   "source": [
    "Vemos que la matriz asociada a $A$ se obtiene  a partir de las matrices de $A^{(a)}$ mediante el  *producto exterior de las matrices*, o *producto de Kronecker*.\n",
    "\n",
    "\n",
    "$$\n",
    "  A_{i_1i_2,\\,j_1j_2} = A^{(1)}_{i_1j_1}A^{(2)}_{i_2 j_2} \n",
    "$$\n"
   ]
  },
  {
   "cell_type": "markdown",
   "id": "0b9a52c7",
   "metadata": {
    "slideshow": {
     "slide_type": "slide"
    }
   },
   "source": [
    "- El método para de **representar** matricialmente el producto de Kronecker de dos matrices $A\\otimes B$ es sencillo. Supongamos que $d=2$ y tenemos un operador producto $A\\otimes B$. Entonces su matriz \n",
    "\n",
    "<br>\n",
    "\n",
    "$$\n",
    "(A\\otimes B)_{ab} = \\begin{pmatrix} A_{00}B & A_{01}B \\\\ A_{10}B & A_{11}B \\end{pmatrix} = \\begin{pmatrix} A_{00}B_{00} & A_{00}B_{01} & A_{01}B_{00} & A_{01}B_{01} \\\\\n",
    "                A_{00}B_{10} & A_{00}B_{11} & A_{01}B_{10} & A_{01}B_{11} \\\\\n",
    "                A_{10}B_{00} & A_{10}B_{01} & A_{11}B_{00} & A_{11}B_{01} \\\\\n",
    "                A_{10}B_{10} & A_{10}B_{11} & A_{11}B_{10} & A_{11}B_{11} \\end{pmatrix}.\n",
    "$$"
   ]
  },
  {
   "cell_type": "markdown",
   "id": "59774885",
   "metadata": {
    "slideshow": {
     "slide_type": "slide"
    }
   },
   "source": [
    "- El producto de Kronecker verifica las siguientes propiedades para dos matrices $A$  y $B$ de dimensiones $d_A$ y $d_B$. \n",
    "<br>\n",
    "<br>\n",
    "\n",
    "\\begin{eqnarray}\n",
    "(A\\otimes B)(C\\otimes D) &=& (AC)\\otimes (BD) \\nonumber\\\\ \\rule{0mm}{6mm}\n",
    "\\tr(A\\otimes B) &=& (\\tr A)(\\tr B) \\nonumber\\\\ \\rule{0mm}{6mm}\n",
    "A\\otimes(B+D) &=& A\\otimes B + A\\otimes D \\nonumber\\\\ \\rule{0mm}{6mm}\n",
    "(A\\otimes B)^\\dagger &=& A^\\dagger\\otimes B^\\dagger \\nonumber\\\\ \\rule{0mm}{6mm}\n",
    "(A\\otimes B)^{-1} &=& A^{-1} \\otimes B^{-1} \\nonumber\\\\ \\rule{0mm}{6mm}\n",
    "\\det (A\\otimes B) &=& (\\det A)^{d_B}(\\det B)^{d_A}\n",
    "\\end{eqnarray}\n",
    "\n",
    "\n",
    "donde $AC$ significa el producto de matrices $A$ y $C$"
   ]
  },
  {
   "cell_type": "markdown",
   "id": "72f70295",
   "metadata": {
    "slideshow": {
     "slide_type": "slide"
    }
   },
   "source": [
    "<div class=\"alert alert-block alert-success\">\n",
    "<b>Ejercicio:</b> \n",
    "\n",
    "1. demuestra estos resultados\n",
    "    \n",
    "2. rescribe la función $kronecker$  para que acepte  dos matrices $A$  y $B$ de dimensiones $d_A$ y $d_B$ y devuelva su producto de Kronecker $A\\otimes B$. Verifica el resultado con la funcion kron de numpy.   Verifica las propiedades anteriores.   \n",
    "    \n",
    "</div>"
   ]
  },
  {
   "cell_type": "markdown",
   "id": "e0066901",
   "metadata": {
    "slideshow": {
     "slide_type": "slide"
    }
   },
   "source": [
    "La generalización a todo $n$ es obvia. El producto de Kronecker de $n$ matrices $ A^{(a)}_{i_aj_a}$ asociadas a operadores $A^{(a)}$ es\n",
    "\n",
    "$$\n",
    " A_{i_1...i_n,\\,j_1...j_n} = A^{(1)}_{i_1j_1}...A^{(n)}_{i_n j_n} \n",
    "$$"
   ]
  },
  {
   "cell_type": "markdown",
   "id": "406b43f7",
   "metadata": {
    "slideshow": {
     "slide_type": "slide"
    }
   },
   "source": [
    "<div class=\"alert alert-block alert-success\">\n",
    "<b>Ejercicio:</b> calcula $\\sigma_1\\otimes \\sigma_2\\otimes \\sigma_3$\n",
    "</div>"
   ]
  },
  {
   "cell_type": "markdown",
   "id": "67fe5e23",
   "metadata": {
    "slideshow": {
     "slide_type": "slide"
    }
   },
   "source": [
    "<br>\n",
    "\n",
    "<div class=\"alert alert-block alert-danger\">\n",
    "    <b>Notar:</b> \n",
    "<br>\n",
    " Observar que en un operador general, la matriz $ A_{i_1...i_n,\\,j_1...j_n}$ tiene $d^n\\times d^n = d^{2n}$ entradas independientes. \n",
    "\n",
    "Sin embargo \n",
    "en un producto de Kronecker $A^{(1)}_{i_1j_1}...A^{(n)}_{i_n j_n}$ sólo hay $nd^2$. \n",
    "    \n",
    "Por tanto, los *operadores factorizables* forman un subconjunto muy pequeño dentro del conjunto de los operadores generales.\n",
    "</div>"
   ]
  },
  {
   "cell_type": "markdown",
   "id": "05fd8d47",
   "metadata": {
    "slideshow": {
     "slide_type": "slide"
    }
   },
   "source": [
    "## Generación de entrelazamiento\n",
    "\n",
    "Supongamos que $\\ket{u} = \\ket{u_1}\\otimes\\ket{u_2}$ es factorizable. \n",
    "\n",
    "-  Si $A=A_1\\otimes A_2$ es un operador factorizable entonces\n",
    "<br>\n",
    "<br>\n",
    "$$\\ket{v} = A\\ket{u} = A_1\\ket{u_1}\\otimes A_2\\ket{u_2} = \\ket{v_1}\\otimes \\ket{v_2}$$ \n",
    "<br>\n",
    "también es factorizable.\n",
    "<br>\n",
    "<br>\n",
    "- Inversamente, la *acción de un operador no factorizable* $A\\neq A_1\\otimes A_2$ genera estados entrelazados\n",
    "<br>\n",
    "<br>\n",
    "$$\n",
    "\\ket{v} = A\\ket{u}  \\neq \\ket{v_1}\\otimes \\ket{v_2}\n",
    "$$\n"
   ]
  },
  {
   "cell_type": "markdown",
   "id": "ca4e47a3",
   "metadata": {
    "slideshow": {
     "slide_type": "fragment"
    }
   },
   "source": [
    "En lenguaje físico, lo que esto quiere decir es que para generar entrelazamiento debe haber *interacción* entre los grados de libertad que residen en $\\Hil_1$ y $\\Hil_2$. Si no hay interacción, estados factorizados seguiran siendo factorizables en el futuro."
   ]
  }
 ],
 "metadata": {
  "celltoolbar": "Slideshow",
  "kernelspec": {
   "display_name": "Python 3 (ipykernel)",
   "language": "python",
   "name": "python3"
  },
  "language_info": {
   "codemirror_mode": {
    "name": "ipython",
    "version": 3
   },
   "file_extension": ".py",
   "mimetype": "text/x-python",
   "name": "python",
   "nbconvert_exporter": "python",
   "pygments_lexer": "ipython3",
   "version": "3.9.18"
  },
  "nbTranslate": {
   "displayLangs": [
    "*"
   ],
   "hotkey": "alt-t",
   "langInMainMenu": true,
   "sourceLang": "en",
   "targetLang": "fr",
   "useGoogleTranslate": true
  },
  "toc": {
   "base_numbering": 1,
   "nav_menu": {},
   "number_sections": true,
   "sideBar": true,
   "skip_h1_title": false,
   "title_cell": "Table of Contents",
   "title_sidebar": "Contents",
   "toc_cell": false,
   "toc_position": {},
   "toc_section_display": true,
   "toc_window_display": false
  },
  "varInspector": {
   "cols": {
    "lenName": 16,
    "lenType": 16,
    "lenVar": 40
   },
   "kernels_config": {
    "python": {
     "delete_cmd_postfix": "",
     "delete_cmd_prefix": "del ",
     "library": "var_list.py",
     "varRefreshCmd": "print(var_dic_list())"
    },
    "r": {
     "delete_cmd_postfix": ") ",
     "delete_cmd_prefix": "rm(",
     "library": "var_list.r",
     "varRefreshCmd": "cat(var_dic_list()) "
    }
   },
   "types_to_exclude": [
    "module",
    "function",
    "builtin_function_or_method",
    "instance",
    "_Feature"
   ],
   "window_display": false
  }
 },
 "nbformat": 4,
 "nbformat_minor": 5
}
