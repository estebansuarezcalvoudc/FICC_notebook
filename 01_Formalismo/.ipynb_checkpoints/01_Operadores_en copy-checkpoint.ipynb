{
 "cells": [
  {
   "cell_type": "code",
   "execution_count": 3,
   "id": "c7bd5d4c",
   "metadata": {
    "slideshow": {
     "slide_type": "-"
    }
   },
   "outputs": [],
   "source": [
    "import numpy as np\n",
    "import scipy.linalg as la\n",
    "from qiskit.visualization import array_to_latex"
   ]
  },
  {
   "cell_type": "markdown",
   "id": "2ad43fc4",
   "metadata": {
    "slideshow": {
     "slide_type": "fragment"
    }
   },
   "source": [
    "<div class=\"alert alert-block alert-info\" text-align=\"center\">\n",
    "<p style=\"text-align: left; color: navy;\">  \n",
    "<b>Singular Value Decomposition Theorem: SVD</b>  \n",
    "<br>    \n",
    "Let $A$ be a complex $m\\times n$ matrix. Then it admits the following form (singular value decomposition)  \n",
    "<br>  \n",
    "<br>  \n",
    "$$\n",
    "A = U \\,\\Sigma\\, V^{\\dagger} \\,,\n",
    "$$  \n",
    "<br>  \n",
    "where $U \\in U(m)$, $V \\in U(n)$ are square unitary matrices and $\\Sigma$ is a rectangular $m \\times n$ matrix with the nonzero singular values $s_1, ..., s_r$ of $A$ on the diagonal, where $r \\leq \\min(m,n)$.\n",
    "</div>\n"
   ]
  },
  {
   "cell_type": "markdown",
   "id": "570b47ce",
   "metadata": {
    "slideshow": {
     "slide_type": "slide"
    }
   },
   "source": [
    "<div class=\"alert alert-block alert-danger\">\n",
    "The following equations hold\n",
    "\n",
    "\\begin{align}\n",
    "A^\\dagger A &= V\\,\\Sigma^\\dagger U\\,U^\\dagger \\Sigma\\,V^\\dagger = V\\,(\\Sigma^\\dagger \\Sigma)\\,V^\\dagger \\\\[6pt]\n",
    "A A^\\dagger &= U\\,\\Sigma V^\\dagger V\\,\\Sigma^\\dagger U^\\dagger = U\\,(\\Sigma \\Sigma^\\dagger)\\,U^\\dagger\n",
    "\\end{align}\n",
    "\n",
    "or equivalently\n",
    "\n",
    "$$\n",
    "\\Sigma^\\dagger \\Sigma  = V^\\dagger A^\\dagger A V\n",
    "\\quad,\\quad\n",
    "\\Sigma \\Sigma^\\dagger = U^\\dagger A A^\\dagger U\n",
    "$$\n",
    "\n",
    "The matrices\n",
    "\n",
    "$$\n",
    "\\Sigma \\Sigma^\\dagger = \\mathrm{diag}(\\lambda_1,\\dots,\\lambda_r,0,\\dots,0)_{\\,m\\times m}\n",
    "\\quad,\\quad\n",
    "\\Sigma^\\dagger \\Sigma = \\mathrm{diag}(\\lambda_1,\\dots,\\lambda_r,0,\\dots,0)_{\\,n\\times n}\n",
    "$$\n",
    "\n",
    "are diagonal. Therefore:\n",
    "\n",
    "- The matrix $V$ diagonalizes $A^\\dagger A$. Hence its columns are the $n$ eigenvectors of $A^\\dagger A$.\n",
    "- The matrix $U$ diagonalizes $A A^\\dagger$. Hence its columns are the $m$ eigenvectors of $A A^\\dagger$.\n",
    "\n",
    "This is an efficient way to find the matrices $U$ and $V$.\n",
    "\n",
    "Notice that any $\\tilde V = VD$ and $\\tilde U = UF$ such that\n",
    "\n",
    "$$\n",
    "D^\\dagger \\Sigma^\\dagger \\Sigma D = \\Sigma^\\dagger \\Sigma~~~~,~~~~~\n",
    "F^\\dagger \\Sigma \\Sigma^\\dagger  F = \\Sigma \\Sigma^\\dagger \n",
    "$$\n",
    "will lead to a different solution of the form \n",
    "$$\n",
    "\\Sigma^\\dagger \\Sigma  = \\tilde V^\\dagger A^\\dagger A \\tilde V\n",
    "\\quad,\\quad\n",
    "\\Sigma \\Sigma^\\dagger = \\tilde U^\\dagger A A^\\dagger \\tilde U\n",
    "$$\n",
    "Now\n",
    "$$\n",
    "A = \\tilde U \\Sigma \\tilde V^\\dagger = UD\\Sigma F^\\dagger V^\\dagger\n",
    "$$\n",
    "\n",
    "</div>\n"
   ]
  },
  {
   "cell_type": "code",
   "execution_count": 5,
   "id": "dbd4c215",
   "metadata": {
    "slideshow": {
     "slide_type": "slide"
    }
   },
   "outputs": [
    {
     "data": {
      "text/latex": [
       "$$\n",
       "A=\n",
       "\\begin{bmatrix}\n",
       "0.0635182089 + 0.9858055732 i & 0.5891401825 + 1.2725746854 i & 0.6550345747 - 0.8316450323 i  \\\\\n",
       " -0.0298219411 + 1.1141220731 i & -0.4127641358 - 1.3611976548 i & -3.632331279 - 0.3777195399 i  \\\\\n",
       " \\end{bmatrix}\n",
       "$$"
      ],
      "text/plain": [
       "<IPython.core.display.Latex object>"
      ]
     },
     "metadata": {},
     "output_type": "display_data"
    },
    {
     "name": "stdout",
     "output_type": "stream",
     "text": [
      "the shape of A is : (2, 3)\n",
      "the shape of u = (2, 2)  s = (2,)  v = (3, 3)\n"
     ]
    }
   ],
   "source": [
    "'NumPy has the `svd` function to perform singular value decomposition.'\n",
    "m=2\n",
    "n=3\n",
    "\n",
    "'define a random matrix A so perform the svd on it'\n",
    "A = np.matrix(np.random.randn(m,n)+ 1j*np.random.randn(m,n))\n",
    "display(array_to_latex(A,prefix='A='))\n",
    "print( 'the shape of A is :', A.shape)\n",
    "\n",
    "\n",
    "u, s, vh = la.svd(A, full_matrices=True)\n",
    "\n",
    "print( 'the shape of u =',u.shape, ' s =', s.shape,' v =', vh.shape)"
   ]
  },
  {
   "cell_type": "code",
   "execution_count": 7,
   "id": "1e4e77d3",
   "metadata": {
    "slideshow": {
     "slide_type": "slide"
    }
   },
   "outputs": [
    {
     "data": {
      "text/latex": [
       "$$\n",
       "U=\n",
       "\\begin{bmatrix}\n",
       "-0.3078471676 & -0.951435821  \\\\\n",
       " 0.6181615056 + 0.7232610002 i & -0.2000127223 - 0.2340187803 i  \\\\\n",
       " \\end{bmatrix}\n",
       "$$"
      ],
      "text/plain": [
       "<IPython.core.display.Latex object>"
      ]
     },
     "metadata": {},
     "output_type": "display_data"
    },
    {
     "data": {
      "text/latex": [
       "$$\n",
       "S=\n",
       "\\begin{bmatrix}\n",
       "4.2506586507 & 0 & 0  \\\\\n",
       " 0 & 1.6114830637 & 0  \\\\\n",
       " \\end{bmatrix}\n",
       "$$"
      ],
      "text/plain": [
       "<IPython.core.display.Latex object>"
      ]
     },
     "metadata": {},
     "output_type": "display_data"
    },
    {
     "data": {
      "text/latex": [
       "$$\n",
       "V=\n",
       "\\begin{bmatrix}\n",
       "0.1806337397 - 0.0957025734 i & -0.195592636 + 0.7246419427 i & -0.3836095514 - 0.4976884138 i  \\\\\n",
       " -0.3343061229 + 0.2198864645 i & -0.09893072 + 0.6423343037 i & 0.4501583753 + 0.4635365692 i  \\\\\n",
       " -0.6399496988 - 0.6233507933 i & 0.1189479303 - 0.0104077122 i & 0.2409204832 - 0.3599980024 i  \\\\\n",
       " \\end{bmatrix}\n",
       "$$"
      ],
      "text/plain": [
       "<IPython.core.display.Latex object>"
      ]
     },
     "metadata": {},
     "output_type": "display_data"
    },
    {
     "data": {
      "text/latex": [
       "$$\n",
       "S S^{\\dagger} =\n",
       "\\begin{bmatrix}\n",
       "18.06809896 & 0  \\\\\n",
       " 0 & 2.59687766  \\\\\n",
       " \\end{bmatrix}\n",
       "$$"
      ],
      "text/plain": [
       "<IPython.core.display.Latex object>"
      ]
     },
     "metadata": {},
     "output_type": "display_data"
    },
    {
     "data": {
      "text/latex": [
       "$$\n",
       "S^{\\dagger}S =\n",
       "\\begin{bmatrix}\n",
       "18.06809896 & 0 & 0  \\\\\n",
       " 0 & 2.59687766 & 0  \\\\\n",
       " 0 & 0 & 0  \\\\\n",
       " \\end{bmatrix}\n",
       "$$"
      ],
      "text/plain": [
       "<IPython.core.display.Latex object>"
      ]
     },
     "metadata": {},
     "output_type": "display_data"
    }
   ],
   "source": [
    "' let us visualize the matrices U and V, for S we will need to pad with 0s'\n",
    "U=np.matrix(u)\n",
    "S= np.zeros((m, n))\n",
    "np.fill_diagonal(S,s)\n",
    "S = np.matrix(S)\n",
    "V=np.matrix(vh).getH()\n",
    "\n",
    "display(array_to_latex(U,prefix='U='))\n",
    "display(array_to_latex(S,prefix='S='))\n",
    "display(array_to_latex(V,prefix='V='))\n",
    "\n",
    "display(array_to_latex(np.round(S@S.getH(),8),prefix='S S^{\\dagger} ='))\n",
    "display(array_to_latex(np.round(S.getH()@S,8),prefix='S^{\\dagger}S ='))\n",
    "\n",
    "#'''Verifiquemos unitariedad'''\n",
    "#display(array_to_latex(np.dot(V.getH(),V),prefix='V^{\\dagger}V ='))\n",
    "#display(array_to_latex(np.dot(U.getH(),U),prefix='U^{\\dagger}U ='))\n"
   ]
  },
  {
   "cell_type": "code",
   "execution_count": 9,
   "id": "3ba824f0",
   "metadata": {
    "slideshow": {
     "slide_type": "slide"
    }
   },
   "outputs": [
    {
     "data": {
      "text/plain": [
       "True"
      ]
     },
     "execution_count": 9,
     "metadata": {},
     "output_type": "execute_result"
    }
   ],
   "source": [
    "'Perform the multiplication to chet that A =  U * S * V^dagger'\n",
    "A_recons = U @ S @ V.getH()\n",
    "\n",
    "'Display the result'\n",
    "#display(array_to_latex(A_reconstructed, prefix='U S V^\\\\dagger = '))\n",
    "\n",
    "np.allclose(A, A_recons)\n"
   ]
  },
  {
   "cell_type": "code",
   "execution_count": 11,
   "id": "f0945363",
   "metadata": {
    "slideshow": {
     "slide_type": "slide"
    }
   },
   "outputs": [
    {
     "data": {
      "text/latex": [
       "$$\n",
       "\\lambda_{AdA} = \n",
       "\\begin{bmatrix}\n",
       "18.0680989649 & 2.5968776647 & 0  \\\\\n",
       " \\end{bmatrix}\n",
       "$$"
      ],
      "text/plain": [
       "<IPython.core.display.Latex object>"
      ]
     },
     "metadata": {},
     "output_type": "display_data"
    },
    {
     "data": {
      "text/latex": [
       "$$\n",
       "V_{AdA} = \n",
       "\\begin{bmatrix}\n",
       "-0.0626174117 + 0.1945933972 i & 0.7505747294 & -0.6242859519 - 0.0715338756 i  \\\\\n",
       " 0.0860484369 - 0.3907765443 i & 0.6459216904 - 0.0718736035 i & 0.6461491421  \\\\\n",
       " 0.8933654507 & -0.0410448192 - 0.1121260604 i & -0.090412355 - 0.423635276 i  \\\\\n",
       " \\end{bmatrix}\n",
       "$$"
      ],
      "text/plain": [
       "<IPython.core.display.Latex object>"
      ]
     },
     "metadata": {},
     "output_type": "display_data"
    },
    {
     "data": {
      "text/latex": [
       "$$\n",
       "V_{AdA}^{\\dagger} (A^\\dagger A) V_{AdA} =\n",
       "\\begin{bmatrix}\n",
       "18.0680989649 & 0 & 0  \\\\\n",
       " 0 & 2.5968776647 & 0  \\\\\n",
       " 0 & 0 & 0  \\\\\n",
       " \\end{bmatrix}\n",
       "$$"
      ],
      "text/plain": [
       "<IPython.core.display.Latex object>"
      ]
     },
     "metadata": {},
     "output_type": "display_data"
    },
    {
     "data": {
      "text/latex": [
       "$$\n",
       "S^{\\dagger} S =\n",
       "\\begin{bmatrix}\n",
       "18.0680989649 & 0 & 0  \\\\\n",
       " 0 & 2.5968776647 & 0  \\\\\n",
       " 0 & 0 & 0  \\\\\n",
       " \\end{bmatrix}\n",
       "$$"
      ],
      "text/plain": [
       "<IPython.core.display.Latex object>"
      ]
     },
     "metadata": {},
     "output_type": "display_data"
    }
   ],
   "source": [
    "'let us do it by hand. First we diagonalize A^\\dagger A'\n",
    "\n",
    "AdA = A.getH()@A\n",
    "#display(array_to_latex(AdA,prefix='A^{\\dagger}A = '))\n",
    "\n",
    "'it is important to sort the eigenvalues in descending order'\n",
    "eigvals_AdA, eigvecs_AdA = np.linalg.eig(AdA)\n",
    "idx = eigvals_AdA.argsort()[::-1] \n",
    "eigvals_AdA, eigvecs_AdA = eigvals_AdA[idx], eigvecs_AdA[:, idx]\n",
    "\n",
    "'check that the eigenvalues are the same as those of S^\\dagger S before'\n",
    "display(array_to_latex(eigvals_AdA, prefix='\\lambda_{AdA} = '))\n",
    "\n",
    "'the matrix V_AdA is the matrix of eigenvectors of A^{\\dagger}A '\n",
    "V_AdA = np.matrix(eigvecs_AdA)\n",
    "display(array_to_latex(V_AdA, prefix='V_{AdA} = '))\n",
    "\n",
    "'check'\n",
    "display(array_to_latex(V_AdA.getH()@ AdA @ V_AdA,prefix='V_{AdA}^{\\dagger} (A^\\dagger A) V_{AdA} ='))\n",
    "display(array_to_latex(S.getH()@ S,prefix='S^{\\dagger} S ='))"
   ]
  },
  {
   "cell_type": "code",
   "execution_count": 12,
   "id": "ca955afc",
   "metadata": {
    "slideshow": {
     "slide_type": "slide"
    }
   },
   "outputs": [
    {
     "data": {
      "text/latex": [
       "$$\n",
       "\\lambda_{AAd} = \n",
       "\\begin{bmatrix}\n",
       "18.0680989649 & 2.5968776647  \\\\\n",
       " \\end{bmatrix}\n",
       "$$"
      ],
      "text/plain": [
       "<IPython.core.display.Latex object>"
      ]
     },
     "metadata": {},
     "output_type": "display_data"
    },
    {
     "data": {
      "text/latex": [
       "$$\n",
       "U_{AAd} = \n",
       "\\begin{bmatrix}\n",
       "-0.2000127223 + 0.2340187803 i & 0.951435821  \\\\\n",
       " 0.951435821 & 0.2000127223 + 0.2340187803 i  \\\\\n",
       " \\end{bmatrix}\n",
       "$$"
      ],
      "text/plain": [
       "<IPython.core.display.Latex object>"
      ]
     },
     "metadata": {},
     "output_type": "display_data"
    },
    {
     "data": {
      "text/latex": [
       "$$\n",
       "U_{AAd}^{\\dagger} (A A^\\dagger) U_{AAd} =\n",
       "\\begin{bmatrix}\n",
       "18.0680989649 & 0  \\\\\n",
       " 0 & 2.5968776647  \\\\\n",
       " \\end{bmatrix}\n",
       "$$"
      ],
      "text/plain": [
       "<IPython.core.display.Latex object>"
      ]
     },
     "metadata": {},
     "output_type": "display_data"
    },
    {
     "data": {
      "text/latex": [
       "$$\n",
       "U^{\\dagger} (A A^\\dagger) U =\n",
       "\\begin{bmatrix}\n",
       "18.0680989649 & 0  \\\\\n",
       " 0 & 2.5968776647  \\\\\n",
       " \\end{bmatrix}\n",
       "$$"
      ],
      "text/plain": [
       "<IPython.core.display.Latex object>"
      ]
     },
     "metadata": {},
     "output_type": "display_data"
    },
    {
     "data": {
      "text/latex": [
       "$$\n",
       "S S^{\\dagger}=\n",
       "\\begin{bmatrix}\n",
       "18.0680989649 & 0  \\\\\n",
       " 0 & 2.5968776647  \\\\\n",
       " \\end{bmatrix}\n",
       "$$"
      ],
      "text/plain": [
       "<IPython.core.display.Latex object>"
      ]
     },
     "metadata": {},
     "output_type": "display_data"
    }
   ],
   "source": [
    "'to find U we diagonalize A A^\\dagger'\n",
    "AAd=  A@A.getH()\n",
    "\n",
    "'it is important to sort the eigenvalues in descending order'\n",
    "eigvals_AAd, eigvecs_AAd = np.linalg.eig(AAd)\n",
    "idx = eigvals_AAd.argsort()[::-1] \n",
    "eigvals_AAd, eigvecs_AAd = eigvals_AAd[idx], eigvecs_AAd[:, idx]\n",
    "\n",
    "'check that the eigenvalues are the same as those of S^\\dagger S before'\n",
    "display(array_to_latex(eigvals_AAd, prefix='\\lambda_{AAd} = '))\n",
    "\n",
    "'the matrix U_AdA is the matrix of eigenvectors of A A^{\\dagger}'\n",
    "U_AAd = np.matrix(eigvecs_AAd)\n",
    "display(array_to_latex(U_AAd, prefix='U_{AAd} = '))\n",
    "\n",
    "'check'\n",
    "display(array_to_latex(U_AAd.getH()@ AAd @ U_AAd,prefix='U_{AAd}^{\\dagger} (A A^\\dagger) U_{AAd} ='))\n",
    "display(array_to_latex(U.getH()@ AAd @ U,prefix='U^{\\dagger} (A A^\\dagger) U ='))\n",
    "\n",
    "display(array_to_latex(S@S.getH(),prefix='S S^{\\dagger}='))"
   ]
  },
  {
   "cell_type": "code",
   "execution_count": 14,
   "id": "cfe902fc",
   "metadata": {
    "slideshow": {
     "slide_type": "slide"
    }
   },
   "outputs": [
    {
     "data": {
      "text/latex": [
       "$$\n",
       "U_{AAd} S V_{AdA}^\\dagger = \n",
       "\\begin{bmatrix}\n",
       "1.3976033158 + 0.1031528792 i & 0.5284659492 - 0.1364391292 i & -0.8224574767 + 1.0605751685 i  \\\\\n",
       " -0.0113160653 - 0.5039255249 i & 0.5290864115 + 1.8471441323 i & 3.5574602515 + 0.0206614368 i  \\\\\n",
       " \\end{bmatrix}\n",
       "$$"
      ],
      "text/plain": [
       "<IPython.core.display.Latex object>"
      ]
     },
     "metadata": {},
     "output_type": "display_data"
    },
    {
     "data": {
      "text/latex": [
       "$$\n",
       "A = \n",
       "\\begin{bmatrix}\n",
       "0.0635182089 + 0.9858055732 i & 0.5891401825 + 1.2725746854 i & 0.6550345747 - 0.8316450323 i  \\\\\n",
       " -0.0298219411 + 1.1141220731 i & -0.4127641358 - 1.3611976548 i & -3.632331279 - 0.3777195399 i  \\\\\n",
       " \\end{bmatrix}\n",
       "$$"
      ],
      "text/plain": [
       "<IPython.core.display.Latex object>"
      ]
     },
     "metadata": {},
     "output_type": "display_data"
    },
    {
     "data": {
      "text/plain": [
       "False"
      ]
     },
     "execution_count": 14,
     "metadata": {},
     "output_type": "execute_result"
    }
   ],
   "source": [
    "'Finally we perform the multiplication U_AAd * S * V_AdA^dagger'\n",
    "A_recons2 = U_AAd @ S @ V_AdA.getH()\n",
    "\n",
    "'Display the result'\n",
    "display(array_to_latex(A_recons2, prefix='U_{AAd} S V_{AdA}^\\\\dagger = '))\n",
    "\n",
    "'the result fails to give the correct A'\n",
    "display(array_to_latex(A, prefix='A = '))\n",
    "np.allclose(A, A_recons2)\n"
   ]
  },
  {
   "cell_type": "code",
   "execution_count": 15,
   "id": "04ed6993",
   "metadata": {
    "slideshow": {
     "slide_type": "slide"
    }
   },
   "outputs": [
    {
     "data": {
      "text/latex": [
       "$$\n",
       "D = U_{AAd}^{\\dagger}U  =\n",
       "\\begin{bmatrix}\n",
       "0.6497143496 - 0.7601784421 i & 0  \\\\\n",
       " 0 & -1  \\\\\n",
       " \\end{bmatrix}\n",
       "$$"
      ],
      "text/plain": [
       "<IPython.core.display.Latex object>"
      ]
     },
     "metadata": {},
     "output_type": "display_data"
    },
    {
     "data": {
      "text/latex": [
       "$$\n",
       "D S S^{\\dagger}D^\\dagger - S S^{\\dagger} =\n",
       "\\begin{bmatrix}\n",
       "0 & 0  \\\\\n",
       " 0 & 0  \\\\\n",
       " \\end{bmatrix}\n",
       "$$"
      ],
      "text/plain": [
       "<IPython.core.display.Latex object>"
      ]
     },
     "metadata": {},
     "output_type": "display_data"
    }
   ],
   "source": [
    "'The matrices U and U_AAd differ by a diagonal matrix D'\n",
    "D = U.getH()@U_AAd\n",
    "\n",
    "display(array_to_latex(D,prefix='D = U_{AAd}^{\\dagger}U  ='))\n",
    "\n",
    "\n",
    "'such that D S S^+ D^+ = S S^+'\n",
    "display(array_to_latex(D@S@S.getH()@D.getH() - S@S.getH(),prefix='D S S^{\\dagger}D^\\dagger - S S^{\\dagger} ='))\n"
   ]
  },
  {
   "cell_type": "code",
   "execution_count": 16,
   "id": "46e527a3",
   "metadata": {
    "slideshow": {
     "slide_type": "slide"
    }
   },
   "outputs": [
    {
     "data": {
      "text/latex": [
       "$$\n",
       "F = V_{AdA}^{\\dagger} V =\n",
       "\\begin{bmatrix}\n",
       "-0.7163358492 + 0.6977556529 i & 0 & 0  \\\\\n",
       " 0 & -0.2605904893 - 0.9654494274 i & 0  \\\\\n",
       " 0 & 0 & 0.696678748 - 0.7173832463 i  \\\\\n",
       " \\end{bmatrix}\n",
       "$$"
      ],
      "text/plain": [
       "<IPython.core.display.Latex object>"
      ]
     },
     "metadata": {},
     "output_type": "display_data"
    },
    {
     "data": {
      "text/latex": [
       "$$\n",
       "F S^{\\dagger}S F^\\dagger - F^{\\dagger}F =\n",
       "\\begin{bmatrix}\n",
       "0 & 0 & 0  \\\\\n",
       " 0 & 0 & 0  \\\\\n",
       " 0 & 0 & 0  \\\\\n",
       " \\end{bmatrix}\n",
       "$$"
      ],
      "text/plain": [
       "<IPython.core.display.Latex object>"
      ]
     },
     "metadata": {},
     "output_type": "display_data"
    }
   ],
   "source": [
    "'The matrices V and V_AdA  differ by a diagonal matrix F'\n",
    "F = V.getH()@V_AdA\n",
    "\n",
    "display(array_to_latex(F,prefix='F = V_{AdA}^{\\dagger} V ='))\n",
    "\n",
    "'such that F S^+ S D^+ = S^+ S'\n",
    "display(array_to_latex(F@S.getH()@S@F.getH() -S.getH()@S,prefix='F S^{\\dagger}S F^\\dagger - F^{\\dagger}F ='))\n"
   ]
  },
  {
   "cell_type": "code",
   "execution_count": 18,
   "id": "eeb4766b",
   "metadata": {
    "slideshow": {
     "slide_type": "slide"
    }
   },
   "outputs": [
    {
     "data": {
      "text/latex": [
       "$$\n",
       "D S F^\\dagger - S  =\n",
       "\\begin{bmatrix}\n",
       "-8.4836026202 + 0.387665211 i & 0 & 0  \\\\\n",
       " 0 & -1.1915459036 - 1.5558054011 i & 0  \\\\\n",
       " \\end{bmatrix}\n",
       "$$"
      ],
      "text/plain": [
       "<IPython.core.display.Latex object>"
      ]
     },
     "metadata": {},
     "output_type": "display_data"
    }
   ],
   "source": [
    "'however we do not get that U_AAd S V_AdA^+ = U  S V^+ because DSF^+ is not equal to S'\n",
    "display(array_to_latex(D@S@F.getH() - S,prefix='D S F^\\dagger - S  ='))\n"
   ]
  }
 ],
 "metadata": {
  "celltoolbar": "Slideshow",
  "kernelspec": {
   "display_name": "Python 3 (ipykernel)",
   "language": "python",
   "name": "python3"
  },
  "language_info": {
   "codemirror_mode": {
    "name": "ipython",
    "version": 3
   },
   "file_extension": ".py",
   "mimetype": "text/x-python",
   "name": "python",
   "nbconvert_exporter": "python",
   "pygments_lexer": "ipython3",
   "version": "3.12.3"
  },
  "nbTranslate": {
   "displayLangs": [
    "*"
   ],
   "hotkey": "alt-t",
   "langInMainMenu": true,
   "sourceLang": "en",
   "targetLang": "fr",
   "useGoogleTranslate": true
  },
  "toc": {
   "base_numbering": 1,
   "nav_menu": {},
   "number_sections": true,
   "sideBar": true,
   "skip_h1_title": false,
   "title_cell": "Table of Contents",
   "title_sidebar": "Contents",
   "toc_cell": false,
   "toc_position": {
    "height": "calc(100% - 180px)",
    "left": "10px",
    "top": "150px",
    "width": "310.33px"
   },
   "toc_section_display": true,
   "toc_window_display": false
  },
  "varInspector": {
   "cols": {
    "lenName": 16,
    "lenType": 16,
    "lenVar": 40
   },
   "kernels_config": {
    "python": {
     "delete_cmd_postfix": "",
     "delete_cmd_prefix": "del ",
     "library": "var_list.py",
     "varRefreshCmd": "print(var_dic_list())"
    },
    "r": {
     "delete_cmd_postfix": ") ",
     "delete_cmd_prefix": "rm(",
     "library": "var_list.r",
     "varRefreshCmd": "cat(var_dic_list()) "
    }
   },
   "types_to_exclude": [
    "module",
    "function",
    "builtin_function_or_method",
    "instance",
    "_Feature"
   ],
   "window_display": false
  }
 },
 "nbformat": 4,
 "nbformat_minor": 5
}
