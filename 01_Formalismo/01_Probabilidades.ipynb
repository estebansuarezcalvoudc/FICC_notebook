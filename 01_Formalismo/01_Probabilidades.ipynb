{
 "cells": [
  {
   "cell_type": "markdown",
   "id": "81b93ecd",
   "metadata": {
    "slideshow": {
     "slide_type": "slide"
    }
   },
   "source": [
    "<img   src=\"../figuras/logos/Logo TalentQ Azul.png\" align=right  width=\"12%\"/>\n",
    "<br>\n",
    "\n",
    "<table width=\"100%\"><td style=\"font-size:40px;font-style:italic;text-align:left;background-color:rgba(0, 220, 170,0.7)\">\n",
    "Probabilidades \n",
    "</td></table>\n",
    "$ \\newcommand{\\bra}[1]{\\langle #1|} $\n",
    "$ \\newcommand{\\ket}[1]{|#1\\rangle} $\n",
    "$ \\newcommand{\\braket}[2]{\\langle #1|#2\\rangle} $\n",
    "$ \\newcommand{\\i}{{\\color{blue} i}} $ \n",
    "$ \\newcommand{\\Hil}{{\\mathbb H}} $\n",
    "\n"
   ]
  },
  {
   "cell_type": "code",
   "execution_count": null,
   "id": "c80a8f6f",
   "metadata": {
    "slideshow": {
     "slide_type": "slide"
    }
   },
   "outputs": [],
   "source": [
    "import sys\n",
    "sys.path.append('../')\n",
    "import macro_tQ as tQ\n",
    "\n",
    "import numpy as np\n",
    "import scipy.linalg as la\n",
    "from IPython.display import display,Markdown,Latex\n",
    "import matplotlib.pyplot as plt\n",
    "from qiskit.tools.visualization import array_to_latex\n",
    "import copy "
   ]
  },
  {
   "cell_type": "markdown",
   "id": "9717c5f5",
   "metadata": {
    "slideshow": {
     "slide_type": "slide"
    }
   },
   "source": [
    "# Variables aleatorias"
   ]
  },
  {
   "cell_type": "markdown",
   "id": "1b4b550e",
   "metadata": {
    "slideshow": {
     "slide_type": "slide"
    }
   },
   "source": [
    "Denotamos con $(X,p(X))$ una  *variable aleatoria* donde\n",
    "\n",
    "- $X$ es el espacio muestral de valores $\\{x_1, x_2,....,x_n\\}$ que pueden aparecer en una *consulta* la variable aleatoria\n",
    "\n",
    "\n",
    "- $p(X)$ es la *distribución de probabilidad* "
   ]
  },
  {
   "cell_type": "markdown",
   "id": "5eab42d4",
   "metadata": {
    "slideshow": {
     "slide_type": "fragment"
    }
   },
   "source": [
    "## Distribución de probabilidad\n",
    "\n",
    "Una distribución de probabilidad es una función real $x\\to p(x)$ que debe  verificar las dos condiciones siguientes\n",
    "\n",
    "$$\n",
    "p(x) \\in [0,1]~~~~~~~,~~~~~~~~\\sum_{x\\in X }p(x) = 1 \n",
    "$$\n",
    "Es decir, la suma de probabilidades de todos los sucesos posibles debe ser la unidad."
   ]
  },
  {
   "cell_type": "markdown",
   "id": "860e09fd",
   "metadata": {
    "slideshow": {
     "slide_type": "slide"
    }
   },
   "source": [
    "- **Media**: la *media* de una variable aleatoria  viene dada por la expresión \n",
    "\n",
    "$$\n",
    "\\overline X  = \\sum_i x_i p(x_i)\n",
    "$$"
   ]
  },
  {
   "cell_type": "markdown",
   "id": "7a21db9d",
   "metadata": {
    "slideshow": {
     "slide_type": "fragment"
    }
   },
   "source": [
    "- **Varianza**: la *varianza*, $\\sigma_X^2$, es la  *media de la desviación cuadrática* $\\overline{(x_i - \\overline{X} )^2}$ \n",
    "<br>\n",
    "<br>\n",
    "$$ \n",
    "\\sigma^2_X = \\sum_j (x_j-\\overline{X})^2 p(x_j) = \\overline{X^2} - \\overline{X}^2\n",
    "$$\n",
    "<br>\n",
    "La cantidad $\\sigma_X$ se denomina  <i>desviación estándar</i>\n",
    "$$\n",
    "\\sigma_X = \\sqrt{\\overline{X^2} - \\overline{X}^2}\n",
    "$$"
   ]
  },
  {
   "cell_type": "markdown",
   "id": "ed1ad596",
   "metadata": {
    "slideshow": {
     "slide_type": "slide"
    }
   },
   "source": [
    "# La conexión estadística"
   ]
  },
  {
   "cell_type": "markdown",
   "id": "d0fbfd92",
   "metadata": {
    "slideshow": {
     "slide_type": "fragment"
    }
   },
   "source": [
    "- Nuestro conocimiento del mundo se basa en la realización de experimentos, el resultado de los cuales es (empíricamente) aleatorio. "
   ]
  },
  {
   "cell_type": "markdown",
   "id": "cdc61b33",
   "metadata": {
    "slideshow": {
     "slide_type": "fragment"
    }
   },
   "source": [
    "- Podemos pensar en el hecho de medir un sistema como la consulta de una variable aleatoria $(X,p(X))$ donde la distribución de probabilidad incorpora todo nuestro conocimiento acerca del sistema"
   ]
  },
  {
   "cell_type": "markdown",
   "id": "10e7ab6a",
   "metadata": {
    "slideshow": {
     "slide_type": "slide"
    }
   },
   "source": [
    "## Frecuencias e Histogramas\n"
   ]
  },
  {
   "cell_type": "markdown",
   "id": "165f96a7",
   "metadata": {
    "slideshow": {
     "slide_type": "fragment"
    }
   },
   "source": [
    "Cualquier consulta o medida da lugar a una *muestra* finita de valores $A_N = (a_1,a_2,...,a_N)$ donde $a_i\\in \\{x_1,...,x_n\\}$ pueden repetirse en la muestra, con números de aparición $n(x_i)$ tales que  $n(x_1) +  \\ldots + n(x_p) = N$. \n",
    "\n",
    "Estos datos se pueden agrupar en intervalos o *bins* que eliminen cierta precisión numérica. \n",
    "\n",
    "Por ejemplo, si truncamos nuestra precisión a las décimas de unidad,  $13.10$ y $13.19$ pertenecerán al mismo *bin*.\n",
    "\n",
    "Un histograma es un diagrama en el que, por cada *bin*, hay una columna, cuya altura representa el número de sucesos que pertenecen a dicho *bin*\n",
    "\n",
    "En el siguiente ejemplo, puedes ver cómo, la misma lista de datos conduce a distintos histogramas si cambias la anchura de los bins"
   ]
  },
  {
   "cell_type": "code",
   "execution_count": null,
   "id": "aa150b69",
   "metadata": {
    "slideshow": {
     "slide_type": "slide"
    }
   },
   "outputs": [],
   "source": [
    "import numpy as np\n",
    "import matplotlib.pyplot as plt\n",
    "\n",
    "datos1 = [12.2, 15.3, 13, 12.8, 18.1, 13, 20, 19.5, 20.2, 12.1, 12.4, 13.2, 17.9, 14.1, 15, 13.4, 11.1, 14.6, 13, 17.4, 19.2]\n",
    "datos2 = np.linspace(0.,10.,20)\n",
    "datos  = datos1\n",
    "\n",
    "anchura_bins = 1.# para modificar la anchura de los bins\n",
    "num_bins = int((max(datos)-min(datos))/anchura_bins) #número de bins\n",
    "bins_list = np.linspace(min(datos), max(datos) + 1 ,num_bins) #calculamos los extremos de los intervalos\n",
    "\n",
    "\n",
    "counts, bins, ignore = plt.hist(x=datos, bins = bins_list, color='#F2AB6D', rwidth=0.85)\n",
    "plt.xlabel('Datos')\n",
    "plt.ylabel('Frecuencia')\n",
    "plt.xticks(bins_list)\n",
    "\n",
    "plt.show()\n"
   ]
  },
  {
   "cell_type": "markdown",
   "id": "f69c6617",
   "metadata": {
    "slideshow": {
     "slide_type": "slide"
    }
   },
   "source": [
    "## Ley de los grandes números"
   ]
  },
  {
   "cell_type": "markdown",
   "id": "18d2dbff",
   "metadata": {
    "slideshow": {
     "slide_type": "fragment"
    }
   },
   "source": [
    "Las fracciones relativas tienden en el límite $N\\to \\infty$ a la probabilidad relativa de aparición de  $x_i$ en una sola tirada\n",
    "\n",
    "$$\n",
    "f_N(x_i) = \\frac{n(x_i)}{N}~~~\\stackrel{N\\to\\infty}{\\longrightarrow}~~~{p(x_i)}\n",
    "$$\n"
   ]
  },
  {
   "cell_type": "markdown",
   "id": "894e284a",
   "metadata": {
    "slideshow": {
     "slide_type": "fragment"
    }
   },
   "source": [
    "Experimentalmente sólo tenemos acceso a las frecuencias relativas $f_N(x_i)$ para un $N$ grande aunque finito."
   ]
  },
  {
   "cell_type": "markdown",
   "id": "3d12dc2c",
   "metadata": {
    "slideshow": {
     "slide_type": "slide"
    }
   },
   "source": [
    "Igualmente, nuestro conocimiento de la  media $\\overline X$  y la varianza $\\sigma_X^2$ siempre es aproximado, y se realiza a través de las medias y varianzas muestrales\n",
    "\n",
    "\\begin{eqnarray}\n",
    "\\overline{A}_N = \\sum_i x_i f_N(x_i)~~~&\\stackrel{N\\to\\infty}{\\longrightarrow}&~~~ \\overline{X}\\\\\n",
    "\\sigma_{A_N}^2 = \\sum_{i} (x_i - \\overline{A}_N)^2 f_N(x_i) ~~~&\\stackrel{N\\to\\infty}{\\longrightarrow}&~~~ \\sigma_X^2\n",
    "\\end{eqnarray}"
   ]
  },
  {
   "cell_type": "markdown",
   "id": "d795f9f0",
   "metadata": {},
   "source": [
    "# Distribuciones frecuentes"
   ]
  },
  {
   "cell_type": "markdown",
   "id": "bfe099c7",
   "metadata": {
    "slideshow": {
     "slide_type": "slide"
    }
   },
   "source": [
    "## La distribución de Bernouilli"
   ]
  },
  {
   "cell_type": "markdown",
   "id": "1d808912",
   "metadata": {
    "slideshow": {
     "slide_type": "fragment"
    }
   },
   "source": [
    "Una variable aleatoria de Bernouilli $X=(x,p(x))$ tiene dos posibles resultados\n",
    "\n",
    "   - *éxito* $\\to x=1$ con probabilidad $p(1) = p$\n",
    "   \n",
    "            \n",
    "   - *fracaso* $\\to x=0$ con probabilidad $p(0) = 1-p$\n",
    "\n"
   ]
  },
  {
   "cell_type": "markdown",
   "id": "8ad7c05d",
   "metadata": {
    "slideshow": {
     "slide_type": "fragment"
    }
   },
   "source": [
    "Podemos calcular fácilmente \n",
    "\n",
    "\\begin{eqnarray}\n",
    "\\overline X &=& \\sum_i x_i p_i =1 \\cdot p + 0\\cdot (1-p) = p\\\\\n",
    "\\sigma^2 &=& \\sum_i (x-\\overline X )^2p_i = (1-p)^2 p +(0-p)^2(1-p) = p(1-p)\n",
    "\\end{eqnarray}"
   ]
  },
  {
   "cell_type": "markdown",
   "id": "a465f5c3",
   "metadata": {
    "slideshow": {
     "slide_type": "slide"
    }
   },
   "source": [
    "## Distribución binomial"
   ]
  },
  {
   "cell_type": "markdown",
   "id": "66d1a820",
   "metadata": {
    "slideshow": {
     "slide_type": "fragment"
    }
   },
   "source": [
    "La variable aleatoria binomial $X = (x,p(x))$ se define como\n",
    "\n",
    "$$\n",
    "x = \\hbox{número de $éxitos$ obtenidos en $n$ pruebas de Bernouilli sucesivas }\n",
    "$$\n",
    "\n",
    "Claramente $x \\in (0,1,2,...n)$.\n",
    "\n",
    "Ahora es muy sencillo obtener la probabilidad de un suceso con $x$ éxitos\n",
    "\n",
    "$$\n",
    "p(x) = \\begin{pmatrix}n\\\\ x\\end{pmatrix} p^x (1-p)^{n-x}\n",
    "$$\n",
    "\n",
    "donde el primer factor tiene en cuenta las posibles ordenaciones en que aparecen $x$ éxitos en $n$ intentos.\n",
    "\n"
   ]
  },
  {
   "cell_type": "markdown",
   "id": "c1948a25",
   "metadata": {
    "slideshow": {
     "slide_type": "slide"
    }
   },
   "source": [
    "Un cálculo un poco más largo permite ver que, ahora\n",
    "\n",
    "\\begin{eqnarray}\n",
    "\\overline X &=&  np\\\\ \\rule{0mm}{7mm}\n",
    "\\sigma^2 &=& n p(1-p)\n",
    "\\end{eqnarray}"
   ]
  },
  {
   "cell_type": "markdown",
   "id": "fad56824",
   "metadata": {
    "slideshow": {
     "slide_type": "slide"
    }
   },
   "source": [
    "\n",
    "## La distribución normal"
   ]
  },
  {
   "cell_type": "markdown",
   "id": "5ccaf85c",
   "metadata": {
    "slideshow": {
     "slide_type": "fragment"
    }
   },
   "source": [
    "Vamos a estudiar la distribución normal centrada en $\\mu$ y con anchura $\\sigma$\n",
    "<br>\n",
    "<br>\n",
    "$$\n",
    "p(x) = \\frac{1}{\\sqrt{2\\pi}\\sigma} \\exp \\left({-\\frac{(x-\\mu)^2}{2\\sigma^2}}\\right)\n",
    "$$"
   ]
  },
  {
   "cell_type": "markdown",
   "id": "07015c7c",
   "metadata": {
    "slideshow": {
     "slide_type": "fragment"
    }
   },
   "source": [
    "Nos encontramos ante una variable aleatoria con un espacio muestral continuo $x\\in (-\\infty,+\\infty)$.\n",
    "\n",
    "\\begin{eqnarray}\n",
    "\\overline{X} &=& \\int_{-\\infty}^{+\\infty} xp(x) dx = \\mu \\\\\n",
    "\\overline{(x-\\overline X)^2} &=& \\int_{-\\infty}^{+\\infty} (x-\\mu)^2 p(x)dx =\\sigma^2\n",
    "\\end{eqnarray}\n"
   ]
  },
  {
   "cell_type": "code",
   "execution_count": null,
   "id": "96716fa0",
   "metadata": {
    "slideshow": {
     "slide_type": "slide"
    }
   },
   "outputs": [],
   "source": [
    "'generamos una instancia de la distribución normal'\n",
    "mu, sigma = 0, 0.1 \n",
    "N = 10000\n",
    "s = np.random.normal(mu, sigma, N)"
   ]
  },
  {
   "cell_type": "code",
   "execution_count": null,
   "id": "32dcfe7c",
   "metadata": {
    "slideshow": {
     "slide_type": "fragment"
    }
   },
   "outputs": [],
   "source": [
    "import matplotlib.pyplot as plt\n",
    "\n",
    "\n",
    "'generamos una instancia de histograma con un número de bins'\n",
    "num_bins=100\n",
    "counts, bins, ignore = plt.hist(s, num_bins, density=True)\n",
    "'extraemos los bins para hacer el plot de la funcion analítica'\n",
    "\n",
    "\n",
    "'dibujamos la función analítica para comparar'\n",
    "def gaussian(x,mu,sigma):\n",
    "    return 1/(sigma * np.sqrt(2 * np.pi))*np.exp( - (x - mu)**2 / (2 * sigma**2) )\n",
    "    \n",
    "plt.plot(bins, gaussian(bins,mu,sigma),linewidth=2, color='r')\n",
    "\n",
    "plt.show()"
   ]
  },
  {
   "cell_type": "markdown",
   "id": "ac802ded",
   "metadata": {},
   "source": [
    "En el límite de número de eventos $N\\to \\infty$, el histograma y la curva matemática confluyen."
   ]
  },
  {
   "cell_type": "markdown",
   "id": "e68827ef",
   "metadata": {
    "slideshow": {
     "slide_type": "slide"
    }
   },
   "source": [
    "# Probabilidades combinadas\n",
    "\n"
   ]
  },
  {
   "cell_type": "markdown",
   "id": "39354968",
   "metadata": {
    "slideshow": {
     "slide_type": "fragment"
    }
   },
   "source": [
    "Las probabilidades combinadas son *la base de las correlaciones*. Es aquí donde la Mecánica Cuántica *predice* resultados diferentes a la Mecánica Clásica.\n",
    "\n",
    "Ahora vamos a examinar variables aleatorias formadas por dos espacios muestrales $X$ e $Y$. Dependiendo de la forma en que combinemos la observación de cada una tendremos distintas distribuciones de probabilidad"
   ]
  },
  {
   "cell_type": "markdown",
   "id": "d5d72a71",
   "metadata": {
    "slideshow": {
     "slide_type": "fragment"
    }
   },
   "source": [
    "## Probabilidad combinada\n",
    "\n",
    "La  *probabilidad combinada* $p(X,Y)$ asocia un número $p(x,y)$ a la probabilidad de observación conjunta de $x$ **e** $y$.\n",
    "\n",
    "Hay que tratar las parejas de eventos  como un solo evento  $a = (x,y)$. Por eso, la condición de normalización ahora es \n",
    "\n",
    "$$\n",
    "\\sum_a p(a) = \\sum_{xy} p(x,y) = 1\\, .\n",
    "$$"
   ]
  },
  {
   "cell_type": "markdown",
   "id": "37a84fb1",
   "metadata": {
    "slideshow": {
     "slide_type": "slide"
    }
   },
   "source": [
    "\n",
    "La suma parcial sobre una de las dos variables conduce a sendas **distribuciones marginales**\n",
    "\n",
    "$$\n",
    "q(x) = \\sum_{y} p(x,y) ~~~~~~~~~ \\tilde q(y) = \\sum_{x} p(x,y)\n",
    "$$\n"
   ]
  },
  {
   "cell_type": "markdown",
   "id": "3689003f",
   "metadata": {
    "slideshow": {
     "slide_type": "fragment"
    }
   },
   "source": [
    "\n",
    " Si la probabilidad combinada es el producto de las probabilidades de los miembros del par, decimos que $X$ e $Y$ son **variables aleatorias independientes**\n",
    "\n",
    "$$\n",
    "p(x,y) = p(x) p(y)\n",
    "$$\n",
    "\n"
   ]
  },
  {
   "cell_type": "markdown",
   "id": "d0b0561f",
   "metadata": {},
   "source": [
    "La distribución de cada variable coincide con la que se deduce de marginalizar la otra\n",
    "\n",
    "$$\n",
    "\\sum_y p(x,y) = p(x)~~~~,~~~~\\sum_x p(x,y) = p(y)\n",
    "$$"
   ]
  },
  {
   "cell_type": "markdown",
   "id": "dff0e91c",
   "metadata": {
    "slideshow": {
     "slide_type": "slide"
    }
   },
   "source": [
    "## Probabilidad condicionada"
   ]
  },
  {
   "cell_type": "markdown",
   "id": "3dbcc6a6",
   "metadata": {
    "slideshow": {
     "slide_type": "fragment"
    }
   },
   "source": [
    "La distribución de **probabilidad condicionada** $p(X|Y)$ asigna un número $p(x|y)$ a la probabilidad  de encontrar un suceso $X=x$ una vez *sabemos* que $Y=y$ ha sido el resultado de consultar $Y$. "
   ]
  },
  {
   "cell_type": "markdown",
   "id": "778823fd",
   "metadata": {
    "slideshow": {
     "slide_type": "fragment"
    }
   },
   "source": [
    "La manera de acceder experimentalmente a estas distribuciones, es efectuar un muestreo $(a_i,b_i), i=1,...,N$ de valores de $(X,Y)$ y *seleccionar* sólo aquellos sucesos donde $b_i = y$ un valor concreto de $Y$."
   ]
  },
  {
   "cell_type": "markdown",
   "id": "94a8e780",
   "metadata": {
    "slideshow": {
     "slide_type": "slide"
    }
   },
   "source": [
    "###  Teorema de Bayes\n",
    "\n",
    "Las probabilidades *condicionales* y *combinadas* no son independientes. Se relacionan de la forma siguiente\n",
    "\n",
    "$$\n",
    "p(x,y)   = p(x|y)p(y) = p(y|x) p(x)= p(y,x)\n",
    "$$\n",
    "\n",
    "La segunda igualdad conduce al *teorema de Bayes*\n",
    "<div class=\"alert alert-block alert-info\",text-align:center>\n",
    "<p style=\"text-align: left ;color: navy;\">  \n",
    "<b>Teorema:</b> <i>de Bayes</i>\n",
    "$$\n",
    "p(x|y) = p(y|x) \\frac{p(x)}{p(y)}\n",
    "$$\n",
    "<br>\n",
    "</div>"
   ]
  }
 ],
 "metadata": {
  "kernelspec": {
   "display_name": "Python 3 (ipykernel)",
   "language": "python",
   "name": "python3"
  },
  "language_info": {
   "codemirror_mode": {
    "name": "ipython",
    "version": 3
   },
   "file_extension": ".py",
   "mimetype": "text/x-python",
   "name": "python",
   "nbconvert_exporter": "python",
   "pygments_lexer": "ipython3",
   "version": "3.9.16"
  },
  "toc": {
   "base_numbering": 1,
   "nav_menu": {},
   "number_sections": true,
   "sideBar": true,
   "skip_h1_title": false,
   "title_cell": "Table of Contents",
   "title_sidebar": "Contents",
   "toc_cell": false,
   "toc_position": {},
   "toc_section_display": true,
   "toc_window_display": true
  },
  "varInspector": {
   "cols": {
    "lenName": 16,
    "lenType": 16,
    "lenVar": 40
   },
   "kernels_config": {
    "python": {
     "delete_cmd_postfix": "",
     "delete_cmd_prefix": "del ",
     "library": "var_list.py",
     "varRefreshCmd": "print(var_dic_list())"
    },
    "r": {
     "delete_cmd_postfix": ") ",
     "delete_cmd_prefix": "rm(",
     "library": "var_list.r",
     "varRefreshCmd": "cat(var_dic_list()) "
    }
   },
   "types_to_exclude": [
    "module",
    "function",
    "builtin_function_or_method",
    "instance",
    "_Feature"
   ],
   "window_display": false
  }
 },
 "nbformat": 4,
 "nbformat_minor": 5
}
