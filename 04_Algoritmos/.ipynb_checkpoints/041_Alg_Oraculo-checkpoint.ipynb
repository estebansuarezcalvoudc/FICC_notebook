{
 "cells": [
  {
   "cell_type": "markdown",
   "metadata": {
    "slideshow": {
     "slide_type": "slide"
    }
   },
   "source": [
    "<img src=\"../figuras/logos/logo_usc.jpg\" align=right width='80px'/>\n",
    "<br>\n",
    "\n",
    "<table width=\"100%\">\n",
    "<td style=\"font-size:40px;font-style:italic;text-align:left;background-color:rgba(0, 220, 170,0.7)\">\n",
    "Algoritmos de Oráculo\n",
    "</td></table>\n",
    "$ \\newcommand{\\bra}[1]{\\langle #1|} $\n",
    "$ \\newcommand{\\ket}[1]{|#1\\rangle} $\n",
    "$ \\newcommand{\\braket}[2]{\\langle #1|#2\\rangle} $\n",
    "$ \\newcommand{\\i}{{\\color{blue} i}} $ \n",
    "$ \\newcommand{\\Hil}{{\\cal H}} $\n",
    "$ \\newcommand{\\cg}[1]{{\\rm C}#1} $\n",
    "\n"
   ]
  },
  {
   "cell_type": "code",
   "execution_count": 1,
   "metadata": {
    "slideshow": {
     "slide_type": "slide"
    }
   },
   "outputs": [],
   "source": [
    "import sys\n",
    "sys.path.append('../')\n",
    "import macro_tQ as tQ\n",
    "import numpy as np"
   ]
  },
  {
   "cell_type": "markdown",
   "metadata": {
    "slideshow": {
     "slide_type": "slide"
    }
   },
   "source": [
    "# Introducción"
   ]
  },
  {
   "cell_type": "markdown",
   "metadata": {},
   "source": [
    "- La potencial de la computación cuántica reside en que podamos fabricar estados que concentran la solución a un problema en una o varias amplitudes. \n",
    "\n",
    "\n",
    "- El foco se desplaza enconces a encontrar los *problemas adecuados*"
   ]
  },
  {
   "cell_type": "markdown",
   "metadata": {},
   "source": [
    "- Un clase importante de problemas consiste en  *desvelar* alguna propiedad de una cierta función binaria. La única opción válida para dicho propósito es consultar dicha función tantas veces como sea necesario. Por lo demás, se trata de una *caja negra*. Por esta razón, a dichas funciones se les denomina *oráculos*"
   ]
  },
  {
   "cell_type": "markdown",
   "metadata": {
    "slideshow": {
     "slide_type": "slide"
    }
   },
   "source": [
    "*Ejemplo:* \n",
    "\n",
    "Denotaremos el conjunto $S_n =\\{0,1,...2^n-1 \\}\\sim \\{0,1\\}^n$ indistintamente.\n",
    "\n"
   ]
  },
  {
   "cell_type": "markdown",
   "metadata": {},
   "source": [
    "La implementación unitaria de una función binaria  $f:S_n \\to S_1$ se realiza en la forma de un operador controlado\n",
    "\n",
    "$$\n",
    "{U_f} : \\ket{x}_n\\otimes \\ket{y} \\to \\ket{x}_n\\otimes \\ket{y + f(x)}\n",
    "$$\n",
    "\n",
    "En particular, si $\\ket{y} = \\ket{-}$ tendremos el oráculo $f(x)$ codificado en la fase."
   ]
  },
  {
   "cell_type": "markdown",
   "metadata": {
    "slideshow": {
     "slide_type": "fragment"
    }
   },
   "source": [
    "Vamos a estudiar el siguiente circuito\n",
    "\n",
    "\n",
    "<br>\n",
    "<figure><center>\n",
    "<a id='fig_ref'></a>\n",
    "<img src=\"./figuras/Busqueda_Oraculo.png\" align=center width='60%'/>\n",
    "<center></center>\n",
    "</center></figure>\n",
    "<br>"
   ]
  },
  {
   "cell_type": "markdown",
   "metadata": {
    "slideshow": {
     "slide_type": "slide"
    }
   },
   "source": [
    "Los ingredientes que nos ofrece la computación cuántica para tratar de obtener una ventaja computacional son :\n",
    "    \n",
    "- paralelismo ($\\to $ evaluar el oráculo en **todos** los elementos de la base simultáneamente)\n",
    "\n",
    "- codificación del oráculo en **la fase** (retroceso de fase)\n",
    "\n",
    "- interferencia para **concentrar** la información en algunas amplitudes.\n"
   ]
  },
  {
   "cell_type": "markdown",
   "metadata": {
    "slideshow": {
     "slide_type": "slide"
    }
   },
   "source": [
    "Vamos a evaluar el estado en la salida\n",
    "\n",
    "\\begin{eqnarray}\n",
    "\\ket{\\psi_0} &=& \\ket{0}_n \\otimes \\ket{-} \\nonumber\\\\\n",
    "\\rule{0mm}{15mm}\n",
    "&\\stackrel{W_{n}}{\\longrightarrow} & \\frac{1}{\\sqrt{2^n}} \\sum_{x=0}^{2^n-1}\\ket{x}\\otimes \\ket{-} ~~~~\\hbox{ paralelismo}  \\nonumber \\\\\n",
    "\\rule{0mm}{12mm}\n",
    "&\\stackrel{U_f}{\\longrightarrow} &  \\frac{1}{\\sqrt{2^n}} \\sum_{x=0}^{2^n-1}\\ket{x}\\otimes (-1)^{f(x)} \\ket{-} ~~~~ \\hbox{ codificación del oráculo  en la fase}\n",
    "\\end{eqnarray}"
   ]
  },
  {
   "cell_type": "markdown",
   "metadata": {
    "slideshow": {
     "slide_type": "fragment"
    }
   },
   "source": [
    "\\begin{eqnarray}\n",
    "&\\stackrel{W_{n}}{\\longrightarrow} &   \\frac{1}{\\sqrt{2^n}} \\sum_{x=0}^{2^n-1}(-1)^{f(x)}(H^{\\otimes n}\\ket{x})\\otimes  \\ket{-}   \\nonumber\\\\\n",
    "\\rule{0mm}{12mm}\n",
    "&=&   \\frac{1}{2^n} \\sum_{x,y=0}^{2^n-1}(-1)^{f(x)+ x \\cdot y}\\ket{y}\\otimes \\ket{-}   ~~~~ \\hbox{interferencia } \n",
    "\\hspace{2.8cm}\n",
    "\\end{eqnarray}\n",
    "<br>\n",
    "donde\n",
    "$$x\\cdot y = x_{n-1}y_{n-1} \\oplus x_{n-2}y_{n-2} \\oplus ...  \\oplus x_{0}y_{0}$$ \n"
   ]
  },
  {
   "cell_type": "markdown",
   "metadata": {
    "slideshow": {
     "slide_type": "fragment"
    }
   },
   "source": [
    "el resultado final es un estado factorizado. Por tanto podemos medir el primer factor de forma independiente y olvidarnos del segundo\n",
    "\n",
    "$$\n",
    "\\ket{\\Phi} =  \\frac{1}{2^n} \\sum_{x,y=0}^{2^n-1}(-1)^{f(x)+ x \\cdot y}\\ket{y}\n",
    "$$\n",
    "\n",
    "dependiendo de cómo sea $f(x)$ podremos conseguir *interferencias* que  concentren la probabilidad en algún estado\n"
   ]
  },
  {
   "cell_type": "markdown",
   "metadata": {
    "slideshow": {
     "slide_type": "slide"
    }
   },
   "source": [
    "#  El problema de Deutsch-Josza "
   ]
  },
  {
   "cell_type": "markdown",
   "metadata": {
    "slideshow": {
     "slide_type": "slide"
    }
   },
   "source": [
    " \n",
    "\n",
    "- **Promesa**: $f$ pertenece a una de las dos clases siguientes:  *constante* ($C \\Rightarrow f(x)$ igual para todo $x$) o *equilibrada* ($E\\Rightarrow f(x)$ igual para la mitad)\n",
    "\n",
    "<br>\n",
    "\n",
    "\n",
    "- **Problema**: descubrir si $f$ es de clase  $C$ ó $E$\n",
    "\n",
    "<br>\n",
    "\n",
    "\n",
    "<div class=\"alert alert-block alert-danger\">\n",
    "<b>Notar:</b> $~$ clásicamente: deberíamos invocar el oráculos  $2^n/2+1$ veces. Esto es, por lo menos hasta la mitad de valores posibles de entrada, más uno.\n",
    "</div>\n",
    "\n",
    "\n"
   ]
  },
  {
   "cell_type": "markdown",
   "metadata": {
    "slideshow": {
     "slide_type": "fragment"
    }
   },
   "source": [
    "\n",
    "-  **Solución**: corremos el circuito una vez y medimos sobre el estado $~\\ket{\\Phi}$ \n",
    "\n",
    "<br>\n",
    "<br>\n",
    "\n",
    "<table width=\"100%\"><td style=\"font-size:120%px;font-style:roman;text-align:left;\">\n",
    "    $\\to ~$ si $f \\in C$  es <b>constante</b>  $~\\Rightarrow~ f(x) = f_0 ~\\forall x ~~~\\Rightarrow~~~$ la probabilidad de obtener $ \\ket{0^n}~$ es  $ 1$  \n",
    "<br>\n",
    "</table>\n"
   ]
  },
  {
   "cell_type": "markdown",
   "metadata": {
    "slideshow": {
     "slide_type": "fragment"
    }
   },
   "source": [
    "*Prueba:*  \n",
    "\n",
    "\\begin{eqnarray}\n",
    "p_{0} &=& |\\braket{0^n}{\\Phi}|^2 \\nonumber\\\\ \\rule{0mm}{12mm}\n",
    "&=& \\left\\vert \\bra{0^n} \\sum_{y=0}^{2^n-1}\\left( \\frac{1}{2^n}\\sum_{x=0}^{2^n-1}(-1)^{f_0 + x \\cdot y} \\right)\\ket{y} \\right\\vert^2\n",
    " \\nonumber\\\\ \\rule{0mm}{12mm}\n",
    " &=& \\left\\vert \\frac{(-1)^{f_0}}{2^{n}}   \\sum_{x=0}^{2^n-1} (-1)^{x \\cdot 0}\\right\\vert^2    \\\\ \\rule{0mm}{15mm}\n",
    " &=& (-1)^{2f_0} \\\\ \\rule{0mm}{15mm} &=& 1 \n",
    "\\nonumber \n",
    "\\end{eqnarray}\n",
    "\n"
   ]
  },
  {
   "cell_type": "markdown",
   "metadata": {
    "slideshow": {
     "slide_type": "slide"
    }
   },
   "source": [
    "\n",
    "<table width=\"100%\"><td style=\"font-size:120%px;font-style:roman;text-align:left;\">\n",
    "$\\to ~ $    si $f\\in E$ es <b>equilibrada</b> $~\\Rightarrow~$ la probabilidad de obtener $~\\ket{0^n}~$  es $~0~$\n",
    "</table>\n"
   ]
  },
  {
   "cell_type": "markdown",
   "metadata": {
    "slideshow": {
     "slide_type": "fragment"
    }
   },
   "source": [
    "\n",
    "\n",
    "En este caso  $f(x)=\\pm 1$ está distribuida de forma equilibrada $~\\Rightarrow$\n",
    "<br>\n",
    "\n",
    "\\begin{eqnarray}\n",
    "\\braket{0^n}{\\Phi} &=& \\bra{0^n} \\sum_{y=0}^{2^n-1}\\left( \\frac{1}{2^n}\\sum_{x=0}^{2^n-1}(-1)^{f(x) + x \\cdot y} \\right)\\ket{y} \\nonumber\\\\ \\rule{0mm}{15mm}\n",
    " &=&  \\frac{1}{2^{n}} \\sum_{x=0}^{2^n-1} (-1)^{f(x) + x \\cdot 0}    = 0\n",
    "\\nonumber \\\\\n",
    " &=&  \\frac{1}{2^{n}} \\sum_{x=0}^{2^n-1} (-1)^{f(x)}    = 0\n",
    "\\end{eqnarray}\n",
    "\n",
    "al haber, por hipótesis, igual número de valores $f(x)=0$ que de $f(x)=1$ en la suma.\n",
    "\n"
   ]
  },
  {
   "cell_type": "markdown",
   "metadata": {
    "slideshow": {
     "slide_type": "fragment"
    }
   },
   "source": [
    "<br>\n",
    "<br>\n",
    "\n",
    "<div class=\"alert alert-block alert-success\">\n",
    "<b>Ejercicio 2.1.1.1 </b> \n",
    "    \n",
    "oráculos constantes sólo hay dos, $f(x)=0~$ ó $~f(x) = 1$ para todo $x$. Oráculos equilibrados hay muchos, y en la lección anterior deberías haber fabricado un circuito para generarlos. \n",
    "Construye el circuito de Deutsch-Josza y ponlo a prueba con estos oráculos. \n",
    "</div>\n"
   ]
  },
  {
   "cell_type": "markdown",
   "metadata": {
    "slideshow": {
     "slide_type": "slide"
    }
   },
   "source": [
    "# El problema de Bernstein-Vazirani   "
   ]
  },
  {
   "cell_type": "markdown",
   "metadata": {
    "slideshow": {
     "slide_type": "slide"
    }
   },
   "source": [
    "\n",
    "\n",
    "-  **Promesa**: $f$ es una *función lineal*, definida por una cadena de bits $a \\in \\{0,1\\}^n$\n",
    "<br>\n",
    "$$f_a(x) = a\\cdot x  = a_{n-1} x_{n-1} \\oplus ....\\oplus a_0 x_0$$\n",
    "<br>\n",
    "\n",
    "- **Problema**: hallar $a = a_{n-1} \\ldots a_0$ \n",
    "\n",
    "<br>\n",
    "<br>\n",
    "\n",
    "<div class=\"alert alert-block alert-danger\">\n",
    " Clásicamente necesitaríamos invocar el oráculo   $n$ veces. \n",
    " Por ejemplo  $f(0\\cdots 0 1)=0,1 $ revela $a_0=0,1$ respectivamente.\n",
    "Iterativamente  $f(0\\cdots 0 1 0)\\to a_1$, $ f(0\\cdots 1 0 0)\\to a_2 \\cdots$, etc.\n",
    "</div>\n"
   ]
  },
  {
   "cell_type": "markdown",
   "metadata": {
    "slideshow": {
     "slide_type": "fragment"
    }
   },
   "source": [
    "**Solución**: correr el circuito una vez y medir el estado final\n",
    "\n",
    "\\begin{eqnarray}\n",
    "\\ket{\\Phi} &=& \\frac{1}{2^n} \\sum_{x,y=0}^{2^n-1}(-1)^{f(x)+ y \\cdot x}\\ket{y}\n",
    "=  \n",
    "\\frac{1}{2^n}\\sum_{y=0}^{2^n-1} \\left(\\sum_{x=0}^{2^n-1}(-1)^{(a+y)\\cdot x}\\right)\\ket{y} ~\\nonumber\\\\  \\rule{0mm}{10mm}\n",
    "&=&  \n",
    "\\frac{1}{2^n}\\sum_{y=0}^{2^n-1} \\left(\\sum_{x=0}^{2^n-1}(-1)^{(-a+y)\\cdot x}\\right)\\ket{y}\\nonumber\\\\ \\rule{0mm}{10mm}\n",
    " &=&  \\frac{1}{2^n} \\sum_{y=0}^{2^n-1} 2^n \\delta_{(-a+y),0} \\ket{y} \\nonumber\\\\ \\rule{0mm}{10mm}\n",
    "&=& \\rule{0mm}{5mm} \\ket{a_0a_1\\cdots a_{n-1}} \\nonumber \n",
    "\\end{eqnarray}\n",
    "\n",
    "¡ Una **única**  medida del estado final da $a$ !\n",
    "\n"
   ]
  },
  {
   "cell_type": "markdown",
   "metadata": {
    "slideshow": {
     "slide_type": "fragment"
    }
   },
   "source": [
    "<div class=\"alert alert-block alert-warning\">\n",
    "    <b>Notar :</b> \n",
    "    en ambos casos, la <i>clave</i> está en <i>concentrar</i> la  probabilidad de la solución en la amplitud de un sólo estado.     \n",
    "</div>\n"
   ]
  },
  {
   "cell_type": "markdown",
   "metadata": {
    "slideshow": {
     "slide_type": "slide"
    }
   },
   "source": [
    "##  Implementación"
   ]
  },
  {
   "cell_type": "markdown",
   "metadata": {
    "slideshow": {
     "slide_type": "-"
    }
   },
   "source": [
    "en primer lugar generamos un oráculo lineal $f(x)=x\\cdot a$ con una cadena $a=(a_{n-1},\\ldots a_0)$ oculta de longitud $n$"
   ]
  },
  {
   "cell_type": "code",
   "execution_count": 2,
   "metadata": {
    "slideshow": {
     "slide_type": "fragment"
    }
   },
   "outputs": [
    {
     "name": "stdout",
     "output_type": "stream",
     "text": [
      "cadena oculta= 0011\n"
     ]
    },
    {
     "data": {
      "image/png": "[encoded data removed]",
      "text/plain": [
       "<Figure size 287.496x451.5 with 1 Axes>"
      ]
     },
     "execution_count": 2,
     "metadata": {},
     "output_type": "execute_result"
    }
   ],
   "source": [
    "from qiskit import QuantumRegister, ClassicalRegister, QuantumCircuit\n",
    "\n",
    "def random_linear_oracle(n):  #n es la longitud de la cadena a oculta\n",
    "\n",
    "    import random, string\n",
    "    a = ''.join(random.choices(['0','1'], k=n))\n",
    "    print('cadena oculta=',a)  \n",
    "    qc = QuantumCircuit(n+1) # el ultimo registro es la salida |f(x)> = |a.x>\n",
    "\n",
    "    \n",
    "    for i, ai in enumerate(reversed(a)):  # ponemos reversed para usar el convenio de qiskit\n",
    "        if ai == '1':\n",
    "            qc.cx(i,n)    \n",
    "    return qc\n",
    "\n",
    "random_linear_oracle(4).draw('mpl')\n",
    "    "
   ]
  },
  {
   "cell_type": "markdown",
   "metadata": {
    "slideshow": {
     "slide_type": "slide"
    }
   },
   "source": [
    "Ahora implementamos el oráculo en el algoritmo de BV "
   ]
  },
  {
   "cell_type": "code",
   "execution_count": 3,
   "metadata": {
    "slideshow": {
     "slide_type": "-"
    }
   },
   "outputs": [],
   "source": [
    "def BV_circuit(linear_oracle,n):\n",
    "    #n: número de bits\n",
    "    #a: coeficiente oculto\n",
    "    #return: circuito\n",
    "\n",
    "    qreg = QuantumRegister(n+1)\n",
    "    creg = ClassicalRegister(n)\n",
    "    qc   = QuantumCircuit(qreg,creg)\n",
    "  \n",
    "    qc.h(qreg)     #Hacemos máxima superposición con la puerta W  \n",
    "    qc.z(qreg[-1]) #Ponemos el último qubit en el estado |->\n",
    "    \n",
    "    qc.append(linear_oracle.to_gate(),qreg[:])   #añadimos el oráculo lineal con la cadena oculta    \n",
    "    \n",
    "    qc.h(qreg[0:-1])     #Aplicamos Hadamard de nuevo\n",
    "    qc.measure(qreg[0:-1],creg)\n",
    "\n",
    "    return qc"
   ]
  },
  {
   "cell_type": "markdown",
   "metadata": {
    "slideshow": {
     "slide_type": "slide"
    }
   },
   "source": [
    "vamos a correr un ejemplo concreto "
   ]
  },
  {
   "cell_type": "code",
   "execution_count": 4,
   "metadata": {
    "slideshow": {
     "slide_type": "-"
    }
   },
   "outputs": [
    {
     "name": "stdout",
     "output_type": "stream",
     "text": [
      "cadena oculta= 1011\n"
     ]
    },
    {
     "data": {
      "image/png": "[encoded data removed]",
      "text/plain": [
       "<Figure size 890.803x535.111 with 1 Axes>"
      ]
     },
     "execution_count": 4,
     "metadata": {},
     "output_type": "execute_result"
    }
   ],
   "source": [
    "n = 4\n",
    "linear_oracle = random_linear_oracle(n)\n",
    "\n",
    "circuito = BV_circuit(linear_oracle,n)\n",
    "\n",
    "circuito.draw(output = 'mpl')"
   ]
  },
  {
   "cell_type": "markdown",
   "metadata": {
    "slideshow": {
     "slide_type": "slide"
    }
   },
   "source": [
    "ahora podemos extraer la cadena $a$ en *una sóla invocación* del oráculo"
   ]
  },
  {
   "cell_type": "code",
   "execution_count": 5,
   "metadata": {},
   "outputs": [
    {
     "data": {
      "image/png": "[encoded data removed]",
      "text/plain": [
       "<Figure size 700x500 with 1 Axes>"
      ]
     },
     "execution_count": 5,
     "metadata": {},
     "output_type": "execute_result"
    }
   ],
   "source": [
    "from qiskit.primitives import Sampler\n",
    "\n",
    "nshots = 1\n",
    "dist = Sampler().run(circuito,shots = nshots).result().quasi_dists[0]\n",
    "\n",
    "from qiskit.tools.visualization import plot_histogram\n",
    "counts = tQ.dist_to_counts(dist,n,nshots)\n",
    "\n",
    "plot_histogram(counts) # Mostramos un histograma de resultados\n",
    "\n"
   ]
  },
  {
   "cell_type": "markdown",
   "metadata": {
    "slideshow": {
     "slide_type": "slide"
    }
   },
   "source": [
    "<div class=\"alert alert-block alert-warning\">\n",
    "\n",
    "<b>¿Por qué funciona el algoritmo de Bernstein Vazirani?</b>\n",
    "\n",
    "Supongamos que $a = 01011$ y que el oráculo que implementa la función lineal es \n",
    "<br>\n",
    "<br>    \n",
    "<center>\n",
    "<img src=\"./figuras/BV_circuit.png\" width='30%' style='margin:automatic'/>\n",
    "</center>\n",
    "\n",
    "<br>    \n",
    "Insertando dicho oráculo en el algoritmo de búsqueda, y \n",
    "<br>\n",
    "    \n",
    "-  recordando que $\\ket{-} = H \\ket{1}$ \n",
    "<br>\n",
    "-  usando la equivalencia de circuitos \n",
    "\n",
    "\n",
    "es fácil reconocer que es equivalente al siguiente\n",
    "\n",
    "<center>\n",
    "<img src=\"./figuras/Bernstein_Vazirani_trick.png\" width='20%' style='margin:automatic'/>\n",
    "</center>\n",
    "    \n",
    "</div>"
   ]
  },
  {
   "cell_type": "markdown",
   "metadata": {
    "slideshow": {
     "slide_type": "fragment"
    }
   },
   "source": [
    "Los anteriores algoritmos son *deterministas*. Vamos a ver un algoritmo que proporciona una ventaja exponencial pero de manera *probabilista*"
   ]
  },
  {
   "cell_type": "markdown",
   "metadata": {
    "slideshow": {
     "slide_type": "slide"
    }
   },
   "source": [
    "# El problema de Simon  "
   ]
  },
  {
   "cell_type": "markdown",
   "metadata": {
    "slideshow": {
     "slide_type": "slide"
    }
   },
   "source": [
    "\n",
    "Consideremos *ahora* una función $f:\\{0,1\\}^n \\to \\{0,1\\}^n$ con la siguiente propiedad\n",
    "\n",
    "-  **Promesa** : $f$ es *doblemente valuada y periódica* bajo suma *bit a bit*. \n",
    "\n"
   ]
  },
  {
   "cell_type": "markdown",
   "metadata": {
    "slideshow": {
     "slide_type": "fragment"
    }
   },
   "source": [
    "es decir $~\\Rightarrow ~$  existe un $~s\\in \\{0,1\\}^n ~$ tal que $~~\\forall x$\n",
    "$$\n",
    " f(x) = f(x\\oplus s) ~~~~~\n",
    "$$"
   ]
  },
  {
   "cell_type": "markdown",
   "metadata": {
    "slideshow": {
     "slide_type": "fragment"
    }
   },
   "source": [
    "Ejemplo: <br>\n",
    "$$\n",
    "\\begin{array}{|c|c || c | c | }\n",
    "\\hline\n",
    "x & f(x) & & x & f(x) \\\\  \\hline\n",
    "0000 & 1111 && 1000 & 0101 \\\\ \\hline\n",
    "0001 & 1011 && 1001 & 0100 \\\\ \\hline\n",
    "0010 & 0011 && 1010 & 0000 \\\\ \\hline\n",
    "0011 & 1000 && 1011 & 1110 \\\\ \\hline\n",
    "0100 & 0101 && 1100 & 1111 \\\\ \\hline\n",
    "0101 & 0100 && 1101 & 1011 \\\\ \\hline\n",
    "0110 & 0000 && 1110 & 0011 \\\\ \\hline\n",
    "0111 & 1110 && 1111 & 1000 \\\\ \\hline\n",
    "\\hline\n",
    "\\end{array}\n",
    "$$\n"
   ]
  },
  {
   "cell_type": "markdown",
   "metadata": {
    "slideshow": {
     "slide_type": "slide"
    }
   },
   "source": [
    "-  **Problema**: hallar $s$ con el mínimo número de consultas al oráculo"
   ]
  },
  {
   "cell_type": "markdown",
   "metadata": {
    "slideshow": {
     "slide_type": "fragment"
    }
   },
   "source": [
    "<div class=\"alert alert-block alert-danger\">\n",
    "<b>Notar:</b>  $~$  <i>clásicamente</i>: necesitaríamos inspeccionar ${\\cal O}(n 2^n)$ términos\n",
    "</div>\n"
   ]
  },
  {
   "cell_type": "markdown",
   "metadata": {
    "slideshow": {
     "slide_type": "fragment"
    }
   },
   "source": [
    "El circuito es *el mismo*, pero ahora involucra $n$ cúbits para codificar la *imagen* de $f$\n",
    "<br>\n",
    "<br>\n",
    "<br>\n",
    "\n",
    "<center>\n",
    "<img src=\"./figuras/SimonCircuit.png\" width='55%' style='margin:automatic'/>\n",
    "</center>\n",
    "\n"
   ]
  },
  {
   "cell_type": "markdown",
   "metadata": {
    "slideshow": {
     "slide_type": "slide"
    }
   },
   "source": [
    "Notar la diferencia con los casos anteriores: \n",
    "\n",
    "-   ahora en la entrada de la ancilla ponemos $\\ket{0}_n$ <br>\n",
    "$\\Rightarrow$ como consecuencia el oráculo aplica $f(x)$ de forma *booleana*\n",
    "\n",
    "\n",
    "$$\n",
    "U_f \\sum_{x=0}^{2^n-1}\\ket{x}\\otimes \\ket{0}  = \\sum_{x=0}^{2^n-1}\\ket{x}\\otimes \\ket{f(x)}\n",
    "$$\n",
    "\n",
    "\n"
   ]
  },
  {
   "cell_type": "markdown",
   "metadata": {
    "slideshow": {
     "slide_type": "fragment"
    }
   },
   "source": [
    "-  después de aplicar el oráculo el estado está entrelazado! \n",
    "<br>\n",
    "$\\Rightarrow$ si hacemos una medida del segundo registro \n",
    "  el  n-cúbit en segundo registro colapsará a un cierto estado \n",
    "$~\\ket{f(x_0)} $"
   ]
  },
  {
   "cell_type": "markdown",
   "metadata": {
    "slideshow": {
     "slide_type": "fragment"
    }
   },
   "source": [
    "\n",
    "\n",
    "- en virtud de la *promesa* $\\ket{f(x_0)} = \\ket{f(x_0\\oplus s)}$, el primer registro colapsará a una *superposición de dos estados*  \n",
    "<br>\n",
    "<br>\n",
    "$$\n",
    "\\ket{\\psi} = \\frac{1}{\\sqrt{2}} \\left( \\rule{0mm}{4mm} \\ket{x_0} + \\ket{x_0 \\oplus s} \\right)\n",
    "$$\n",
    "<br>\n",
    "justo antes de la barrera\n"
   ]
  },
  {
   "cell_type": "markdown",
   "metadata": {
    "slideshow": {
     "slide_type": "slide"
    }
   },
   "source": [
    "- siguiendo el circuito, aplicamos de nuevo la puerta de Walsh-Hadamard al primer registro \n",
    "\n",
    "\\begin{eqnarray}\n",
    "H^{\\otimes n} \\frac{1}{\\sqrt{2}} \\left( \\rule{0mm}{4mm} \\ket{x_0} + \\ket{x_0 \\oplus s} \\right) &=& \\frac{1}{\\sqrt{2^{n+1}}} \\sum_{y=0}^{2^n-1} \\left[ (-1)^{x_0\\cdot y} + (-1)^{(x_0\\oplus s) \\cdot y}\\right]  \\ket{y} \\nonumber\\\\ \\rule{0mm}{10mm}\n",
    "&=& \\frac{1}{\\sqrt{2^{n+1}}} \\sum_{y=0}^{2^n-1} \\left[ (-1)^{x_0\\cdot y} + (-1)^{x_0 \\cdot y}(-1)^{ s \\cdot y}\\right]  \\ket{y} \\nonumber\\\\ \\rule{0mm}{10mm}\n",
    "&=&  \\frac{1}{\\sqrt{2^{n+1}}} \\sum_{y=0}^{2^n-1}(-1)^{x_0\\cdot y}  \\left( \\rule{0mm}{6mm} 1+ (-1)^{s \\cdot y}\\right) \\ket{y}\n",
    "\\end{eqnarray}\n"
   ]
  },
  {
   "cell_type": "markdown",
   "metadata": {
    "slideshow": {
     "slide_type": "fragment"
    }
   },
   "source": [
    "Observar  el factor \n",
    "\n",
    "$$\n",
    "\\frac{1}{2}\\left( \\rule{0mm}{3mm} 1+ (-1)^{s \\cdot y}\\right)~~ = ~~ \n",
    "\\left\\{\\begin{array}{ccc} 0 &\\hbox{if}&  s \\cdot y\\, (\\hbox{mod 2}) = 1 \\\\ 1 &\\hbox{if} & s\\cdot y\\, (\\hbox{mod 2}) = 0\\end{array}\n",
    "\\right.\n",
    "$$ \n",
    "\n",
    "hace que **sólo tengan amplitud no nula** aquellos  $\\ket{y}$ con $s\\cdot y\\,  (\\hbox{mod 2})= 0$\n",
    "\n"
   ]
  },
  {
   "cell_type": "markdown",
   "metadata": {
    "slideshow": {
     "slide_type": "fragment"
    }
   },
   "source": [
    "Midiendo de forma repetida, el primer registro obtendremos una serie de n-bits $ y^{(a)} = y^{(1)},y^{(2)},...,y^{(n)}$ todos los cuales  verifican\n",
    "un sistema homogéneo de $n$ ecuaciones lineales \n"
   ]
  },
  {
   "cell_type": "markdown",
   "metadata": {
    "slideshow": {
     "slide_type": "slide"
    }
   },
   "source": [
    "\n",
    "\\begin{eqnarray}\n",
    "s\\cdot y^{(1)} (\\hbox{mod(2)})~=~ s_{n-1}y^{(1)}_{n-1} \\oplus s_{n-2}y^{(1)}_{n-2} \\oplus \\ldots \\oplus s_0 y^{(1)}_0  &~=~& 0 \\nonumber\\\\ \\rule{0mm}{8mm}\n",
    "s\\cdot y^{(2)} (\\hbox{mod(2)}) ~=~ s_{n-1}y^{(2)}_{n-1} \\oplus s_{n-2}y^{(2)}_{n-2} \\oplus \\ldots \\oplus s_0 y^{(2)}_0 &~=~& 0 \\nonumber\\\\\n",
    "\\vdots & & \\nonumber\\\\ \\rule{0mm}{10mm}\n",
    "s\\cdot y^{(n)} (\\hbox{mod(2)}) ~=~ s_{n-1}y^{(p)}_{n-1} \\oplus s_{n-2}y^{(n)}_{n-2} \\oplus \\ldots \\oplus s_0 y^{(n)}_0 &~=~& 0 \\nonumber\\\\\n",
    "\\end{eqnarray}\n",
    "\n",
    "<br>\n",
    "donde todas las suma se entienden módulo dos.\n",
    "Por un lado $s=s_{n-1}\\ldots s_0$ son nuestras incógnitas y, por otro, $y^{(a)} = y^{(a)}_{n-1}\\ldots y^{(a)}_0$ los coeficientes conocidos como resultado de las medidas"
   ]
  },
  {
   "cell_type": "markdown",
   "metadata": {
    "slideshow": {
     "slide_type": "fragment"
    }
   },
   "source": [
    "Dado que tenemos que averiguar los $n$ bits que conforman la solución $s$ necesitaremos, como mínimo, $n$ ecuaciones linealmente independientes\n",
    "\n"
   ]
  },
  {
   "cell_type": "markdown",
   "metadata": {
    "slideshow": {
     "slide_type": "slide"
    }
   },
   "source": [
    "<div class=\"alert alert-block alert-danger\",text-align:center>\n",
    "<b> Nota</b>:\n",
    "    \n",
    "    \n",
    "1. No hay garantía de que las cadenas de bits $y$ obtenidos en las distintas evaluaciones del circuito sean diferentes siempre diferentes entre sí. \n",
    "Por tanto en general, para obtener un sistema lineal resoluble será necesario correr el circuito un número mayor de veces que $n$. \n",
    "    \n",
    "Es por esta razón que el algoritmo de Simon es <i>probabilístico</i>\n",
    "    \n",
    "2.  La distribución de amplitudes que son nulas o no es independiente de $x_0$ y, por tanto, del resultado $\\ket{f(x_0)}$ medido en el segundo registro. De modo que lo podemos obviar.    \n",
    "</div>, "
   ]
  },
  {
   "cell_type": "markdown",
   "metadata": {
    "slideshow": {
     "slide_type": "slide"
    }
   },
   "source": [
    "Vamos a estudiar la misma función que hemos utilizado en la lección anterior para codificar un oráculo arbitrario dado por una tabla de verdad *f_outputs*\n",
    "\n",
    "La promesa es que dicha función contiene un sólo período. Vamos a tratar de encontrarlo."
   ]
  },
  {
   "cell_type": "code",
   "execution_count": 6,
   "metadata": {
    "slideshow": {
     "slide_type": "fragment"
    }
   },
   "outputs": [],
   "source": [
    "# promesa: esta función contiene un periodo binario\n",
    "f_outputs = ['1111', '1011', '0011', '1000', '0101', '0100', \n",
    "               '0000', '1110', '0101', '0100', '0000', '1110', \n",
    "               '1111', '1011', '0011', '1000']\n",
    "\n",
    "# creamos el oráculo y lo transformamos en una puerta \n",
    "simon_oracle_gate = tQ.binary_function(f_outputs).to_gate()\n",
    "\n",
    "# verificamos que se trata de una función de n en n bits\n",
    "n_input = int(np.log2(len(f_outputs))) #número de outputs\n",
    "m_output =len(f_outputs[0])            #longitud de cada output\n",
    "assert(n_input == m_output)\n",
    "\n"
   ]
  },
  {
   "cell_type": "code",
   "execution_count": 7,
   "metadata": {
    "slideshow": {
     "slide_type": "slide"
    }
   },
   "outputs": [
    {
     "data": {
      "image/png": "[encoded data removed]",
      "text/plain": [
       "<Figure size 820.422x785.944 with 1 Axes>"
      ]
     },
     "execution_count": 7,
     "metadata": {},
     "output_type": "execute_result"
    }
   ],
   "source": [
    "from qiskit import QuantumRegister, ClassicalRegister, QuantumCircuit\n",
    "n=n_input\n",
    "\n",
    "qr_in = QuantumRegister(n, name='x')\n",
    "qr_out = QuantumRegister(n, name='f(x)')\n",
    "cr = ClassicalRegister(n)\n",
    "qc = QuantumCircuit(qr_in,qr_out,cr)\n",
    "\n",
    "\n",
    "qc.h(qr_in)\n",
    "qc.append(simon_oracle_gate,qr_in[:]+qr_out[:])\n",
    "\n",
    "#qc.measure(qr_out,cr)\n",
    "#qc.barrier()\n",
    "\n",
    "qc.h(qr_in)\n",
    "qc.measure(qr_in,cr)\n",
    "\n",
    "qc.draw('mpl')"
   ]
  },
  {
   "cell_type": "markdown",
   "metadata": {
    "slideshow": {
     "slide_type": "slide"
    }
   },
   "source": [
    "## Comprobación"
   ]
  },
  {
   "cell_type": "code",
   "execution_count": 8,
   "metadata": {
    "slideshow": {
     "slide_type": "-"
    }
   },
   "outputs": [
    {
     "name": "stdout",
     "output_type": "stream",
     "text": [
      "{'0000': 119, '0001': 116, '0010': 130, '0011': 120, '1100': 129, '1101': 128, '1110': 131, '1111': 127}\n"
     ]
    },
    {
     "data": {
      "image/png": "[encoded data removed]",
      "text/plain": [
       "<Figure size 700x500 with 1 Axes>"
      ]
     },
     "execution_count": 8,
     "metadata": {},
     "output_type": "execute_result"
    }
   ],
   "source": [
    "from qiskit.primitives import Sampler\n",
    "\n",
    "nshots = 1000\n",
    "\n",
    "dist = Sampler().run(qc,shots = nshots).result().quasi_dists[0]\n",
    "\n",
    "from qiskit.tools.visualization import plot_histogram\n",
    "counts = tQ.dist_to_counts(dist,n,nshots)\n",
    "\n",
    "print(counts)\n",
    "\n",
    "plot_histogram(counts) # Mostramos un histograma de resultados"
   ]
  },
  {
   "cell_type": "code",
   "execution_count": 9,
   "metadata": {
    "slideshow": {
     "slide_type": "slide"
    }
   },
   "outputs": [],
   "source": [
    "def solve_for_solution(counts):\n",
    "\n",
    "#   extraemos la longitud de las cuentas 'y' que será igual a la de la incógnita 's'\n",
    "    n = len(list(counts)[0]) \n",
    "\n",
    "#   generamos todas las posibles periodicidades s\n",
    "    s_list = [format(i, 'b').zfill(n) for i in range(1, 2**n)]\n",
    "#    s_list = [format(i, '0'+str(n)+'b') for i in range(1, 2**n)]  # otra manera de hacer lo mismo\n",
    "#    print(s_list)\n",
    "\n",
    "#   ahora evaluamos, para cada s,  s.y_i = 0 con todos los y_i encontrados\n",
    "    for s_str in s_list:\n",
    "        s = [int(_) for _ in list(s_str)]\n",
    "        print(' s=',s)\n",
    "\n",
    "#   sólo necesitamos n valores de x independientes'\n",
    "        prod_sxi = [sum([s[j]*int(xi[j]) for j in range(len(s))])%2 for xi in list(counts)[:]]\n",
    "\n",
    "#   la suma será = 0 si y sólo si todos los s.x_i = 0 también \n",
    "        sum_sx = sum(prod_sxi)\n",
    "        print('(Sum_i (s.x_i)%2))=', sum_sx, ' para s=', s_str)\n",
    "        if  sum_sx==0:\n",
    "            return s_str\n",
    "            break"
   ]
  },
  {
   "cell_type": "markdown",
   "metadata": {},
   "source": [
    "Ejecutamos la parte clásica que sólo involucra ${\\cal O}(n^2)$ operaciones"
   ]
  },
  {
   "cell_type": "code",
   "execution_count": 10,
   "metadata": {
    "slideshow": {
     "slide_type": "fragment"
    }
   },
   "outputs": [
    {
     "name": "stdout",
     "output_type": "stream",
     "text": [
      " s= [0, 0, 0, 1]\n",
      "(Sum_i (s.x_i)%2))= 4  para s= 0001\n",
      " s= [0, 0, 1, 0]\n",
      "(Sum_i (s.x_i)%2))= 4  para s= 0010\n",
      " s= [0, 0, 1, 1]\n",
      "(Sum_i (s.x_i)%2))= 4  para s= 0011\n",
      " s= [0, 1, 0, 0]\n",
      "(Sum_i (s.x_i)%2))= 4  para s= 0100\n",
      " s= [0, 1, 0, 1]\n",
      "(Sum_i (s.x_i)%2))= 4  para s= 0101\n",
      " s= [0, 1, 1, 0]\n",
      "(Sum_i (s.x_i)%2))= 4  para s= 0110\n",
      " s= [0, 1, 1, 1]\n",
      "(Sum_i (s.x_i)%2))= 4  para s= 0111\n",
      " s= [1, 0, 0, 0]\n",
      "(Sum_i (s.x_i)%2))= 4  para s= 1000\n",
      " s= [1, 0, 0, 1]\n",
      "(Sum_i (s.x_i)%2))= 4  para s= 1001\n",
      " s= [1, 0, 1, 0]\n",
      "(Sum_i (s.x_i)%2))= 4  para s= 1010\n",
      " s= [1, 0, 1, 1]\n",
      "(Sum_i (s.x_i)%2))= 4  para s= 1011\n",
      " s= [1, 1, 0, 0]\n",
      "(Sum_i (s.x_i)%2))= 0  para s= 1100\n",
      "la periodicidad buscada es = 1100\n"
     ]
    }
   ],
   "source": [
    "s_sol = solve_for_solution(counts)\n",
    "print('la periodicidad buscada es =', s_sol)"
   ]
  },
  {
   "cell_type": "markdown",
   "metadata": {
    "slideshow": {
     "slide_type": "slide"
    }
   },
   "source": [
    "<div class=\"alert alert-block alert-success\">\n",
    "<b> Ejercicio:</b> $~$\n",
    "completa esta  función que toma como argumento una cadena de bits <i>s</i>, y  gener una tabla de verdad asociada a una función binaria $f:\\{0,1\\}^n\\to\\{0,1\\}^n$ con exactamente la periodicidad $s$. Utiliza el algoritmo de Simon para recuperar dicha periodicidad. \n",
    "\n",
    "\n",
    "<details>\n",
    "<summary><p style='text-align:right'> >> Solución </p></summary>\n",
    "\n",
    "            old = [a for a in aux if sum_mod2(a, s) == inp][0]\n",
    "            outputs.append(old)\n",
    "</details>\n",
    "\n",
    "</div>\n"
   ]
  },
  {
   "cell_type": "code",
   "execution_count": 21,
   "metadata": {
    "slideshow": {
     "slide_type": "-"
    }
   },
   "outputs": [],
   "source": [
    "\n",
    "def funcion_de_Simon(s):   \n",
    "    'autor Sergio Barrera'  \n",
    "\n",
    "    def suma_bit_a_bit_mod2(a, b):    \n",
    "        suma = ''\n",
    "        for i in range(len(a)):\n",
    "            suma += str((int(a[i]) + int(b[i])) % 2)\n",
    "        return suma\n",
    "\n",
    "    n = len(s) \n",
    "    inputs  = [format(i, 'b').zfill(n) for i in range(2**n)]\n",
    "    aux = []\n",
    "    outputs = []    \n",
    "    for inp in inputs:\n",
    "        if inp in [suma_bit_a_bit_mod2(a, s) for a in aux]:        \n",
    "            old = [a for a in aux if suma_bit_a_bit_mod2(a, s) == inp][0]\n",
    "            outputs.append(old)##\n",
    "        else:\n",
    "            outputs.append(inp)\n",
    "            aux.append(inp)\n",
    "    return outputs"
   ]
  },
  {
   "cell_type": "code",
   "execution_count": 23,
   "metadata": {},
   "outputs": [
    {
     "data": {
      "text/plain": [
       "['0000',\n",
       " '0001',\n",
       " '0010',\n",
       " '0011',\n",
       " '0001',\n",
       " '0000',\n",
       " '0011',\n",
       " '0010',\n",
       " '1000',\n",
       " '1001',\n",
       " '1010',\n",
       " '1011',\n",
       " '1001',\n",
       " '1000',\n",
       " '1011',\n",
       " '1010']"
      ]
     },
     "execution_count": 23,
     "metadata": {},
     "output_type": "execute_result"
    }
   ],
   "source": [
    "funcion_de_Simon('0101')"
   ]
  }
 ],
 "metadata": {
  "celltoolbar": "Slideshow",
  "kernelspec": {
   "display_name": "Python 3 (ipykernel)",
   "language": "python",
   "name": "python3"
  },
  "language_info": {
   "codemirror_mode": {
    "name": "ipython",
    "version": 3
   },
   "file_extension": ".py",
   "mimetype": "text/x-python",
   "name": "python",
   "nbconvert_exporter": "python",
   "pygments_lexer": "ipython3",
   "version": "3.12.5"
  },
  "nbTranslate": {
   "displayLangs": [
    "*"
   ],
   "hotkey": "alt-t",
   "langInMainMenu": true,
   "sourceLang": "en",
   "targetLang": "fr",
   "useGoogleTranslate": true
  },
  "toc": {
   "base_numbering": 1,
   "nav_menu": {},
   "number_sections": true,
   "sideBar": true,
   "skip_h1_title": false,
   "title_cell": "Table of Contents",
   "title_sidebar": "Contents",
   "toc_cell": false,
   "toc_position": {},
   "toc_section_display": true,
   "toc_window_display": false
  },
  "varInspector": {
   "cols": {
    "lenName": 16,
    "lenType": 16,
    "lenVar": 40
   },
   "kernels_config": {
    "python": {
     "delete_cmd_postfix": "",
     "delete_cmd_prefix": "del ",
     "library": "var_list.py",
     "varRefreshCmd": "print(var_dic_list())"
    },
    "r": {
     "delete_cmd_postfix": ") ",
     "delete_cmd_prefix": "rm(",
     "library": "var_list.r",
     "varRefreshCmd": "cat(var_dic_list()) "
    }
   },
   "types_to_exclude": [
    "module",
    "function",
    "builtin_function_or_method",
    "instance",
    "_Feature"
   ],
   "window_display": false
  }
 },
 "nbformat": 4,
 "nbformat_minor": 4
}
