{
 "cells": [
  {
   "cell_type": "markdown",
   "metadata": {
    "slideshow": {
     "slide_type": "slide"
    }
   },
   "source": [
    "<img src=\"../figuras/logos/logo_usc.jpg\" align=right width='80px'/>\n",
    "<br>\n",
    "\n",
    "<table width=\"100%\">\n",
    "<tr>\n",
    "<td style=\"font-size:40px;font-style:italic;text-align:left;background-color:rgba(0, 220, 170,0.7)\">\n",
    "El arte de medir I\n",
    "</td>\n",
    "</tr>\n",
    "</table>\n",
    "\n",
    "$ \\renewcommand{\\bra}[1]{\\langle #1|} $\n",
    "$ \\renewcommand{\\ket}[1]{|#1\\rangle} $\n",
    "$ \\renewcommand{\\braket}[2]{\\langle #1|#2\\rangle} $\n",
    "$ \\renewcommand{\\i}{{\\color{blue} i}} $ \n",
    "$ \\renewcommand{\\tr}{{\\rm tr}} $\n",
    "$ \\renewcommand{\\Hil}{{\\mathcal H}} $\n",
    "$ \\renewcommand{\\boldn}{{\\bf n}} $\n",
    "$ \\renewcommand{\\bn}{{\\bf n}} $\n",
    "$ \\renewcommand{\\bsig}{\\boldsymbol{\\sigma}} $"
   ]
  },
  {
   "cell_type": "code",
   "execution_count": 1,
   "metadata": {
    "run_control": {
     "marked": true
    },
    "slideshow": {
     "slide_type": "-"
    }
   },
   "outputs": [],
   "source": [
    "import sys\n",
    "sys.path.append('../')\n",
    "\n",
    "import macro_tQ as tQ\n",
    "\n",
    "import numpy as np\n",
    "import scipy.linalg as la\n",
    "\n",
    "from IPython.display import display,Markdown,Latex\n",
    "import matplotlib.pyplot as plt\n",
    "from qiskit.visualization import array_to_latex"
   ]
  },
  {
   "cell_type": "markdown",
   "metadata": {
    "slideshow": {
     "slide_type": "skip"
    }
   },
   "source": [
    "# Medidas de 1 cúbit"
   ]
  },
  {
   "cell_type": "markdown",
   "metadata": {
    "slideshow": {
     "slide_type": "slide"
    }
   },
   "source": [
    "## Medidas en la base computacional"
   ]
  },
  {
   "cell_type": "markdown",
   "metadata": {
    "slideshow": {
     "slide_type": "fragment"
    }
   },
   "source": [
    "El **circuito de medida estándar** se representa en la forma siguiente\n",
    "<br>\n",
    "<br>\n",
    "\n",
    "<figure><center>\n",
    "<img src=\"images/cubit_meter_zbasis.png\" align=center width='50%'/>\n",
    "</center></figure>\n",
    "<br>\n",
    "\n"
   ]
  },
  {
   "cell_type": "markdown",
   "metadata": {
    "slideshow": {
     "slide_type": "fragment"
    }
   },
   "source": [
    "En general, el estado es destruido en la medida, por lo que se suele omitir el hilo cuántico a su salida\n",
    "<br>\n",
    "<br>\n",
    "<br>\n",
    "    \n",
    "<figure><center>\n",
    "<img src=\"images/cubit_meter1.png\" align=center width='35%'/>\n",
    "</center></figure>\n",
    "<br>\n",
    "\n"
   ]
  },
  {
   "cell_type": "markdown",
   "metadata": {
    "slideshow": {
     "slide_type": "slide"
    }
   },
   "source": [
    "Por defecto, se trata de una *medida proyectiva* asociada al operador observable $Z$. Es decir, proyecta a la base $\\ket{a} = \\ket{0},\\ket{1}$  de autoestados de $Z$\n",
    "\n",
    "$$\n",
    "Z\\ket{0} = +\\ket{0}~~~~,~~~~~ Z\\ket{1} = -\\ket{1}\n",
    "$$ \n",
    "\n"
   ]
  },
  {
   "cell_type": "markdown",
   "metadata": {
    "slideshow": {
     "slide_type": "fragment"
    }
   },
   "source": [
    "Podemos abreviar de forma  conjunta, con $~a=0,1$ \n",
    "\n",
    "$$\n",
    "Z\\ket{a} = (-1)^a\\ket{a}\n",
    "$$ \n",
    "\n"
   ]
  },
  {
   "cell_type": "markdown",
   "metadata": {
    "slideshow": {
     "slide_type": "slide"
    }
   },
   "source": [
    "## Probabilidades de medida\n",
    "<br>\n",
    "\n",
    "Una repetición de medidas del estado $\\ket{\\psi} = c_0\\ket{0} + c_1\\ket{1}$ da acceso estadístico a las *amplitudes de probabilidad* \n",
    "<br>\n",
    "<br>\n",
    "\n",
    "$$\n",
    "p(0) = \\frac{n_{0}}{N} = |c_0|^2 = |\\braket{0}{\\psi}|^2~~~~~~~~~~~~~~~~ p(1) = \\frac{n_{1}}{N}=|c_1|^2 =  |\\braket{1}{\\psi}|^2 \\, .\n",
    "$$\n",
    "<br>\n",
    "\n",
    "Este procedimiento de reconstrucción es la base de la **tomografía cuántica**.\n"
   ]
  },
  {
   "cell_type": "code",
   "execution_count": 2,
   "metadata": {
    "run_control": {
     "marked": false
    },
    "slideshow": {
     "slide_type": "slide"
    }
   },
   "outputs": [
    {
     "data": {
      "text/latex": [
       "$$\n",
       "\\ket{\\psi} = \n",
       "\\begin{bmatrix}\n",
       "0.5816830895  \\\\\n",
       " 0.5667120397 + 0.5835085668 i  \\\\\n",
       " \\end{bmatrix}\n",
       "$$"
      ],
      "text/plain": [
       "<IPython.core.display.Latex object>"
      ]
     },
     "metadata": {},
     "output_type": "display_data"
    },
    {
     "data": {
      "text/plain": [
       "' otras visualizaciones '"
      ]
     },
     "execution_count": 2,
     "metadata": {},
     "output_type": "execute_result"
    }
   ],
   "source": [
    "from qiskit.quantum_info import Statevector\n",
    "from qiskit.visualization import  array_to_latex  \n",
    "\n",
    "' inicialicemos un estado cuántico'\n",
    "theta = 1.9\n",
    "phi   = 0.8\n",
    "\n",
    "psi_ket = np.array([np.cos(theta/2),(np.exp(1j*phi))*np.sin(theta/2)]).reshape(2,1)\n",
    "display(array_to_latex(psi_ket,prefix= '\\ket{\\psi} = '))\n",
    "\n",
    "' otras visualizaciones '\n",
    "#display(Statevector(psi_ket).draw('latex'))\n",
    "#display(Statevector(psi_ket).draw('Bloch'))#"
   ]
  },
  {
   "cell_type": "markdown",
   "metadata": {
    "slideshow": {
     "slide_type": "fragment"
    }
   },
   "source": [
    "Las probabilidades de obtener '0' y '1' son los cuadrados de las amplitudes en valor absoluto"
   ]
  },
  {
   "cell_type": "code",
   "execution_count": 3,
   "metadata": {
    "run_control": {
     "marked": false
    },
    "slideshow": {
     "slide_type": "-"
    }
   },
   "outputs": [
    {
     "name": "stdout",
     "output_type": "stream",
     "text": [
      "p(0)= [0.33836] , p(1)= [0.66164]\n"
     ]
    }
   ],
   "source": [
    "p0 = np.abs(psi_ket[0])**2\n",
    "p1 = np.abs(psi_ket[1])**2\n",
    "\n",
    "print('p(0)=', np.round(p0,5),', p(1)=', np.round(p1,5))"
   ]
  },
  {
   "cell_type": "markdown",
   "metadata": {
    "slideshow": {
     "slide_type": "slide"
    }
   },
   "source": [
    "Vamos a recuperarlas *experimentalmente* simulando un circuito. Primero obtenemos el diccionario de cuentas obtenidas después de ejecutar el circuito un número de veces"
   ]
  },
  {
   "cell_type": "code",
   "execution_count": 5,
   "metadata": {
    "run_control": {
     "marked": false
    },
    "slideshow": {
     "slide_type": "fragment"
    }
   },
   "outputs": [
    {
     "data": {
      "image/png": "[encoded data removed]",
      "text/plain": [
       "<Figure size 352.675x200.667 with 1 Axes>"
      ]
     },
     "metadata": {},
     "output_type": "display_data"
    },
    {
     "name": "stdout",
     "output_type": "stream",
     "text": [
      "counts_psi =  {'0': 33888, '1': 66112}\n"
     ]
    }
   ],
   "source": [
    "from qiskit import QuantumCircuit\n",
    "from qiskit_aer import AerSimulator\n",
    "simulator = AerSimulator()\n",
    "\n",
    "'generamos un circuito en el que inicializamos el estado psi'\n",
    "qc_psi_Qiskit = QuantumCircuit(1,1)\n",
    "qc_psi_Qiskit.u(theta,phi,0,0)\n",
    "qc_psi_Qiskit.measure(0,0)\n",
    "display(qc_psi_Qiskit.draw('mpl'))\n",
    "\n",
    "'ejecutamos un número de veces'\n",
    "nshots = 100000\n",
    "job = simulator.run(qc_psi_Qiskit,shots=nshots)\n",
    "result = job.result()\n",
    "counts_psi = result.get_counts()\n",
    "#counts_psi = simulator.run(qc_psi_Qiskit,shots=nshots).result().get_counts()\n",
    "\n",
    "'mostramos el resultado'\n",
    "print('counts_psi = ',counts_psi)"
   ]
  },
  {
   "cell_type": "markdown",
   "metadata": {
    "slideshow": {
     "slide_type": "slide"
    }
   },
   "source": [
    "Visualizamos el resultado mediante un histograma"
   ]
  },
  {
   "cell_type": "code",
   "execution_count": 6,
   "metadata": {},
   "outputs": [
    {
     "data": {
      "image/png": "[encoded data removed]",
      "text/plain": [
       "<Figure size 640x480 with 1 Axes>"
      ]
     },
     "execution_count": 6,
     "metadata": {},
     "output_type": "execute_result"
    }
   ],
   "source": [
    "from qiskit.visualization import plot_histogram\n",
    "plot_histogram(counts_psi) # Mostramos un histograma de resultados"
   ]
  },
  {
   "cell_type": "markdown",
   "metadata": {
    "slideshow": {
     "slide_type": "slide"
    }
   },
   "source": [
    "Ahora podemos  calcular las frecuencias relativas $n_i/N$  y compararlas con las probabilidades $p(i)$"
   ]
  },
  {
   "cell_type": "code",
   "execution_count": 7,
   "metadata": {
    "run_control": {
     "marked": true
    }
   },
   "outputs": [
    {
     "name": "stdout",
     "output_type": "stream",
     "text": [
      "p(0)_experiment = 0.33888   p(1)_experiment =  0.66112\n"
     ]
    }
   ],
   "source": [
    "p0_experiment = counts_psi['0']/nshots\n",
    "p1_experiment = counts_psi['1']/nshots\n",
    "\n",
    "print('p(0)_experiment =', p0_experiment,'  p(1)_experiment = ',p1_experiment)"
   ]
  },
  {
   "cell_type": "markdown",
   "metadata": {
    "slideshow": {
     "slide_type": "skip"
    }
   },
   "source": [
    "## Medidas en un ordenador cuántico real"
   ]
  },
  {
   "cell_type": "markdown",
   "metadata": {
    "slideshow": {
     "slide_type": "skip"
    }
   },
   "source": [
    "\n",
    "\n",
    "Una vez que hemos verificado que el programa \n",
    "corre bien en nuestro simulador, podemos lanzarlo a un ordenador cuántico real sin más que cambiar el *backend*.\n",
    "\n",
    "Por el momento usaremos los ordenadores gratuitos de IBM. Para ello es necesario hacer una cuenta de usuario\n",
    "en https://quantum-computing.ibm.com/ \n",
    "\n",
    "Go to https://quantum-computing.ibm.com/account and get API-token in the MyAccount section. Copy token and paste in the following cell in between the brackets (after uncommenting the line)\n",
    "\n",
    "https://docs.quantum.ibm.com/guides/setup-channel"
   ]
  },
  {
   "cell_type": "code",
   "execution_count": null,
   "metadata": {
    "run_control": {
     "marked": true
    },
    "slideshow": {
     "slide_type": "skip"
    }
   },
   "outputs": [],
   "source": [
    "from qiskit_ibm_runtime import QiskitRuntimeService\n",
    "service = QiskitRuntimeService(channel=\"ibm_quantum\", token=\"<TOKEN>\")"
   ]
  },
  {
   "cell_type": "code",
   "execution_count": null,
   "metadata": {
    "slideshow": {
     "slide_type": "skip"
    }
   },
   "outputs": [],
   "source": [
    "# Save an IBM Quantum account and set it as your default account.\n",
    "#QiskitRuntimeService.save_account(\n",
    "#    token=\"<TOKEN>\",\n",
    "#    channel=\"ibm_quantum\",\n",
    "#    set_as_default=True,\n",
    "#    # Use `overwrite=True` if you're updating your token.\n",
    "#    overwrite=True,\n",
    "#)"
   ]
  },
  {
   "cell_type": "code",
   "execution_count": null,
   "metadata": {
    "slideshow": {
     "slide_type": "skip"
    }
   },
   "outputs": [],
   "source": [
    "from qiskit\n",
    "# Load saved credentials\n",
    "service = QiskitRuntimeService()"
   ]
  },
  {
   "cell_type": "code",
   "execution_count": null,
   "metadata": {
    "slideshow": {
     "slide_type": "skip"
    }
   },
   "outputs": [],
   "source": [
    "# Create empty circuit\n",
    "qc = QuantumCircuit(2)\n",
    "qc.h(0)\n",
    "qc.cx(0, 1)\n",
    "qc.measure_all()\n",
    "\n",
    "# Get the least busy backend\n",
    "backend = service.least_busy(operational=True, simulator=False)\n",
    "print(backend)\n",
    "\n",
    "from qiskit.compiler import transpile\n",
    "transqc = transpile(qc,backend)\n",
    "transqc.draw('mpl')"
   ]
  },
  {
   "cell_type": "code",
   "execution_count": null,
   "metadata": {
    "slideshow": {
     "slide_type": "skip"
    }
   },
   "outputs": [],
   "source": [
    "from qiskit_ibm_runtime import SamplerV2 as Sampler\n",
    "\n",
    "sampler = Sampler(backend)\n",
    "job = sampler.run([transqc])\n",
    "\n",
    "service.jobs(backend_name=backend)"
   ]
  },
  {
   "cell_type": "code",
   "execution_count": null,
   "metadata": {
    "slideshow": {
     "slide_type": "skip"
    }
   },
   "outputs": [],
   "source": [
    "job.cancel()"
   ]
  },
  {
   "cell_type": "code",
   "execution_count": null,
   "metadata": {
    "slideshow": {
     "slide_type": "skip"
    }
   },
   "outputs": [],
   "source": [
    "service.jobs(backend_name=backend)"
   ]
  },
  {
   "cell_type": "code",
   "execution_count": null,
   "metadata": {
    "slideshow": {
     "slide_type": "skip"
    }
   },
   "outputs": [],
   "source": [
    "print(f\"job id: {job.job_id()}\")\n",
    "result=job.result().quasi_dists[0]\n",
    "print(result)\n",
    "\n"
   ]
  },
  {
   "cell_type": "code",
   "execution_count": null,
   "metadata": {
    "jupyter": {
     "outputs_hidden": true
    },
    "run_control": {
     "marked": true
    },
    "slideshow": {
     "slide_type": "skip"
    }
   },
   "outputs": [],
   "source": [
    "plot_histogram(counts)"
   ]
  },
  {
   "cell_type": "markdown",
   "metadata": {
    "slideshow": {
     "slide_type": "skip"
    }
   },
   "source": [
    "## Interferencia cuántica y medidas"
   ]
  },
  {
   "cell_type": "markdown",
   "metadata": {
    "slideshow": {
     "slide_type": "skip"
    }
   },
   "source": [
    "El resultado de tirar una moneda al aire es una variable aleatoria binaria  equiprobable:  X = (cara,cruz). "
   ]
  },
  {
   "cell_type": "markdown",
   "metadata": {
    "slideshow": {
     "slide_type": "skip"
    }
   },
   "source": [
    "Es irrelevante si analizamos el resultado cada tirada o cada dos, o tres tiradas. Las frecuencias relativas de caras y cruces, siempre serán próximas a $1/2$. "
   ]
  },
  {
   "cell_type": "markdown",
   "metadata": {
    "slideshow": {
     "slide_type": "skip"
    }
   },
   "source": [
    "Podemos imaginar un experimento similar con un cúbit, donde cara $\\to \\ket{0}$ y cruz $\\to\\ket{1}$ son los estados posibles de la medida en la base $Z$."
   ]
  },
  {
   "cell_type": "markdown",
   "metadata": {
    "slideshow": {
     "slide_type": "skip"
    }
   },
   "source": [
    "Tirar la moneda  clásica es ponerla en un estado que puede ser cara o cruz al caer sobre la mesa \n",
    "\n",
    "Tirar la moneda cuántica  es aplicar el operador $H$  para poner cualquiera de los dos resultados en una superposición \n",
    "\n",
    "$$\n",
    "H\\ket{0} = \\frac{1}{\\sqrt{2}}(\\ket{0} + \\ket{1})$$ \n",
    "\n",
    "y \n",
    "\n",
    "$$H\\ket{1} = \\frac{1}{\\sqrt{2}}(\\ket{0} - \\ket{1})$$ \n"
   ]
  },
  {
   "cell_type": "markdown",
   "metadata": {
    "slideshow": {
     "slide_type": "skip"
    }
   },
   "source": [
    "Ahora no es lo mismo medir el resultado después de una tirada\n",
    "\n",
    "$$\n",
    "\\ket{0}~ \\stackrel{\\rm tirar}{\\longrightarrow} ~ H \\ket{0}= \\ket{+} ~ \\stackrel{\\rm medir}{\\longrightarrow} ~p(0) = p(1) = 0.5\n",
    "$$\n",
    "que hacerlo después de dos tiradas\n",
    "\n",
    "$$\n",
    "\\ket{0}~ \\stackrel{\\rm tirar}{\\longrightarrow} ~ H \\ket{0}~ \\stackrel{\\rm tirar}{\\longrightarrow} H^2\\ket{0} = \\ket{0} ~ \\stackrel{\\rm medir}{\\longrightarrow} ~p(0) = 1 ~,~p(1) = 0\n",
    "$$"
   ]
  },
  {
   "cell_type": "code",
   "execution_count": null,
   "metadata": {
    "run_control": {
     "marked": true
    },
    "slideshow": {
     "slide_type": "skip"
    }
   },
   "outputs": [],
   "source": [
    "qc = QuantumCircuit(1,1)\n",
    "\n",
    "qc.h(0)\n",
    "#qc.measure(0,0) #anula o no esta medición intermedia para ver la diferencia\n",
    "qc.h(0)\n",
    "qc.measure(0,0)\n",
    "qc.draw('mpl')"
   ]
  },
  {
   "cell_type": "markdown",
   "metadata": {
    "slideshow": {
     "slide_type": "skip"
    }
   },
   "source": [
    "Ejecutemos el circuito con y sin medición intermedia"
   ]
  },
  {
   "cell_type": "code",
   "execution_count": null,
   "metadata": {
    "run_control": {
     "marked": true
    },
    "slideshow": {
     "slide_type": "skip"
    }
   },
   "outputs": [],
   "source": [
    "AerSimulator().run(qc).result().get_counts()"
   ]
  },
  {
   "cell_type": "markdown",
   "metadata": {
    "slideshow": {
     "slide_type": "skip"
    }
   },
   "source": [
    "La medición intermedia destruye la superposición y hace colapsar el estado a $\\ket{0}$  ó $\\ket{1}$. \n",
    "\n",
    "Sin dicha medición, las amplitudes de probabilidad de los caminos que llevarían a $\\ket{1}$ a partir de $\\ket{0}$ interfieren destructivamente"
   ]
  },
  {
   "cell_type": "markdown",
   "metadata": {
    "slideshow": {
     "slide_type": "skip"
    }
   },
   "source": [
    "Este ejemplo que acabamos de ver, es la versión más simple del <i> experimento de la doble rendija</i>. En él, las franjas oscuras que aparecen dentrás, son debidas a interferncia destructiva de la función de onda. Dicha interferencia desaparece si intentamos averiguar por cuál de ambas rendijas ha pasado el electrón. "
   ]
  },
  {
   "cell_type": "markdown",
   "metadata": {
    "slideshow": {
     "slide_type": "slide"
    }
   },
   "source": [
    "# Medidas en una base general"
   ]
  },
  {
   "cell_type": "markdown",
   "metadata": {
    "slideshow": {
     "slide_type": "slide"
    }
   },
   "source": [
    "Convencionalmente se denomina $Z$ al observable asociado a la medida estándar en un computador cuántico.\n",
    "\n",
    "\n",
    "Deberíamos ser capaces de modificar la base de medida a voluntad. Vamos a estudiar primero cómo usar las bases $X$ e $Y$ y después analizaremos el caso arbitrario. "
   ]
  },
  {
   "cell_type": "markdown",
   "metadata": {
    "slideshow": {
     "slide_type": "slide"
    }
   },
   "source": [
    "## Bases  X e Y\n",
    "\n",
    "Los autovectores del operador $X$ se denominan  $\\ket{+}, \\ket{-}$ con autovalores $+1$ y $-1$ respectivamente.\n",
    "\n",
    "Desearíamos disponer de un circuito asociado a este observable, de forma que, a la detección de un autovector $\\ket{+} $ registrase un  $0 $ y de $\\ket{-} $ un $1 $.\n",
    "\n",
    "Es fácil construir un circuito así, como se ve en la figura a continuación. \n",
    "<br>\n",
    "<br>\n",
    "\n"
   ]
  },
  {
   "cell_type": "markdown",
   "metadata": {
    "slideshow": {
     "slide_type": "slide"
    }
   },
   "source": [
    "<figure><center>\n",
    "<img src=\"images/meter_xybasis.png\" align=center width='60%'/>\n",
    "</center></figure>\n",
    "\n"
   ]
  },
  {
   "cell_type": "markdown",
   "metadata": {
    "slideshow": {
     "slide_type": "fragment"
    }
   },
   "source": [
    "\n",
    "\n",
    "En el primero, la acción de $H$  manda cada autoestado de $X$ a un autoestado de $Z$, $H\\ket{+} = \\ket{0}$ y $H\\ket{-} = \\ket{1}$.\n",
    "\n",
    "A continuación, un medidor estándar registrará el valor de $a =0,1$ según sea el estado medido. \n",
    "\n",
    "Una aplicación posterior de $H$ nos devolverá el estado original $H\\ket{0} = \\ket{+}$ e igualmente $H\\ket{1} = \\ket{-}$\n"
   ]
  },
  {
   "cell_type": "markdown",
   "metadata": {
    "slideshow": {
     "slide_type": "slide"
    }
   },
   "source": [
    "Igualmente denominemos $\\ket{+ i}$ y   $\\ket{- i}$ los autoestados del operador $Y$.\n",
    "\n",
    "Podemos construir un circuito que registra $a = 0,1$ cuando el estado incidente es  $\\ket{+ i}$ o   $\\ket{- i}$ respectivamente.  \n",
    "\n",
    "Basta observar que $\\ket{\\pm i} = SH\\ket{a}$. \n",
    "\n",
    "Inversamente $\\ket{a} = HS^\\dagger \\ket{\\pm i}$ y proceder igual que antes. "
   ]
  },
  {
   "cell_type": "markdown",
   "metadata": {
    "slideshow": {
     "slide_type": "slide"
    }
   },
   "source": [
    "En resumen: podemos *construir* aparatos de medida *efectivos* que actúan sobre las bases $X$ e $Y$ igual que el medidor estándar lo hace sobre $Z$\n",
    "<br>\n",
    "<br>\n",
    "\n",
    "<figure><center>\n",
    "<img src=\"images/meter_xybasis2.png\" align=center width='60%'/>\n",
    "</center></figure>\n",
    "<br>\n",
    "\n",
    "Detrás de estas equivalencias de circuitos, ahora con medidores, se esconde la conjugación de puertas siguiente\n",
    "\n",
    "$$\n",
    "X = H Z H\n",
    "~~~~~~~~,~~~~~~~~~Y = SHZ HS^\\dagger\n",
    "$$\n",
    "\n",
    "<div class=\"alert alert-block alert-danger\",text-align:center>\n",
    "<p style=\"text-align: left ;\">  \n",
    "<b>Nota</b>:\n",
    "recuerda que el orden de la composición de operadores se invierte al plasmarlos en un circuito\n",
    "</p>    \n",
    "</div>\n",
    "\n",
    "<div class=\"alert alert-block alert-success\">\n",
    "<b>Ejercicio:</b> \n",
    "Comprueba  que estas ecuaciones de conjugación son correctas\n",
    "</div>"
   ]
  },
  {
   "cell_type": "markdown",
   "metadata": {
    "slideshow": {
     "slide_type": "skip"
    }
   },
   "source": [
    "<div class=\"alert alert-block alert-success\">\n",
    "<b>Ejercicio:</b> \n",
    "En la figura observamos el resultado de hacer pasar una nube de electrones a través de tres detectores de Stern Gerlach perpendiculares.\n",
    "<br>\n",
    "<br>\n",
    "    \n",
    "![picture](https://upload.wikimedia.org/wikipedia/commons/c/cb/Stern-Gerlach_Analyzer_Sequential_Series_E3.png \"blog-image align\")\n",
    "    \n",
    " Reproduce ese experimento en un ordenador cuántico. Toma el eje $Y$ como eje de propagación orienta los detectores sucesivamente a lo largo de $Z$, y $X$ y $Z$ de nuevo. \n",
    "    \n",
    "Ejecuta el circuito lanzando los electrones de 1 en 1 en un estado inicial arbitrario y observa los resultados intermedios. \n",
    "    \n",
    "Lanza ahora una nube de electrones y observa la estadística    \n",
    "</div>"
   ]
  },
  {
   "cell_type": "code",
   "execution_count": null,
   "metadata": {
    "run_control": {
     "marked": false
    },
    "slideshow": {
     "slide_type": "skip"
    }
   },
   "outputs": [],
   "source": [
    "'solucion'\n",
    "qc = QuantumCircuit(1,3)\n",
    "\n",
    "qc.h(0)\n",
    "\n",
    "qc.measure(0,2)\n",
    "\n",
    "qc.barrier()\n",
    "qc.h(0)\n",
    "qc.measure(0,1)\n",
    "qc.h(0)\n",
    "qc.barrier()\n",
    "\n",
    "qc.measure(0,0)\n",
    "\n",
    "display(qc.draw('mpl',style=\"iqp\"))\n",
    "\n",
    "AerSimulator().run(qc,shots=1).result().get_counts()\n"
   ]
  },
  {
   "cell_type": "markdown",
   "metadata": {
    "slideshow": {
     "slide_type": "skip"
    }
   },
   "source": [
    "\n",
    "Definamos una función que ejecuta medidas en cualquiera de los tres ejes"
   ]
  },
  {
   "cell_type": "code",
   "execution_count": null,
   "metadata": {
    "run_control": {
     "marked": false
    },
    "slideshow": {
     "slide_type": "skip"
    }
   },
   "outputs": [],
   "source": [
    "def measure_XYZ(qc,axis=\"Z\",shots=1024):\n",
    "     \n",
    "    import copy \n",
    "    qc0 = copy.deepcopy(qc)\n",
    "    if axis == \"Z\":\n",
    "        qc0.measure(0,0)\n",
    "    if axis == \"X\":\n",
    "        qc0.h(0)\n",
    "        qc0.measure(0,0) \n",
    "        qc0.h(0)\n",
    "    elif axis == \"Y\":\n",
    "        qc0.sdg(0)\n",
    "        qc0.h(0)\n",
    "        qc0.measure(0,0) \n",
    "        qc0.h(0)\n",
    "        qc0.s(0)\n",
    "     \n",
    "    from qiskit_aer import AerSimulator\n",
    "    counts=AerSimulator().run(qc0,shots=shots).result().get_counts()\n",
    "    \n",
    "    return counts"
   ]
  },
  {
   "cell_type": "markdown",
   "metadata": {
    "slideshow": {
     "slide_type": "slide"
    }
   },
   "source": [
    "Ahora podemos observar el resultado de medidas sucesivas a lo largo de ejes diferentes"
   ]
  },
  {
   "cell_type": "code",
   "execution_count": null,
   "metadata": {
    "run_control": {
     "marked": false
    },
    "slideshow": {
     "slide_type": "skip"
    }
   },
   "outputs": [],
   "source": [
    "shots = 10000\n",
    "\n",
    "qc = QuantumCircuit(1,1)\n",
    "#qc.h(0)\n",
    "display(qc.draw('mpl',style=\"iqp\"))\n",
    "\n",
    "cuentasz = measure_XYZ(qc,axis=\"Z\",shots=shots)\n",
    "print(\"cuentas(base Z)=\",cuentasz)\n",
    "\n",
    "cuentasx = measure_XYZ(qc,axis=\"X\",shots=shots)\n",
    "print(\"cuentas(base X)=\",cuentasx)\n",
    "\n",
    "cuentasy = measure_XYZ(qc,axis=\"Y\",shots=shots)\n",
    "print(\"cuentas( base Y)=\",cuentasy)\n"
   ]
  },
  {
   "cell_type": "markdown",
   "metadata": {
    "slideshow": {
     "slide_type": "slide"
    }
   },
   "source": [
    "## Formalismo general\n",
    "\n",
    "Vamos a ver los dos casos anteriores como caso particulares de un aparato de medida asociado a una dirección arbitraria en la esfera de Bloch. Dado un vector unitario $~\\hat\\boldn~$\n",
    "\n",
    "$$\n",
    "\\hat\\bn(\\theta,\\phi) = \\sin\\theta\\cos\\phi \\, \\hat {\\bf x} + \\sin\\theta\\sin\\phi \\, \\hat {\\bf y} + \\cos\\theta \\, \\hat {\\bf z}\n",
    "$$\n"
   ]
  },
  {
   "cell_type": "markdown",
   "metadata": {
    "slideshow": {
     "slide_type": "fragment"
    }
   },
   "source": [
    "el observable asociado será  $ \\hat{\\boldn}\\cdot \\boldsymbol{\\sigma}$  cuyos autoestados forman una  base $\\{\\ket{0}_{\\hat{\\bf n}}, \\ket{1}_{\\hat{\\bf n}}\\}$ con autovalores $\\pm 1$\n",
    "\n",
    "$$\n",
    "\\hat{\\boldn}\\cdot \\boldsymbol{\\sigma}\\,\\ket{0}_{\\hat{\\bf n}} = + \\ket{0}_{\\hat{\\bf n}}~~~~~~,~~~~~~~\n",
    "\\hat{\\boldn}\\cdot \\boldsymbol{\\sigma}\\,\\ket{1}_{\\hat{\\bf n}} = - \\ket{1}_{\\hat{\\bf n}}\n",
    "$$\n",
    "\n",
    "dados por \n",
    "\n",
    "\n",
    "$$\n",
    " \\ket{0}_{\\hat{\\bf n}} = ~\\begin{bmatrix} \\cos\\displaystyle\\frac{\\theta}{2} \\\\  ~e^{i\\phi}\\sin\\displaystyle\\frac{\\theta}{2} \\end{bmatrix} ~~~~~~~~~~~,~~~~~~~~~~~\n",
    " \\ket{1}_{\\hat{\\bf n}} =  \\begin{bmatrix} -e^{-i\\phi}\\sin\\displaystyle\\frac{\\theta}{2} \\\\  \\cos\\displaystyle\\frac{\\theta}{2} \\end{bmatrix} \n",
    "$$\n",
    "\n"
   ]
  },
  {
   "cell_type": "markdown",
   "metadata": {
    "slideshow": {
     "slide_type": "slide"
    }
   },
   "source": [
    "\n",
    "Los casos particulares de la sección anterior se recuperan haciendo\n",
    "\n",
    "$$\n",
    "\\begin{array}{ccl}\n",
    "Z = \\hat{\\bf z} \\cdot \\boldsymbol{\\sigma} ~~&\\rightarrow& ~~\\{\\ket{0},\\ket{1} \\} = \\{\\ket{0}_{\\hat{\\bf z}},\\ket{1}_{\\hat{\\bf z}}\\}\\\\ \\rule{0mm}{8mm}\n",
    "X = \\hat{\\bf x} \\cdot \\boldsymbol{\\sigma} ~~&\\rightarrow&  \\{\\ket{+},\\ket{-}\\}  = \\{\\ket{0}_{\\hat{\\bf x}},\\ket{1}_{\\hat{\\bf x}}\\} \\\\ \\rule{0mm}{8mm}\n",
    "Y = \\hat{\\bf y} \\cdot \\boldsymbol{\\sigma} ~~&\\rightarrow&  \\{\\ket{+i},\\ket{-i}\\}  = \\{\\ket{0}_{\\hat{\\bf y}},\\ket{1}_{\\hat{\\bf y}}\\}\n",
    "\\end{array}\n",
    "$$\n",
    "\n"
   ]
  },
  {
   "cell_type": "markdown",
   "metadata": {
    "slideshow": {
     "slide_type": "fragment"
    }
   },
   "source": [
    "\n",
    "Usando operadores de rotación podemos convertir el medidor estándar asociado a $Z$ en un medidor efectivo asociado al observable general $\\hat {\\bf n} \\cdot \\bsig$. Veamos cómo:\n",
    "\n",
    "- sea $~\\hat{\\bf z}\\cdot\\bsig ~$ el <u>*aparato de medida estandar*</u> orientado a lo largo del eje $~\\hat{\\bf z}$\n",
    "\n",
    "$$\n",
    " \\hat{\\bf z}\\cdot \\bsig \\,  \\ket{a}_{\\hat{\\bf z}} = (-1)^a\\ket{a}_{\\hat{\\bf z}} = Z \\ket{a} \n",
    "$$\n",
    "\n",
    "- y  $~\\hat\\bn\\cdot \\bsig~$ el <u>aparato de medida orientado</u> a lo largo del eje $\\hat\\bn$\n",
    "\n",
    "\n",
    "$$\n",
    "\\hat\\bn\\cdot \\bsig \\,  \\ket{a}_{\\hat{\\bf n}} = (-1)^a\\ket{a}_{\\hat{\\bf n}}\n",
    "$$\n"
   ]
  },
  {
   "cell_type": "markdown",
   "metadata": {
    "slideshow": {
     "slide_type": "slide"
    }
   },
   "source": [
    "\n",
    "las bases de autovectores asociadas $\\{\\ket{a}_{\\hat{\\bf z}}\\}$ y  $\\{\\ket{a}_{\\hat{\\bf n}}\\}$ se  relacionan mediante una simple *rotación* unitaria\n",
    "\n",
    "$$\n",
    "\\ket{0}_{\\hat\\boldn} = U \\ket{0}_{\\hat{\\bf z}}~~~~~~,~~~~~~\n",
    "\\ket{1}_{\\hat\\boldn} = U \\ket{1}_{\\hat{\\bf z}}\n",
    "$$\n",
    "\n",
    "\n",
    "<figure><center> \n",
    "<img src=\"images/BlochSphere_basis.png\" align=center width='25%'/>\n",
    "</center></figure>"
   ]
  },
  {
   "cell_type": "markdown",
   "metadata": {
    "slideshow": {
     "slide_type": "slide"
    }
   },
   "source": [
    "\n",
    "El operador en cuestión es \n",
    "\n",
    "$$\n",
    "U(\\hat {\\bf z}\\to \\hat \\bn) = U(\\theta,\\phi,0)=\\begin{bmatrix}   \\cos \\displaystyle\\frac{\\theta}{2}  & -  \\sin\\displaystyle\\frac{\\theta}{2}  \\\\ \n",
    "\\rule{0mm}{4mm} e^{i\\phi} \\sin \\displaystyle\\frac{\\theta}{2} &e^{i\\phi} \\cos \\displaystyle\\frac{\\theta}{2} \\end{bmatrix}\n",
    "$$\n",
    "\n",
    "como es fácil de comprobar\n",
    "\n",
    "$$ \n",
    "\\begin{bmatrix} \\cos\\theta \\\\ e^{i\\phi}\\sin\\theta \\end{bmatrix} = U\\cdot \\begin{bmatrix}1\\\\0 \\end{bmatrix} ~~~~~~~,~~~~~~~\n",
    "\\begin{bmatrix} -\\sin\\theta \\\\ e^{i\\phi}\\cos\\theta \\end{bmatrix} = U\\cdot \\begin{bmatrix}0\\\\1 \\end{bmatrix}  \n",
    "$$"
   ]
  },
  {
   "cell_type": "markdown",
   "metadata": {
    "slideshow": {
     "slide_type": "skip"
    }
   },
   "source": [
    "Si las componentes de los vectores rotan en la forma $\\ket{a}_{\\hat{\\bf n}} = U\\ket{a}_{\\hat{\\bf z}}$\n",
    "los observables asociados  se relacionan algebraicamente *como lo hace cualquier operador*\n",
    "\n",
    "$$\n",
    "\\hat {\\bf n} \\cdot\\bsig =  U \\, (\\hat {\\bf z} \\cdot \\bsig)\\,  U^\\dagger \n",
    "$$\n",
    "\n",
    "<details><summary><p> >> <i>Verificamos la consistencia</i>  </p></summary>\n",
    "\\begin{eqnarray}\n",
    "\\hat {\\bf n} \\cdot \\bsig\\,  \\ket{a}_{\\hat{\\bf n}} ~~&=&~~ \n",
    "U~ \\hat {\\bf z} \\cdot \\bsig ~  U^\\dagger ~ U  \\ket{a}_{\\hat{\\bf z}}\\\\  \\rule{0mm}{8mm}\n",
    "&=& U~ \\hat {\\bf z} \\cdot \\bsig ~   \\ket{a}_{\\hat{\\bf z}}\\\\   \\rule{0mm}{8mm}\n",
    "&=& U\\, Z \\ket{a} = U (-1)^a \\ket{a}_{\\hat{\\bf z}} \\\\  \\rule{0mm}{8mm}\n",
    "&=&  (-1)^a U\\ket{a}_{\\hat{\\bf z}} \\\\  \\rule{0mm}{8mm}\n",
    "&=& (-1)^a \\ket{a}_{\\hat{\\bf n}}  \\rule{0mm}{8mm}\n",
    "\\end{eqnarray}\n",
    "</details>\n"
   ]
  },
  {
   "cell_type": "markdown",
   "metadata": {
    "slideshow": {
     "slide_type": "skip"
    }
   },
   "source": [
    "<div class=\"alert alert-block alert-success\",text-align:center>\n",
    "<p style=\"text-align: left ;\">  \n",
    "<b>Ejercicio</b>: \n",
    "comprueba operando la ecuación anterior\n",
    "</p>    \n",
    "</div>"
   ]
  },
  {
   "cell_type": "markdown",
   "metadata": {
    "slideshow": {
     "slide_type": "slide"
    }
   },
   "source": [
    "El circuito siguiente  *simula* un aparato de medición en la base $\\{\\ket{a}_{\\hat{\\bf n}}\\}$\n",
    "obtenido mediante la rotación del aparato de medida en la base $\\{\\ket{a}_{\\hat{\\bf n}}\\}$ de autoestados de $Z$ \n",
    "\n",
    "\n",
    "<figure><center>   \n",
    "<img src=\"images/nbasis_measure2.png\" align=center width='40%'/>\n",
    "</center></figure>\n",
    "\n",
    "Notar que \n",
    "\n",
    "- los casos particulares  de bases $X$ e $Y$ se recuperan con $U = H$ en el primer caso y $U = SH$ en el segundo. \n",
    "\n",
    "- si el estado se destruye en la medida o  no es conservado posteriormente, podemos simplificar el circuito de medida para que sólo informe del valor medido\n",
    "\n",
    "<figure><center>   \n",
    "<img src=\"images/Un_meter_simple.png\" align=center width='40%'/>\n",
    "</center></figure>\n"
   ]
  },
  {
   "cell_type": "markdown",
   "metadata": {
    "slideshow": {
     "slide_type": "slide"
    }
   },
   "source": [
    "# Valores esperados\n"
   ]
  },
  {
   "cell_type": "markdown",
   "metadata": {
    "slideshow": {
     "slide_type": "slide"
    }
   },
   "source": [
    "\n",
    "Conociendo la probabilidades de aparición de los posible autovalores $\\lambda_i$ de un operador $A$ tenemos acceso al valor esperado\n",
    "\n",
    "$$\n",
    "\\langle A \\rangle_\\psi = \\bra{\\psi}A\\ket{\\psi} = \\sum_i p(\\lambda_i) \\lambda_i\n",
    "$$\n",
    "\n",
    "Como sólo disponemos de un observable, el medidor estándar en la dirección $Z$, tendremos que ser creativos para poder obtener este valor esperado.\n",
    "\n",
    "La clave está en que sólo necesitaremos los medidores efectivos en las bases $X, Y $ y $Z$. "
   ]
  },
  {
   "cell_type": "markdown",
   "metadata": {
    "slideshow": {
     "slide_type": "slide"
    }
   },
   "source": [
    "## Descomposición en la base de Pauli"
   ]
  },
  {
   "cell_type": "markdown",
   "metadata": {},
   "source": [
    "La clave reside en observar que  <i>cualquier observable</i> sobre un cúbit $A = A^\\dagger$ puede desarrollarse en la base $\\sigma_i = \\{I,X,Y,Z\\}, \\, i=0,1,2,3$\n",
    "\n",
    "$$\n",
    "A = a_0 I + a_1 X + a_2 Y  + a_3 Z \\, . \n",
    "$$\n",
    "\n",
    "con coeficientes \n",
    "\n",
    "$$\n",
    "a_i = \\frac{1}{2} \\tr \\, (A \\sigma_i)\\, .\n",
    "$$\n",
    "\n",
    "Esta expresión se obtiene haciendo uso de la relación $\\to \\frac{1}{2} \\tr\\,  (\\sigma_i \\sigma_j) = \\delta_{ij}$.\n",
    "<br>\n",
    "<br>\n",
    "    \n",
    "<details><summary><p  > >> <i>Comprobación</i> </p></summary>\n",
    "$$\n",
    "\\frac{1}{2} \\tr \\, (A \\sigma_i) = \\frac{1}{2} \\tr \\, \\left((\\sum_{j=0}^3 a_j \\sigma_j) \\sigma_i\\right)\n",
    "= \\sum_{j=0}^3 a_j \\, \\frac{1}{2} \\tr ( \\sigma_j \\sigma_i) = \\sum_{j=0}^3 a_j \\delta_{ji} = a_i\n",
    "$$\n",
    "    \n",
    "</details>\n"
   ]
  },
  {
   "cell_type": "markdown",
   "metadata": {
    "slideshow": {
     "slide_type": "slide"
    }
   },
   "source": [
    "Entonces, podremos obtener el valor esperado de $A$  si somos capaces de medir los de $X,$ $Y$ y $Z$.\n",
    "\n",
    "<br>\n",
    "\n",
    "\\begin{eqnarray*}\n",
    "\\langle A\\rangle_\\psi ~=~\\bra{\\psi}A\\ket{\\psi} ~&=& ~ \n",
    "\\bra{\\psi} a_0 I + a_1 X + a_2 Y  + a_3 Z \\ket{\\psi} \\\\ \\rule{0mm}{16mm}\n",
    "&=& ~a_0 + a_1 \\langle X\\rangle_\\psi + a_2 \\langle Y\\rangle_\\psi + a_3 \\langle Z\\rangle_\\psi\n",
    "\\end{eqnarray*}\n"
   ]
  },
  {
   "cell_type": "markdown",
   "metadata": {
    "slideshow": {
     "slide_type": "slide"
    }
   },
   "source": [
    "- $\\langle Z \\rangle_{\\psi}$\n",
    "\n",
    "Los estados de la base computacional son autoestados del operador $Z$ con autovalor $\\pm 1$\n",
    "<br>\n",
    "\n",
    "$$\n",
    "Z \\ket{0} =+ \\ket{0}   ~~~~~~~~~~~~~~~~~~~~~ Z \\ket{1} =-\\ket{1} \n",
    "$$\n",
    "<br>\n",
    "\n",
    "Dado un estado $\\ket{\\psi} = c^Z_0\\ket{0} + c^Z_1\\ket{1}$, la medida repetida arroja de forma aleatoria los valores propios de $Z \\to \\pm 1$ con frecuencias relativas \n",
    "<br>\n",
    "<br>\n",
    "$$(+1)\\to n^Z_0 ~~~~~~~~~~~~~~~~~~~~~~~~ (-1)\\to n^Z_1$$ "
   ]
  },
  {
   "cell_type": "markdown",
   "metadata": {
    "slideshow": {
     "slide_type": "slide"
    }
   },
   "source": [
    "El valor esperado es \n",
    "\n",
    "\\begin{eqnarray*}\n",
    "\\langle Z \\rangle_\\psi = \\bra{\\psi} Z \\ket{\\psi} \n",
    "&=& \\left( c^{*Z}_0\\bra{0} + c^{*}Z_1\\bra{1}\\right) Z\\left( c^Z_0\\ket{0} + c^Z_1\\ket{1}\\right)  \\nonumber \\\\ \\rule{0mm}{12mm}\n",
    "&=& \\left( c^{*Z}_0\\bra{0} + c^{*Z}_1\\bra{1}\\right) \\left(+ c^Z_0\\ket{0} - c^Z_1\\ket{1}\\right)  \\nonumber \\\\  \\rule{0mm}{12mm}\n",
    "&=& (+1) |c^Z_0|^2 + (-1) |c^Z_1|^2    \\nonumber \\\\  \\rule{0mm}{12mm}\n",
    "&=& +\\frac{n^Z_0}{N}- \\frac{ n^Z_1}{N}\n",
    "\\end{eqnarray*}\n",
    "\n",
    "el valor medio, como era de esperar"
   ]
  },
  {
   "cell_type": "markdown",
   "metadata": {
    "slideshow": {
     "slide_type": "fragment"
    }
   },
   "source": [
    "Para medir autovalores $(-1)^a=+1,-1$ de $Z$ el circuito es simplemente\n",
    "<br>\n",
    "<br>\n",
    "\n",
    "\n",
    "<figure><center>\n",
    "<img src=\"images/cubit_meter1.png\" align=center width='30%'/>\n",
    "</center></figure>"
   ]
  },
  {
   "cell_type": "markdown",
   "metadata": {
    "slideshow": {
     "slide_type": "slide"
    }
   },
   "source": [
    "- $\\langle X \\rangle_{\\psi}$\n",
    "\n",
    "En la base $X$, **el mismo estado** de entrada se escribirá con otras componentes $\\ket{\\psi} = c_0^X\\ket{+} + c_1^X\\ket{-}$.\n",
    "\n",
    "Si ahora medimos $\\ket{\\psi}$ en la base $X$, la repetición arrojará  una muestra aleatoria de autovalores de $X\\to \\pm 1$ con frecuencias \n",
    "\n",
    "$$~(+1)\\to n^X_0  ~~~~~~~~~~~~~~~~~~~ (-1)\\to n^X_1  $$\n",
    "\n",
    "El valor esperado de $X$  se obtiene del promedio de frecuencias *relativas*\n",
    "<br>\n",
    "<br>\n",
    "\n",
    "\\begin{align}\n",
    "\\langle X \\rangle_\\psi & = (c^{*X}_0\\bra{+} + c_1^{*X}\\bra{-})\\, X \\, (c_0^X\\ket{+} + c_1^X\\ket{-}) \n",
    "& \\\\  \\rule{0mm}{10mm}\n",
    "& = (+1)|c_0^X|^2 +(-1)|c_1^X|^2 \\\\ \\rule{0mm}{10mm}\n",
    "& =~ +\\frac{n^X_0}{N}- \\frac{ n^X_1}{N}\n",
    "\\end{align}\n",
    "\n"
   ]
  },
  {
   "cell_type": "markdown",
   "metadata": {
    "slideshow": {
     "slide_type": "fragment"
    }
   },
   "source": [
    "Ya hemos visto cuál es el circuito necesario para  medir autoestados $(-1)^a$ en la base $X$ \n",
    "<br>\n",
    "<br>\n",
    "\n",
    "<figure><center>\n",
    "<img src=\"images/cubit_meter_xbasis.png\" align=center width='35%'/>\n",
    "</center></figure>"
   ]
  },
  {
   "cell_type": "markdown",
   "metadata": {
    "slideshow": {
     "slide_type": "slide"
    }
   },
   "source": [
    "- $\\langle Y \\rangle_{\\psi}$\n",
    "\n",
    "\n",
    "Igualmente, si medimos el estado $\\ket{\\psi} = c_0^Y\\ket{+i} + c_1^Y\\ket{-i}$ con un medidor asociado al operador $Y = SHZHS^\\dagger$, la repetición arrojará  una muestra aleatoria de valores propios de $Y\\to \\pm 1$ con frecuencias relativas $+1\\to n^Y_0$ y $-1\\to n^Y_1$. Entonces\n",
    "\n",
    "$$\n",
    "\\langle Y \\rangle_\\psi = +\\frac{n^Y_0}{N}- \\frac{ n^Y_1}{N}\\, .\n",
    "$$\n",
    "\n"
   ]
  },
  {
   "cell_type": "markdown",
   "metadata": {
    "slideshow": {
     "slide_type": "fragment"
    }
   },
   "source": [
    "Circuito necesario para medir en la base $ Y$ \n",
    "<br>\n",
    "<br>\n",
    "\n",
    "\n",
    "<figure><center>\n",
    "<img src=\"images/cubit_meter_ybasis.png\" align=center width='35%'/>\n",
    "</center></figure>"
   ]
  },
  {
   "cell_type": "code",
   "execution_count": 12,
   "metadata": {
    "slideshow": {
     "slide_type": "slide"
    }
   },
   "outputs": [
    {
     "data": {
      "image/png": "[encoded data removed]",
      "text/plain": [
       "<Figure size 436.286x200.667 with 1 Axes>"
      ]
     },
     "metadata": {},
     "output_type": "display_data"
    },
    {
     "name": "stdout",
     "output_type": "stream",
     "text": [
      "{'1': 50002, '0': 49998}\n"
     ]
    }
   ],
   "source": [
    "'generamos el estado |psi(theta,phi)>'\n",
    "qc_psi_Qiskit = QuantumCircuit(1,1)\n",
    "qc_psi_Qiskit.u(0,0,0,0)\n",
    "\n",
    "qc_psi_Qiskit.barrier()\n",
    "'añadimos el medidor efectivo segun queramos medir <X>, <Y> o <Z>'\n",
    "#P = 'Z'\n",
    "P = 'X'\n",
    "#P = 'Y'\n",
    "\n",
    "if P =='X':\n",
    "    qc_psi_Qiskit.h(0)    \n",
    "\n",
    "elif P =='Y':\n",
    "    qc_psi_Qiskit.sdg(0)\n",
    "    qc_psi_Qiskit.h(0)\n",
    "\n",
    "qc_psi_Qiskit.measure(0,0)    \n",
    "display(qc_psi_Qiskit.draw('mpl')) \n",
    "\n",
    "nshots = 100000\n",
    "\n",
    "counts_psi = AerSimulator().run(qc_psi_Qiskit,shots = nshots).result().get_counts()\n",
    "print(counts_psi)\n"
   ]
  },
  {
   "cell_type": "markdown",
   "metadata": {
    "slideshow": {
     "slide_type": "slide"
    }
   },
   "source": [
    "Ahora,con las frecuencias relativas de los autovalores  de Z, podemos calcular los valores medios\n"
   ]
  },
  {
   "cell_type": "code",
   "execution_count": 13,
   "metadata": {
    "slideshow": {
     "slide_type": "-"
    }
   },
   "outputs": [
    {
     "name": "stdout",
     "output_type": "stream",
     "text": [
      "< X > = -4e-05\n"
     ]
    }
   ],
   "source": [
    "mean_P = 0\n",
    "\n",
    "for bits, counts  in counts_psi.items():\n",
    "    mean_P += (-1)**(int(bits))* (counts/nshots)\n",
    "\n",
    "print('<',P,'>','=',np.round(mean_P,5))\n"
   ]
  },
  {
   "cell_type": "markdown",
   "metadata": {
    "slideshow": {
     "slide_type": "fragment"
    }
   },
   "source": [
    "Finalmente ya estamos en condiciones de calcular el valor esperado de un observable arbitrario"
   ]
  },
  {
   "cell_type": "markdown",
   "metadata": {
    "slideshow": {
     "slide_type": "slide"
    }
   },
   "source": [
    "<div class=\"alert alert-block alert-success\">\n",
    "<b>Ejercicio:</b> \n",
    "<br>    \n",
    "genera un observable arbitrario $A$. Obtén los coeficientes $a_i$  y calcula el valor esperado \n",
    "    \n",
    "\\begin{eqnarray*}\n",
    "\\langle A\\rangle_\\psi  = ~a_0 + a_1 \\langle X\\rangle_\\psi + a_2 \\langle Y\\rangle_\\psi + a_3 \\langle Z\\rangle_\\psi\n",
    "\\end{eqnarray*}\n",
    "</div>"
   ]
  },
  {
   "cell_type": "markdown",
   "metadata": {
    "slideshow": {
     "slide_type": "slide"
    }
   },
   "source": [
    "### $\\langle A \\rangle$ con un sólo circuito\n",
    "\n",
    "Podemos escribir la descomposición de $A$ de la siguiente manera\n",
    "\n",
    "$$\n",
    "A = a_0 I + |{\\bf a}| ~ \\hat \\bn \\cdot \\bsig \n",
    "$$\n",
    "\n",
    "donde ${\\bf a} = (a_1,a_2,a_3)~$ y $~\\hat \\bn = {\\bf a}/ |{\\bf a}|$.\n",
    "De modo que, ahora \n",
    "\n",
    "$$\n",
    "\\langle A \\rangle_\\psi  = a_0 + |\\bf a| \\,  \\langle \\bn \\cdot \\bsig  \\rangle_\\psi\n",
    "$$\n",
    "\n",
    "Vemos que para calcular $\\langle A \\rangle_\\psi$ es suficiente con conocer los valores $a_i = (a_0,{\\bf a})$ y **un sólo circuito** que nos proporcione el valor esperado $\\langle \\bn \\cdot \\bsig  \\rangle_\\psi$. \n",
    "\n"
   ]
  },
  {
   "cell_type": "markdown",
   "metadata": {
    "slideshow": {
     "slide_type": "slide"
    }
   },
   "source": [
    "La clave de este último punto está en usar el *medidor efectivo* en la dirección $\\hat \\bn$ \n",
    "\n",
    "<br>\n",
    "\n",
    "\n",
    "\n",
    "<figure><center>\n",
    "<img src=\"images/Un_meter.png\" align=center width='40%'/>\n",
    "</center></figure>\n",
    "\n",
    "<br>\n",
    "\n",
    "Con la salida de este circuito, el valor esperado es análogo\n",
    "\n",
    "$$\n",
    "\\langle \\bn \\cdot \\bsig  \\rangle_\\psi =  + \\frac{n_0}{N} - \\frac{n_1}{N}\n",
    "$$"
   ]
  },
  {
   "cell_type": "markdown",
   "metadata": {},
   "source": [
    "<div class=\"alert alert-block alert-success\">\n",
    "<b>Ejercicio:</b> \n",
    "   \n",
    "Escribe una función que calcule el valor esperado de un operador $A$ en un estado $\\ket{\\psi}$ usando este método. Verifica que es consistente con el método anterior. \n",
    "</div>"
   ]
  },
  {
   "cell_type": "markdown",
   "metadata": {
    "slideshow": {
     "slide_type": "skip"
    }
   },
   "source": [
    "## Desviación estándar"
   ]
  },
  {
   "cell_type": "markdown",
   "metadata": {
    "slideshow": {
     "slide_type": "skip"
    }
   },
   "source": [
    "\n",
    "Dada una variable aleatoria, $(\\lambda,p(\\lambda))$, la *varianza*  es *el valor medio de la desviación cuadrática en torno a la media*\n",
    "<br>\n",
    "<br>\n",
    "$$\n",
    "~~\\sigma ^2 = \\overline{(\\lambda-\\bar\\lambda)^2}\n",
    "$$\n"
   ]
  },
  {
   "cell_type": "markdown",
   "metadata": {
    "slideshow": {
     "slide_type": "skip"
    }
   },
   "source": [
    "En el caso de que la variable aleatoria  sean los resultados de las medidas de un observable $A$ en un estado cuántico $\\ket{\\psi}$, la varianza será el valor medio del operador $(A-\\langle A\\rangle_\\psi)^2$, es decir\n",
    "<br>\n",
    "<br>\n",
    "\\begin{align}\n",
    "\\sigma(A,\\psi)^2 &= \\langle  (A - \\langle A\\rangle_\\psi )^2 \\rangle_\\psi \\\\  \\rule{0mm}{8mm}\n",
    "&= \\bra{\\psi} (A - \\langle A\\rangle_\\psi )^2 \\ket{\\psi} \\\\ \\rule{0mm}{8mm}\n",
    "&= \\bra{\\psi} (A^2 - 2 A \\langle A\\rangle_\\psi + \\langle A\\rangle_\\psi^2 ) \\ket{\\psi} \\\\  \\rule{0mm}{8mm}\n",
    "& = \\bra{\\psi}A^2\\ket{\\psi} - \\bra{\\psi}A\\ket{\\psi}^2\n",
    "\\end{align}\n",
    "<br>\n",
    "\n",
    "de modo que, llegamos a la siguiente expresión,  para la desviación tipica $\\Delta_\\psi A = \\sigma(A,\\psi)$"
   ]
  },
  {
   "cell_type": "markdown",
   "metadata": {
    "slideshow": {
     "slide_type": "skip"
    }
   },
   "source": [
    "<div class=\"alert alert-block alert-info\",text-align:center>\n",
    "<p style=\"color: navy;\">  \n",
    "<b>Teorema:</b> <i> desviación típica de un observable en un estado</i>\n",
    "<br>\n",
    "<br>\n",
    "$$  \\Delta_\\psi A =  \\sqrt{\\bra{\\psi}A^2\\ket{\\psi} - \\bra{\\psi} A\\ket{\\psi}^2}\n",
    "$$\n",
    "<br>\n",
    "</div>\n"
   ]
  },
  {
   "cell_type": "markdown",
   "metadata": {
    "slideshow": {
     "slide_type": "skip"
    }
   },
   "source": [
    "Ni la variaza ni la desviación típica son operaciones lineales $\\Delta_\\psi(A+B) \\neq \\Delta_\\psi A + \\Delta_\\psi B$.\n",
    "\n",
    "Por lo tanto, es necesario calcular los valores esperados $\\langle A^2\\rangle_\\psi$ y $\\langle A\\rangle_\\psi^2$ por separado. "
   ]
  },
  {
   "cell_type": "markdown",
   "metadata": {
    "slideshow": {
     "slide_type": "skip"
    }
   },
   "source": [
    "<div class=\"alert alert-block alert-success\">\n",
    "<b>Ejercicio:</b> \n",
    "<br>\n",
    "Escribe una función <i>desv_estandar</i>, que reciba como argumentos, un observable $A$ y un estado $\\ket{\\psi}$ y calcule por simulación cuántica $\\Delta_\\psi A$. \n",
    "</div>"
   ]
  },
  {
   "cell_type": "markdown",
   "metadata": {
    "slideshow": {
     "slide_type": "skip"
    }
   },
   "source": [
    "<div class=\"alert alert-block alert-success\">\n",
    "<b>Ejercicio:</b> \n",
    "<br>\n",
    "Genera dos observables aleatorios $A$ y $B$. Utilizando la función <i>desv_estandar</i>  verifica la relación de incertidumbre de Heisenberg\n",
    "<br>\n",
    "<br>\n",
    "$$\n",
    "\\Delta_\\psi A\\, \\Delta_\\psi B \\geq \\frac{1}{2} | \\langle [A,B]\\rangle_\\psi |\n",
    "$$\n",
    "</div>"
   ]
  },
  {
   "cell_type": "markdown",
   "metadata": {
    "slideshow": {
     "slide_type": "skip"
    }
   },
   "source": [
    "## Valor esperado de un operador unitario"
   ]
  },
  {
   "cell_type": "markdown",
   "metadata": {
    "slideshow": {
     "slide_type": "skip"
    }
   },
   "source": [
    "Supongamos que sabemos cómo preparar, mediante un circuito, el estado $\\ket{\\psi}$ a partir del estado $\\ket{0}$. \n",
    "\n",
    "$$\\ket{\\psi} = U\\ket{0}$$\n",
    "\n",
    "En este caso, podemos calcular el valor esperado de cualquier operador unitario $V$ de la siguiente forma\n",
    "\n",
    "$$\n",
    "\\bra{\\psi}V\\ket{\\psi} = \\bra{0} U^\\dagger V U\\ket{0} = \\braket{0}{\\tilde \\psi}\n",
    "$$\n",
    "\n",
    "donde $$\\ket{\\tilde\\psi} \\equiv U^\\dagger V U\\ket{0}$$ \n",
    "\n",
    "y la acción del operador unitario $U^\\dagger V U$ se realiza mediante una composición de circuitos inicializada en $\\ket{0}$"
   ]
  },
  {
   "cell_type": "markdown",
   "metadata": {
    "slideshow": {
     "slide_type": "skip"
    }
   },
   "source": [
    " Midiendo $\\ket{\\tilde \\psi}$  en la base $Z$, la fracción relativa de resultados $0\\to  n_0/N$ nos da acceso al *módulo del valor esperado*, \n",
    " \n",
    "$$\n",
    "\\sqrt{ \\frac{n_{0}(\\tilde\\psi)}{N} } ~=~  \\sqrt{p_0}  ~=~   | \\braket{0}{\\tilde \\psi}|  ~=~ |\\bra{\\psi}V\\ket{\\psi}|   \n",
    "$$\n",
    "\n"
   ]
  },
  {
   "cell_type": "markdown",
   "metadata": {
    "slideshow": {
     "slide_type": "skip"
    }
   },
   "source": [
    "<div class=\"alert alert-block alert-info\">\n",
    "<p style=\"text-align:left ;color: navy;\">  \n",
    "Circuito necesario para medir $\\langle V\\rangle_{\\psi} $ donde $\\ket{\\psi} = U\\ket{0}$ es un estado preparable\n",
    "<br>\n",
    "<br>\n",
    "<div>\n",
    "<img src=\"images/vev_unitary_V.png\" width=\"45%\" style=\"margin:auto\"/>\n",
    "</p>\n",
    "</div>\n"
   ]
  },
  {
   "cell_type": "markdown",
   "metadata": {
    "slideshow": {
     "slide_type": "skip"
    }
   },
   "source": [
    "Si $V$ además de ser <i>unitario</i>, fuese <i>hermítico</i>, entonces tendríamos acceso al valor esperado completo, al tratarse de una cantidad real. \n",
    "\n",
    "\n",
    "Operadores de 1 cúbit unitarios y hermíticos son, por ejemplo, los operadores \n",
    "$V = X,Y,Z,H$. \n",
    "</div>"
   ]
  },
  {
   "cell_type": "markdown",
   "metadata": {
    "slideshow": {
     "slide_type": "skip"
    }
   },
   "source": [
    "Este argumento nos permite calcular de otra manera \n",
    "\n",
    "$$\n",
    "\\left. \n",
    "\\begin{array}{c} \\langle Z\\rangle_\\psi \\\\ \\rule{0mm}{8mm} \\langle X\\rangle_\\psi \\\\ \\rule{0mm}{8mm} \\langle Y\\rangle_\\psi \\end{array}\n",
    "\\right\\} ~=~\\braket{0}{\\tilde\\psi} ~=~ \\sqrt{\\frac{n_{0}(\\tilde\\psi)}{N}} ~~~\\hbox{con}~~~~\n",
    "\\left\\{ \n",
    "\\begin{array}{l}  \\ket{\\tilde \\psi} = U^\\dagger  Z  U\\ket{0} \\\\ \\rule{0mm}{8mm} \\ket{\\tilde \\psi} = U^\\dagger H Z H U\\ket{0}  \\\\ \\rule{0mm}{8mm}  \\ket{\\tilde \\psi} = U^\\dagger SH Z HS^\\dagger U\\ket{0} \\end{array}\n",
    "\\right.\n",
    "$$"
   ]
  },
  {
   "cell_type": "markdown",
   "metadata": {
    "slideshow": {
     "slide_type": "skip"
    }
   },
   "source": [
    "Como vemos, ganamos en facilidad de cálculo pero perdemos información acerca del signo de $\\langle V\\rangle_\\psi$"
   ]
  },
  {
   "cell_type": "markdown",
   "metadata": {
    "slideshow": {
     "slide_type": "skip"
    }
   },
   "source": [
    "<div class=\"alert alert-block alert-success\">\n",
    "<b>Ejercicio:</b> \n",
    "Calcula por este procedimiento los valores de  $\\langle X\\rangle_\\psi$, $\\langle Y\\rangle_\\psi$ y $\\langle Z\\rangle_\\psi$ encontrados anteriormente y verificar que obtienes el mismo resultado. \n",
    "</div>"
   ]
  },
  {
   "cell_type": "code",
   "execution_count": null,
   "metadata": {
    "run_control": {
     "marked": true
    },
    "slideshow": {
     "slide_type": "skip"
    }
   },
   "outputs": [],
   "source": [
    "' el operador unitario que genera |psi>  a partir de |0> es U(theta, phi, 0,0)'\n",
    "qc_psi_U = QuantumCircuit(1,1)\n",
    "qc_psi_U.u(theta,phi,0,0)\n",
    "\n",
    "\n",
    "'fijemos el observable a medir'\n",
    "P = 'Y'\n",
    "\n",
    "if P =='X':\n",
    "    qc_psi_U.x(0)\n",
    "elif P=='Y':\n",
    "    qc_psi_U.y(0)\n",
    "elif P=='Z':\n",
    "    qc_psi_U.z(0)\n",
    "    \n",
    "qc_psi_U.u(-theta,-phi,0,0)\n",
    "\n",
    "\n",
    "qc_psi_U.measure(0,0)\n",
    "\n",
    "display(qc_psi_U.draw('mpl'))\n",
    "\n",
    "' ejecutamos '\n",
    "shots= 100000\n",
    "counts=AerSimulator().run(qc_psi_U,shots=shots).result().get_counts()\n",
    "\n",
    "' ahora solo nos interesa la fracción de 0s '\n",
    "mean_P = np.sqrt(counts['0']/shots)\n",
    "print('|<',P,'>| =',np.round(mean_P,5))"
   ]
  }
 ],
 "metadata": {
  "celltoolbar": "Slideshow",
  "kernelspec": {
   "display_name": "Python 3 (ipykernel)",
   "language": "python",
   "name": "python3"
  },
  "language_info": {
   "codemirror_mode": {
    "name": "ipython",
    "version": 3
   },
   "file_extension": ".py",
   "mimetype": "text/x-python",
   "name": "python",
   "nbconvert_exporter": "python",
   "pygments_lexer": "ipython3",
   "version": "3.9.18"
  },
  "nbTranslate": {
   "displayLangs": [
    "*"
   ],
   "hotkey": "alt-t",
   "langInMainMenu": true,
   "sourceLang": "en",
   "targetLang": "fr",
   "useGoogleTranslate": true
  },
  "toc": {
   "base_numbering": 1,
   "nav_menu": {},
   "number_sections": true,
   "sideBar": true,
   "skip_h1_title": false,
   "title_cell": "Table of Contents",
   "title_sidebar": "Contents",
   "toc_cell": false,
   "toc_position": {},
   "toc_section_display": true,
   "toc_window_display": false
  },
  "varInspector": {
   "cols": {
    "lenName": 16,
    "lenType": 16,
    "lenVar": 40
   },
   "kernels_config": {
    "python": {
     "delete_cmd_postfix": "",
     "delete_cmd_prefix": "del ",
     "library": "var_list.py",
     "varRefreshCmd": "print(var_dic_list())"
    },
    "r": {
     "delete_cmd_postfix": ") ",
     "delete_cmd_prefix": "rm(",
     "library": "var_list.r",
     "varRefreshCmd": "cat(var_dic_list()) "
    }
   },
   "types_to_exclude": [
    "module",
    "function",
    "builtin_function_or_method",
    "instance",
    "_Feature"
   ],
   "window_display": false
  }
 },
 "nbformat": 4,
 "nbformat_minor": 4
}
