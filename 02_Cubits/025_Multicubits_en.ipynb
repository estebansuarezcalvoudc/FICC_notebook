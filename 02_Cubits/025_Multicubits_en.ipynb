{
 "cells": [
  {
   "cell_type": "markdown",
   "id": "52a7bbaa",
   "metadata": {
    "slideshow": {
     "slide_type": "slide"
    },
    "tags": []
   },
   "source": [
    "<img src=\"../figuras/logos/logo_usc.jpg\" align=right width='80px'/>\n",
    "<br>\n",
    "\n",
    "<table width=\"100%\">\n",
    "<td style=\"font-size:40px;font-style:italic;text-align:left;background-color:rgba(0, 220, 170,0.7)\">\n",
    "Multi-qubits\n",
    "</td></table>\n",
    "\n",
    "\n",
    "\n",
    "$ \\newcommand{\\bra}[1]{\\langle #1|} $\n",
    "$ \\newcommand{\\ket}[1]{|#1\\rangle} $\n",
    "$ \\newcommand{\\braket}[2]{\\langle #1|#2\\rangle} $\n",
    "$ \\newcommand{\\i}{{\\color{blue} i}} $ \n",
    "$ \\newcommand{\\Hil}{ {\\mathcal H} } $\n",
    "$ \\newcommand{\\cg}[1]{{\\rm C}#1} $"
   ]
  },
  {
   "cell_type": "code",
   "execution_count": 3,
   "id": "deca5f72",
   "metadata": {
    "slideshow": {
     "slide_type": "-"
    },
    "tags": []
   },
   "outputs": [],
   "source": [
    "import sys\n",
    "sys.path.append('../')\n",
    "import macro_tQ as tQ\n",
    "\n",
    "import numpy as np\n",
    "import scipy.linalg as la\n",
    "from IPython.display import display,Markdown,Latex\n",
    "import matplotlib.pyplot as plt\n",
    "from qiskit.visualization import array_to_latex"
   ]
  },
  {
   "cell_type": "markdown",
   "id": "d20314a4",
   "metadata": {
    "slideshow": {
     "slide_type": "slide"
    },
    "tags": []
   },
   "source": [
    "# Multi-qubit States"
   ]
  },
  {
   "cell_type": "markdown",
   "id": "ad433163",
   "metadata": {
    "slideshow": {
     "slide_type": "skip"
    },
    "tags": []
   },
   "source": [
    "## Multi-qubit bases"
   ]
  },
  {
   "cell_type": "markdown",
   "id": "bc5bb97b",
   "metadata": {
    "slideshow": {
     "slide_type": "slide"
    },
    "tags": []
   },
   "source": [
    " Let $\\{ \\ket{i}\\}_{i=0,1}$ be the computational basis of the Hilbert space of a qubit $\\Hil = {\\mathbb C}^2$.\n",
    " \n",
    "<div class=\"alert alert-block alert-info\",text-align:center>\n",
    "<p style=\"text-align: center;\"> <p style=\"text-align: left ;color: navy;\">  \n",
    "<b> Definition: </b> \n",
    "<br>\n",
    "The computational basis of $ \\Hil^{\\otimes n}$ is formed by all possible strings of elements\n",
    "<br>\n",
    "<br>\n",
    "$$\n",
    " \\ket{i_{n-1}}\\otimes \\ket{i_{n-2}}\\otimes ... \\otimes \\ket{i_0} ~\\equiv ~\\ket{i_{n-1} i_{n-2}...i_0}~$$ \n",
    "<br>   \n",
    "where $~~\n",
    " i_{n-1},...,i_0=0,1$\n",
    "</div>\n",
    "\n",
    "<br>\n"
   ]
  },
  {
   "cell_type": "markdown",
   "id": "b08c671f",
   "metadata": {
    "slideshow": {
     "slide_type": "skip"
    },
    "tags": []
   },
   "source": [
    "\n",
    "The *dimension* dim($\\Hil^{\\otimes n}$) = $2^n$ matches the number of different possible combinations: $2\\times 2...\\times 2 = 2^n$.\n"
   ]
  },
  {
   "cell_type": "markdown",
   "id": "de5098ea",
   "metadata": {
    "slideshow": {
     "slide_type": "skip"
    },
    "tags": []
   },
   "source": [
    "\n",
    "- When we switch to column vectors to represent a ket, the tensor product translates into the Kronecker product. For example, for a 2-qubit system, $n=2$ and we would have $2^n=2^2 = 4$ and then\n",
    "\n",
    "\n",
    "$$\n",
    "\\ket{00}~=~ \\ket{0}\\otimes \\ket{0}~=~\n",
    "\\begin{bmatrix}1\\\\ 0\\end{bmatrix} \\otimes \\begin{bmatrix}1\\\\ 0\\end{bmatrix} = \\begin{bmatrix}1\\\\0\\\\0 \\\\ 0\\end{bmatrix}\n",
    "~~~~~~,~~~~~\n",
    "\\ket{01}~=~ \\ket{0}\\otimes \\ket{1}~=~\n",
    "\\begin{bmatrix}1\\\\ 0\\end{bmatrix} \\otimes \\begin{bmatrix}0\\\\ 1\\end{bmatrix} = \\begin{bmatrix}0\\\\1\\\\0 \\\\ 0\\end{bmatrix}\n",
    "$$\n",
    "\n",
    "\n",
    "<br>\n",
    "\n",
    "$$\n",
    "\\ket{10}~=~ \\ket{1}\\otimes \\ket{0}~=~\n",
    " \\begin{bmatrix}0\\\\ 1\\end{bmatrix} \\otimes \\begin{bmatrix}1\\\\ 0\\end{bmatrix} = \\begin{bmatrix}0\\\\0\\\\1 \\\\ 0\\end{bmatrix}\n",
    " ~~~~~,~~~~\n",
    "\\ket{11}~=~ \\ket{1}\\otimes \\ket{1}~=~\n",
    "\\begin{bmatrix}0\\\\ 1\\end{bmatrix} \\otimes \\begin{bmatrix}0\\\\ 1\\end{bmatrix} = \\begin{bmatrix}0\\\\0\\\\0 \\\\ 1\\end{bmatrix}\n",
    "$$\n",
    "\n",
    "\n",
    "\n",
    "The labels of the vectors and, therefore, of the components of the matrices, bi-indices $ij=11,12,21,22$ that adopt the same number, $N^2$, of different configurations. \n"
   ]
  },
  {
   "cell_type": "markdown",
   "id": "ce715e40",
   "metadata": {
    "slideshow": {
     "slide_type": "skip"
    },
    "tags": []
   },
   "source": [
    "<div class=\"alert alert-block alert-danger\">\n",
    "<b> Note: </b>\n",
    "    \n",
    "The <i>multi-index</i> $i_{n-1}i_{n-2}....i_0$ can be interpreted as an integer, $p$, written in *binary* base\n",
    "<br>\n",
    "\n",
    "$$\n",
    "~~ i_{n-1} i_{n-2}...i_0 ~~\\longleftrightarrow ~~~p = 2^{n-1} i_{n-1} + ... + 2^0 i_0 =  \\sum_{k=0}^{n-1} 2^k i_k \n",
    "$$\n",
    "<br>\n",
    "which will take $2^n$ values $p = 0,1, \\, ...\\, ,2^{n}-1$. \n",
    "<br>\n",
    "<br>    \n",
    "The change of notation *multi-index* $\\leftrightarrow$ *integer in decimal notation* will be frequent and will apply to any element. \n",
    "    \n",
    "For example $\\ket{000} = \\ket{0}, \\ket{111} = \\ket{7}$ etc.\n",
    "</div>"
   ]
  },
  {
   "cell_type": "markdown",
   "id": "fff45dc9",
   "metadata": {
    "slideshow": {
     "slide_type": "slide"
    },
    "tags": []
   },
   "source": [
    "<div class=\"alert alert-block alert-info\",text-align:center>\n",
    "<p style=\"text-align: center;\"> <p style=\"text-align: left ;color: navy;\">  \n",
    "<br>    \n",
    "The most general state vector  $\\ket{u}\\in \\Hil^{\\otimes n}$ will be a linear combination of elements of the computational basis $\\ket{i_n i_{n-1}...i_1}$ in terms of some components $u_{i_ni_{n-1}...i_1}$\n",
    "<br>    \n",
    "<br>\n",
    "$$\n",
    "\\ket{u} = \\sum_{i_{n-1},...,i_0=0,1} u_{i_{n-1} ... i_0} \\ket{i_{n-1}  ... i_0}  = \\sum_{p=0}^{2^n-1} u_p \\ket{p} \\, .\n",
    "$$\n",
    "<br>\n",
    "where we have used binary and decimal notation interchangeably. \n",
    "</div>\n",
    "\n",
    "\n",
    "\n"
   ]
  },
  {
   "cell_type": "markdown",
   "id": "cf702083",
   "metadata": {
    "slideshow": {
     "slide_type": "skip"
    }
   },
   "source": [
    "<div class=\"alert alert-block alert-warning\">\n",
    "<b>Example:</b>for $n=2$ we will have, in binary notation  \n",
    "\n",
    "\\begin{array}{ccc}\n",
    "\\ket{u} ~&=& ~ \\sum_{i,j=0,1} u_{ij} \\ket{ij}~=~ u_{00}\\ket{00}+ u_{01}\\ket{01} + u_{10}\\ket{10} +u_{11}\\ket{11}\n",
    "\\\\ \\\\\n",
    "~&=&~ u_{00}\\begin{bmatrix}1\\\\0\\\\0 \\\\ 0\\end{bmatrix}+ u_{01}  \\begin{bmatrix}0\\\\1\\\\0 \\\\ 0\\end{bmatrix} + u_{10}\\begin{bmatrix}0\\\\0\\\\1\\\\0\\end{bmatrix}+u_{11}  \\begin{bmatrix}0\\\\0\\\\0\\\\1\\end{bmatrix}   ~ = \\begin{bmatrix}u_{00}\\\\ u_{01}\\\\ u_{10} \\\\ u_{11}  \\end{bmatrix}\n",
    "\\end{array}\n",
    "\n",
    "and in decimal notation, for the same vector\n",
    "\\begin{array}{ccc}\n",
    "\\ket{u} ~&=& ~ \\sum_{k=0}^{2^2-1=3} u_{k} \\ket{k}~=~ u_{0}\\ket{0}+ u_{1}\\ket{1} + u_{2}\\ket{2} +u_{3}\\ket{3}\n",
    "\\\\ \\\\\n",
    "~&=&~ u_{0}\\begin{bmatrix}1\\\\0\\\\0 \\\\ 0\\end{bmatrix}+ u_{1}  \\begin{bmatrix}0\\\\1\\\\0 \\\\ 0\\end{bmatrix} + u_{2}\\begin{bmatrix}0\\\\0\\\\1\\\\0\\end{bmatrix}+u_{3}  \\begin{bmatrix}0\\\\0\\\\0\\\\1\\end{bmatrix}   ~ = \\begin{bmatrix}u_{0}\\\\ u_{1}\\\\ u_{2} \\\\ u_{3}  \\end{bmatrix}\n",
    "\\end{array}\n",
    "\n",
    "There should be no confusion between both notations since, as soon as a number greater than 1 appears, it means we are dealing with the decimal base. \n",
    "</div>"
   ]
  },
  {
   "cell_type": "markdown",
   "id": "a9ce2e97",
   "metadata": {
    "slideshow": {
     "slide_type": "skip"
    }
   },
   "source": [
    "  \n",
    "<div class=\"alert alert-block alert-success\">\n",
    "    <b>Exercise 1.2.1.2</b> \n",
    "Normalize the vector $\\ket{u} = (1+i)\\ket{101} -2\\ket{010} + 3\\ket{111}$ and write it in decimal notation\n",
    "</div>"
   ]
  },
  {
   "cell_type": "markdown",
   "id": "0c2eeb74",
   "metadata": {
    "slideshow": {
     "slide_type": "slide"
    },
    "tags": []
   },
   "source": [
    "## Multi-qubit Circuits"
   ]
  },
  {
   "cell_type": "markdown",
   "id": "15d7954d",
   "metadata": {
    "slideshow": {
     "slide_type": "-"
    },
    "tags": []
   },
   "source": [
    "Let \n",
    "$$\\ket{q_{n-1}q_{n-2}...q_0}\n",
    " = \\ket{q_{n-1}}\\otimes  \\ket{q_{n-2}}\\otimes ...\\otimes  \\ket{q_{0}} \n",
    "$$ \n",
    "\n",
    "be a multi-qubit state of the computational basis $q_{a} = 0,1$. \n",
    "\n",
    "This state \n",
    "propagates along a circuit such that <i>each line represents a Hilbert space</i>. "
   ]
  },
  {
   "cell_type": "markdown",
   "id": "a86732e1",
   "metadata": {
    "slideshow": {
     "slide_type": "slide"
    },
    "tags": []
   },
   "source": [
    "The most common assignment in quantum computing programs places the *least significant* qubit $q_0$ on the top line. This is\n",
    "\n",
    "- Qiskit:  \n",
    "\n",
    "<center>\n",
    "<figure>\n",
    "<a id='fig_ref'></a>\n",
    "<img src=\"images/Multicubit_circ.png\" align=center width='30%'/>\n",
    "    <center></center>\n",
    "</figure>\n",
    "</center>"
   ]
  },
  {
   "cell_type": "markdown",
   "id": "f51a0dec",
   "metadata": {
    "slideshow": {
     "slide_type": "slide"
    }
   },
   "source": [
    "This ordering is the reverse of what appears in traditional texts (*Nielsen Chuang*, etc.)\n",
    "\n",
    "- All the others\n",
    "\n",
    "<center>\n",
    "<figure>\n",
    "<a id='fig_ref'></a>\n",
    "<img src=\"images/Multicubit_circ_NC.png\" align=center width='30%'/>\n",
    "    <center></center>\n",
    "</figure>\n",
    "</center>"
   ]
  },
  {
   "cell_type": "markdown",
   "id": "07b06339",
   "metadata": {
    "slideshow": {
     "slide_type": "slide"
    },
    "tags": []
   },
   "source": [
    "## Entanglement"
   ]
  },
  {
   "cell_type": "markdown",
   "id": "9daa3769",
   "metadata": {
    "slideshow": {
     "slide_type": "-"
    },
    "tags": []
   },
   "source": [
    "In general, the states $\\ket{u}\\in \\Hil^{\\otimes n}$ belong to two disjoint sets\n",
    "    <br>\n",
    "    \n",
    "   - factorizable states, when $\\ket{u} = \\ket{a}\\otimes \\ket{b}\\otimes...\\otimes \\ket{c}$\n",
    "<br>\n",
    "\n",
    "   - entangled states, when $\\ket{u} \\neq \\ket{a}\\otimes \\ket{b}\\otimes...\\otimes \\ket{c}$ is not factorizable\n",
    "    \n",
    "  "
   ]
  },
  {
   "cell_type": "markdown",
   "id": "4a0dcc1a",
   "metadata": {
    "slideshow": {
     "slide_type": "slide"
    },
    "tags": []
   },
   "source": [
    "Now we can also use bases whose elements are factored or entangled vectors.\n",
    "\n",
    "- **computational basis** (factored): $\\{ \\ket{00},\\ket{01},\\ket{10},\\ket{11}\\}$\n",
    "<br>\n",
    "\n",
    "- **Bell basis** (entangled): \n",
    "\n",
    "\\begin{array}{rcl}\n",
    "\\ket{00}_B &=& \\frac{1}{\\sqrt{2}} \\big( \\ket{00} + \\ket{11} \\big) ~= ~\\ket{\\Phi^+} \\\\\n",
    "\\ket{01}_B &=& \\frac{1}{\\sqrt{2}} \\big( \\ket{00} - \\ket{11} \\big) ~= ~\\ket{\\Phi^-}\\\\\n",
    "\\ket{10}_B &=& \\frac{1}{\\sqrt{2}} \\big( \\ket{01} + \\ket{10} \\big) ~= ~\\ket{\\Psi^+} \\\\\n",
    "\\ket{11}_B &=& \\frac{1}{\\sqrt{2}} \\big( \\ket{01} - \\ket{10} \\big) ~= ~\\ket{\\Psi^-}\\\\\n",
    "\\end{array}\n",
    "\n",
    "<br>"
   ]
  },
  {
   "cell_type": "markdown",
   "id": "41d06a69",
   "metadata": {
    "slideshow": {
     "slide_type": "slide"
    }
   },
   "source": [
    "## Partial Measurements\n",
    "\n",
    "A partial measurement affects only a subset of qubits in a multi-qubit system.\n",
    "\n",
    "Here we find a crucial difference between factorizable and entangled states."
   ]
  },
  {
   "cell_type": "markdown",
   "id": "b6d2692d",
   "metadata": {
    "slideshow": {
     "slide_type": "fragment"
    }
   },
   "source": [
    "Let's consider the *factorizable* bi-qubit state seen before\n",
    "\n",
    "$$\n",
    "\\ket{u} = \\ket{a}\\otimes \\ket{b} = \\frac{1}{\\sqrt{2}}\\big( \\ket{0} + \\ket{1}\\big)\\otimes \\frac{1}{\\sqrt{2}}\\big( \\ket{0} + \\ket{1}\\big)\\, .\n",
    "$$\n",
    "\n",
    "where we will assume that the qubit $\\ket{a}$ is in Alice's laboratory, and the qubit $\\ket{b}$ is in Bob's."
   ]
  },
  {
   "cell_type": "markdown",
   "id": "f14519c6",
   "metadata": {
    "slideshow": {
     "slide_type": "slide"
    }
   },
   "source": [
    "A measurement by Alice on the first qubit can only result, with probability $1/2$, in one of the two possible states below  \n",
    "<br>\n",
    "$$\n",
    "\\ket{u} ~\\rightarrow ~ \\left\\{ \\begin{matrix}\\ket{0} \\otimes \\frac{1}{\\sqrt{2}}\\big( \\ket{0} + \\ket{1}\\big)\\\\ \\ket{1} \\otimes \\frac{1}{\\sqrt{2}}\\big( \\ket{0} + \\ket{1}\\big) \\end{matrix} \\right.\n",
    "$$\n",
    "<br>\n",
    "\n",
    "We see that, after this measurement, the second qubit remains intact. If Bob measures, he can obtain $\\ket{0}$ or $\\ket{1}$ with probability $1/2$.\n",
    "<br>\n",
    "In this case, the measurements of Alice and Bob *are not correlated* \n"
   ]
  },
  {
   "cell_type": "markdown",
   "id": "44a406aa",
   "metadata": {
    "slideshow": {
     "slide_type": "slide"
    }
   },
   "source": [
    " However, if the state is *entangled*, for example, \n",
    "<br>\n",
    "\n",
    "$$\n",
    "  \\ket{u} = \\frac{1}{\\sqrt{2}}\\big( \\ket{00} + \\ket{11} \\big)\\, ,\n",
    "$$\n",
    "<br>\n",
    "a measurement by Alice on the first qubit collapses the entire state to one of the two possible outcomes \n",
    "<br>\n",
    "<br>\n",
    "$$\n",
    "\\ket{u} ~\\stackrel{\\hbox{if Alice measures}}{\\longrightarrow} ~ \\left\\{ \\begin{matrix}\\ket{0}   \\\\ \\ket{1} \\end{matrix} \\right. \\, \n",
    "\\stackrel{\\hbox{ Alice writes}}{\\longrightarrow} ~ \\left\\{ \\begin{matrix}\\ket{0}\\otimes\\ket{0}  \\\\ \\ket{1}\\otimes \\ket{1}\\end{matrix} \\right. \\, .\n",
    "$$\n",
    "<br>\n",
    "also with a probability of 1/2 for each case.\n",
    "\n"
   ]
  },
  {
   "cell_type": "markdown",
   "id": "b3153abb",
   "metadata": {
    "slideshow": {
     "slide_type": "slide"
    }
   },
   "source": [
    "We see that now: the state of the second qubit has undergone a collapse *correlated with the result* of the measurement of the first\n",
    "\n",
    "- If Alice measured $\\ket{0}$, she knows Bob can only obtain $\\ket{0}$\n",
    "<br>\n",
    "<br>\n",
    "- If Alice measured $\\ket{1}$, she knows Bob can only obtain $\\ket{1}$\n",
    "<br>\n",
    "\n",
    "the measurements of Alice and Bob are indeed 100\\% *correlated*"
   ]
  },
  {
   "cell_type": "markdown",
   "id": "49aecc6f",
   "metadata": {
    "slideshow": {
     "slide_type": "fragment"
    }
   },
   "source": [
    "\n",
    "This correlation is independent of the distance separating Alice and Bob. That seems to violate causality.\n",
    "\n",
    "Einstein, Podolsky, and Rosen in 1935 thought that this fact demonstrated that Quantum Mechanics was incomplete. This is known as the [*EPR paradox*](https://en.wikipedia.org/wiki/Einstein%E2%80%93Podolsky%E2%80%93Rosen_paradox)"
   ]
  },
  {
   "cell_type": "markdown",
   "id": "5a6917d7",
   "metadata": {
    "slideshow": {
     "slide_type": "slide"
    }
   },
   "source": [
    "<div class=\"alert alert-block alert-danger\">\n",
    "<b> Notice: </b>\n",
    "<br>    \n",
    "    \n",
    "- the collapse does not involve anything physical going to the qubit  in Bob's lab\n",
    "<br>\n",
    "    \n",
    "- it is all a statement are about the <b>description of the system</b> by Alice according to <b>her</b> knowledge of the experiment. \n",
    "<br>        \n",
    "    \n",
    "- the perfect correlation is the same one would obtain by preparing a classical situation with perfect *a priori* correlation. \n",
    "<br>\n",
    "    \n",
    "- in order to reveal effects that are non-classical, we need to introduce measurements that do not commute. This was first done by John Bell in 1964.\n",
    "<br>\n",
    "    \n",
    "- The way to describe the previous EPR process from the point of view of Bob needs to wait until we introduce the density matrix formalism.    \n",
    "    \n",
    "\n",
    "</div>"
   ]
  },
  {
   "cell_type": "markdown",
   "id": "787082b2",
   "metadata": {
    "slideshow": {
     "slide_type": "slide"
    }
   },
   "source": [
    "# Multi-qubit Gates"
   ]
  },
  {
   "cell_type": "markdown",
   "id": "49c93ea4",
   "metadata": {
    "slideshow": {
     "slide_type": "slide"
    }
   },
   "source": [
    "## Product gates: Pauli strings\n",
    "\n",
    "Pauli operators can be chained using the tensor product to act on $\\Hil^n$.\n",
    "\n",
    "For example, the following operators act on $\\Hil^{\\otimes 4}$\n",
    "\n",
    "$$\n",
    " P = X Y Z I , ~X X I Y ,~~ I I I Z, ...\n",
    "$$\n"
   ]
  },
  {
   "cell_type": "markdown",
   "id": "e98143ea",
   "metadata": {
    "slideshow": {
     "slide_type": "fragment"
    }
   },
   "source": [
    "We refer to these operators as *Pauli strings*. They inherit important properties from the Pauli matrices themselves: they are Hermitian operators\n",
    "\n",
    "$$\n",
    "(X Y Z I)^\\dagger  = X^\\dagger Y^\\dagger Z ^\\dagger I^\\dagger = X Y Z I\n",
    "$$\n",
    "\n",
    "and unitary\n",
    "\n",
    "$$\n",
    "(X Y Z I )(X Y Z I)^\\dagger = X^2 Y^2 Z^2 I^2 = I I I I \n",
    "$$"
   ]
  },
  {
   "cell_type": "markdown",
   "id": "e728fbfc",
   "metadata": {
    "slideshow": {
     "slide_type": "slide"
    }
   },
   "source": [
    "## The Walsh-Hadamard Gate"
   ]
  },
  {
   "cell_type": "markdown",
   "id": "9fab2033",
   "metadata": {
    "slideshow": {
     "slide_type": "-"
    }
   },
   "source": [
    "The Walsh-Hadamard operator is a chain of Hadamard operators\n",
    "<br>\n",
    "<br>\n",
    "$$\n",
    "W =  H^{\\otimes n} = H\\otimes H \\ldots \\otimes H \n",
    "$$\n"
   ]
  },
  {
   "cell_type": "markdown",
   "id": "6a7290fc",
   "metadata": {
    "slideshow": {
     "slide_type": "fragment"
    }
   },
   "source": [
    "\n",
    "\n",
    "The action of $W$ on the reference state $\\ket{00...0}$ produces a uniform superposition of all the basis states\n",
    "<br>\n",
    "<br>\n",
    "\n",
    "\\begin{eqnarray}\n",
    "W \\ket{00...0} &~=~& H\\ket{0}\\otimes H\\ket{0} \\otimes ... \\otimes H\\ket{0} \\\\  \\rule{0mm}{10mm}\n",
    "&=& \\frac{1}{\\sqrt{2}}\\big(\\ket{0}+\\ket{1}\\big)\\otimes \\frac{1}{\\sqrt{2}}\\big(\\ket{0}+\\ket{1}\\big)\\otimes ...\\otimes \\frac{1}{\\sqrt{2}}\\big(\\ket{0}+\\ket{1}\\big)\\\\ \\rule{0mm}{8mm}\n",
    "&=& \\frac{1}{2^{n/2}}\\big(\\ket{00...00} + \\ket{00...01}+....+\\ket{11...11} \\big)\n",
    "\\end{eqnarray}\n",
    " "
   ]
  },
  {
   "cell_type": "markdown",
   "id": "f34c6bec",
   "metadata": {
    "slideshow": {
     "slide_type": "skip"
    }
   },
   "source": [
    "<div class=\"alert alert-block alert-danger\",text-align:center>\n",
    "<b> Note</b>:\n",
    "We are going to rewrite the action of $W$ so that it does not become unmanageable when $n$ grows.\n",
    "To do this, let's recall the action of $H$ on a single qubit $\\ket{x} = \\ket{0}$ or $\\ket{1}$\n",
    "    \n",
    "$$\n",
    "H\\ket{x} = \\frac{1}{\\sqrt{2}}\\sum_{y=0,1}(-1)^{xy}\\ket{y}\n",
    "$$\n",
    "\n",
    "Then, using the distributivity of the product of sums, we can manipulate\n",
    "<br>\n",
    "\n",
    "    \n",
    "$$\n",
    "\\begin{array}{rcl}\n",
    "W \\ket{x} &=& H\\ket{x_{n-1}}\\otimes H\\ket{x_{n-2}}\\otimes \\ldots \\otimes H\\ket{x_0} \\\\  \\rule{0mm}{8mm}\n",
    "&=&\\frac{1}{\\sqrt{2}} \\sum_{y_{n-1}= \\, 0,1} (-1)^{y_{n-1}x_{n-1}}\\ket{y_{n-1}}\\otimes\\frac{1}{\\sqrt{2}} \\sum_{y_{n-2}=0,1} (-1)^{y_{n-2}x_{n-2}}\\ket{y_{n-2}} \\otimes \\ldots \\otimes \\frac{1}{\\sqrt{2}} \\sum_{y_{0}\\, =\\, 0,1} (-1)^{y_{0}x_{0}}\\ket{y_{0}} \\\\ \\rule{0mm}{8mm}\n",
    "&=& \\frac{1}{2^{n/2}}\\sum_{y_{n-1} y_{n-2}\\ldots y_{0}=\\, 0,1} (-1)^{x_{n-1} y_{n-1}+ \\ldots + x_0 y_0} \\ket{y_{n-1}\\ldots y_0} \\hspace{5.2cm}\\\\\n",
    "&=& \\frac{1}{2^{n/2}} \\sum_{y \\, =\\, 0}^{2^n-1}(-1)^{x\\cdot y} \\ket{y} \\rule{0mm}{8mm}\n",
    "\\end{array}\n",
    "$$\n",
    "    \n",
    "where \n",
    "\n",
    "    \n",
    "$$ x\\cdot y = x_{n-1} y_{n-1} + x_{n-1} y_{n-1} + \\ldots + x_0 y_0$$\n",
    "    \n",
    "This expression will be very useful when we study simple algorithms\n",
    "</div>\n"
   ]
  },
  {
   "cell_type": "markdown",
   "id": "9858e57f",
   "metadata": {
    "slideshow": {
     "slide_type": "skip"
    }
   },
   "source": [
    "<div class=\"alert alert-block alert-success\">\n",
    "<b>Exercise </b>  \n",
    "write the Kronecker product of two matrices $H\\otimes H$ and verify that its components satisfy\n",
    "\n",
    "$$\n",
    "W_{xy} =  \\frac{1}{2^{n/2}} \\sum_{y \\, =\\, 0}^{2^n-1}(-1)^{x\\cdot y}\n",
    "$$\n",
    "where $n=2 $ and $x,y = 0,1$.\n",
    "</div>\n",
    "    "
   ]
  },
  {
   "cell_type": "markdown",
   "id": "2447f842",
   "metadata": {
    "slideshow": {
     "slide_type": "skip"
    }
   },
   "source": [
    "## The SWAP gate"
   ]
  },
  {
   "cell_type": "markdown",
   "id": "887b2a8c",
   "metadata": {
    "slideshow": {
     "slide_type": "skip"
    }
   },
   "source": [
    " The SWAP gate is a fundamental binary gate, whose action consists of permuting the existing states in the individual registers on which it acts. In particular, on the basis elements\n",
    "\n",
    "\n",
    "$$\n",
    "U_{\\rm SWAP }: \\ket{00}\\to\\ket{00}~~,~~\\ket{01}\\to\\ket{10}~~,~~\\ket{10}\\to\\ket{01}~~,~~\n",
    "\\ket{11}\\to\\ket{11}\\, .\n",
    "$$\n"
   ]
  },
  {
   "cell_type": "markdown",
   "id": "567cd154",
   "metadata": {
    "slideshow": {
     "slide_type": "skip"
    }
   },
   "source": [
    "This allows us to write the operator in the outer product notation\n",
    "\n",
    "$$\n",
    "U_{\\rm SWAP } = \\ket{00}\\bra{00} + \\ket{01}\\bra{10} + \\ket{10}\\bra{01} +\\ket{11}\\bra{11} \n",
    "$$\n"
   ]
  },
  {
   "cell_type": "markdown",
   "id": "4e66a5a3",
   "metadata": {
    "slideshow": {
     "slide_type": "skip"
    }
   },
   "source": [
    "with associated matrix \n",
    "$$\n",
    "U_{\\rm SWAP} =  \\begin{bmatrix} \n",
    "1 & 0 & 0 & 0 \\\\ 0 & 0 & 1 & 0 \\\\ 0 & 1 & 0 & 0 \\\\ 0 & 0 & 0 & 1\n",
    "\\end{bmatrix}\n",
    "$$"
   ]
  },
  {
   "cell_type": "markdown",
   "id": "fe90012d",
   "metadata": {
    "slideshow": {
     "slide_type": "skip"
    }
   },
   "source": [
    "and its insertion into a circuit is represented in the following form\n",
    "\n",
    "<figure><center>\n",
    "<a id='fig_ref'></a>\n",
    "<img src=\"images/SWAP_gate.png\" align=center width='20%'/>\n",
    "</center></figure>\n"
   ]
  },
  {
   "cell_type": "markdown",
   "id": "c8338cc0",
   "metadata": {
    "slideshow": {
     "slide_type": "slide"
    }
   },
   "source": [
    "## Controlled gates $\\cg{U}$"
   ]
  },
  {
   "cell_type": "markdown",
   "id": "7840c173",
   "metadata": {
    "slideshow": {
     "slide_type": "-"
    }
   },
   "source": [
    "In the controlled gate, an operator is applied to a qubit depending on the state of another qubit.\n",
    "\n",
    "This second qubit is called the *control*, while the first is the *target*."
   ]
  },
  {
   "cell_type": "markdown",
   "id": "0f4d594f",
   "metadata": {
    "slideshow": {
     "slide_type": "slide"
    }
   },
   "source": [
    "The controlled gate is represented as follows\n",
    "<br>\n",
    "<br>\n",
    "\n",
    "$$\n",
    "\\cg{U}_{[1 0]} =  \\ket{0}\\bra{0} \\otimes I  ~+~  \\ket{1}\\bra{1} \\otimes  U\n",
    "$$\n",
    "<br>\n",
    "\n",
    "where $U$ is a general 1-qubit unitary operator. The first integer in the subscript indicates the control qubit, and the second indicates the target qubit.\n",
    "In this way\n",
    "\n",
    "$$\n",
    "\\cg{U}_{[0 1]} =  I\\otimes \\ket{0}\\bra{0}    ~+~ U \\otimes \\ket{1}\\bra{1}\n",
    "$$\n",
    "\n",
    " (notice we are adhering here to Qiskit convention)"
   ]
  },
  {
   "cell_type": "markdown",
   "id": "181b5ffb",
   "metadata": {
    "slideshow": {
     "slide_type": "skip"
    }
   },
   "source": [
    "If in the control qubit \n",
    "<br>\n",
    "    \n",
    "- enters $\\ket{0}$, it exits as $\\ket{0}$ and nothing is done to the controlled qubit (the $I$ is applied)\n",
    "<br>\n",
    "\n",
    "- enters $\\ket{1}$, it exits as $\\ket{1}$ and the operator $U$ is applied to the controlled qubit\n",
    "\n"
   ]
  },
  {
   "cell_type": "markdown",
   "id": "63c88043",
   "metadata": {
    "slideshow": {
     "slide_type": "skip"
    }
   },
   "source": [
    "The *matrix representation* of $\\cg{U}$ is easy to obtain as a sum of *Kronecker products* \n",
    "\n",
    "\n",
    "\\begin{eqnarray}\n",
    "\\cg{U}_{[10]} &=& \\begin{bmatrix}1 & 0 \\\\ 0 & 0 \\end{bmatrix}\\otimes  I +  \\begin{bmatrix}0 & 0 \\\\ 0 & 1 \\end{bmatrix} \\otimes U\n",
    "= \\begin{bmatrix} 1\\times I & 0 \\\\ 0 & 0 \\end{bmatrix}  + \n",
    "\\begin{bmatrix} 0 & 0 \\\\ 0 & 1\\times U \\end{bmatrix} \\\\\n",
    "&=& \\begin{bmatrix}   I & 0 \\\\ 0 &   U \\end{bmatrix} = \n",
    "\\begin{bmatrix} 1 & 0 & 0 & 0 \\\\ 0 & 1 & 0 & 0 \\\\ 0 & 0 & U_{11} & U_{12} \\\\\n",
    "0 & 0 & U_{21} & U_{22}\\end{bmatrix}\n",
    "\\end{eqnarray}\n",
    "\n"
   ]
  },
  {
   "cell_type": "markdown",
   "id": "38fcd980",
   "metadata": {
    "slideshow": {
     "slide_type": "skip"
    }
   },
   "source": [
    "<div class=\"alert alert-block alert-danger\">\n",
    "\n",
    "- Written in this way, it is evident that if $U$ is a unitary matrix, $\\cg{U}$ is also unitary $~\n",
    "\\Rightarrow (\\cg{U})^\\dagger \\cg{U} = I$\n",
    "<br>\n",
    "\n",
    "- This is not trivial because the linear combination of unitary operators is generally not unitary.\n",
    "</div>"
   ]
  },
  {
   "cell_type": "markdown",
   "id": "6769a1a2",
   "metadata": {
    "slideshow": {
     "slide_type": "skip"
    }
   },
   "source": [
    "- The *action* of $\\cg{U}$ on basis elements $\\{\\ket{x}\\}$ where $x=0,1$ admits a compact form \n",
    "<br>\n",
    "<br>\n",
    "$$\n",
    "\\cg{U}:\\ket{x}\\otimes\\ket{y} = \\ket{x} \\otimes U^x\\ket{y}\n",
    "$$"
   ]
  },
  {
   "cell_type": "markdown",
   "id": "2b6c0ccd",
   "metadata": {
    "slideshow": {
     "slide_type": "skip"
    }
   },
   "source": [
    "- The *graphical representation* of the circuit associated with the controlled operator $\\cg{U}$ is the following\n",
    "\n",
    "<br>\n",
    "\n",
    "\n",
    "<figure><center>\n",
    "<a id='fig_ref'></a>\n",
    "<img src=\"images/cu_gate.png\" align=center width='20%'/>\n",
    "    <center></center>\n",
    "</center></figure>\n",
    "\n",
    "\n",
    "with $x,y = 0,1$.\n"
   ]
  },
  {
   "cell_type": "markdown",
   "id": "fb3ec2aa",
   "metadata": {
    "slideshow": {
     "slide_type": "skip"
    }
   },
   "source": [
    "<div class=\"alert alert-block alert-success\">\n",
    "    <b>Exercise </b>  \n",
    "    \n",
    "write the operators   \n",
    "\n",
    "-  $\\cg{U}_{[01]}$ \n",
    "<br>\n",
    "    \n",
    "-  $\\bar{\\rm C}U_{[10]}$ where $U$ acts if the control qubit is in $\\ket{0}$ instead of in $\\ket{1}$\n",
    "\n",
    "</div>\n",
    "    "
   ]
  },
  {
   "cell_type": "markdown",
   "id": "07797cea",
   "metadata": {
    "slideshow": {
     "slide_type": "skip"
    }
   },
   "source": [
    "Operators like this exist in classical circuits. The fascinating novelty is that now, a *superposition* $a\\ket{0} + b\\ket{1}$ could circulate through the first qubit.\n",
    "\n",
    "In that case, the result of a controlled action also leads to a superposition, in such a way that **entanglement is generated**"
   ]
  },
  {
   "cell_type": "markdown",
   "id": "214716e7",
   "metadata": {
    "slideshow": {
     "slide_type": "skip"
    }
   },
   "source": [
    "\n",
    "To see it, let's apply $\\cg{U}$ to a state of the form $\\ket{\\phi} = (a\\ket{0} + b\\ket{1})\\otimes \\ket{U}$, which is *factorizable*\n",
    "\n",
    "<br>\n",
    "\n",
    "\\begin{eqnarray}\n",
    "\\cg{U}\\,(a\\ket{0} +b \\ket{1})\\otimes \\ket{v} &=&\n",
    "    \\left(\\ket{0}\\bra{0}\\otimes I + \\ket{1}\\bra{1}\\otimes U\\rule{0mm}{4mm}\\right)(a\\ket{0} +b \\ket{1})\\otimes \\ket{v}  \n",
    "  \\\\ \\rule{0mm}{14mm}\n",
    "    &=& a\\ket{0}\\otimes \\ket{v} + b\\ket{1}\\otimes U\\ket{v} \\nonumber\n",
    "\\end{eqnarray}\n"
   ]
  },
  {
   "cell_type": "markdown",
   "id": "9daf27f7",
   "metadata": {
    "slideshow": {
     "slide_type": "skip"
    }
   },
   "source": [
    "We see that, indeed, the result is an *entangled* state. \n",
    "\n",
    "<figure>\n",
    "<a id='fig_ref'></a>\n",
    "<img src=\"images/entangling_CU_circuit.png\" align=center width='400px'/>\n",
    "    <center></center>\n",
    "</figure>\n"
   ]
  },
  {
   "cell_type": "markdown",
   "id": "a8dcde57",
   "metadata": {
    "slideshow": {
     "slide_type": "slide"
    }
   },
   "source": [
    "## The CNOT Gate"
   ]
  },
  {
   "cell_type": "markdown",
   "id": "8f6c01ef",
   "metadata": {
    "slideshow": {
     "slide_type": "fragment"
    }
   },
   "source": [
    "The *binary* gate CNOT = $\\cg{X}$ is the most common case of a *controlled operator* \n",
    "<br>\n",
    "<br>\n",
    "\n",
    "$$\n",
    "\\hbox{CNOT} = \\cg{X} ~=~ \\ket{0}\\bra{0}\\otimes I + \\ket{1}\\bra{1}\\otimes X ~=~ \\begin{bmatrix} 1 & 0 & 0 & 0 \\\\ 0 & 1 & 0 & 0 \\\\ 0 & 0 & 0 & 1 \\\\\n",
    "0 & 0 & 1 & 0\\end{bmatrix}\n",
    "$$"
   ]
  },
  {
   "cell_type": "markdown",
   "id": "48ab4738",
   "metadata": {
    "slideshow": {
     "slide_type": "fragment"
    }
   },
   "source": [
    "$\\rule{0.5cm}{0mm}$ graphically\n",
    "\n",
    "<figure><center>\n",
    "<a id='fig_ref'></a>\n",
    "<img src=\"images/cX_gate.png\" align=center width='30%'/>\n",
    "    <center></center>\n",
    "</center></figure>\n"
   ]
  },
  {
   "cell_type": "markdown",
   "id": "89d6ccaf",
   "metadata": {
    "slideshow": {
     "slide_type": "skip"
    }
   },
   "source": [
    "On computational basis elements $\\ket{xy}=\\ket{x}\\otimes\\ket{y}$ where $\\, x,y= 0,1$, its action can be compactly represented using the modulo two sum\n",
    "\n",
    "$$\n",
    "\\cg{X}:\\ket{x}\\otimes\\ket{y}=  \\ket{x} \\otimes X^x\\ket{y} = \\ket{x} \\otimes \\ket{y\\oplus x}\n",
    "$$\n",
    "\n"
   ]
  },
  {
   "cell_type": "markdown",
   "id": "fafff3d9",
   "metadata": {
    "slideshow": {
     "slide_type": "skip"
    }
   },
   "source": [
    "<br>\n",
    "<div class=\"alert alert-block alert-success\">\n",
    "<b> Exercise 1.2.1.4 </b>\n",
    "    \n",
    "the most general factorizable state of two qubits is ($a$ is the normalization)\n",
    "<br>\n",
    "<br>    \n",
    "$$\n",
    "\\ket{\\psi} = a \\left(\\ket{0} + b_1 e^{i\\phi_1}\\ket{1}) (\\ket{0} + b_0 e^{i\\phi_0} \\ket{1} \\right) \n",
    "$$\n",
    "<br>\n",
    "\n",
    "Write the most general condition that $b_0,b_1,\\phi_0$ and $\\phi_1$ must satisfy for CNOT$\\ket{\\psi}$ to be an entangled vector.\n",
    "</div>"
   ]
  },
  {
   "cell_type": "markdown",
   "id": "a6af65b8",
   "metadata": {
    "slideshow": {
     "slide_type": "slide"
    }
   },
   "source": [
    "The CNOT gate in qiskit appears inverted compared to the one we drew above. This is because qiskit orders the qubits in $\\ket{q_1 \\, q_0}$, placing the one associated with the most significant bit, $q_1$, at the bottom. \n",
    "\n",
    "```"
   ]
  },
  {
   "cell_type": "code",
   "execution_count": 5,
   "id": "dc497dce",
   "metadata": {
    "slideshow": {
     "slide_type": "fragment"
    }
   },
   "outputs": [
    {
     "data": {
      "image/png": "[encoded data removed]",
      "text/plain": [
       "<Figure size 203.683x200.667 with 1 Axes>"
      ]
     },
     "execution_count": 5,
     "metadata": {},
     "output_type": "execute_result"
    }
   ],
   "source": [
    "from qiskit import  QuantumCircuit\n",
    "qc = QuantumCircuit(2)\n",
    "\n",
    "qc.cx(1,0)\n",
    "\n",
    "qc.draw(output='mpl')"
   ]
  },
  {
   "cell_type": "markdown",
   "id": "bd9a1411",
   "metadata": {
    "slideshow": {
     "slide_type": "slide"
    }
   },
   "source": [
    "now we can request the unitary operator that reproduces the previous circuit\n"
   ]
  },
  {
   "cell_type": "code",
   "execution_count": 12,
   "id": "b57ccd28",
   "metadata": {
    "slideshow": {
     "slide_type": "fragment"
    }
   },
   "outputs": [
    {
     "data": {
      "text/latex": [
       "$$\n",
       "\n",
       "\\begin{bmatrix}\n",
       "1 & 0 & 0 & 0  \\\\\n",
       " 0 & 1 & 0 & 0  \\\\\n",
       " 0 & 0 & 0 & 1  \\\\\n",
       " 0 & 0 & 1 & 0  \\\\\n",
       " \\end{bmatrix}\n",
       "$$"
      ],
      "text/plain": [
       "<IPython.core.display.Latex object>"
      ]
     },
     "execution_count": 12,
     "metadata": {},
     "output_type": "execute_result"
    }
   ],
   "source": [
    "from qiskit.quantum_info import Operator\n",
    "\n",
    "Op_qc = Operator.from_circuit(qc) \n",
    "\n",
    "Op_qc.draw(\"latex\")"
   ]
  },
  {
   "cell_type": "markdown",
   "id": "35480c46",
   "metadata": {
    "slideshow": {
     "slide_type": "skip"
    }
   },
   "source": [
    "## The CSWAP or Fredkin Gate"
   ]
  },
  {
   "cell_type": "markdown",
   "id": "2768045c",
   "metadata": {
    "slideshow": {
     "slide_type": "skip"
    }
   },
   "source": [
    "If the control qubit is in the state $\\ket{1}$, the two controlled ones are swapped\n",
    "<br>\n",
    "<br>\n",
    "$$\n",
    "U_{\\rm CSWAP} =\\ket{0}\\bra{0} \\otimes I_4 + \\ket{1}\\bra{1} \\otimes U_{\\rm SWAP} \\, .\n",
    "$$\n",
    "\n",
    "<br>\n",
    "\n",
    "<figure><center>\n",
    "<a id='fig_ref'></a>\n",
    "<img src=\"images/CSWAP_gate.png\" align=center width='15%'/>\n",
    "    <center></center>\n",
    "    </center></figure>\n"
   ]
  },
  {
   "cell_type": "markdown",
   "id": "c2bfc08a",
   "metadata": {
    "slideshow": {
     "slide_type": "skip"
    }
   },
   "source": [
    "## The CCNOT or Toffoli Gate"
   ]
  },
  {
   "cell_type": "markdown",
   "id": "720b39ed",
   "metadata": {
    "slideshow": {
     "slide_type": "skip"
    }
   },
   "source": [
    "The CCNOT gate, also called the Toffoli gate, is an operator on $\\Hil^{\\otimes 3}$, where two qubits control the action of $X$ on a third one.\n",
    "\n",
    "$\\Rightarrow$\n",
    "*only if both* control qubits are in the state $\\ket{11}$ will the operator $X$ act on the third one.\n",
    "<br>\n",
    "<br>\n",
    "\n",
    "\n",
    "<figure><center>\n",
    "<a id='fig_ref'></a>\n",
    "<img src=\"images/ccX_gate.png\" align=center width='20%'/>\n",
    "</center></figure>\n",
    "\n",
    "<br>"
   ]
  },
  {
   "cell_type": "markdown",
   "id": "a47a3d82",
   "metadata": {
    "slideshow": {
     "slide_type": "skip"
    }
   },
   "source": [
    "Again, its representation is very simple\n",
    "\n",
    "$$\n",
    "{\\rm CCNOT} = \\big(\\ket{00}\\bra{00}+\\ket{01}\\bra{01}+\\ket{10}\\bra{10}\\big)\\otimes I + \\ket{11}\\bra{11}\\otimes X\n",
    "$$\n",
    "\n"
   ]
  },
  {
   "cell_type": "markdown",
   "id": "c0d086d9",
   "metadata": {
    "slideshow": {
     "slide_type": "skip"
    }
   },
   "source": [
    "<div class=\"alert alert-block alert-success\">\n",
    "<b> Exercises 1.2.1.5 </b> \n",
    "<br>    \n",
    "<br>    \n",
    "1. obtain the matrix that represents the Toffoli gate in the computational basis. Reproduce it using <i>qiskit</i>.\n",
    "    <br><br> \n",
    "2. obtain the matrix of a 3-qubit circuit with a CNOT gate where the third qubit controls the first. Reproduce it using qiskit.\n",
    "</table>"
   ]
  },
  {
   "cell_type": "markdown",
   "id": "c6cfb607",
   "metadata": {
    "slideshow": {
     "slide_type": "skip"
    }
   },
   "source": [
    "## Multi-controlled Gates"
   ]
  },
  {
   "cell_type": "markdown",
   "id": "c2a9a7b5",
   "metadata": {
    "slideshow": {
     "slide_type": "skip"
    }
   },
   "source": [
    "In the multi-controlled CNOT or CX gate, the X operator is activated if and only if the control qubits are in a desired configuration.\n",
    "\n",
    "The white buttons denote controllers that are activated if the qubit is $\\ket{0}$. Essentially, they are the same as a black controller with an $X$ gate before and after.\n"
   ]
  },
  {
   "cell_type": "markdown",
   "id": "07cc9600",
   "metadata": {
    "slideshow": {
     "slide_type": "skip"
    }
   },
   "source": [
    "For example, in this case, the $X$ gate will be activated if the control qubits are in the state $\\ket{1100}$\n",
    "\n",
    "\n",
    "<figure><center>\n",
    "<a id='fig_ref'></a>\n",
    "<img src=\"images/MCX_gate.png\" align=center width='8%'/>\n",
    "<center></center>\n",
    "</center></figure>"
   ]
  },
  {
   "cell_type": "markdown",
   "id": "de8c7bc7",
   "metadata": {
    "slideshow": {
     "slide_type": "skip"
    }
   },
   "source": [
    "The operator associated with this gate will be\n",
    "\n",
    "$$\n",
    "MCX = \\ket{1100}  \\bra{1100}\\otimes X + (I-\\ket{1100}\\bra{1100}) \\otimes I\n",
    "$$"
   ]
  },
  {
   "cell_type": "markdown",
   "id": "4cf3d271",
   "metadata": {
    "slideshow": {
     "slide_type": "skip"
    }
   },
   "source": [
    "<div class=\"alert alert-block alert-warning\">\n",
    "\n",
    "In *qiskit* there is the possibility to control an arbitrary gate (of the class <i>Gate</i>) by adding the <i>control</i> method which accepts two parameters:\n",
    "\n",
    "- the first is the number of qubits that will act as control.\n",
    "    \n",
    "\n",
    "- the second, <i>ctrl_state</i>, is a decimal number that specifies the control state for which the gate is activated. In the case of the figure, it would be the number 12.\n",
    "\n",
    "\n",
    "- Information about controlled gates in qiskit can be found at the following links:\n",
    "https://qiskit.org/documentation/stubs/qiskit.circuit.ControlledGate.html#qiskit.circuit.ControlledGate\n",
    "https://qiskit.org/documentation/apidoc/circuit_library.html\n",
    "    \n",
    "    \n",
    "</div>"
   ]
  },
  {
   "cell_type": "code",
   "execution_count": 2,
   "id": "0748c75f",
   "metadata": {
    "slideshow": {
     "slide_type": "skip"
    }
   },
   "outputs": [
    {
     "data": {
      "image/png": "[encoded data removed]",
      "text/plain": [
       "<Figure size 305.525x451.5 with 1 Axes>"
      ]
     },
     "execution_count": 2,
     "metadata": {},
     "output_type": "execute_result"
    }
   ],
   "source": [
    "from qiskit import QuantumCircuit, QuantumRegister, ClassicalRegister\n",
    "from qiskit.circuit.library import SwapGate, XGate\n",
    "\n",
    "qr = QuantumRegister(5)\n",
    "\n",
    "qc = QuantumCircuit(qr)\n",
    "\n",
    "gateMCX = XGate().control(4,ctrl_state= 3) # puerta X 4-veces controlada\n",
    "gateMCSWAP = SwapGate().control(3,ctrl_state= 4) # puerta SWAP 3 veces controlada\n",
    "\n",
    "qc.append(gateMCX,[0,1,2,3,4])    \n",
    "qc.append(gateMCSWAP,[0,1,2,3,4])    \n",
    "\n",
    "\n",
    "\n",
    "qc.draw('mpl')"
   ]
  },
  {
   "cell_type": "markdown",
   "id": "92b2287a",
   "metadata": {
    "slideshow": {
     "slide_type": "skip"
    }
   },
   "source": [
    "In the qiskit convention, indeed, this operator corresponds to\n",
    "\n",
    "$$\n",
    "MCX = X\\otimes \\ket{0011}  \\bra{0011} + X\\otimes (I-\\ket{0011}\\bra{0011})\n",
    "$$"
   ]
  },
  {
   "cell_type": "markdown",
   "id": "abf3973b",
   "metadata": {
    "slideshow": {
     "slide_type": "skip"
    }
   },
   "source": [
    "<div class=\"alert alert-block alert-success\">\n",
    "<b> Exercise: </b>\n",
    "insert the MCX gate so that the circuit drawn in the figure is generated exactly.\n",
    "</div>"
   ]
  },
  {
   "cell_type": "markdown",
   "id": "edf11506",
   "metadata": {
    "slideshow": {
     "slide_type": "slide"
    }
   },
   "source": [
    "## Entangling Circuit for the Bell Basis\n"
   ]
  },
  {
   "cell_type": "markdown",
   "id": "52b6623c",
   "metadata": {
    "slideshow": {
     "slide_type": "fragment"
    }
   },
   "source": [
    "The circuit that *prepares* the <i>Bell basis</i> $~\\{\\ket{B_{xy}} \\equiv \\ket{xy}_B \\}~$ from the <i>computational basis</i>  $\\{\\ket{xy}\\}$ \n",
    "\n",
    "<br>\n",
    "\n",
    "<center>\n",
    "<figure>\n",
    "<a id='fig_ref'></a>\n",
    "<img src=\"images/Bell_basis.png\" align=center width='25%'/>\n",
    "<center></center>\n",
    "</figure>\n",
    "</center>"
   ]
  },
  {
   "cell_type": "markdown",
   "id": "948c4f2a",
   "metadata": {
    "slideshow": {
     "slide_type": "slide"
    }
   },
   "source": [
    "<br>\n",
    "Specifically \n",
    "<br>\n",
    "\n",
    "\\begin{array}{rcl}\n",
    "\\ket{00} ~~~\\stackrel{I\\otimes H}{\\longrightarrow}~~~ \\frac{1}{\\sqrt{2}}\\ket{0}(\\ket{0}+\\ket{1})  &~~~\\stackrel{\\rm CNOT(0,1)}{\\longrightarrow}& \\frac{1}{\\sqrt{2}} \\big( \\ket{00} + \\ket{11} \\big) ~~=~~ \\ket{00}_B \\equiv \\ket{\\Phi^+}\\\\\n",
    "\\ket{01} ~~~\\longrightarrow~~~ \\frac{1}{\\sqrt{2}}\\ket{0}(\\ket{0} - \\ket{1})  &~~~\\longrightarrow & \\frac{1}{\\sqrt{2}} \\big( \\ket{00} - \\ket{11} \\big) ~~=~~ \\ket{01}_B \\equiv \\ket{\\Phi^-} \\\\\n",
    "\\ket{10} ~~~\\longrightarrow~~~ \\frac{1}{\\sqrt{2}}\\ket{1}(\\ket{0}+\\ket{1})  &~~~\\longrightarrow & \\frac{1}{\\sqrt{2}} \\big( \\ket{10} + \\ket{01} \\big) ~~=~~ \\ket{10}_B \\equiv \\ket{\\Psi^+}\\\\\n",
    "\\ket{11} ~~~\\longrightarrow~~~ \\frac{1}{\\sqrt{2}}\\ket{1}(\\ket{0}-\\ket{1})  &~~~\\longrightarrow & \\frac{1}{\\sqrt{2}} \\big( \\ket{01} - \\ket{01} \\big) ~~=~~ \\ket{11}_B \\equiv \\ket{\\Psi^-}\n",
    "\\end{array}\n"
   ]
  },
  {
   "cell_type": "code",
   "execution_count": 10,
   "id": "89e15078",
   "metadata": {
    "slideshow": {
     "slide_type": "slide"
    }
   },
   "outputs": [
    {
     "data": {
      "image/png": "[encoded data removed]",
      "text/plain": [
       "<Figure size 370.906x200.667 with 1 Axes>"
      ]
     },
     "metadata": {},
     "output_type": "display_data"
    },
    {
     "data": {
      "text/latex": [
       "$$- \\frac{\\sqrt{2}}{2} |01\\rangle+\\frac{\\sqrt{2}}{2} |10\\rangle$$"
      ],
      "text/plain": [
       "<IPython.core.display.Latex object>"
      ]
     },
     "execution_count": 10,
     "metadata": {},
     "output_type": "execute_result"
    }
   ],
   "source": [
    "from qiskit_aer import  Aer, StatevectorSimulator\n",
    "\n",
    "' create the circuit '\n",
    "qc = QuantumCircuit(2,0)    \n",
    "qc.x(0)\n",
    "qc.x(1)\n",
    "\n",
    "qc.h(0)\n",
    "qc.cx(0,1)\n",
    "display(qc.draw('mpl'))\n",
    "\n",
    "\n",
    "' execute in mode statevector_simulator '\n",
    "#simulator = Aer.get_backend('statevector_simulator')\n",
    "simulator = StatevectorSimulator()\n",
    "Bell_state = simulator.run(qc).result().get_statevector()\n",
    "\n",
    "\n",
    "#from qiskit.quantum_info import Statevector\n",
    "Statevector(Bell_state).draw('latex')"
   ]
  },
  {
   "cell_type": "code",
   "execution_count": 11,
   "id": "57cd9f01",
   "metadata": {
    "slideshow": {
     "slide_type": "slide"
    }
   },
   "outputs": [
    {
     "data": {
      "image/png": "[encoded data removed]",
      "text/plain": [
       "<Figure size 960x480 with 2 Axes>"
      ]
     },
     "execution_count": 11,
     "metadata": {},
     "output_type": "execute_result"
    }
   ],
   "source": [
    "' the Bell state cannot be drawn on Bloch spheres'\n",
    "\n",
    "Statevector(Bell_state).draw('Bloch')"
   ]
  },
  {
   "cell_type": "markdown",
   "id": "87c69d63",
   "metadata": {
    "slideshow": {
     "slide_type": "slide"
    }
   },
   "source": [
    "## Generation of Controlled Gates"
   ]
  },
  {
   "cell_type": "markdown",
   "id": "f0302537",
   "metadata": {
    "slideshow": {
     "slide_type": "fragment"
    }
   },
   "source": [
    "Let's consider the following 2-qubit Hamiltonian (set $\\hbar = 1$)\n",
    "\n",
    "$$\n",
    "H = \\omega_1\\,  \\sigma_z \\otimes I + \\,   \\omega_2\\,  I\\otimes\\sigma_z+ J\\, \\sigma_z\\otimes\\sigma_z \n",
    "$$\n",
    "\n",
    "We would like to exploit the evolution caused by $ J\\, \\sigma_z\\otimes\\sigma_z$ without worrying about the effect caused by the first two terms (*chemical shifts*)"
   ]
  },
  {
   "cell_type": "markdown",
   "id": "647ff54d",
   "metadata": {
    "slideshow": {
     "slide_type": "slide"
    }
   },
   "source": [
    "To achieve this, the idea is to divide the evolution into 2 steps $0\\to t/2 \\to t$, and insert a *refocusing* operation in the middle, which causes a recovery of the initial phase.\n",
    "\n",
    "Using that $XZX = -Z$ we see that \n",
    "\n",
    "\\begin{array}{rcl}\n",
    "U_J(t) &=& (X\\otimes X) e^{-i Ht/2} (X\\otimes X)   e^{- i Ht/2}\\nonumber\\\\\n",
    "\\rule{0mm}{4mm}\n",
    " &=& \\exp \\left(-i t\\,  J\\, \\sigma_z\\otimes\\sigma_z  \\right) \\nonumber \\rule{0mm}{8mm}\n",
    "\\end{array}"
   ]
  },
  {
   "cell_type": "markdown",
   "id": "03e7140b",
   "metadata": {
    "slideshow": {
     "slide_type": "slide"
    }
   },
   "source": [
    "The standard basis will only acquire phases $\\pm\\theta = \\pm tJ$ given by the eigenvalues of $Z\\otimes Z$\n",
    "<br>\n",
    "<br>\n",
    "\n",
    "$$\n",
    " U^{(12)}_J(t J) \\ket{i}\\otimes \\ket{j} = e^{-i tJ \\sigma_z\\otimes \\sigma_z}  \\ket{i}\\otimes \\ket{j}   = e^{-i(-1)^{i+j}t J}\\ket{ij}\n",
    "$$\n"
   ]
  },
  {
   "cell_type": "markdown",
   "id": "b26b60e9",
   "metadata": {
    "slideshow": {
     "slide_type": "slide"
    }
   },
   "source": [
    "\n",
    "Now we can apply rotations $R_ z(-2tJ)= e^{i t J \\sigma_z}$ to each qubit separately\n",
    "\n",
    "\\begin{array}{rcl}\n",
    "\\hbox{C-Z}\\ket{ij} & = & \\sqrt{-i}R^{(1)}_ z(-2tJ) R^{(2)}_ z(-2tJ) U^{(12)}_J(tJ)\\,  \\ket{ij}  \\nonumber\\\\\n",
    "\\rule{0mm}{8mm}\n",
    "  & = & \\sqrt{-i} \\left( e^{itJ \\sigma_z}\\otimes I \\rule{0mm}{3mm}\\right) \\left(\\rule{0mm}{3mm} I \\otimes  e^{itJ \\sigma_z}\\right) e^{-i(-1)^{i+j}t J}\\ket{ij} \\nonumber\\\\\n",
    "\\rule{0mm}{8mm}\n",
    "  & = &  e^{-i\\pi/4}  e^{it J\\left((-1)^i + (-1)^j + (-1)^{i+j+1}\\right)}\\ket{ij} \\nonumber\\\\\n",
    "\\rule{0mm}{8mm}\n",
    "  & = &e^{-i\\pi/4} \\begin{pmatrix} e^{i tJ} & & & \\\\ & e^{itJ} & & \\\\ & & e^{itJ} & \\\\ & & & e^{-3itJ} \\end{pmatrix} \\begin{pmatrix} \\ket{00} \\\\ \\ket{01} \\\\ \\ket{10} \\\\ \\ket{11} \\end{pmatrix}\n",
    "\\end{array}\n"
   ]
  },
  {
   "cell_type": "markdown",
   "id": "1f9db1e3",
   "metadata": {
    "slideshow": {
     "slide_type": "slide"
    }
   },
   "source": [
    "Adjusting the time $t = \\pi/4J$ and neglecting a global phase, the $\\hbox{C-Z}$ operator is obtained\n",
    "\n",
    "$$\n",
    "\\hbox{C-Z} ={\\rm diag} (1 , 1, 1, -1) =  \\ket{0}\\bra{0}  \\otimes I + \\ket{1}\\bra{1}\\otimes Z\n",
    "$$\n"
   ]
  },
  {
   "cell_type": "markdown",
   "id": "18230e8f",
   "metadata": {
    "slideshow": {
     "slide_type": "slide"
    }
   },
   "source": [
    "# No-cloning Theorem"
   ]
  },
  {
   "cell_type": "markdown",
   "id": "61b359f9",
   "metadata": {
    "slideshow": {
     "slide_type": "-"
    }
   },
   "source": [
    "The *No-Cloning Theorem* is one of the simplest and yet most important results of the formalism of Quantum Mechanics.\n",
    "\n",
    "In fact, its complete formalization is quite recent, 1982, due to [Wootters, Zurek](https://en.wikipedia.org/wiki/No-cloning_theorem#cite_note-wootterszurek-2) and [Dieks](https://en.wikipedia.org/wiki/No-cloning_theorem#cite_note-dieks-3)."
   ]
  },
  {
   "cell_type": "markdown",
   "id": "132c3f79",
   "metadata": {
    "slideshow": {
     "slide_type": "slide"
    }
   },
   "source": [
    "<div class=\"alert alert-block alert-info\",text-align:center>\n",
    "<p style=\"text-align: left ;color: navy;\">  \n",
    "<b>Theorem</b>: <i> (no-cloning)</i> \n",
    "<br>    \n",
    "<br>    \n",
    "there is no unitary operator $U$ that, for an arbitrary state $|\\psi\\rangle$, performs the following operation\n",
    "<br>  \n",
    "<br>    \n",
    "$$\n",
    "U ( \\ket{\\psi}\\otimes \\ket{0}) = \\ket{\\psi}\\otimes \\ket{\\psi}\n",
    "$$\n",
    "</div>\n"
   ]
  },
  {
   "cell_type": "markdown",
   "id": "df0fc37c",
   "metadata": {
    "slideshow": {
     "slide_type": "slide"
    }
   },
   "source": [
    "\n",
    "*Demonstration:*\n",
    "\n",
    "We will assume that $U$ exists and reach a contradiction. \n",
    "Let's try to clone the state $\\alpha\\ket{\\psi}+\\beta\\ket{\\phi}$. This implies evaluating\n",
    "<br>\n",
    "<br>\n",
    "\n",
    "$$\n",
    "U (\\alpha\\ket{\\psi}+\\beta\\ket{\\phi})\\otimes \\ket{0} = \n",
    "(\\alpha\\ket{\\psi}+\\beta\\ket{\\phi})\\otimes (\\alpha\\ket{\\psi}+\\beta\\ket{\\phi})\n",
    "$$\n",
    "<br>"
   ]
  },
  {
   "cell_type": "markdown",
   "id": "22accdbf",
   "metadata": {
    "slideshow": {
     "slide_type": "fragment"
    }
   },
   "source": [
    "\n",
    "However, the linearity of $U$ allows us to follow another path\n",
    "<br>\n",
    "<br>\n",
    "\n",
    "\\begin{eqnarray}\n",
    "U(\\alpha|\\psi\\rangle+\\beta|\\phi\\rangle) \\otimes|0\\rangle &=& \\alpha U|\\psi\\rangle \\otimes|0\\rangle+\\beta U|\\phi\\rangle \\otimes|0\\rangle  \\\\ \\rule{0mm}{12mm}\n",
    "&=&\\alpha|\\psi\\rangle \\otimes|\\psi\\rangle+\\beta|\\phi\\rangle \\otimes|\\phi\\rangle . \\rule{0mm}{6mm}\n",
    "\\end{eqnarray}\n",
    "<br>\n",
    "\n",
    "The two results are different and the theorem is proven by reduction to absurdity."
   ]
  },
  {
   "cell_type": "markdown",
   "id": "d19e7239",
   "metadata": {
    "slideshow": {
     "slide_type": "slide"
    }
   },
   "source": [
    "<br>\n",
    "<div class=\"alert alert-block alert-danger\">\n",
    "<b> Note: </b>    \n",
    "<br>  \n",
    "\n",
    "- The no-cloning theorem highlights the <i> tension </i> between $linearity$ and $tensoriality$, two fundamental properties of Quantum Mechanics.\n",
    "<br>\n",
    "\n",
    "- It is very important to emphasize that the validity of this theorem only applies to <i> generic </i> states. \n",
    "<br>\n",
    "    \n",
    "- If, for example, we restrict ourselves to the basis states $\\ket{0}$ and $\\ket{1}$, then the mere CNOT gate acts as a cloning operator would.\n",
    "    \n",
    "$$\n",
    "\\cg{X}\\ket{00}\\to \\ket{00}~~~~~,~~~~~~ \\cg{X}\\ket{10}\\to \\ket{11}\n",
    "$$\n",
    "</div>\n",
    "<br>\n",
    "<br>"
   ]
  }
 ],
 "metadata": {
  "celltoolbar": "Slideshow",
  "kernelspec": {
   "display_name": "Python 3 (ipykernel)",
   "language": "python",
   "name": "python3"
  },
  "language_info": {
   "codemirror_mode": {
    "name": "ipython",
    "version": 3
   },
   "file_extension": ".py",
   "mimetype": "text/x-python",
   "name": "python",
   "nbconvert_exporter": "python",
   "pygments_lexer": "ipython3",
   "version": "3.12.3"
  },
  "nbTranslate": {
   "displayLangs": [
    "*"
   ],
   "hotkey": "alt-t",
   "langInMainMenu": true,
   "sourceLang": "en",
   "targetLang": "fr",
   "useGoogleTranslate": true
  },
  "toc": {
   "base_numbering": 1,
   "nav_menu": {},
   "number_sections": true,
   "sideBar": true,
   "skip_h1_title": false,
   "title_cell": "Table of Contents",
   "title_sidebar": "Contents",
   "toc_cell": false,
   "toc_position": {},
   "toc_section_display": true,
   "toc_window_display": false
  },
  "varInspector": {
   "cols": {
    "lenName": 16,
    "lenType": 16,
    "lenVar": 40
   },
   "kernels_config": {
    "python": {
     "delete_cmd_postfix": "",
     "delete_cmd_prefix": "del ",
     "library": "var_list.py",
     "varRefreshCmd": "print(var_dic_list())"
    },
    "r": {
     "delete_cmd_postfix": ") ",
     "delete_cmd_prefix": "rm(",
     "library": "var_list.r",
     "varRefreshCmd": "cat(var_dic_list()) "
    }
   },
   "types_to_exclude": [
    "module",
    "function",
    "builtin_function_or_method",
    "instance",
    "_Feature"
   ],
   "window_display": false
  }
 },
 "nbformat": 4,
 "nbformat_minor": 5
}
