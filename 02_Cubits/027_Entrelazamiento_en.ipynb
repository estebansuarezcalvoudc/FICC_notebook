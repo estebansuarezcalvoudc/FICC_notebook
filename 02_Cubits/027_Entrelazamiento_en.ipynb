{
 "cells": [
  {
   "cell_type": "markdown",
   "id": "3c813409",
   "metadata": {
    "slideshow": {
     "slide_type": "slide"
    }
   },
   "source": [
    "<img src=\"../figures/logos/logo_usc.jpg\" align=right width='80px'/>\n",
    "<br>\n",
    "\n",
    "<table width=\"100%\">\n",
    "<td style=\"font-size:40px;font-style:italic;text-align:left;background-color:rgba(0, 220, 170,0.7)\">\n",
    "Entanglement in Action\n",
    "</td></table>\n",
    "\n",
    "\n",
    "\n",
    "$ \\newcommand{\\bra}[1]{\\langle #1|} $\n",
    "$ \\newcommand{\\ket}[1]{|#1\\rangle} $\n",
    "$ \\newcommand{\\braket}[2]{\\langle #1|#2\\rangle} $\n",
    "$ \\newcommand{\\i}{{\\color{blue} i}} $ \n",
    "$ \\newcommand{\\Hil}{{\\mathcal H}} $\n",
    "$ \\newcommand{\\cg}[1]{{\\rm C}#1} $\n",
    "$ \\newcommand{\\bn}{{\\bf n}} $\n",
    "$ \\newcommand{\\boldn}{{\\bf n}} $\n",
    "$ \\newcommand{\\conc}{{\\cal C}} $\n",
    "$ \\renewcommand{\\boldsig}{\\boldsymbol{\\sigma}} $"
   ]
  },
  {
   "cell_type": "code",
   "execution_count": 2,
   "id": "f3369579",
   "metadata": {
    "slideshow": {
     "slide_type": "-"
    }
   },
   "outputs": [],
   "source": [
    "import sys\n",
    "sys.path.append('../')\n",
    "import macro_tQ as tQ\n",
    "\n",
    "import numpy as np\n",
    "import scipy.linalg as la\n",
    "from IPython.display import display,Markdown,Latex\n",
    "import matplotlib.pyplot as plt\n",
    "from qiskit.visualization import array_to_latex"
   ]
  },
  {
   "cell_type": "markdown",
   "id": "c0ca8d3d",
   "metadata": {
    "slideshow": {
     "slide_type": "skip"
    }
   },
   "source": [
    "<a id='top'></a>\n",
    "\n",
    "- [Bell Inequalities](#bell) \n",
    "  - [Local realism](#local)\n",
    "\n",
    "  - [Perfect anticorrelations](#anticorr)   \n",
    "  \n",
    "  - [The CHSH inequality](#CHSH)\n",
    "  \n",
    " \n",
    " \n",
    "- [The GHZ experiment](#GHZ)\n",
    "\n",
    "\n",
    "\n",
    "- [Teleportation](#telepor)\n",
    "\n",
    "    - [Superdense Coding](#superdense)\n",
    "    \n",
    "    - [LOCC](#LOCC)\n",
    "\n",
    "\n",
    "\n",
    "- [Distribution of entanglement](#dist_ent)\n",
    "\n",
    "\n",
    "    - [Entanglement swapping](#ent_swap)\n",
    "    - [Monogamy of entanglement](#monogamy)\n",
    "    "
   ]
  },
  {
   "cell_type": "markdown",
   "id": "a8a3b4ad",
   "metadata": {
    "slideshow": {
     "slide_type": "skip"
    }
   },
   "source": [
    "<a id='local'></a>\n",
    "# Bell inequalities"
   ]
  },
  {
   "cell_type": "markdown",
   "id": "4fe80362",
   "metadata": {
    "slideshow": {
     "slide_type": "skip"
    }
   },
   "source": [
    "## Local realism\n",
    "\n",
    "Einstein Podolski and Rosen fromalised the concept of **local realism** in their seminal [paper in 1935](https://cds.cern.ch/record/405662/files/PhysRev.47.777.pdf), by carefully going through steps. First they defined the concept of **element of reality**. \n",
    "\n",
    "If we can predict the value $a$ that some property $A$ assumes without disturbing it, we can adscribe to it an *element of reality*\n",
    "\n",
    "In classical mechanics, this concept is deeply related to the concept of **probe**. That is, the limit in which me can extract the value of $p$ can be taken to the limit of vanishing disturbance of the measured system. \n",
    "\n",
    "In quantum mechanichs, this si no more the case, as there si a **minimum quantum of action** as system can exchange, namely $h$. \n",
    "\n",
    "In particular this affects non-commuting observable, as the order in which their action affects the system  precisely differs by something proportional to this quantity. For example, for the angular momentum \n",
    "\n",
    "$$\n",
    " [ J_x, J_y  ]  = i\\frac{\\hbar}{2} J_z\n",
    "$$\n",
    "\n",
    "We are already familiar with the fact that, if we measure $J_x$ then $J_y$ will be fully uncertain, and vicecersa. This poses no problem with the definition of EPR, as we have not been able to reduce to zero the measurement disturbance. \n",
    "\n"
   ]
  },
  {
   "cell_type": "markdown",
   "id": "396fdd19",
   "metadata": {
    "slideshow": {
     "slide_type": "skip"
    }
   },
   "source": [
    "The idea is as follows. Produce, by some means, a bi-partite system, in the Bell singlet state\n",
    "\n",
    "$$\n",
    "\\ket{B_{11}}=\\frac{1}{\\sqrt{2}}(\\ket{01}-\\ket{10})\n",
    "$$\n",
    "\n",
    "This is usually referred to as an EPR state. Una propiedad importante de este estado es que es invariante bajo cambios de base $\\ket{0},\\ket{1} \\to \\ket{0}_{\\bn}, \\ket{1}_\\bn$. Es decir\n",
    "\n",
    "\n",
    "$$\n",
    "\\ket{B_{11}}=\\frac{1}{\\sqrt{2}}(\\ket{01}_\\bn-\\ket{10}_{\\hat{\\bn}})\n",
    "$$\n"
   ]
  },
  {
   "cell_type": "markdown",
   "id": "d64a623d",
   "metadata": {
    "slideshow": {
     "slide_type": "skip"
    }
   },
   "source": [
    "Suppose that Alice measures $A({\\bf{z}}) = J_z$ of her qubit in direccion $\\bf{z}$ finding $(+1)$. Then, in agreement with the definition, Bob's system has not been disturbed and the value $(-1)$ is **element of reality**  for the projection of the  angular momentum $B(z) = J_z$. \n",
    "\n",
    "Next, Alice measures in direction $A({\\bf x}) = J_{x}$, finding, for example $(-1)$. Likewise, $(+1)$ will be an **element of reality**  for the projection of the  angular momentum $B(x) = J_x$. \n",
    "\n",
    "In other words, both $J_z = -1$ and $J_x = +1$ are well defined coexisting values at Bob's system. \n",
    "\n"
   ]
  },
  {
   "cell_type": "markdown",
   "id": "494426a1",
   "metadata": {
    "slideshow": {
     "slide_type": "skip"
    }
   },
   "source": [
    "Einstein Podolski and Rosen concluded that the uncertainty principle was not a fundamental, and the randomness on the measurement outcomes should be of a classical, albeit stocastic nature. Namely, something symmilar as how randomnes appears in classical physics when averaging over deterministic initial conditions. \n",
    "\n",
    "In more precise terms, a theory with **local realism** fulfills the following requirements: let  ${\\bf a}$ and ${\\bf b}$ be the basis chosen to measure $A$ and $B$ by Alice and Bob.\n",
    "\n",
    "-  There exist a classical parameter $\\lambda$ that governs the outcomes of their measurements at any moment\n",
    "<br>\n",
    "<br>\n",
    "$$ A({\\bf a}, \\lambda) = \\{+1, -1\\} ~~~~~,~~~~ B({\\bf b}, \\lambda) = \\{+1, -1\\}$$ \n",
    "<br>\n",
    "In other words, these values are defined prior to their measurement.\n",
    "<br>\n",
    "<br>\n",
    "- For Alice and Bob spacelike separated,  the value of $A({\\bf a}, \\lambda)$ only depends on ${\\bf a}$ and $\\lambda$ but not on ${\\bf b}$. And viceversa, the value of  $B({\\bf b}, \\lambda)$ only depends on ${\\bf b}$ and $\\lambda$ but not on ${\\bf a}$.\n",
    "\n"
   ]
  },
  {
   "cell_type": "markdown",
   "id": "4089a28a",
   "metadata": {
    "slideshow": {
     "slide_type": "slide"
    }
   },
   "source": [
    "<a id='bell'></a>\n",
    "## Bell theorem"
   ]
  },
  {
   "cell_type": "markdown",
   "id": "50a9674d",
   "metadata": {
    "slideshow": {
     "slide_type": "slide"
    }
   },
   "source": [
    "In 1964, the Northern Irish physicist John Bell, who worked at CERN, [demonstrated](https://cds.cern.ch/record/111654/files/vol1p195-200_001.pdf) that **all** theories that respect local realism satisfy certain *mathematical inequalities*.\n",
    "\n",
    "In particular, <u>all quantities that evolve according to the laws of classical physics</u> satisfy them.\n"
   ]
  },
  {
   "cell_type": "markdown",
   "id": "1bd04eae",
   "metadata": {
    "slideshow": {
     "slide_type": "-"
    }
   },
   "source": [
    "On the contrary, John Bell showed how, in Quantum Mechanics, entanglement incorporates *subtle correlations* between the measurements that allow these inequalities to be surpassed."
   ]
  },
  {
   "cell_type": "markdown",
   "id": "28426fe9",
   "metadata": {
    "slideshow": {
     "slide_type": "skip"
    }
   },
   "source": [
    "The discussion, from purely philosophical to being the subject of experimental research, culminated with the [experiment](https://journals.aps.org/prl/abstract/10.1103/PhysRevLett.49.1804) by Alain Aspect and collaborators in 1982.\n",
    "\n",
    "It was observed that Quantum Mechanics violates Bell's inequalities and, therefore, **is not a theory with local realism**.\n"
   ]
  },
  {
   "cell_type": "markdown",
   "id": "654480ff",
   "metadata": {
    "slideshow": {
     "slide_type": "fragment"
    }
   },
   "source": [
    "John Bell's proposal led to a family of inequalities that highlight the impossibility of obtaining certain correlations in a classical world.\n",
    "\n",
    "We will examine the inequality in the form studied by Clauser, Horne, Shimony, and Holt [CHSH](https://journals.aps.org/prl/abstract/10.1103/PhysRevLett.23.880).  "
   ]
  },
  {
   "cell_type": "markdown",
   "id": "217b7868",
   "metadata": {
    "slideshow": {
     "slide_type": "skip"
    }
   },
   "source": [
    "Subsequently, we will study the GHZ experiment, which also highlights the subtle correlations introduced by entanglement in a much more deterministic way, rather than statistical."
   ]
  },
  {
   "cell_type": "markdown",
   "id": "f955885c",
   "metadata": {
    "slideshow": {
     "slide_type": "slide"
    }
   },
   "source": [
    "<a id='anticorr'></a>\n",
    "## Perfect Anticorrelation\n",
    "\n",
    "Central to this discussion is the presence of entanglement. We will select the so-called *singlet* from the Bell Basis.\n",
    "<br>\n",
    "<br>\n",
    "$$\n",
    "\\ket{B_{11}}=\\frac{1}{\\sqrt{2}}(\\ket{01}-\\ket{10})\n",
    "$$\n",
    "\n",
    "Suppose that Alice and Bob each have Stern-Gerlach devices pointing in the direction $\\hat{\\bf z} = (0,0,1)$."
   ]
  },
  {
   "cell_type": "markdown",
   "id": "e49b7644",
   "metadata": {
    "slideshow": {
     "slide_type": "fragment"
    }
   },
   "source": [
    "- If Alice records +1, the state collapses to $\\ket{01}$ and, therefore, Bob will only be able to measure $\\, -1$\n",
    "\n",
    "\n",
    "- If Alice records -1, the state collapses to $\\ket{10}$ and, therefore, Bob will only be able to measure $\\, +1$"
   ]
  },
  {
   "cell_type": "markdown",
   "id": "00a3ca0a",
   "metadata": {
    "slideshow": {
     "slide_type": "slide"
    }
   },
   "source": [
    "In short, there is a **perfect anticorrelation** that is revealed in the average value of the product of the measurements.\n",
    "\n",
    "If Alice's and Bob's measurements are $a_i=\\pm 1\\Rightarrow b_i=\\mp 1$ respectively, the average value\n",
    "of the random variable $\\{a_i, b_i\\}$ is equal to  $~-1$\n",
    "\n",
    "$$\n",
    "\\overline{ab} = \\frac{1}{N}\\sum_{i=1}^N a_i b_i =\\frac{1}{N}\\sum_{i=1}^N(+1) (-1) = -1\n",
    "$$"
   ]
  },
  {
   "cell_type": "markdown",
   "id": "a8a788c5",
   "metadata": {
    "slideshow": {
     "slide_type": "slide"
    }
   },
   "source": [
    "Let's see how the theoretical prediction confirms this fact.\n",
    "\n",
    "The state $\\ket{B_{11}}$ is already an eigenstate of the associated observable \n",
    "\n",
    "$$\n",
    "Z\\otimes Z \\ket{B_{11}} = Z\\ket{0}Z\\ket{1} - Z\\ket{1}Z\\ket{0} = -\\ket{01} + \\ket{10} = -\\ket{B_{11}}\n",
    "$$"
   ]
  },
  {
   "cell_type": "markdown",
   "id": "051e3348",
   "metadata": {
    "slideshow": {
     "slide_type": "fragment"
    }
   },
   "source": [
    "And the expected value saturates this eigenvalue \n",
    "<br>\n",
    "\n",
    "$$\n",
    " \\langle Z\\otimes Z\\rangle = \\bra{B_{11}}Z\\otimes Z\\,  \\ket{B_{11}}  = -\\braket{B_{11}}{B_{11}}= -1\\, \n",
    "$$\n"
   ]
  },
  {
   "cell_type": "markdown",
   "id": "813327d8",
   "metadata": {
    "slideshow": {
     "slide_type": "skip"
    }
   },
   "source": [
    "<div class=\"alert alert-block alert-danger\">\n",
    "<b>Note</b>\n",
    "<br>\n",
    "The anti-correlation we have found is the same as in a classic experiment prepared in a bag containing two socks of two colors: if Alice takes out the white one, the one Bob takes out has to be black.     \n",
    "    \n",
    "</div>"
   ]
  },
  {
   "cell_type": "markdown",
   "id": "190f7345",
   "metadata": {
    "slideshow": {
     "slide_type": "slide"
    }
   },
   "source": [
    "The situation becomes more interesting when the two Stern Gerlach polarizers <u>*are not oriented in the same direction*</u>\n",
    "\n",
    "The observable now associated with the direction $~\\hat{\\bf n}~$ will be $~ A = \\hat{\\bf n}\\cdot \\boldsymbol{\\sigma}$\n",
    "\n",
    "Even so, the eigenvalues of this operator and, therefore, the spin projection will still be $\\pm 1$\n",
    "\n",
    "<div class=\"alert alert-block alert-info\",text-align:center>\n",
    "<p style=\"text-align: left ;color: navy;\">  \n",
    "<b>Theorem</b>: \n",
    "<br>\n",
    "the average value of the product of the spin projections along the respective axes $~\\hat{\\bf m}~$ and $~\\hat{\\bf n}~$ is given by the cosine of the angle $\\theta$ formed by the axes of the two detectors \n",
    "<br>\n",
    "<br>    \n",
    "$$\n",
    "\\bra{B_{11}}(\\hat{\\bf m}\\cdot \\boldsymbol{\\sigma}\\otimes \\hat{\\bf n}\\cdot \\boldsymbol{\\sigma})\\ket{B_{11}}\n",
    " = -\\cos \\theta = - \\hat{\\bf m}\\cdot \\hat{\\bf n}\n",
    "$$\n",
    "</p>\n",
    "</div>"
   ]
  },
  {
   "cell_type": "markdown",
   "id": "ef222950",
   "metadata": {
    "slideshow": {
     "slide_type": "skip"
    }
   },
   "source": [
    "<div class=\"alert alert-block alert-success\">\n",
    "<b>Exercise:</b> \n",
    "test this result.\n",
    "</div>"
   ]
  },
  {
   "cell_type": "markdown",
   "id": "c8836df7",
   "metadata": {
    "slideshow": {
     "slide_type": "slide"
    }
   },
   "source": [
    "<details>\n",
    "<summary><p style=\"text-align: right ;color: navy\"> >> Demostración </p></summary>\n",
    " \n",
    "\n",
    "\\begin{align}\n",
    "\\bra{B_{11}} \\hat\\boldn_A\\!\\cdot \\!\\boldsig \\otimes  \\hat\\boldn_B \\! \\cdot \\! \\boldsig \\ket{B_{11}} &= \\frac{1}{\\sqrt{2}} \n",
    "\\begin{bmatrix} 0 & 1 & -1 & 0 \\end{bmatrix}\n",
    "\\begin{pmatrix}  \n",
    "n_A^z & n_A^x - i n_A^y \\\\\n",
    "n_A^x + i n_A^y & -n_A^z \n",
    "\\end{pmatrix}\\otimes \\begin{pmatrix}  \n",
    "n_B^z & n_B^x - i n_B^y \\\\\n",
    "n_B^x + i n_B^y & -n_B^z \n",
    "\\end{pmatrix}\n",
    "\\frac{1}{\\sqrt{2}} \\begin{bmatrix} 0 \\\\ 1 \\\\ -1 \\\\ 0 \\end{bmatrix} \n",
    "\\\\\n",
    "& = \\frac{1}{2}    \\begin{bmatrix} 0 & 1 & -1 & 0 \\end{bmatrix}\n",
    "\\begin{bmatrix}\n",
    "  * &  * & *  & * \\\\\n",
    " * & - n_A^z n_B^z & (n_A^x - i n_A^y)(n_B^x + i n_B^y) &  *\\\\\n",
    " * &(n_A^x + i n_A^y)(n_B^x - i n_B^y)  & -n_A^z n_B^Z & * \\\\\n",
    " * &  * & * & *\n",
    "\\end{bmatrix}\n",
    "\\begin{bmatrix} 0 \\\\ 1 \\\\ -1 \\\\ 0 \\end{bmatrix}\\\\\n",
    "&=  \\frac{1}{2}    \\begin{bmatrix} 0 & 1 & -1 & 0 \\end{bmatrix}\n",
    "\\begin{bmatrix} 0 \\\\- n_A^Zn_B^z -  n_A^x n_B^x - n_A^y n_B^y - i(n_A^x n_B^y -  n_A^y n_B^x)  \\\\ \n",
    " n_A^Z n_B^Z + n_A^x n_B^x + n_A^y n_B^y + i(n_A^x n_B^y -  n_A^y n_B^x)\\\\ 0 \\end{bmatrix}\n",
    " =  - n_A^Z n_B^Z - n_A^x n_B^x - n_A^y n_B^y \\\\\n",
    "&= -\\hat{\\boldn}_A\\cdot \\hat{\\boldn}_B\n",
    "\\end{align}\n",
    "\n",
    "</details>\n"
   ]
  },
  {
   "cell_type": "markdown",
   "id": "ebb11bae",
   "metadata": {
    "slideshow": {
     "slide_type": "slide"
    }
   },
   "source": [
    "- When the axes are parallel, we recover the anti-correlation, in any direction\n",
    "\n",
    "$$\n",
    "-\\hat{\\bf n}\\cdot \\hat{\\bf n} = - \\cos 0 = -1 \n",
    "$$\n",
    "\n",
    "- when the directions of Alice's and Bob's detectors do not match, there is still a quantum measurement $a,b = \\pm 1$ in both.\n",
    "<br>\n",
    "<br>\n",
    "- Classically, can you give any operational meaning to this situation?\n",
    "\n",
    "\n"
   ]
  },
  {
   "cell_type": "markdown",
   "id": "d81743f8",
   "metadata": {
    "slideshow": {
     "slide_type": "slide"
    }
   },
   "source": [
    "<a id='csch'></a>\n",
    "## The CHSH Inequality\n",
    "\n",
    "In 1970 Clauser, Horne, Shimony, and Holt [CHSH](https://journals.aps.org/prl/abstract/10.1103/PhysRevLett.23.880) proposed a figure of merit capable of distinguishing quantum correlations from classical ones."
   ]
  },
  {
   "cell_type": "markdown",
   "id": "e3f9b419",
   "metadata": {
    "slideshow": {
     "slide_type": "fragment"
    }
   },
   "source": [
    "The idea is that Alice and Bob can each choose <u>*two arbitrary orientations*</u> for their detector.\n",
    "\n",
    "For Alice's detector, we denote them as $\\hat{\\bf n}_A, \\hat{\\bf n}'_A$ and for Bob's $\\, \\hat{\\bf n}_B, \\hat{\\bf n}'_B.$\n",
    "\n",
    "The steps to follow are as follows:\n",
    "\n",
    "**1.-** Alice and Bob select *an orientation* for their detectors. There are four possible pairs\n",
    "\n",
    "$$\n",
    "\\begin{array}{c|c} {\\rm Alice} & {\\rm Bob} \\\\ \\hline \\hat{\\bf n}_A  &\\hat{\\bf n}_B \\\\ \\hat{\\bf n}_A &\\hat{\\bf n}'_B \\\\ \\hat{\\bf n}'_A & \\hat{\\bf n}_B \\\\ \\hat{\\bf n}'_A &\\hat{\\bf n}'_B \\end{array}\n",
    "$$\n"
   ]
  },
  {
   "cell_type": "markdown",
   "id": "71865e6b",
   "metadata": {
    "slideshow": {
     "slide_type": "slide"
    }
   },
   "source": [
    "\n",
    "**2.-** Alice and Bob each receive an electron from an entangled pair in the state $\\ket{B_{11}}$\n",
    "\n",
    "\n",
    "**3.-** Alice and Bob perform the spin projection measurement along the chosen axis and record the measurement result $(a,b)=(\\pm 1, \\pm 1)$ \n"
   ]
  },
  {
   "cell_type": "markdown",
   "id": "0b0e099a",
   "metadata": {
    "slideshow": {
     "slide_type": "fragment"
    }
   },
   "source": [
    "**4.-** Repeat the previous step a large number of times $i=1,..., N$, and with the obtained data $~(a_i,b_i)=(\\pm 1, \\pm 1)~$ they can reconstruct the correlation\n",
    "\n",
    "$$\n",
    " C(\\hat{\\bf n}_A, \\hat{\\bf n}_B) = \\frac{1}{N}\\sum_{i=1}^N a_i b_i ~\\in~  [-1,1]\n",
    "$$\n"
   ]
  },
  {
   "cell_type": "markdown",
   "id": "fd6b28f7",
   "metadata": {
    "slideshow": {
     "slide_type": "fragment"
    }
   },
   "source": [
    "**5.-** Repeat the entire previous process for the four possible orientations chosen randomly. With the $4N$ measurements, they construct the quantity\n",
    "<br>\n",
    "<br>\n",
    "$$\n",
    "R = | C(\\hat{\\bf n}_A, \\hat{\\bf n}_B) +  C(\\hat{\\bf n}_A, \\hat{\\bf n}'_B) +  C(\\hat{\\bf n}'_A, \\hat{\\bf n}_B)-  C(\\hat{\\bf n}'_A, \\hat{\\bf n}'_B)|\n",
    "$$"
   ]
  },
  {
   "cell_type": "markdown",
   "id": "3684eeb1",
   "metadata": {
    "slideshow": {
     "slide_type": "slide"
    }
   },
   "source": [
    "In a classical world, we would assume that the values $a_i,b_i$ come from *predefined values* for each individual system, on which we simply perform a statistical average of many systems. Then we can prove the **CHSH inequality**\n",
    "\n",
    "<div class=\"alert alert-block alert-info\",text-align:center>\n",
    "<p style=\"text-align: left ;color: navy;\">  \n",
    "<b>Theorem</b>: \n",
    "The CHSH inequality states that \n",
    "$$\n",
    "R \\leq 2\n",
    "$$\n",
    "</p></div>\n",
    "\n"
   ]
  },
  {
   "cell_type": "markdown",
   "id": "2c9a0599",
   "metadata": {
    "slideshow": {
     "slide_type": "slide"
    }
   },
   "source": [
    "**Test**\n",
    "\n",
    "It is easy to see that for each collection $a_i,a'_i,b_i,b'_i \\in \\pm 1$ the inequality holds\n",
    "<br>\n",
    "<br>\n",
    "$$\n",
    "a_i (b_i +  b'_i) + a'_i (b_i -  b'_i) = \\pm 2\n",
    "$$\n",
    "<br>\n",
    "because if $b_i +  b'_i=\\pm 2$ then $b_i - b'_i=0$ and vice versa. Now we can prove the inequality \n",
    "\\begin{eqnarray}\n",
    "R &=& \\lim_{N\\to \\infty}|\\frac{1}{N} \\sum_{i=1}^N \\left( a_i b_i + a_i b'_i + a'_i b_i - a'_i b'_i\\right) | \\nonumber\\\\\n",
    "&=& \\lim_{N\\to \\infty}\\frac{1}{N}| \\sum_{i=1}^N  \\left( a_i (b_i +  b'_i) + a'_i (b_i -  b'_i)\\right)| \\nonumber\\\\\n",
    "&\\leq &  \\lim_{N\\to \\infty} \\frac{1}{N} \\sum_{i=1}^N  |\\left( a_i (b_i +  b'_i) + a'_i (b_i -  b'_i)\\right)| \\ \\nonumber\\\\\n",
    "&= &  \\lim_{N\\to \\infty} \\frac{1}{N} \\sum_{i=1}^N  2 \\ \\nonumber\\\\\n",
    "&=& 2\n",
    "\\end{eqnarray}\n"
   ]
  },
  {
   "cell_type": "markdown",
   "id": "2cb96529",
   "metadata": {
    "slideshow": {
     "slide_type": "slide"
    }
   },
   "source": [
    "Quantum Mechanics provides us with a theoretical answer for $R$ that only depends on the relative angles $\\cos\\theta_{AB} = \\cos(\\theta_A-\\theta_B)= \\hat{\\bf n}_A\\cdot \\hat{\\bf n}_B$.\n",
    "<br>\n",
    "<br>\n",
    "\n",
    "$$\n",
    "R = | \\cos\\theta_{AB}  + \\cos \\theta_{A'B} + \\cos \\theta_{AB'}  - \\cos \\theta_{A'B'}|\\, .\n",
    "$$\n",
    "<br>\n"
   ]
  },
  {
   "cell_type": "markdown",
   "id": "d22b95ec",
   "metadata": {
    "slideshow": {
     "slide_type": "slide"
    }
   },
   "source": [
    "Now we just need to play a little with the detectors.\n",
    "\n",
    "For example, we can place them in the plane $(y,z)$, perpendicular to the propagation axis $x$, so that the vectors $\\hat{\\bf n}'_A,\\hat{\\bf n}_{A},\\hat{\\bf n}_B$ and $\\hat{\\bf n}_B'$ are arranged consecutively in a clockwise direction. Finally, we will take two coincident axes $\\hat{\\bf n}_{A}=\\hat{\\bf n}_B$ parallel $\\Rightarrow \\theta_{AB}=0$, and equal aperture for both, $\\theta_{A'A} = \\theta_{BB'} = \\varphi$, so that $\\theta_{A'B'} = 2\\varphi$ \n"
   ]
  },
  {
   "cell_type": "markdown",
   "id": "e4007ab8",
   "metadata": {
    "slideshow": {
     "slide_type": "-"
    }
   },
   "source": [
    "\n",
    "<figure><center>\n",
    "<a id='fig_ref'></a>\n",
    "<img src=\"images/CHSH_basis.png\" align=center width='28%'/>\n",
    "<center></center>\n",
    "</center></figure>\n"
   ]
  },
  {
   "cell_type": "markdown",
   "id": "2be2c803",
   "metadata": {
    "slideshow": {
     "slide_type": "fragment"
    }
   },
   "source": [
    "\n",
    "\n",
    "$$\n",
    "R(\\varphi) = |1 +  2 \\cos\\varphi  - \\cos 2\\varphi|\\, .\n",
    "$$\n",
    "\n",
    "By deriving, we see that this expression reaches its maximum when $\\sin\\varphi = \\sin 2\\varphi$, which has the solution $\\varphi = \\pi/3 = 60^\\circ$. Substituting, we find $R= 2.5>2$. \n",
    " \n"
   ]
  },
  {
   "cell_type": "markdown",
   "id": "40cbd7d3",
   "metadata": {
    "slideshow": {
     "slide_type": "slide"
    }
   },
   "source": [
    "Let's make a list of relative angles between the two polarizers"
   ]
  },
  {
   "cell_type": "code",
   "execution_count": 3,
   "id": "072eeb9c",
   "metadata": {
    "slideshow": {
     "slide_type": "-"
    }
   },
   "outputs": [],
   "source": [
    "'angulos de medida'\n",
    "phi_divs = 100\n",
    "phi_list=np.linspace(0,2*np.pi,phi_divs) #lista de angulos'\n",
    "\n",
    "'lista de correlaciones C[i] a calcular'\n",
    "C=[0,0,0,0]\n",
    "\n",
    "'lista de valores de R'\n",
    "R=np.zeros(phi_divs)\n",
    "\n",
    "'Numero de medidas'\n",
    "nshots = 2048\n",
    "\n",
    "from qiskit import QuantumCircuit\n",
    "from qiskit_aer import  Aer\n",
    "simulator = Aer.get_backend('aer_simulator')"
   ]
  },
  {
   "cell_type": "code",
   "execution_count": 5,
   "id": "644a9112",
   "metadata": {
    "slideshow": {
     "slide_type": "slide"
    }
   },
   "outputs": [
    {
     "data": {
      "image/png": "[encoded data removed]",
      "text/plain": [
       "<Figure size 621.739x284.278 with 1 Axes>"
      ]
     },
     "metadata": {},
     "output_type": "display_data"
    },
    {
     "name": "stdout",
     "output_type": "stream",
     "text": [
      "{'10': 999, '01': 1049}\n",
      "{'01': 1038, '10': 1010}\n",
      "{'10': 1016, '01': 1032}\n",
      "{'10': 1036, '01': 1012}\n",
      "{'10': 1013, '01': 1035}\n",
      "{'11': 1, '00': 1, '10': 1035, '01': 1011}\n",
      "{'00': 1, '11': 1, '10': 1015, '01': 1031}\n",
      "{'01': 984, '11': 2, '00': 7, '10': 1055}\n",
      "{'10': 1000, '01': 1048}\n",
      "{'01': 982, '00': 6, '11': 6, '10': 1054}\n",
      "{'01': 1023, '00': 5, '11': 3, '10': 1017}\n",
      "{'11': 14, '00': 7, '10': 1031, '01': 996}\n",
      "{'01': 985, '10': 1063}\n",
      "{'00': 5, '11': 9, '10': 1026, '01': 1008}\n",
      "{'11': 9, '00': 16, '10': 997, '01': 1026}\n",
      "{'01': 952, '00': 41, '11': 33, '10': 1022}\n",
      "{'01': 1027, '10': 1021}\n",
      "{'01': 1016, '00': 17, '11': 12, '10': 1003}\n",
      "{'01': 1008, '00': 18, '11': 18, '10': 1004}\n",
      "{'11': 75, '00': 59, '10': 990, '01': 924}\n",
      "{'01': 1045, '10': 1003}\n",
      "{'01': 1005, '11': 30, '10': 984, '00': 29}\n",
      "{'00': 24, '10': 1001, '11': 29, '01': 994}\n",
      "{'00': 95, '11': 109, '10': 874, '01': 970}\n",
      "{'10': 1000, '01': 1048}\n",
      "{'11': 33, '00': 38, '10': 1002, '01': 975}\n",
      "{'00': 37, '10': 1014, '11': 41, '01': 956}\n",
      "{'01': 867, '00': 152, '11': 147, '10': 882}\n",
      "{'01': 1000, '10': 1048}\n",
      "{'00': 44, '11': 47, '10': 1008, '01': 949}\n",
      "{'01': 982, '00': 45, '11': 39, '10': 982}\n",
      "{'01': 840, '00': 180, '11': 190, '10': 838}\n",
      "{'10': 1025, '01': 1023}\n",
      "{'01': 931, '11': 61, '00': 62, '10': 994}\n",
      "{'11': 58, '00': 72, '10': 919, '01': 999}\n",
      "{'11': 271, '10': 743, '00': 229, '01': 805}\n",
      "{'10': 1032, '01': 1016}\n",
      "{'11': 74, '00': 89, '10': 961, '01': 924}\n",
      "{'01': 930, '00': 88, '10': 954, '11': 76}\n",
      "{'01': 687, '11': 273, '10': 758, '00': 330}\n",
      "{'01': 1038, '10': 1010}\n",
      "{'11': 98, '00': 106, '10': 916, '01': 928}\n",
      "{'00': 105, '11': 86, '10': 917, '01': 940}\n",
      "{'01': 660, '00': 375, '11': 368, '10': 645}\n",
      "{'01': 992, '10': 1056}\n",
      "{'01': 900, '11': 130, '00': 143, '10': 875}\n",
      "{'01': 924, '11': 109, '00': 114, '10': 901}\n",
      "{'00': 390, '10': 599, '11': 425, '01': 634}\n",
      "{'10': 986, '01': 1062}\n",
      "{'01': 888, '11': 131, '00': 141, '10': 888}\n",
      "{'11': 140, '00': 155, '10': 888, '01': 865}\n",
      "{'01': 587, '10': 519, '00': 465, '11': 477}\n",
      "{'01': 1034, '10': 1014}\n",
      "{'01': 860, '11': 173, '00': 175, '10': 840}\n",
      "{'01': 849, '00': 163, '11': 159, '10': 877}\n",
      "{'01': 473, '00': 509, '11': 584, '10': 482}\n",
      "{'01': 1045, '10': 1003}\n",
      "{'11': 193, '10': 803, '00': 183, '01': 869}\n",
      "{'01': 860, '11': 175, '00': 193, '10': 820}\n",
      "{'01': 399, '11': 594, '10': 421, '00': 634}\n",
      "{'01': 1052, '10': 996}\n",
      "{'01': 807, '11': 218, '00': 230, '10': 793}\n",
      "{'01': 826, '11': 182, '00': 225, '10': 815}\n",
      "{'01': 352, '10': 349, '11': 681, '00': 666}\n",
      "{'10': 1040, '01': 1008}\n",
      "{'01': 783, '00': 243, '10': 800, '11': 222}\n",
      "{'10': 746, '00': 250, '11': 247, '01': 805}\n",
      "{'10': 283, '11': 783, '00': 719, '01': 263}\n",
      "{'01': 1011, '10': 1037}\n",
      "{'01': 744, '11': 282, '10': 760, '00': 262}\n",
      "{'11': 261, '00': 281, '10': 752, '01': 754}\n",
      "{'10': 236, '11': 818, '00': 755, '01': 239}\n",
      "{'01': 1040, '10': 1008}\n",
      "{'11': 300, '00': 309, '10': 737, '01': 702}\n",
      "{'00': 297, '10': 722, '11': 314, '01': 715}\n",
      "{'01': 161, '10': 186, '00': 839, '11': 862}\n",
      "{'10': 978, '01': 1070}\n",
      "{'01': 714, '11': 309, '00': 316, '10': 709}\n",
      "{'01': 733, '00': 318, '11': 337, '10': 660}\n",
      "{'01': 127, '10': 140, '00': 883, '11': 898}\n",
      "{'01': 1004, '10': 1044}\n",
      "{'01': 645, '00': 335, '10': 705, '11': 363}\n",
      "{'01': 649, '00': 375, '10': 654, '11': 370}\n",
      "{'01': 102, '10': 78, '11': 934, '00': 934}\n",
      "{'01': 999, '10': 1049}\n",
      "{'01': 648, '11': 401, '10': 629, '00': 370}\n",
      "{'01': 596, '10': 659, '00': 399, '11': 394}\n",
      "{'01': 55, '10': 81, '00': 934, '11': 978}\n",
      "{'01': 1024, '10': 1024}\n",
      "{'11': 420, '10': 573, '00': 427, '01': 628}\n",
      "{'00': 424, '10': 655, '11': 431, '01': 538}\n",
      "{'01': 36, '10': 22, '11': 989, '00': 1001}\n",
      "{'01': 1010, '10': 1038}\n",
      "{'01': 538, '00': 422, '11': 487, '10': 601}\n",
      "{'11': 440, '00': 471, '10': 525, '01': 612}\n",
      "{'10': 8, '11': 1047, '00': 983, '01': 10}\n",
      "{'01': 1013, '10': 1035}\n",
      "{'01': 513, '10': 534, '11': 521, '00': 480}\n",
      "{'11': 472, '10': 565, '00': 489, '01': 522}\n",
      "{'01': 3, '10': 3, '00': 1020, '11': 1022}\n",
      "{'10': 990, '01': 1058}\n",
      "{'00': 534, '11': 538, '10': 522, '01': 454}\n",
      "{'01': 508, '11': 546, '10': 507, '00': 487}\n",
      "{'00': 1017, '11': 1031}\n",
      "{'01': 1061, '10': 987}\n",
      "{'01': 464, '00': 554, '11': 552, '10': 478}\n",
      "{'01': 454, '10': 482, '11': 569, '00': 543}\n",
      "{'01': 9, '10': 6, '00': 1073, '11': 960}\n",
      "{'10': 1026, '01': 1022}\n",
      "{'00': 562, '10': 453, '11': 587, '01': 446}\n",
      "{'01': 434, '11': 598, '00': 586, '10': 430}\n",
      "{'01': 25, '10': 20, '11': 1009, '00': 994}\n",
      "{'10': 1031, '01': 1017}\n",
      "{'01': 426, '10': 406, '11': 604, '00': 612}\n",
      "{'11': 617, '00': 610, '10': 374, '01': 447}\n",
      "{'01': 40, '11': 996, '00': 972, '10': 40}\n",
      "{'01': 1027, '10': 1021}\n",
      "{'01': 346, '00': 661, '11': 642, '10': 399}\n",
      "{'01': 398, '10': 370, '11': 621, '00': 659}\n",
      "{'01': 70, '10': 58, '11': 974, '00': 946}\n",
      "{'10': 982, '01': 1066}\n",
      "{'00': 705, '10': 351, '11': 654, '01': 338}\n",
      "{'01': 345, '11': 688, '00': 680, '10': 335}\n",
      "{'01': 106, '10': 118, '11': 932, '00': 892}\n",
      "{'01': 1028, '10': 1020}\n",
      "{'01': 328, '00': 677, '11': 720, '10': 323}\n",
      "{'10': 293, '00': 750, '11': 695, '01': 310}\n",
      "{'10': 139, '00': 867, '11': 892, '01': 150}\n",
      "{'01': 1002, '10': 1046}\n",
      "{'01': 277, '00': 755, '10': 272, '11': 744}\n",
      "{'01': 275, '00': 750, '11': 737, '10': 286}\n",
      "{'01': 213, '10': 195, '11': 830, '00': 810}\n",
      "{'01': 1006, '10': 1042}\n",
      "{'01': 244, '10': 269, '11': 763, '00': 772}\n",
      "{'01': 250, '10': 288, '00': 784, '11': 726}\n",
      "{'01': 270, '10': 245, '11': 785, '00': 748}\n",
      "{'10': 1010, '01': 1038}\n",
      "{'01': 242, '10': 212, '00': 752, '11': 842}\n",
      "{'01': 214, '10': 252, '00': 784, '11': 798}\n",
      "{'01': 320, '10': 308, '00': 745, '11': 675}\n",
      "{'10': 1000, '01': 1048}\n",
      "{'01': 195, '11': 853, '00': 788, '10': 212}\n",
      "{'01': 195, '11': 822, '00': 825, '10': 206}\n",
      "{'01': 392, '00': 647, '10': 369, '11': 640}\n",
      "{'10': 1047, '01': 1001}\n",
      "{'01': 183, '10': 165, '00': 847, '11': 853}\n",
      "{'01': 196, '11': 840, '10': 176, '00': 836}\n",
      "{'01': 458, '11': 556, '10': 452, '00': 582}\n",
      "{'01': 1038, '10': 1010}\n",
      "{'01': 139, '10': 139, '00': 894, '11': 876}\n",
      "{'01': 165, '10': 158, '00': 858, '11': 867}\n",
      "{'01': 549, '11': 526, '10': 491, '00': 482}\n",
      "{'10': 1052, '01': 996}\n",
      "{'01': 153, '10': 122, '11': 887, '00': 886}\n",
      "{'10': 115, '11': 905, '00': 900, '01': 128}\n",
      "{'01': 573, '00': 446, '10': 549, '11': 480}\n",
      "{'01': 1024, '10': 1024}\n",
      "{'01': 109, '10': 112, '11': 909, '00': 918}\n",
      "{'01': 120, '10': 104, '11': 925, '00': 899}\n",
      "{'11': 367, '00': 401, '10': 644, '01': 636}\n",
      "{'10': 1039, '01': 1009}\n",
      "{'01': 81, '11': 932, '00': 948, '10': 87}\n",
      "{'10': 76, '11': 984, '00': 893, '01': 95}\n",
      "{'11': 326, '10': 667, '00': 339, '01': 716}\n",
      "{'10': 1017, '01': 1031}\n",
      "{'01': 78, '10': 66, '00': 969, '11': 935}\n",
      "{'01': 87, '10': 79, '00': 958, '11': 924}\n",
      "{'01': 736, '11': 248, '10': 788, '00': 276}\n",
      "{'10': 1033, '01': 1015}\n",
      "{'01': 49, '10': 54, '00': 979, '11': 966}\n",
      "{'01': 51, '10': 60, '00': 974, '11': 963}\n",
      "{'01': 814, '00': 202, '11': 240, '10': 792}\n",
      "{'01': 1044, '10': 1004}\n",
      "{'01': 43, '10': 48, '11': 998, '00': 959}\n",
      "{'01': 43, '10': 47, '00': 948, '11': 1010}\n",
      "{'01': 856, '11': 162, '00': 178, '10': 852}\n",
      "{'01': 1049, '10': 999}\n",
      "{'01': 52, '10': 37, '00': 979, '11': 980}\n",
      "{'01': 26, '10': 41, '11': 1001, '00': 980}\n",
      "{'01': 869, '00': 133, '11': 108, '10': 938}\n",
      "{'01': 1057, '10': 991}\n",
      "{'01': 16, '10': 22, '11': 1001, '00': 1009}\n",
      "{'01': 32, '10': 17, '11': 1007, '00': 992}\n",
      "{'01': 943, '00': 87, '11': 80, '10': 938}\n",
      "{'10': 982, '01': 1066}\n",
      "{'01': 12, '10': 16, '00': 1003, '11': 1017}\n",
      "{'01': 8, '10': 15, '00': 1027, '11': 998}\n",
      "{'01': 969, '00': 53, '11': 56, '10': 970}\n",
      "{'01': 1031, '10': 1017}\n",
      "{'01': 5, '10': 5, '11': 1021, '00': 1017}\n",
      "{'01': 5, '10': 9, '00': 1040, '11': 994}\n",
      "{'01': 1017, '11': 22, '00': 30, '10': 979}\n",
      "{'01': 1040, '10': 1008}\n",
      "{'01': 4, '10': 5, '00': 997, '11': 1042}\n",
      "{'01': 2, '10': 1, '11': 996, '00': 1049}\n",
      "{'01': 1041, '11': 6, '00': 5, '10': 996}\n",
      "{'01': 1049, '10': 999}\n",
      "{'10': 1, '00': 995, '11': 1052}\n",
      "{'10': 1, '11': 1005, '00': 1042}\n",
      "{'01': 1045, '11': 4, '10': 999}\n",
      "{'10': 1008, '01': 1040}\n",
      "{'11': 1008, '00': 1040}\n",
      "{'01': 1, '10': 2, '11': 1017, '00': 1028}\n",
      "{'01': 983, '11': 1, '00': 2, '10': 1062}\n",
      "{'01': 1018, '10': 1030}\n",
      "{'01': 1, '10': 3, '11': 1018, '00': 1026}\n",
      "{'01': 2, '10': 2, '00': 1021, '11': 1023}\n",
      "{'01': 1017, '11': 15, '00': 12, '10': 1004}\n",
      "{'01': 1063, '10': 985}\n",
      "{'01': 8, '10': 6, '00': 1012, '11': 1022}\n",
      "{'01': 3, '10': 4, '11': 1022, '00': 1019}\n",
      "{'01': 958, '11': 33, '00': 23, '10': 1034}\n",
      "{'01': 1011, '10': 1037}\n",
      "{'01': 11, '10': 11, '11': 1016, '00': 1010}\n",
      "{'01': 7, '10': 17, '11': 1017, '00': 1007}\n",
      "{'01': 966, '11': 43, '00': 46, '10': 993}\n",
      "{'01': 1025, '10': 1023}\n",
      "{'01': 23, '10': 31, '11': 981, '00': 1013}\n",
      "{'01': 19, '10': 36, '00': 968, '11': 1025}\n",
      "{'00': 84, '11': 83, '10': 918, '01': 963}\n",
      "{'10': 1016, '01': 1032}\n",
      "{'01': 36, '10': 41, '00': 999, '11': 972}\n",
      "{'01': 39, '10': 29, '11': 993, '00': 987}\n",
      "{'11': 129, '00': 108, '10': 919, '01': 892}\n",
      "{'10': 1025, '01': 1023}\n",
      "{'01': 40, '10': 42, '11': 961, '00': 1005}\n",
      "{'01': 47, '10': 42, '00': 996, '11': 963}\n",
      "{'00': 152, '11': 179, '10': 863, '01': 854}\n",
      "{'10': 1032, '01': 1016}\n",
      "{'01': 47, '00': 971, '11': 979, '10': 51}\n",
      "{'01': 71, '10': 53, '00': 947, '11': 977}\n",
      "{'01': 820, '00': 223, '11': 209, '10': 796}\n",
      "{'10': 990, '01': 1058}\n",
      "{'01': 70, '10': 74, '11': 974, '00': 930}\n",
      "{'01': 81, '10': 68, '11': 948, '00': 951}\n",
      "{'11': 260, '00': 281, '10': 772, '01': 735}\n",
      "{'10': 1016, '01': 1032}\n",
      "{'01': 85, '10': 83, '00': 965, '11': 915}\n",
      "{'01': 77, '10': 88, '00': 939, '11': 944}\n",
      "{'01': 692, '11': 319, '10': 708, '00': 329}\n",
      "{'10': 1016, '01': 1032}\n",
      "{'01': 121, '10': 88, '11': 904, '00': 935}\n",
      "{'01': 120, '10': 127, '11': 897, '00': 904}\n",
      "{'01': 622, '00': 389, '10': 644, '11': 393}\n",
      "{'01': 1019, '10': 1029}\n",
      "{'01': 139, '00': 937, '10': 106, '11': 866}\n",
      "{'01': 109, '10': 123, '11': 934, '00': 882}\n",
      "{'01': 603, '00': 458, '10': 544, '11': 443}\n",
      "{'01': 1020, '10': 1028}\n",
      "{'01': 123, '10': 158, '11': 854, '00': 913}\n",
      "{'01': 141, '10': 156, '11': 896, '00': 855}\n",
      "{'01': 515, '00': 510, '11': 518, '10': 505}\n",
      "{'10': 1014, '01': 1034}\n",
      "{'01': 159, '00': 875, '11': 844, '10': 170}\n",
      "{'01': 169, '10': 197, '11': 870, '00': 812}\n",
      "{'01': 468, '10': 401, '11': 588, '00': 591}\n",
      "{'10': 1032, '01': 1016}\n",
      "{'01': 199, '00': 845, '11': 802, '10': 202}\n",
      "{'01': 206, '10': 210, '11': 821, '00': 811}\n",
      "{'01': 388, '10': 404, '11': 607, '00': 649}\n",
      "{'01': 979, '10': 1069}\n",
      "{'01': 242, '10': 227, '00': 792, '11': 787}\n",
      "{'01': 239, '10': 230, '00': 785, '11': 794}\n",
      "{'10': 317, '00': 714, '11': 706, '01': 311}\n",
      "{'01': 1030, '10': 1018}\n",
      "{'01': 267, '10': 243, '11': 770, '00': 768}\n",
      "{'10': 249, '00': 816, '11': 743, '01': 240}\n",
      "{'01': 241, '10': 252, '00': 765, '11': 790}\n",
      "{'01': 1004, '10': 1044}\n",
      "{'01': 274, '10': 264, '00': 750, '11': 760}\n",
      "{'01': 273, '11': 784, '10': 296, '00': 695}\n",
      "{'01': 189, '10': 223, '11': 808, '00': 828}\n",
      "{'01': 1055, '10': 993}\n",
      "{'01': 315, '10': 330, '00': 705, '11': 698}\n",
      "{'11': 713, '00': 732, '10': 316, '01': 287}\n",
      "{'10': 149, '11': 890, '00': 859, '01': 150}\n",
      "{'01': 1037, '10': 1011}\n",
      "{'01': 344, '11': 679, '00': 679, '10': 346}\n",
      "{'01': 351, '11': 675, '10': 344, '00': 678}\n",
      "{'01': 107, '10': 85, '00': 914, '11': 942}\n",
      "{'01': 1013, '10': 1035}\n",
      "{'01': 376, '11': 668, '00': 634, '10': 370}\n",
      "{'01': 390, '10': 385, '11': 636, '00': 637}\n",
      "{'01': 64, '10': 80, '00': 969, '11': 935}\n",
      "{'10': 1049, '01': 999}\n",
      "{'01': 407, '10': 403, '00': 608, '11': 630}\n",
      "{'01': 403, '00': 611, '11': 626, '10': 408}\n",
      "{'01': 55, '10': 41, '00': 964, '11': 988}\n",
      "{'10': 1061, '01': 987}\n",
      "{'01': 437, '11': 583, '00': 595, '10': 433}\n",
      "{'01': 448, '00': 584, '10': 446, '11': 570}\n",
      "{'01': 29, '10': 19, '11': 995, '00': 1005}\n",
      "{'01': 1028, '10': 1020}\n",
      "{'01': 496, '10': 486, '00': 518, '11': 548}\n",
      "{'01': 454, '00': 545, '11': 535, '10': 514}\n",
      "{'01': 4, '10': 9, '00': 1009, '11': 1026}\n",
      "{'10': 1043, '01': 1005}\n",
      "{'11': 504, '10': 503, '00': 527, '01': 514}\n",
      "{'11': 495, '10': 527, '00': 530, '01': 496}\n",
      "{'00': 1025, '11': 1023}\n",
      "{'01': 1011, '10': 1037}\n",
      "{'01': 516, '00': 493, '11': 497, '10': 542}\n",
      "{'01': 523, '10': 531, '00': 483, '11': 511}\n",
      "{'01': 1, '10': 2, '00': 1023, '11': 1022}\n",
      "{'01': 967, '10': 1081}\n",
      "{'11': 477, '10': 588, '00': 425, '01': 558}\n",
      "{'01': 540, '00': 474, '11': 427, '10': 607}\n",
      "{'01': 15, '10': 13, '11': 979, '00': 1041}\n",
      "{'10': 1032, '01': 1016}\n",
      "{'01': 574, '10': 623, '11': 412, '00': 439}\n",
      "{'01': 594, '00': 435, '11': 437, '10': 582}\n",
      "{'01': 31, '10': 22, '00': 994, '11': 1001}\n",
      "{'10': 1012, '01': 1036}\n",
      "{'11': 381, '00': 399, '10': 646, '01': 622}\n",
      "{'00': 373, '11': 402, '10': 646, '01': 627}\n",
      "{'01': 56, '10': 75, '11': 963, '00': 954}\n",
      "{'01': 1037, '10': 1011}\n",
      "{'00': 346, '10': 676, '11': 376, '01': 650}\n",
      "{'01': 632, '10': 669, '11': 366, '00': 381}\n",
      "{'01': 115, '10': 72, '11': 970, '00': 891}\n",
      "{'01': 1030, '10': 1018}\n",
      "{'01': 726, '11': 344, '00': 314, '10': 664}\n",
      "{'00': 339, '11': 336, '10': 683, '01': 690}\n",
      "{'01': 135, '10': 138, '11': 885, '00': 890}\n",
      "{'01': 1034, '10': 1014}\n",
      "{'01': 736, '00': 290, '10': 720, '11': 302}\n",
      "{'01': 701, '11': 280, '10': 735, '00': 332}\n",
      "{'01': 179, '10': 206, '11': 850, '00': 813}\n",
      "{'01': 1041, '10': 1007}\n",
      "{'10': 742, '00': 284, '11': 243, '01': 779}\n",
      "{'01': 741, '00': 265, '11': 286, '10': 756}\n",
      "{'01': 224, '10': 248, '00': 779, '11': 797}\n",
      "{'10': 1046, '01': 1002}\n",
      "{'01': 768, '00': 226, '11': 260, '10': 794}\n",
      "{'01': 769, '11': 232, '00': 257, '10': 790}\n",
      "{'01': 288, '11': 722, '10': 289, '00': 749}\n",
      "{'01': 970, '10': 1078}\n",
      "{'00': 199, '11': 229, '10': 775, '01': 845}\n",
      "{'01': 798, '11': 222, '10': 813, '00': 215}\n",
      "{'01': 333, '10': 353, '00': 668, '11': 694}\n",
      "{'01': 1007, '10': 1041}\n",
      "{'00': 198, '11': 182, '10': 807, '01': 861}\n",
      "{'00': 189, '11': 173, '10': 841, '01': 845}\n",
      "{'10': 411, '00': 594, '11': 657, '01': 386}\n",
      "{'10': 1035, '01': 1013}\n",
      "{'01': 900, '00': 146, '11': 171, '10': 831}\n",
      "{'01': 859, '11': 163, '00': 159, '10': 867}\n",
      "{'00': 568, '11': 568, '10': 451, '01': 461}\n",
      "{'10': 1043, '01': 1005}\n",
      "{'01': 864, '00': 154, '11': 137, '10': 893}\n",
      "{'01': 871, '00': 128, '11': 145, '10': 904}\n",
      "{'10': 504, '00': 469, '11': 532, '01': 543}\n",
      "{'01': 996, '10': 1052}\n",
      "{'01': 928, '00': 118, '11': 107, '10': 895}\n",
      "{'00': 123, '11': 121, '10': 914, '01': 890}\n",
      "{'01': 584, '00': 417, '10': 623, '11': 424}\n",
      "{'01': 1005, '10': 1043}\n",
      "{'11': 93, '00': 101, '10': 899, '01': 955}\n",
      "{'11': 94, '00': 84, '10': 943, '01': 927}\n",
      "{'00': 374, '11': 365, '10': 634, '01': 675}\n",
      "{'01': 1043, '10': 1005}\n",
      "{'11': 87, '00': 71, '10': 943, '01': 947}\n",
      "{'01': 970, '00': 75, '11': 76, '10': 927}\n",
      "{'01': 698, '00': 305, '10': 744, '11': 301}\n",
      "{'10': 1010, '01': 1038}\n",
      "{'01': 920, '00': 66, '11': 61, '10': 1001}\n",
      "{'11': 64, '10': 943, '00': 68, '01': 973}\n",
      "{'01': 769, '11': 230, '10': 778, '00': 271}\n",
      "{'01': 1031, '10': 1017}\n",
      "{'01': 986, '00': 47, '11': 63, '10': 952}\n",
      "{'00': 54, '11': 39, '10': 977, '01': 978}\n",
      "{'00': 188, '11': 189, '10': 829, '01': 842}\n",
      "{'10': 1031, '01': 1017}\n",
      "{'01': 956, '11': 33, '00': 40, '10': 1019}\n",
      "{'00': 39, '10': 972, '11': 41, '01': 996}\n",
      "{'00': 133, '11': 155, '10': 899, '01': 861}\n",
      "{'10': 1032, '01': 1016}\n",
      "{'00': 18, '11': 21, '10': 1010, '01': 999}\n",
      "{'00': 27, '11': 30, '10': 967, '01': 1024}\n",
      "{'01': 942, '11': 87, '00': 96, '10': 923}\n",
      "{'10': 991, '01': 1057}\n",
      "{'01': 1050, '11': 10, '00': 14, '10': 974}\n",
      "{'01': 972, '11': 12, '00': 15, '10': 1049}\n",
      "{'00': 69, '11': 56, '10': 936, '01': 987}\n",
      "{'01': 1026, '10': 1022}\n",
      "{'01': 1053, '11': 5, '00': 7, '10': 983}\n",
      "{'11': 4, '00': 11, '10': 979, '01': 1054}\n",
      "{'00': 21, '11': 45, '10': 989, '01': 993}\n",
      "{'01': 1038, '10': 1010}\n",
      "{'00': 4, '11': 3, '10': 1014, '01': 1027}\n",
      "{'01': 1011, '11': 1, '00': 2, '10': 1034}\n",
      "{'01': 1011, '00': 20, '11': 9, '10': 1008}\n",
      "{'01': 1082, '10': 966}\n",
      "{'11': 1, '10': 1027, '01': 1020}\n",
      "{'11': 2, '10': 1001, '01': 1045}\n",
      "{'01': 1072, '11': 5, '00': 6, '10': 965}\n",
      "{'10': 1033, '01': 1015}\n",
      "{'10': 1031, '01': 1017}\n",
      "{'10': 1018, '01': 1030}\n",
      "{'10': 1012, '01': 1036}\n"
     ]
    }
   ],
   "source": [
    "for j in range(phi_divs): \n",
    "    'ángulos de medida'\n",
    "    phi=phi_list[j] \n",
    "    '''A' = 2\\phi, A = B = phi, B' = 0'''\n",
    "    angles_AB=[[phi,phi],[2*phi,phi],[phi,0],[2*phi,0]] # AB , A'B , AB', A'B'\n",
    "\n",
    "    for i in range(4):        \n",
    "        'una pareja de ángulos uno para A y otro para B '\n",
    "        ang_AB=angles_AB[i]\n",
    "\n",
    "        'hay un circuito para cada proceso de medida'\n",
    "        qc=QuantumCircuit(2,2)\n",
    "        'creamos el par de Bell B(11)'\n",
    "        qc.x(0)\n",
    "        qc.x(1)\n",
    "        qc.h(0)\n",
    "        qc.cx(0,1)\n",
    "\n",
    "        'simulamos la medida en la base de los polarizadores de A y B rotados en torno al eje x'\n",
    "        qc.rx(-ang_AB[0],0)  # notar el valor negativo del ángulo de rotación \n",
    "        qc.rx(-ang_AB[1],1)\n",
    "        qc.measure([0,1],[0,1])\n",
    "        \n",
    "        if j ==0 and i ==0:\n",
    "            display(qc.draw('mpl'))\n",
    "        ' medimos '\n",
    "        counts=simulator.run(qc,shots = nshots).result().get_counts() \n",
    "        print(counts)\n",
    "        'construimos el correlador'\n",
    "        C[i]= 0 \n",
    "        for bitstring, counts in counts.items():\n",
    "            C[i] += (-1)**(sum([int(bit) for bit in bitstring])) * counts/nshots \n",
    "\n",
    "    'construimos la cantidad R'\n",
    "    R[j]=np.abs(C[0]+C[1]+C[2]-C[3])"
   ]
  },
  {
   "cell_type": "markdown",
   "id": "5c9da3ab",
   "metadata": {
    "slideshow": {
     "slide_type": "slide"
    }
   },
   "source": [
    "We can graph it and compare it with the analytical value"
   ]
  },
  {
   "cell_type": "code",
   "execution_count": 6,
   "id": "bd757416",
   "metadata": {
    "slideshow": {
     "slide_type": "-"
    }
   },
   "outputs": [
    {
     "data": {
      "image/png": "[encoded data removed]",
      "text/plain": [
       "<Figure size 640x480 with 1 Axes>"
      ]
     },
     "metadata": {},
     "output_type": "display_data"
    }
   ],
   "source": [
    "' función analítica '\n",
    "fx= np.abs(1 + 2*np.cos(phi_list) - np.cos(2*phi_list))\n",
    "plt.plot(phi_list,fx,'k-',linewidth=1)\n",
    "\n",
    "' resultado de la simulación'\n",
    "plt.plot(phi_list,R,'.')\n",
    "plt.axhline(y = 2, color = 'r', linestyle = '-')\n",
    "plt.axhline(y = +2.5, color = 'g', linestyle = '-')\n",
    "\n",
    "' líneas horizotales en +2 y - 2'\n",
    "plt.axvline(x = np.pi/3, color = 'b', linestyle = '-')\n",
    "plt.axvline(x = 5*np.pi/3, color = 'b', linestyle = '-')\n",
    "plt.xlabel(r'$\\varphi$')\n",
    "plt.ylabel(r'$R(\\varphi)$')\n",
    "plt.ylim(0,2.6)\n",
    "plt.show()"
   ]
  },
  {
   "cell_type": "markdown",
   "id": "14780cd2",
   "metadata": {
    "slideshow": {
     "slide_type": "skip"
    }
   },
   "source": [
    "Try with other states of the Bell basis. Perform this experiment on a real computer."
   ]
  },
  {
   "cell_type": "markdown",
   "id": "27111d45",
   "metadata": {
    "slideshow": {
     "slide_type": "skip"
    }
   },
   "source": [
    "<div class=\"alert alert-block alert-success\">\n",
    "<b>Exercise 1.2.3.2</b> \n",
    "    \n",
    "Use perpendicular bases of Alice $A\\perp A'$, and Bob $B\\perp B'$, forming an angle $\\varphi$ between them. \n",
    "    \n",
    "Without loss of generality, you can take $B = X\\perp Z = B'$. \n",
    "    \n",
    "Vary $\\varphi$ in the interval $(0,\\pi)$ and find the value of the maximum violation of Bell's inequality.\n",
    "    \n",
    "Is it greater than in the previous example? Could you find an even greater violation?\n",
    "</div>"
   ]
  },
  {
   "cell_type": "markdown",
   "id": "352d8c30",
   "metadata": {
    "slideshow": {
     "slide_type": "skip"
    }
   },
   "source": [
    "<a id='GHZ'></a>\n",
    "\n",
    "# GHZ Experiment"
   ]
  },
  {
   "cell_type": "markdown",
   "id": "b76792f6",
   "metadata": {
    "slideshow": {
     "slide_type": "skip"
    }
   },
   "source": [
    "The Bell-CHCS inequalities demonstrate that there is a way to distinguish a theory with local realism from one in which this postulate does not exist.\n",
    "\n",
    "They do so in a statistical manner: it is necessary to form certain averages of data on 2-qubit states, the Bell states."
   ]
  },
  {
   "cell_type": "markdown",
   "id": "5a8738b7",
   "metadata": {
    "slideshow": {
     "slide_type": "skip"
    }
   },
   "source": [
    "In 1997 Greenberger, Horne, and Zeilinger studied the properties of a series of 3-qubit states:\n",
    "<br>\n",
    "<br>\n",
    "$$\n",
    "\\ket{\\rm GHZ} = \\frac{1}{\\sqrt{2}}( \\ket{000} - \\ket{111} )\\, . \n",
    "$$\n",
    "\n",
    "It is very easy to see that, instead of a **probabilistic** violation of an *inequality*, the GHZ state leads to a **deterministic** violation of a *set of equalities*. \n"
   ]
  },
  {
   "cell_type": "markdown",
   "id": "910657e6",
   "metadata": {
    "slideshow": {
     "slide_type": "skip"
    }
   },
   "source": [
    "Suppose that:  \n",
    "<br>\n",
    "-  a system is composed of three subsystems, $A, B$, and $C$. \n",
    "<br>\n",
    "<br>\n",
    "-  in each of them there are two *observable* magnitudes, $X$ and $Y$ which, when measured, acquire binary values $x, y = \\pm 1$. "
   ]
  },
  {
   "cell_type": "markdown",
   "id": "ce876a02",
   "metadata": {
    "slideshow": {
     "slide_type": "skip"
    }
   },
   "source": [
    "We intend to know:\n",
    "\n",
    "if there exists a state of the system such that, with the result of simultaneous measurements $X$ or $Y$ of each of its parts $A, B$ and $C$, results $x$ and $y$ are obtained that satisfy the following equations:\n",
    "\n",
    "$$\n",
    "\\begin{array}{ccc}\n",
    "{\\rm we~measure} & & \\hbox{we~obtain} ~ x,y ~~ \\hbox{such~that} \\\\\n",
    "XYY ~~~~~ &\\to& ~xyy =~~~ 1\\nonumber\\\\\n",
    "YXY ~~~~~ &\\to& ~yxy =~~~ 1 \\label{GHZeq}\\\\\n",
    "YYX ~~~~~ &\\to& ~yyx =~~~ 1\\nonumber\\\\\n",
    "XXX ~~~~~ &\\to& ~xxx = -1\\nonumber\n",
    "\\end{array}\n",
    "$$\n"
   ]
  },
  {
   "cell_type": "markdown",
   "id": "3a375278",
   "metadata": {
    "slideshow": {
     "slide_type": "skip"
    }
   },
   "source": [
    "If the theory satisfies the axioms of local realism, the values of $X$ and $Y$ will be well-defined regardless of the measurement we perform.\n",
    "\n",
    "In other words, the measurements we perform are compatible and do not affect the possible outcomes.\n"
   ]
  },
  {
   "cell_type": "markdown",
   "id": "93f1a5a6",
   "metadata": {
    "slideshow": {
     "slide_type": "skip"
    }
   },
   "source": [
    "Then we can use conclusions drawn from the results of one experiment for those of another (note that it is assumed that the state is the same in all cases)\n",
    "\n",
    "- The first three state that $x=1$ since $y^2=1$.\n",
    "\n",
    "- The last one states that $x=-1$\n",
    "\n",
    "we see that there is a contradiction. We conclude that the measurements made *are not compatible with each other*."
   ]
  },
  {
   "cell_type": "markdown",
   "id": "d80864d6",
   "metadata": {
    "slideshow": {
     "slide_type": "skip"
    }
   },
   "source": [
    "As we can see, the paradox exists as long as we attribute to the magnitudes $X$ and $Y$ a notion of reality independent of measurement.\n",
    "\n",
    "Only in this way can we infer, from the first three lines, the result $xxx = 1$ without directly measuring $XXX$ for consistency."
   ]
  },
  {
   "cell_type": "markdown",
   "id": "8b7e8e2c",
   "metadata": {
    "slideshow": {
     "slide_type": "skip"
    }
   },
   "source": [
    "The satisfaction, therefore, of the four statements, involves accepting that the variables $X$ and $Y$ cannot have predefined values simultaneously in the four experiments."
   ]
  },
  {
   "cell_type": "markdown",
   "id": "48c64d1d",
   "metadata": {
    "slideshow": {
     "slide_type": "skip"
    }
   },
   "source": [
    "Quantum mechanically it is easy to see that the GHZ state provides a solution to the set of equations."
   ]
  },
  {
   "cell_type": "markdown",
   "id": "810305e8",
   "metadata": {
    "slideshow": {
     "slide_type": "skip"
    }
   },
   "source": [
    "\n",
    "Suppose that $x$ and $y$ are the results of measuring $X = \\sigma_x~$ and $~Y = \\sigma_y$\n",
    "<br>\n",
    "<br>\n",
    "\n",
    "$$\n",
    "X \\ket{0} = \\ket{1}\\, , ~ X \\ket{1} = \\ket{0}\\, ~~ , ~~ Y \\ket{0} = i \\ket{1}\\, , ~ Y \\ket{1} = -i \\ket{0}\\, . ~ \n",
    "$$"
   ]
  },
  {
   "cell_type": "markdown",
   "id": "e16730a8",
   "metadata": {
    "slideshow": {
     "slide_type": "skip"
    }
   },
   "source": [
    " On the one hand, \n",
    "<br>\n",
    "<br>\n",
    "$$xyy\\ket{{\\rm GHZ}}  = X \\otimes Y\\otimes Y \\big(\\frac{1}{\\sqrt{2}}(\\ket{000}-\\ket{111}\\big) = \\frac{1}{\\sqrt{2}} \\big(i^2 \\ket{111}- (-i)^2\n",
    "\\ket{000}\\big) = +  \\ket{{\\rm GHZ}}\\, ,$$\n",
    "\n",
    "and,\n",
    "similarly, we obtain $xyy=yxy=yyx= +1$.\n"
   ]
  },
  {
   "cell_type": "markdown",
   "id": "053b4a49",
   "metadata": {
    "slideshow": {
     "slide_type": "skip"
    }
   },
   "source": [
    "On the other hand, $xxx=-1$ follows from\n",
    "\n",
    "\n",
    "$$  \n",
    "xxx  \\ket{{\\rm GHZ}} =   X \\otimes X \\otimes X \\big(\\frac{1}{\\sqrt{2}}(\\ket{000}-\\ket{111}\\big) =\n",
    "\\frac{1}{\\sqrt{2}}(\\ket{111}-\\ket{000}) =  - \\ket{\\rm GHZ}\\, .\n",
    "$$\n",
    "\n"
   ]
  },
  {
   "cell_type": "markdown",
   "id": "86123528",
   "metadata": {
    "slideshow": {
     "slide_type": "skip"
    }
   },
   "source": [
    "We initialize the GHZ state"
   ]
  },
  {
   "cell_type": "markdown",
   "id": "8eda4583",
   "metadata": {
    "slideshow": {
     "slide_type": "skip"
    }
   },
   "source": [
    "\n",
    "\n",
    "<figure><center>\n",
    "<a id='fig_ref'></a>\n",
    "<img src=\"./images/GHZ.png\" align=center width='30%'/>\n",
    "<center></center>\n",
    "</center></figure>\n"
   ]
  },
  {
   "cell_type": "code",
   "execution_count": null,
   "id": "48b7222b",
   "metadata": {
    "run_control": {
     "marked": false
    },
    "slideshow": {
     "slide_type": "skip"
    }
   },
   "outputs": [],
   "source": [
    "def GHZ(n):\n",
    "    qc = QuantumCircuit(n,n) \n",
    "\n",
    "    qc.x(0)\n",
    "    qc.h(0)\n",
    "    for i in range(n-1):\n",
    "        qc.cx(0,i+1)\n",
    "\n",
    "    return qc\n",
    "        \n",
    "    \n",
    "GHZ(3).draw('mpl')"
   ]
  },
  {
   "cell_type": "markdown",
   "id": "d558c41e",
   "metadata": {
    "slideshow": {
     "slide_type": "skip"
    }
   },
   "source": [
    "Let's analyze the average value of some of the operators $YYX, YXY, XYY$ or $XXX$"
   ]
  },
  {
   "cell_type": "code",
   "execution_count": null,
   "id": "dc83268e",
   "metadata": {
    "slideshow": {
     "slide_type": "skip"
    }
   },
   "outputs": [],
   "source": [
    "'elige uno de los términos siguientes'\n",
    "#multibasis = 'YYX'\n",
    "#multibasis = 'YXY'\n",
    "#multibasis = 'XYY'\n",
    "multibasis = 'XXX'\n",
    "\n",
    "qc_GHZ = GHZ(3)\n",
    "qc_GHZ.barrier()\n",
    "tQ.add_multimeasure_XYZ(qc_GHZ, multibasis)\n",
    "qc_GHZ.draw(output='mpl')"
   ]
  },
  {
   "cell_type": "markdown",
   "id": "03df4cad",
   "metadata": {
    "slideshow": {
     "slide_type": "skip"
    }
   },
   "source": [
    "We execute the above code for the 4 possible Pauli strings"
   ]
  },
  {
   "cell_type": "code",
   "execution_count": null,
   "id": "1966e126",
   "metadata": {
    "slideshow": {
     "slide_type": "skip"
    }
   },
   "outputs": [],
   "source": [
    "nshots=1000\n",
    "\n",
    "cuentas_GHZ = simulator.run(qc_GHZ,shots=nshots).result().get_counts()\n",
    "print('<'+str(multibasis)+'> =', tQ.mean_from_counts(cuentas_GHZ)[0])"
   ]
  },
  {
   "cell_type": "markdown",
   "id": "07de2e65",
   "metadata": {
    "slideshow": {
     "slide_type": "slide"
    }
   },
   "source": [
    "<a id='telepor'></a>\n",
    "\n",
    "# Teleportation"
   ]
  },
  {
   "cell_type": "markdown",
   "id": "911a74df",
   "metadata": {
    "slideshow": {
     "slide_type": "-"
    }
   },
   "source": [
    "Entanglement involves a new type of correlation that becomes an important resource.\n",
    "\n",
    "The teleportation protocol was proposed by [C. Bennet, G. Brassar, C. Crepeau, R. Josza, A. Peres, and W. Wooters](https://journals.aps.org/prl/abstract/10.1103/PhysRevLett.70.1895) in 1993."
   ]
  },
  {
   "cell_type": "markdown",
   "id": "6b32f87f",
   "metadata": {
    "slideshow": {
     "slide_type": "slide"
    }
   },
   "source": [
    "Let's suppose that Alice and Bob have two qubits that are in the entangled state $\\ket{B_{00}}$.\n",
    "\n",
    "Alice has a second qubit initialized in an arbitrary state $\\ket{\\phi}$, and she considers the possibility of transferring or cloning it in Bob's laboratory.\n",
    "\n",
    "The circuit in the image allows this task to be performed."
   ]
  },
  {
   "cell_type": "markdown",
   "id": "9caf5fa6",
   "metadata": {
    "slideshow": {
     "slide_type": "fragment"
    }
   },
   "source": [
    "\n",
    "<figure><center>\n",
    "<a id='fig_ref'></a>\n",
    "<img src=\"./images/teleportacion.png\" align=center width='50%'/>\n",
    "<center></center>\n",
    "</center></figure>\n"
   ]
  },
  {
   "cell_type": "markdown",
   "id": "843c464d",
   "metadata": {
    "slideshow": {
     "slide_type": "slide"
    }
   },
   "source": [
    "- The initial state is\n",
    "\\begin{eqnarray}\n",
    "\\ket{\\phi} \\ket{B_{00}} &=&  \\ket{\\phi}\\otimes \\frac{1}{\\sqrt{2}}\\left(\\ket{0}\\otimes \\ket{0} + \\ket{1}\\otimes\\ket{1}\\rule{0mm}{4mm}\\right)\\, \\\\\n",
    "&=& \\frac{1}{\\sqrt{2}} (a \\ket{000} + b\\ket{100} + a\\ket{011} + b\\ket{111})\n",
    "\\end{eqnarray}\n",
    "<br>\n",
    "<br>\n",
    "Alice has access to the first two qubits and Bob to the third."
   ]
  },
  {
   "cell_type": "markdown",
   "id": "127708be",
   "metadata": {
    "slideshow": {
     "slide_type": "fragment"
    }
   },
   "source": [
    "<br>\n",
    "\n",
    "- Alice performs a <i>Bell measurement</i> on her two qubits, interspersing an operator $U_{\\rm desent}= (H \\otimes I)\\cdot U_{\\rm CNOT}~$ that rotates to the Bell basis\n",
    "<br>\n",
    "<br>\n",
    "\\begin{eqnarray}\n",
    " (H \\otimes I\\otimes I)(U_{\\rm CNOT}\\otimes I)\\, \\ket{\\phi}\\ket{B_{00}} & =&  \\frac{1}{2}\n",
    "\\left[\\rule{0mm}{3mm} \\ket{00}(a\\ket{0} + b\\ket{1}) + \\ket{01}(a\\ket{1}+ b\\ket{0}) \\right. \\nonumber\\\\\n",
    "\\rule{0mm}{14mm}\n",
    "&&\\left.  \\rule{0mm}{3mm}+ ~\\ket{10}(a\\ket{0}-b\\ket{1}) + \\ket{11}(a\\ket{1}-b\\ket{0})\\right] \\label{teleport}\n",
    "\\end{eqnarray}"
   ]
  },
  {
   "cell_type": "markdown",
   "id": "11659745",
   "metadata": {
    "slideshow": {
     "slide_type": "slide"
    }
   },
   "source": [
    "\n",
    "- Alice measures the state in her possession and obtains a 2-bit classical result, $xy$, equally likely for the 4 possibilities.\n",
    "<br>\n",
    "In a correlated manner, Bob's qubit collapses to one of 4 states $\\ket{\\phi_{xy}},~$ but he does not know which one.\n"
   ]
  },
  {
   "cell_type": "markdown",
   "id": "46e72761",
   "metadata": {
    "slideshow": {
     "slide_type": "fragment"
    }
   },
   "source": [
    "- To resolve this ambiguity, Alice sends the result of her measurement $xy$ through a classical channel to Bob"
   ]
  },
  {
   "cell_type": "markdown",
   "id": "f3dab255",
   "metadata": {
    "slideshow": {
     "slide_type": "slide"
    }
   },
   "source": [
    "- Bob performs a controlled operation on his qubit using this 2-bit, $U_{xy} =  X^y Z^x $. \n",
    "<br>\n",
    "<br>\n",
    "$$\n",
    "xy ~=~ \\left\\{ \\begin{array}{c} 00 \\\\ 01 \\\\ 10 \\\\ 11 \\end{array} \\right\\}~~ \\Longrightarrow  \n",
    "~~~ X^y Z^x \\ket{\\phi_{xy}} ~=~ \\left\\{  \\begin{array}{rl}    I :& (a\\ket{0} + b\\ket{1})  \\\\    X: & (a\\ket{1} + b\\ket{0})  \\\\  Z:& (a\\ket{0} - b\\ket{1})  \n",
    "\\\\  XZ = -iY:&   (a\\ket{1} - b\\ket{0}) \\\\\n",
    "       \\end{array} \\right. ~~ \\longrightarrow  ~~ a \\ket{0} + b\\ket{1}\\,  = \\, \\ket{\\phi}\n",
    "$$\n",
    "<br>\n",
    "As a result of this operation, Bob's qubit is finally $\\ket{\\phi}$.\n"
   ]
  },
  {
   "cell_type": "markdown",
   "id": "35fcdde2",
   "metadata": {
    "slideshow": {
     "slide_type": "slide"
    }
   },
   "source": [
    "Let's prepare Alice's state"
   ]
  },
  {
   "cell_type": "code",
   "execution_count": 7,
   "id": "ee9d9981",
   "metadata": {
    "slideshow": {
     "slide_type": "-"
    }
   },
   "outputs": [
    {
     "data": {
      "image/png": "[encoded data removed]",
      "text/plain": [
       "<Figure size 480x480 with 1 Axes>"
      ]
     },
     "execution_count": 7,
     "metadata": {},
     "output_type": "execute_result"
    }
   ],
   "source": [
    "# escoge dos ángulos theta y phi en la esfera de Bloch\n",
    "[theta,phi]=[1.1 , 2.2]\n",
    "\n",
    "# o hazlo de forma aleatoria\n",
    "#import random\n",
    "#[theta,phi] = np.array([np.pi*np.random.rand(),2*np.pi*np.random.rand()])\n",
    "\n",
    "estado = [np.cos(theta/2),(np.exp(1j*phi))*np.sin(theta/2)]\n",
    "\n",
    "#visualicémoslo en la esfera de Bloch\n",
    "from qiskit.visualization import plot_bloch_multivector, array_to_latex  \n",
    "plot_bloch_multivector(estado)"
   ]
  },
  {
   "cell_type": "markdown",
   "id": "6cb40e6b",
   "metadata": {
    "slideshow": {
     "slide_type": "slide"
    }
   },
   "source": [
    "\n",
    "The first thing we will do is initialize the circuit, equipped with three qubits and two classical channels in two registers. Alice will have control over the first two $q_0, q_1$ and Bob over the third $q_2$."
   ]
  },
  {
   "cell_type": "code",
   "execution_count": 9,
   "id": "5734044e",
   "metadata": {
    "run_control": {
     "marked": false
    },
    "slideshow": {
     "slide_type": "-"
    }
   },
   "outputs": [],
   "source": [
    "from qiskit.circuit import QuantumCircuit, QuantumRegister, ClassicalRegister\n",
    "\n",
    "qrA = QuantumRegister(2, name=\"qAlice\") \n",
    "qrB =  QuantumRegister(1, name=\"qBob\") \n",
    "crx = ClassicalRegister(1, name=\"crx\") \n",
    "cry = ClassicalRegister(1, name=\"cry\") "
   ]
  },
  {
   "cell_type": "markdown",
   "id": "8820c078",
   "metadata": {
    "slideshow": {
     "slide_type": "-"
    }
   },
   "source": [
    "we generate the teleportation circuit"
   ]
  },
  {
   "cell_type": "code",
   "execution_count": 10,
   "id": "b50d991f",
   "metadata": {
    "slideshow": {
     "slide_type": "slide"
    }
   },
   "outputs": [
    {
     "data": {
      "image/png": "[encoded data removed]",
      "text/plain": [
       "<Figure size 1527.75x451.5 with 1 Axes>"
      ]
     },
     "execution_count": 10,
     "metadata": {},
     "output_type": "execute_result"
    }
   ],
   "source": [
    "# inicializa el circuito\n",
    "qc = QuantumCircuit(qrA,qrB, crx, cry)\n",
    "\n",
    "# Alice y Bob comparten un par de Bell\n",
    "qc.h(qrA[1])\n",
    "qc.cx(qrA[1],qrB[0])\n",
    "qc.barrier()\n",
    "\n",
    "# inyecta en el circuito el estado a teleportar\n",
    "qc.initialize(estado,0)\n",
    "\n",
    "qc.barrier()\n",
    "\n",
    "# Añade un medidor de estados de Bell en los cúbits de Alice y efectúa las medidas\n",
    "qc.cx(qrA[0],qrA[1])\n",
    "qc.h(qrA[0])\n",
    "qc.barrier()\n",
    "qc.measure([qrA[0],qrA[1]],[0,1])\n",
    "\n",
    "\n",
    "# Apply an X to qubit 0 if both measurements were 1.\n",
    "with qc.if_test((cry, 1)):\n",
    "    qc.x(qrB[0])\n",
    "with qc.if_test((crx, 1)):\n",
    "    qc.z(qrB[0])\n",
    "    \n",
    "\n",
    "#visualiza el circuito \n",
    "qc.draw('mpl')"
   ]
  },
  {
   "cell_type": "code",
   "execution_count": 15,
   "id": "dfa5c565",
   "metadata": {
    "slideshow": {
     "slide_type": "slide"
    }
   },
   "outputs": [
    {
     "data": {
      "image/png": "[encoded data removed]",
      "text/plain": [
       "<Figure size 1440x480 with 3 Axes>"
      ]
     },
     "execution_count": 15,
     "metadata": {},
     "output_type": "execute_result"
    }
   ],
   "source": [
    "# ejecuta varias veces y observa el resultado \n",
    "from qiskit_aer import Aer\n",
    "\n",
    "simulator = Aer.get_backend('statevector_simulator')\n",
    "\n",
    "out_vector=simulator.run(qc).result().get_statevector()\n",
    "plot_bloch_multivector(out_vector)"
   ]
  },
  {
   "cell_type": "markdown",
   "id": "402a51d7",
   "metadata": {
    "slideshow": {
     "slide_type": "fragment"
    }
   },
   "source": [
    "Observe when executing repeatedly that the results of the intermediate measurements are random, but the teleported state is always correct"
   ]
  },
  {
   "cell_type": "markdown",
   "id": "5ece8864",
   "metadata": {
    "slideshow": {
     "slide_type": "slide"
    }
   },
   "source": [
    "\n",
    "The following exercise illustrates the principle of *deferred measurement*.\n",
    "\n",
    "\n",
    "<div class=\"alert alert-block alert-success\">\n",
    "\n",
    "<b>  Exercise </b> \n",
    "    \n",
    "Modify and execute the teleportation circuit in two different ways\n",
    "<br>   \n",
    "a) replacing the classical controls with quantum controls and measuring after the control\n",
    "<br>\n",
    "<br>\n",
    "b) omitting the measurement on Alice's qubits    \n",
    "    \n",
    "Discuss the subtleties that distinguish these possibilities.    \n",
    "    <i>Recommended reading: Nielsen-Chuang section 4.4.  </i>\n",
    "</div>\n",
    "\n"
   ]
  },
  {
   "cell_type": "markdown",
   "id": "833eb41e",
   "metadata": {
    "slideshow": {
     "slide_type": "fragment"
    }
   },
   "source": [
    "<div class=\"alert alert-block alert-success\">\n",
    "\n",
    "<b>  Exercise </b> \n",
    "    \n",
    "change the state shared by Alice and Bob to $\\ket{B_{11}}$ and modify the circuit so that it still teleports.\n",
    "\n",
    "</div>"
   ]
  },
  {
   "cell_type": "markdown",
   "id": "86a94315",
   "metadata": {
    "slideshow": {
     "slide_type": "slide"
    }
   },
   "source": [
    "<div class=\"alert alert-block alert-danger\">\n",
    "The teleportation protocol seems to put fundamental concepts at risk. \n",
    "<br>\n",
    "\n",
    "<b> No cloning: </b>\n",
    "the protocol has measurement as an essential ingredient and, therefore, the <i>destruction</i> of Alice's state. As a consequence, the state has been teleported but not cloned. That is, <i>the No Cloning Theorem is not violated</i>. \n",
    "<br>\n",
    "<br>\n",
    "    \n",
    "<b> Causality: </b>\n",
    "the teleportation protocol <i>does not violate causality</i>. \n",
    "\n",
    "It is necessary to send classical information (at most at the speed of light) to resolve the ambiguity that remains for Bob. \n",
    "\n",
    "This part is what makes teleportation not an instantaneous action-at-a-distance process.    \n",
    "    \n",
    "    \n",
    "</div>\n"
   ]
  },
  {
   "cell_type": "markdown",
   "id": "dd5c27a4",
   "metadata": {
    "slideshow": {
     "slide_type": "skip"
    }
   },
   "source": [
    "<a id='superdense'></a>\n",
    "## Superdense Coding"
   ]
  },
  {
   "cell_type": "markdown",
   "id": "a1ef500c",
   "metadata": {
    "slideshow": {
     "slide_type": "skip"
    }
   },
   "source": [
    "A second application of the correlations introduced by entanglement allows encoding 2 classical bits in terms of a single qubit.\n",
    "\n",
    "This protocol was proposed by [C. Bennet and S.J. Wiesner in 1992](https://journals.aps.org/prl/abstract/10.1103/PhysRevLett.69.2881)\n",
    "\n",
    "Suppose Alice wants to transmit a pair of bits $xy\\in \\{00,01,10,11\\}$ to Bob.\n",
    "Both must be in possession of an entangled state that we will take as $\\ket{B_{00}}$\n",
    "\n",
    "The following circuit shows the process"
   ]
  },
  {
   "cell_type": "markdown",
   "id": "c1643f8a",
   "metadata": {
    "slideshow": {
     "slide_type": "skip"
    }
   },
   "source": [
    "\n",
    "\n",
    "<figure><center>\n",
    "<a id='fig_ref'></a>\n",
    "<img src=\"./images/superdense_coding.png\" align=center width='50%'/>\n",
    "<center></center>\n",
    "</center></figure>\n"
   ]
  },
  {
   "cell_type": "markdown",
   "id": "a546079a",
   "metadata": {
    "slideshow": {
     "slide_type": "skip"
    }
   },
   "source": [
    "- Alice starts by performing an operation in her laboratory on the qubit she handles, which depends on the 2-bit $xy$ she wants to send\n",
    "<br>\n",
    "\n",
    "$$\n",
    "U_{xy} =Z^x X^y ~~:~ ~\\ket{B_{00}} ~\\Rightarrow  ~\\ket{B_{xy}} = \\left\\{ \\begin{array}{c}  \\frac{1}{\\sqrt{2}}(\\ket{00} + \\ket{11})  = \\ket{B_{00}} \\\\  \\frac{1}{\\sqrt{2}}(\\ket{10} + \\ket{01}) =\\ket{B_{01}}  \\\\   \\frac{1}{\\sqrt{2}}(\\ket{00} - \\ket{11})= \\ket{B_{10}}  \\\\  \\frac{1}{\\sqrt{2}}(\\ket{10} - \\ket{01}) =\\ket{B_{11}} \\end{array} \\right. \n",
    "$$\n",
    "<br>\n",
    "Once that operation is performed, the state they share is  $\\ket{B_{xy}}$."
   ]
  },
  {
   "cell_type": "markdown",
   "id": "f87d4ef1",
   "metadata": {
    "slideshow": {
     "slide_type": "skip"
    }
   },
   "source": [
    "- Alice sends Bob her part of the entangled state through a quantum channel. \n",
    "<br>\n",
    "\n",
    "- Now Bob is in possession of the state $\\ket{B_{xy}}$ and only needs to perform a *Bell measurement* on the state he possesses to recover the label $xy$"
   ]
  },
  {
   "cell_type": "markdown",
   "id": "e4840786",
   "metadata": {
    "slideshow": {
     "slide_type": "skip"
    }
   },
   "source": [
    "<a id='LOCC'></a>\n",
    "## LOCC\n",
    "\n",
    "Under the denomination of Local Operations and Classical Communication, a method in Quantum Information Theory is referred to, whereby,\n",
    "\n",
    "- a *local operation* is performed on one part of the system.\n",
    "<br>\n",
    "- the result is communicated classically to another part of the system\n",
    "<br>\n",
    "- in that other part, a local operation is also performed, conditioned on the result communicated classically."
   ]
  },
  {
   "cell_type": "markdown",
   "id": "e40cfe7e",
   "metadata": {
    "slideshow": {
     "slide_type": "skip"
    }
   },
   "source": [
    "The teleportation algorithm is an example of LOCC in which\n",
    "\n",
    "- Alice performs a Bell measurement\n",
    "<br>\n",
    "- Bob acts locally with $X$ or $Z$ depending on the classically communicated result."
   ]
  },
  {
   "cell_type": "markdown",
   "id": "662cb058",
   "metadata": {
    "slideshow": {
     "slide_type": "skip"
    }
   },
   "source": [
    "In the entanglement exchange, we see that LOCC can be used to transform an entangled state into another entangled state.\n",
    "\n",
    "In this case, a Bell state between Alice and Bob changes to another Bell state between Charles and Bob."
   ]
  },
  {
   "cell_type": "markdown",
   "id": "9c52d702",
   "metadata": {
    "slideshow": {
     "slide_type": "slide"
    }
   },
   "source": [
    "## Non-Demolishing Measure\n"
   ]
  },
  {
   "cell_type": "markdown",
   "id": "18056412",
   "metadata": {
    "slideshow": {
     "slide_type": "fragment"
    }
   },
   "source": [
    "\n",
    "Entanglement is the mechanism that makes the Hadamard measurement work. Let's now look that it allows for measurements without destroying the state.\n",
    "\n",
    "Suppose the operator $U$ is an operator on 1 qubit *both Hermitian and unitary*:\n",
    "the eigenvalues must be both pure phases and real.\n",
    "\n",
    "- This leaves $\\lambda = \\pm 1$ as the only possible eigenvalues for such an operator.\n",
    "\n",
    "- The operators $X,Y,Z$ are examples of this type, but also combinations like $U = \\bn\\cdot \\boldsymbol{\\sigma}$\n"
   ]
  },
  {
   "cell_type": "markdown",
   "id": "577401c0",
   "metadata": {
    "slideshow": {
     "slide_type": "slide"
    }
   },
   "source": [
    "We will denote by $\\ket{a}_U$ the eigenvectors of $U$ with eigenvalues $(-1)^a$. That is, $U\\ket{0}_U = \\ket{0}_U$ and $U\\ket{1}_U = -\\ket{1}_U$   \n",
    "\n",
    "In this case, the factors $(1\\pm U)$ that appear in the Hadamard measurement are orthogonal projectors onto the eigenstates of $U$\n",
    "<br>\n",
    "<br>\n",
    "<figure><center>\n",
    "<a id='fig_ref'></a>\n",
    "<img src=\"images/HadamardProjection.png\" align=center width='40%'/>\n",
    "<center></center>\n",
    "</center></figure>\n",
    "<br>\n"
   ]
  },
  {
   "cell_type": "markdown",
   "id": "ed989812",
   "metadata": {
    "slideshow": {
     "slide_type": "slide"
    }
   },
   "source": [
    "Before measuring, the state will be as follows\n",
    "\n",
    "$$\n",
    "\\begin{array}{rcl}\n",
    "\\ket{0}\\ket{\\psi} ~~\\longrightarrow ~~ \\ket{\\Psi} &=&\\displaystyle \\frac{1}{2} \\big[  \\ket{0}\\otimes  (1 + U)\\ket{\\psi}  + \\ket{1}\\otimes   (1 - U) \\ket{\\psi} \\big] \\\\ \\rule{0mm}{8mm}\n",
    "&=& \\displaystyle \\big[  \\ket{0}\\otimes \\frac{1}{2} (1 + U)(\\alpha\\ket{0}_U + \\beta\\ket{1}_U)  + \\ket{1}\\otimes   \\frac{1}{2}(1 - U) (\\alpha\\ket{0}_U + \\beta\\ket{1}_U) \\big] \\\\  \\rule{0mm}{8mm}\n",
    "&=& \\alpha\\ket{0}\\ket{0}_U +  \\beta\\ket{1}\\ket{1}_U\n",
    "\\end{array}\n",
    "$$\n",
    "\n",
    "<br>\n",
    "\n",
    "We see that the Hadamard circuit maximally entangles the eigenstates of $Z$ and $U$. Just like with the Bell states, each measurement result on the ancilla is correlated with an eigenstate of the operator $U$.\n",
    "\n",
    "If the measurement is destructive on the ancilla, the work qubit is projected onto one of its eigenstates and continues its path in that eigenstate."
   ]
  },
  {
   "cell_type": "markdown",
   "id": "be8ebbb3",
   "metadata": {
    "slideshow": {
     "slide_type": "skip"
    }
   },
   "source": [
    "<a id='ent_dist'></a>\n",
    "\n",
    "#  Distribution of entanglement\n",
    "[<<<](#top)"
   ]
  },
  {
   "cell_type": "markdown",
   "id": "5fc2bde7",
   "metadata": {
    "slideshow": {
     "slide_type": "skip"
    }
   },
   "source": [
    "<a id='ent_swap'></a>\n",
    "## Entanglement Swapping\n"
   ]
  },
  {
   "cell_type": "markdown",
   "id": "5570a134",
   "metadata": {
    "slideshow": {
     "slide_type": "skip"
    }
   },
   "source": [
    "We have already seen how the simplest example of entanglement has a very interesting application in teleportation. We will see that entanglement can *spread* to third parties. In English, this is called *entanglement swapping*."
   ]
  },
  {
   "cell_type": "markdown",
   "id": "5648641a",
   "metadata": {
    "slideshow": {
     "slide_type": "skip"
    }
   },
   "source": [
    "Let's consider the following circuit\n"
   ]
  },
  {
   "cell_type": "markdown",
   "id": "93a67288",
   "metadata": {
    "slideshow": {
     "slide_type": "skip"
    }
   },
   "source": [
    "<figure><center>\n",
    "<a id='fig_ref'></a>\n",
    "<img src=\"./images/entanglement_swap.png\" align=center width='40%'/>\n",
    "<center></center>\n",
    "</center></figure>"
   ]
  },
  {
   "cell_type": "markdown",
   "id": "1f05bbaa",
   "metadata": {
    "slideshow": {
     "slide_type": "skip"
    }
   },
   "source": [
    "- Alice (A) entangles a qubit with Charles (C) and another with Bob (B).\n",
    "<br>"
   ]
  },
  {
   "cell_type": "markdown",
   "id": "61d08e36",
   "metadata": {
    "slideshow": {
     "slide_type": "skip"
    }
   },
   "source": [
    "- Afterwards, Alice performs a Bell measurement and communicates the result $xy$ to Charles and Bob respectively, \n",
    "<br>"
   ]
  },
  {
   "cell_type": "markdown",
   "id": "9a7601ed",
   "metadata": {
    "slideshow": {
     "slide_type": "skip"
    }
   },
   "source": [
    "\n",
    "- which perform the controlled gates $Z^x$ and $X^y$ respectively."
   ]
  },
  {
   "cell_type": "markdown",
   "id": "0563dca9",
   "metadata": {
    "slideshow": {
     "slide_type": "skip"
    }
   },
   "source": [
    "- The state at the output is $\\ket{B_{00}}_{CB}$ of Bell shared by Bob and Charles."
   ]
  },
  {
   "cell_type": "markdown",
   "id": "2b26f149",
   "metadata": {
    "slideshow": {
     "slide_type": "skip"
    }
   },
   "source": [
    "<div class=\"alert alert-block alert-success\">\n",
    "\n",
    "<b> Exercise </b> \n",
    "    \n",
    "1-  program the circuit in the figure    \n",
    "<br>\n",
    "    \n",
    "2-  run the circuit several times and show that the final state shared by Bob and Charles is entangled. Is it always the same state?\n",
    "\n",
    "<br>\n",
    "    \n",
    "    \n",
    "3- Complete the circuit so that it is capable of teleporting an arbitrary qubit between Charles and Bob\n",
    " \n",
    "</div>"
   ]
  },
  {
   "cell_type": "markdown",
   "id": "02330f81",
   "metadata": {
    "slideshow": {
     "slide_type": "skip"
    }
   },
   "source": [
    "<a id='monogamy'></a>\n",
    "## Monogamy of entanglement"
   ]
  },
  {
   "cell_type": "markdown",
   "id": "3cca6c25",
   "metadata": {
    "slideshow": {
     "slide_type": "skip"
    }
   },
   "source": [
    "Entanglement cannot be freely shared among different parts of a multi-partite quantum system. There are constraints to its distribution among the constituents. \n",
    "\n",
    "\n",
    "Let us first see an easy extreme case and afterwards formulate the general theorem due to Coffman-Kundu-Wooters. \n",
    "\n"
   ]
  },
  {
   "cell_type": "markdown",
   "id": "26408c9f",
   "metadata": {
    "slideshow": {
     "slide_type": "skip"
    }
   },
   "source": [
    "Let us think of a general system of 3 qubits\n",
    "$$\n",
    "\\ket{\\psi} = \\sum_{i,j,k=0}^1 c_{ijl} \\ket{ijk}\n",
    "$$"
   ]
  },
  {
   "cell_type": "markdown",
   "id": "3a0a6c64",
   "metadata": {
    "slideshow": {
     "slide_type": "skip"
    }
   },
   "source": [
    "\n",
    "In particular, les us suppose that qubits 1 and 2 are maximally entangled. A trivial example is the Bell state\n",
    "\n",
    "$$\n",
    "\\ket{B_{00}} = \\frac{1}{\\sqrt{2}} \\left(\\rule{0mm}{4mm} \\ket{00} + \\ket{11} \\right)\n",
    "$$\n",
    "\n",
    "Then, it is easy to prove that the third qubit must be fully disentangled from them. \n",
    "In other words, the only possibility for the full state is that\n",
    "\n",
    "$$\n",
    "\\ket{\\psi} = \\ket{B_{00}}_{12} \\otimes \\ket{\\phi}_3\n",
    "$$"
   ]
  },
  {
   "cell_type": "markdown",
   "id": "6bbf07d1",
   "metadata": {
    "slideshow": {
     "slide_type": "skip"
    }
   },
   "source": [
    "*Proof*\n",
    "\n",
    "If $1$ and $2$ are fully entangled, it means that the measurement in the computational basis can only yield\n",
    "$00$ or $11$ with $1/2$ probability. This means the state has to have the following form\n",
    "\n",
    "$$\n",
    "\\ket{\\psi} = \\ket{00}\\otimes (\\alpha_0\\ket{0} + \\alpha_1\\ket{1}) + \\ket{11}\\otimes (\\beta_0\\ket{0} + \\beta_1\\ket{1})\n",
    "$$\n",
    "\n",
    "where the coefficients must satisfy $|\\alpha_0|^2 + |\\alpha_1|^2  = |\\beta_0|^2 + |\\beta_1|^2 = 1/2$.\n"
   ]
  },
  {
   "cell_type": "markdown",
   "id": "273bd3df",
   "metadata": {
    "slideshow": {
     "slide_type": "skip"
    }
   },
   "source": [
    "It is a trivial exercise to put this state in the bases $\\ket{\\pm}$ as follows\n",
    "\n",
    "$$\n",
    "\\ket{\\psi} = \\big(\\ket{++} + \\ket{--}\\big)\\otimes \\big[(\\alpha_0 + \\beta_0)\\ket{0} + (\\alpha_1+\\beta_1) \\ket{1}\\big] + \\big(\\ket{+-} + \\ket{-+}\\big)  \\otimes \\big[(\\alpha_0 - \\beta_0)\\ket{0} + (\\alpha_1-\\beta_1) \\ket{1}\\big]\n",
    "$$\n",
    "\n",
    "If measure in the $X$ basis, the state $\\ket{B_{00}}$ is known to yield only $++$ and $--$ results. This implies that the second term must vanish, i.e.\n",
    "\n",
    "$$\n",
    "\\alpha_0 = \\beta_0~~~~,~~~\\alpha_1 = \\beta_1\n",
    "$$\n",
    "\n",
    "This means that we can factorize the second state in the form\n",
    "\n",
    "$$\n",
    "\\ket{\\psi} =  \\big(\\ket{++} + \\ket{--}\\big) (2\\alpha_0 \\ket{0} +2\\alpha_1\\ket{1}) = \\ket{B_{00}}_{12}\\otimes \\ket{\\phi}_3\n",
    "$$"
   ]
  }
 ],
 "metadata": {
  "celltoolbar": "Slideshow",
  "kernelspec": {
   "display_name": "Python 3 (ipykernel)",
   "language": "python",
   "name": "python3"
  },
  "language_info": {
   "codemirror_mode": {
    "name": "ipython",
    "version": 3
   },
   "file_extension": ".py",
   "mimetype": "text/x-python",
   "name": "python",
   "nbconvert_exporter": "python",
   "pygments_lexer": "ipython3",
   "version": "3.12.3"
  },
  "nbTranslate": {
   "displayLangs": [
    "*"
   ],
   "hotkey": "alt-t",
   "langInMainMenu": true,
   "sourceLang": "en",
   "targetLang": "fr",
   "useGoogleTranslate": true
  },
  "toc": {
   "base_numbering": 1,
   "nav_menu": {},
   "number_sections": true,
   "sideBar": true,
   "skip_h1_title": false,
   "title_cell": "Table of Contents",
   "title_sidebar": "Contents",
   "toc_cell": false,
   "toc_position": {},
   "toc_section_display": true,
   "toc_window_display": false
  },
  "varInspector": {
   "cols": {
    "lenName": 16,
    "lenType": 16,
    "lenVar": 40
   },
   "kernels_config": {
    "python": {
     "delete_cmd_postfix": "",
     "delete_cmd_prefix": "del ",
     "library": "var_list.py",
     "varRefreshCmd": "print(var_dic_list())"
    },
    "r": {
     "delete_cmd_postfix": ") ",
     "delete_cmd_prefix": "rm(",
     "library": "var_list.r",
     "varRefreshCmd": "cat(var_dic_list()) "
    }
   },
   "types_to_exclude": [
    "module",
    "function",
    "builtin_function_or_method",
    "instance",
    "_Feature"
   ],
   "window_display": false
  }
 },
 "nbformat": 4,
 "nbformat_minor": 5
}
