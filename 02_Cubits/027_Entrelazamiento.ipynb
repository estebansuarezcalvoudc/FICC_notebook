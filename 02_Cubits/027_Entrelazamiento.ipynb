{
 "cells": [
  {
   "cell_type": "markdown",
   "id": "3c813409",
   "metadata": {
    "slideshow": {
     "slide_type": "slide"
    }
   },
   "source": [
    "<img   src=\"../figuras/logos/Logo TalentQ Azul.png\" align=right  width=\"12%\"/>\n",
    "<br>\n",
    "\n",
    "<table width=\"100%\">\n",
    "<td style=\"font-size:40px;font-style:italic;text-align:left;background-color:rgba(0, 220, 170,0.7)\">\n",
    "Entrelazamiento en acción\n",
    "</td></table>\n",
    "\n",
    "\n",
    "\n",
    "$ \\newcommand{\\bra}[1]{\\langle #1|} $\n",
    "$ \\newcommand{\\ket}[1]{|#1\\rangle} $\n",
    "$ \\newcommand{\\braket}[2]{\\langle #1|#2\\rangle} $\n",
    "$ \\newcommand{\\i}{{\\color{blue} i}} $ \n",
    "$ \\newcommand{\\Hil}{{\\mathcal H}} $\n",
    "$ \\newcommand{\\cg}[1]{{\\rm C}#1} $\n",
    "$ \\newcommand{\\bn}{{\\bf n}} $"
   ]
  },
  {
   "cell_type": "code",
   "execution_count": 1,
   "id": "f3369579",
   "metadata": {
    "slideshow": {
     "slide_type": "-"
    }
   },
   "outputs": [],
   "source": [
    "import sys\n",
    "sys.path.append('../')\n",
    "import macro_tQ as tQ\n",
    "\n",
    "import numpy as np\n",
    "import scipy.linalg as la\n",
    "from IPython.display import display,Markdown,Latex\n",
    "import matplotlib.pyplot as plt\n",
    "from qiskit.tools.visualization import array_to_latex"
   ]
  },
  {
   "cell_type": "markdown",
   "id": "4089a28a",
   "metadata": {
    "slideshow": {
     "slide_type": "slide"
    }
   },
   "source": [
    "# Desigualdades de Bell"
   ]
  },
  {
   "cell_type": "markdown",
   "id": "1e251d78",
   "metadata": {
    "slideshow": {
     "slide_type": "-"
    }
   },
   "source": [
    "Las teorías con *realismo local* asumen que los valores que adquieren las magnitudes que se miden en un experimento *pertenecen* al sistema medido. \n"
   ]
  },
  {
   "cell_type": "markdown",
   "id": "e73245d6",
   "metadata": {
    "slideshow": {
     "slide_type": "-"
    }
   },
   "source": [
    "Así, en una teoría con realismo local la posición de una partícula es algo bien definido aunque no lo estemos midiendo. "
   ]
  },
  {
   "cell_type": "markdown",
   "id": "ee98d85e",
   "metadata": {
    "slideshow": {
     "slide_type": "fragment"
    }
   },
   "source": [
    "La palabra *local* hace referencia a que ningún agente puede propagar su acción a mayor velocidad que la luz. Podría usarse la palabra *causal* en su lugar."
   ]
  },
  {
   "cell_type": "markdown",
   "id": "df70ba4a",
   "metadata": {
    "slideshow": {
     "slide_type": "-"
    }
   },
   "source": [
    "Por ejemplo, al hablar del espín de un electrón, no es correcto decir que *la proyección del espín a lo largo del eje $\\hat{\\bf z}~$ <u>es</u> $~+\\hbar/2$*."
   ]
  },
  {
   "cell_type": "markdown",
   "id": "f9cf30b5",
   "metadata": {
    "slideshow": {
     "slide_type": "-"
    }
   },
   "source": [
    " Lo correcto es decir que, <u>al medir</u>,  cualquiera de los valores $\\pm\\hbar/2$ se <u>adquiere</u> o <u>pone de manifiesto</u>  de forma aleatoria."
   ]
  },
  {
   "cell_type": "markdown",
   "id": "50a9674d",
   "metadata": {
    "slideshow": {
     "slide_type": "slide"
    }
   },
   "source": [
    "En 1964  físico nor-irlandés John Bell, que trabajaba en el CERN,   [demostró](https://cds.cern.ch/record/111654/files/vol1p195-200_001.pdf) que **todas** las teorías que respetan el realismo local satisfacen ciertas *desigualdades matemáticas*. \n",
    "\n",
    "En particular, <u>todas las magnitudes que evolucionan siguiendo las leyes de la física clásica</u> las satisfacen.\n"
   ]
  },
  {
   "cell_type": "markdown",
   "id": "1bd04eae",
   "metadata": {
    "slideshow": {
     "slide_type": "-"
    }
   },
   "source": [
    "Por el contrario, John Bell mostró cómo, en Mecánica Cuántica, el entrelazamiento, incorpora *correlaciones* sutiles entre las medidas que permiten traspasar  dichas desigualdades. \n",
    "\n"
   ]
  },
  {
   "cell_type": "markdown",
   "id": "28426fe9",
   "metadata": {
    "slideshow": {
     "slide_type": "skip"
    }
   },
   "source": [
    "La discusión, de puramente filosófica a ser objeto de investigación experimental, culminó con el [experimento](https://journals.aps.org/prl/abstract/10.1103/PhysRevLett.49.1804) de Alain Aspect y colaboradores en 1982.\n",
    "\n",
    "Se observó que la Mecánica Cuántica viola las desigualdades de Bell y, por tanto, **no es una teoría con realismo local**. \n"
   ]
  },
  {
   "cell_type": "markdown",
   "id": "654480ff",
   "metadata": {
    "slideshow": {
     "slide_type": "fragment"
    }
   },
   "source": [
    "La propuesta de John Bell dio pie a una familia de desigualdades que ponen en evidencia la imposibilidad de obtener ciertas correlaciones en un mundo clásico. \n",
    "\n",
    "Vamos a examinar la desigualdad en la forma estudiada por Clauser, Horne, Shimony y Holt [CHSH](https://journals.aps.org/prl/abstract/10.1103/PhysRevLett.23.880).  \n",
    "\n"
   ]
  },
  {
   "cell_type": "markdown",
   "id": "217b7868",
   "metadata": {
    "slideshow": {
     "slide_type": "skip"
    }
   },
   "source": [
    "Posteriormente estudiaremos el experimento de GHZ, el cuál, también pone de manifiesto las correlaciones sutiles que introduce el entrelazamiento de una forma mucho determinista, en lugar de estadística."
   ]
  },
  {
   "cell_type": "markdown",
   "id": "f955885c",
   "metadata": {
    "slideshow": {
     "slide_type": "slide"
    }
   },
   "source": [
    "## Perfecta anticorrelación\n",
    "\n",
    "Central en esta discusión es la presencia de entrelazamiento. Vamos a seleccionar el denominado *singlete*  de la Base de Bell.\n",
    "<br>\n",
    "<br>\n",
    "$$\n",
    "\\ket{B_{11}}=\\frac{1}{\\sqrt{2}}(\\ket{01}-\\ket{10})\n",
    "$$\n",
    "\n",
    "Supongamos que  Alice y Bob poseen sendos medidores de Stern Gerlach apuntando en la dirección $\\hat{\\bf z} = (0,0,1)$."
   ]
  },
  {
   "cell_type": "markdown",
   "id": "e49b7644",
   "metadata": {
    "slideshow": {
     "slide_type": "fragment"
    }
   },
   "source": [
    "- Si Alice registra +1 el estado colapsa a $\\ket{01}$ y, por tanto, Bob solo podrá medir  $\\, -1$\n",
    "\n",
    "\n",
    "-  Si Alice registra -1 el estado colapsa a $\\ket{10}$ y, por tanto, Bob solo podrá medir  $\\, +1$"
   ]
  },
  {
   "cell_type": "markdown",
   "id": "00a3ca0a",
   "metadata": {
    "slideshow": {
     "slide_type": "fragment"
    }
   },
   "source": [
    "En definitiva, hay una anticorrelación perfecta que se pone de manifiesto en el valor medio del producto de las medidas. \n",
    "\n",
    "Si las mediciones de Alice y Bob son $a_i=\\pm 1\\Rightarrow b_i=\\mp 1$ respectivamente, el valor medio\n",
    "de la variable aleatoria $\\{a_i, b_i\\}$ es $-1$\n",
    "\n",
    "$$\n",
    "\\overline{ab} = \\frac{1}{N}\\sum_{i=1}^N a_i b_i =\\frac{1}{N}\\sum_{i=1}^N (-1) = -1\n",
    "$$"
   ]
  },
  {
   "cell_type": "markdown",
   "id": "a8a788c5",
   "metadata": {
    "slideshow": {
     "slide_type": "slide"
    }
   },
   "source": [
    "Vamos a ver cómo la predicción teórica confirma este hecho.\n",
    "\n",
    "El estado $\\ket{B_{11}}$ ya es autoestado del observable asociado \n",
    "\n",
    "$$\n",
    "Z\\otimes Z \\ket{B_{11}} = Z\\ket{0}Z\\ket{1} - Z\\ket{1}Z\\ket{0} = -\\ket{01} + \\ket{10} = -\\ket{B_{11}}\n",
    "$$"
   ]
  },
  {
   "cell_type": "markdown",
   "id": "051e3348",
   "metadata": {
    "slideshow": {
     "slide_type": "fragment"
    }
   },
   "source": [
    "Y el valor esperado satura  este autovalor \n",
    "<br>\n",
    "\n",
    "$$\n",
    " \\langle Z\\otimes Z\\rangle = \\bra{B_{11}}Z\\otimes Z\\,  \\ket{B_{11}}  = -\\braket{B_{11}}{B_{11}}= -1\\, \n",
    "$$\n"
   ]
  },
  {
   "cell_type": "markdown",
   "id": "813327d8",
   "metadata": {
    "slideshow": {
     "slide_type": "skip"
    }
   },
   "source": [
    "<div class=\"alert alert-block alert-danger\">\n",
    "<b>Notar</b>\n",
    "<br>\n",
    "La anti correlación que hemos hallado es la misma que en un experimento clásico preparado en una bolsa que contiene dos calcetines de dos colores: si Alice saca el blanco, el que saca Bob tiene que ser negro.     \n",
    "    \n",
    "</div>\n",
    "\n"
   ]
  },
  {
   "cell_type": "markdown",
   "id": "190f7345",
   "metadata": {
    "slideshow": {
     "slide_type": "slide"
    }
   },
   "source": [
    "La cosa se pone más divertida cuando los dos polarizadores de Stern Gerlach <u>*no se orientan en la misma dirección*</u>\n",
    "\n",
    "El observable asociado ahora a la dirección $~\\hat{\\bf n}~$  será  $~ A = \\hat{\\bf n}\\cdot \\boldsymbol{\\sigma}$\n",
    "\n",
    "Aun así, los autovalores de este operador y, por ello, la proyección del espín seguirá siendo $\\pm 1$\n",
    "\n",
    "<div class=\"alert alert-block alert-info\",text-align:center>\n",
    "<p style=\"text-align: left ;color: navy;\">  \n",
    "<b>Teorema</b>: \n",
    "<br>\n",
    "el valor medio del producto de las proyecciones de espín a lo largo de sendos ejes $~\\hat{\\bf m}~$ y $~\\hat{\\bf n}~$ viene dada por el coseno del ángulo $\\theta$  que forman los  ejes de los dos detectores \n",
    "<br>\n",
    "<br>    \n",
    "$$\n",
    "\\bra{B_{11}}(\\hat{\\bf m}\\cdot \\boldsymbol{\\sigma}\\otimes \\hat{\\bf n}\\cdot \\boldsymbol{\\sigma})\\ket{B_{11}}\n",
    " = -\\cos \\theta = - \\hat{\\bf m}\\cdot \\hat{\\bf n}\n",
    "$$\n",
    "</p>\n",
    "</div>\n",
    "\n"
   ]
  },
  {
   "cell_type": "markdown",
   "id": "ef222950",
   "metadata": {
    "slideshow": {
     "slide_type": "skip"
    }
   },
   "source": [
    "<div class=\"alert alert-block alert-success\">\n",
    "<b>Ejercicio:</b> \n",
    "prueba este resultado.\n",
    "</div>"
   ]
  },
  {
   "cell_type": "markdown",
   "id": "ebb11bae",
   "metadata": {
    "slideshow": {
     "slide_type": "slide"
    }
   },
   "source": [
    "- Cuando los ejes son paralelos recuperamos la  anti-correlación, en cualquier dirección\n",
    "\n",
    "$$\n",
    "-\\hat{\\bf n}\\cdot \\hat{\\bf n} = - \\cos 0 = -1 \n",
    "$$\n",
    "\n",
    "- cuando las direcciones de los detectores de Alice y Bob no coinciden sigue habiendo una medida cuántica $a,b = \\pm 1$ en ambos. \n",
    "<br>\n",
    "<br>\n",
    "- Clásicamente, ¿qué esperarías medir?\n",
    "\n",
    "\n"
   ]
  },
  {
   "cell_type": "markdown",
   "id": "d81743f8",
   "metadata": {
    "slideshow": {
     "slide_type": "slide"
    }
   },
   "source": [
    "<a id='csch'></a>\n",
    "## La desigualdad de CHSH \n",
    "\n",
    "Enn 1970 Clauser, Horne, Shimony y Holt [CHSH](https://journals.aps.org/prl/abstract/10.1103/PhysRevLett.23.880) propusieron una figura de mérito capaz de distinguir las correlaciones cuánticas de las clásicas."
   ]
  },
  {
   "cell_type": "markdown",
   "id": "e3f9b419",
   "metadata": {
    "slideshow": {
     "slide_type": "fragment"
    }
   },
   "source": [
    "La idea es que Alice y Bob pueden escoger, cada uno,   <u>*dos orientaciones  arbitrarias*</u> para su detector.\n",
    "\n",
    "Para el detector de Alice las denotamos $\\hat{\\bf n}_A, \\hat{\\bf n}'_A$  y  para el de Bob $\\, \\hat{\\bf n}_B, \\hat{\\bf n}'_B.$ \n",
    "\n",
    "Los pasos a seguir son los siguientes:\n",
    "\n",
    "**1.-** Alice y Bob seleccionan *una orientación* para sus detectores. Hay cuatro parejas posibles \n",
    "\n",
    "$$\n",
    "\\begin{array}{c|c} {\\rm Alice} & {\\rm Bob} \\\\ \\hline \\hat{\\bf n}_A  &\\hat{\\bf n}_B \\\\ \\hat{\\bf n}_A &\\hat{\\bf n}'_B \\\\ \\hat{\\bf n}'_A & \\hat{\\bf n}_B \\\\ \\hat{\\bf n}'_A &\\hat{\\bf n}'_B \\end{array}\n",
    "$$\n"
   ]
  },
  {
   "cell_type": "markdown",
   "id": "71865e6b",
   "metadata": {
    "slideshow": {
     "slide_type": "slide"
    }
   },
   "source": [
    "\n",
    "**2.-** Alice y Bob reciben un electrón cada uno de un par entrelazado en el estado $\\ket{B_{11}}$\n",
    "\n",
    "\n",
    "**3.-** Alice y Bob realizan la medida de la proyección del espín a lo largo del eje elegido y anotan el resultado de la medición $(a,b)=(\\pm 1, \\pm 1)$ \n"
   ]
  },
  {
   "cell_type": "markdown",
   "id": "0b0e099a",
   "metadata": {
    "slideshow": {
     "slide_type": "fragment"
    }
   },
   "source": [
    "**4.-** Repiten el paso anterior un número $i=1,..., N$ grande de veces, y con los datos obtenidos $~(a_i,b_i)=(\\pm 1, \\pm 1)~$ pueden reconstruir la correlación\n",
    "\n",
    "$$\n",
    " C(\\hat{\\bf n}_A, \\hat{\\bf n}_B) = \\frac{1}{N}\\sum_{i=1}^N a_i b_i ~\\in~  [-1,1]\n",
    "$$\n"
   ]
  },
  {
   "cell_type": "markdown",
   "id": "fd6b28f7",
   "metadata": {
    "slideshow": {
     "slide_type": "fragment"
    }
   },
   "source": [
    "**5.-** Repiten todo el proceso anterior para las cuatro posibles orientaciones elegidas de forma aleatoria. Con las  $4N$ mediciones construyen la cantidad\n",
    "<br>\n",
    "<br>\n",
    "$$\n",
    "R = | C(\\hat{\\bf n}_A, \\hat{\\bf n}_B) +  C(\\hat{\\bf n}_A, \\hat{\\bf n}'_B) +  C(\\hat{\\bf n}'_A, \\hat{\\bf n}_B)-  C(\\hat{\\bf n}'_A, \\hat{\\bf n}'_B)|\n",
    "$$\n",
    "\n"
   ]
  },
  {
   "cell_type": "markdown",
   "id": "3684eeb1",
   "metadata": {
    "slideshow": {
     "slide_type": "slide"
    }
   },
   "source": [
    "En un mundo clásico, supondríamos que los valores $a_i,b_i$ proceden de *valores predefinidos* para cada sistema individual, sobre el que efectuamos simplemente un promedio estadístico de muchos sistemas. Entonces podemos probar la **desigualdad de CHSH**\n",
    "\n",
    "<div class=\"alert alert-block alert-info\",text-align:center>\n",
    "<p style=\"text-align: left ;color: navy;\">  \n",
    "<b>Teorema</b>: \n",
    "La desigualdad de CHSH afirma que \n",
    "$$\n",
    "R \\leq 2\n",
    "$$\n",
    "</p></div>\n",
    "\n",
    "<details>\n",
    "    <summary><p style=\"text-align:right\"> >><i>Prueba</i> </p></summary>\n",
    "Es fácil ver que se cumple para cada colección $a_i,a'_i,b_i,b'_i \\in \\pm 1$ la desigualdad\n",
    "<br>\n",
    "<br>\n",
    "$$\n",
    "a_i (b_i +  b'_i) + a'_i (b_i -  b'_i) = \\pm 2\n",
    "$$\n",
    "<br>\n",
    "porque si $b_i +  b'_i=\\pm 2$ entonces $b_i - b'_i=0$ y viceversa. Ahora podemos demostrar la desigualdad \n",
    "\\begin{eqnarray}\n",
    "R &=& \\lim_{N\\to \\infty}|\\frac{1}{N} \\sum_{i=1}^N \\left( a_i b_i + a_i b'_i + a'_i b_i - a'_i b'_i\\right) | \\nonumber\\\\\n",
    "&=& \\lim_{N\\to \\infty}\\frac{1}{N}| \\sum_{i=1}^N  \\left( a_i (b_i +  b'_i) + a'_i (b_i -  b'_i)\\right)| \\nonumber\\\\\n",
    "&\\leq &  \\lim_{N\\to \\infty} \\frac{1}{N} \\sum_{i=1}^N  |\\left( a_i (b_i +  b'_i) + a'_i (b_i -  b'_i)\\right)| \\ \\nonumber\\\\\n",
    "&= &  \\lim_{N\\to \\infty} \\frac{1}{N} \\sum_{i=1}^N  2 \\ \\nonumber\\\\\n",
    "&=& 2\n",
    "\\end{eqnarray}\n",
    "</details>   "
   ]
  },
  {
   "cell_type": "markdown",
   "id": "2cb96529",
   "metadata": {
    "slideshow": {
     "slide_type": "fragment"
    }
   },
   "source": [
    "La Mecánica Cuántica nos proporciona una respuesta teórica para $R$ que sólo depende de los ángulos relativos $\\cos\\theta_{AB} = \\cos(\\theta_A-\\theta_B)= \\hat{\\bf n}_A\\cdot \\hat{\\bf n}_B$.\n",
    "<br>\n",
    "<br>\n",
    "\n",
    "$$\n",
    "R = | \\cos\\theta_{AB}  + \\cos \\theta_{A'B} + \\cos \\theta_{AB'}  - \\cos \\theta_{A'B'}|\\, .\n",
    "$$\n",
    "<br>\n"
   ]
  },
  {
   "cell_type": "markdown",
   "id": "d22b95ec",
   "metadata": {
    "slideshow": {
     "slide_type": "slide"
    }
   },
   "source": [
    "Ahora sólo hace falta jugar un poco con los detectores.\n",
    "\n",
    "Por ejemplo, podemos situarlos en el plano $(y,z)$, perpendicular al eje de propagación $x$, de manera que los vectores  $\\hat{\\bf n}'_A,\\hat{\\bf n}_{A},\\hat{\\bf n}_B$ y $\\hat{\\bf n}_B'$ estén ordenados correlativamente en sentido horario. Finalmente tomaremos\n",
    "dos ejes coincidentes $\\hat{\\bf n}_{A}=\\hat{\\bf n}_B$ paralelos $\\Rightarrow \\theta_{AB}=0$, y apertura igual para ambos, $\\theta_{A'A} = \\theta_{BB'} = \\varphi$, de modo que $\\theta_{A'B'} = 2\\varphi$ \n"
   ]
  },
  {
   "cell_type": "markdown",
   "id": "e4007ab8",
   "metadata": {
    "slideshow": {
     "slide_type": "-"
    }
   },
   "source": [
    "\n",
    "<figure><center>\n",
    "<a id='fig_ref'></a>\n",
    "<img src=\"images/CHSH_basis.png\" align=center width='28%'/>\n",
    "<center></center>\n",
    "</center></figure>\n"
   ]
  },
  {
   "cell_type": "markdown",
   "id": "2be2c803",
   "metadata": {
    "slideshow": {
     "slide_type": "fragment"
    }
   },
   "source": [
    "\n",
    "\n",
    "$$\n",
    "R = |1 +  2 \\cos\\varphi  - \\cos 2\\varphi|\\, .\n",
    "$$\n",
    "\n",
    "Derivando vemos que esta expresión alcanza su máximo cuando $\\sin\\varphi = \\sin 2\\varphi$ lo cual tiene solución $\\varphi = \\pi/3 = 60^\\circ$. Sustituyendo encontramos $R= 2.5>2$. \n",
    " \n"
   ]
  },
  {
   "cell_type": "markdown",
   "id": "40cbd7d3",
   "metadata": {
    "slideshow": {
     "slide_type": "slide"
    }
   },
   "source": [
    "Vamos a hacer una lista de ángulos relativos entre los dos polarizadores "
   ]
  },
  {
   "cell_type": "code",
   "execution_count": 2,
   "id": "072eeb9c",
   "metadata": {
    "slideshow": {
     "slide_type": "-"
    }
   },
   "outputs": [
    {
     "name": "stderr",
     "output_type": "stream",
     "text": [
      "/var/folders/jv/lqf3ggs56dz0wc8dtkz265440000gn/T/ipykernel_91583/640376911.py:15: DeprecationWarning: The 'qiskit.Aer' entry point is deprecated and will be removed in Qiskit 1.0. You should use 'qiskit_aer.Aer' directly instead.\n",
      "  M_simulator = Aer.get_backend('qasm_simulator')\n"
     ]
    }
   ],
   "source": [
    "'angulos de medida'\n",
    "phi_divs = 100\n",
    "phi_list=np.linspace(0,2*np.pi,phi_divs) #lista de angulos'\n",
    "\n",
    "'lista de correlaciones C[i] a calcular'\n",
    "C=[0,0,0,0]\n",
    "\n",
    "'lista de valores de R'\n",
    "R=np.zeros(phi_divs)\n",
    "\n",
    "'Numero de medidas'\n",
    "nshots = 2048\n",
    "\n",
    "from qiskit import QuantumCircuit, Aer, execute\n",
    "M_simulator = Aer.get_backend('qasm_simulator')\n",
    "\n"
   ]
  },
  {
   "cell_type": "code",
   "execution_count": 3,
   "id": "644a9112",
   "metadata": {
    "slideshow": {
     "slide_type": "slide"
    }
   },
   "outputs": [
    {
     "name": "stderr",
     "output_type": "stream",
     "text": [
      "/opt/anaconda3/envs/qiskit/lib/python3.9/site-packages/qiskit/visualization/circuit/matplotlib.py:266: FutureWarning: The default matplotlib drawer scheme will be changed to \"iqp\" in a following release. To silence this warning, specify the current default explicitly as style=\"clifford\", or the new default as style=\"iqp\".\n",
      "  self._style, def_font_ratio = load_style(self._style)\n"
     ]
    },
    {
     "data": {
      "image/png": "[encoded data removed]",
      "text/plain": [
       "<Figure size 621.739x284.278 with 1 Axes>"
      ]
     },
     "metadata": {},
     "output_type": "display_data"
    },
    {
     "name": "stderr",
     "output_type": "stream",
     "text": [
      "/var/folders/jv/lqf3ggs56dz0wc8dtkz265440000gn/T/ipykernel_91583/3226815673.py:27: DeprecationWarning: The function ``qiskit.execute_function.execute()`` is deprecated as of qiskit 0.46.0. It will be removed in the Qiskit 1.0 release. This function combines ``transpile`` and ``backend.run``, which is covered by ``Sampler`` :mod:`~qiskit.primitives`. Alternatively, you can also run :func:`.transpile` followed by ``backend.run()``.\n",
      "  counts=execute(qc,backend = M_simulator,shots = nshots).result().get_counts()\n",
      "/var/folders/jv/lqf3ggs56dz0wc8dtkz265440000gn/T/ipykernel_91583/3226815673.py:27: DeprecationWarning: The function ``qiskit.execute_function.execute()`` is deprecated as of qiskit 0.46.0. It will be removed in the Qiskit 1.0 release. This function combines ``transpile`` and ``backend.run``, which is covered by ``Sampler`` :mod:`~qiskit.primitives`. Alternatively, you can also run :func:`.transpile` followed by ``backend.run()``.\n",
      "  counts=execute(qc,backend = M_simulator,shots = nshots).result().get_counts()\n"
     ]
    }
   ],
   "source": [
    "for j in range(phi_divs): \n",
    "    'ángulos de medida'\n",
    "    phi=phi_list[j] \n",
    "    '''A' = 2\\phi, A = B = phi, B' = 0'''\n",
    "    angles_AB=[[phi,phi],[2*phi,phi],[phi,0],[2*phi,0]] # AB , A'B , AB', A'B'\n",
    "\n",
    "    for i in range(4):        \n",
    "        'una pareja de ángulos uno para A y otro para B '\n",
    "        ang_AB=angles_AB[i]\n",
    "\n",
    "        'hay un circuito para cada proceso de medida'\n",
    "        qc=QuantumCircuit(2,2)\n",
    "        'creamos el par de Bell B(11)'\n",
    "        qc.x(0)\n",
    "        qc.x(1)\n",
    "        qc.h(0)\n",
    "        qc.cx(0,1)\n",
    "\n",
    "        'simulamos la medida en la base de los polarizadores de A y B rotados en torno al eje x'\n",
    "        qc.rx(-ang_AB[0],0)  # notar el valor negativo del ángulo de rotación \n",
    "        qc.rx(-ang_AB[1],1)\n",
    "        qc.measure([0,1],[0,1])\n",
    "        \n",
    "        if j ==0 and i ==0:\n",
    "            display(qc.draw('mpl'))\n",
    "        ' medimos '\n",
    "        counts=execute(qc,backend = M_simulator,shots = nshots).result().get_counts()         \n",
    "        'construimos el correlador'\n",
    "        C[i]= 0 \n",
    "        for bitstring, counts in counts.items():\n",
    "            C[i] += (-1)**(sum([int(bit) for bit in bitstring])) * counts/nshots \n",
    "\n",
    "    'construimos la cantidad R'\n",
    "    R[j]=np.abs(C[0]+C[1]+C[2]-C[3])"
   ]
  },
  {
   "cell_type": "markdown",
   "id": "5c9da3ab",
   "metadata": {
    "slideshow": {
     "slide_type": "slide"
    }
   },
   "source": [
    "Podemos graficarlo y compararlo con el valor analítico"
   ]
  },
  {
   "cell_type": "code",
   "execution_count": 24,
   "id": "bd757416",
   "metadata": {
    "slideshow": {
     "slide_type": "-"
    }
   },
   "outputs": [
    {
     "data": {
      "image/png": "[encoded data removed]",
      "text/plain": [
       "<Figure size 640x480 with 1 Axes>"
      ]
     },
     "metadata": {},
     "output_type": "display_data"
    }
   ],
   "source": [
    "' función analítica '\n",
    "fx= np.abs(1 + 2*np.cos(phi_list) - np.cos(2*phi_list))\n",
    "plt.plot(phi_list,fx,'k-',linewidth=1)\n",
    "\n",
    "' resultado de la simulación'\n",
    "plt.plot(phi_list,R,'.')\n",
    "plt.axhline(y = 2, color = 'r', linestyle = '-')\n",
    "plt.axhline(y = +2.5, color = 'g', linestyle = '-')\n",
    "\n",
    "' líneas horizotales en +2 y - 2'\n",
    "plt.axvline(x = np.pi/3, color = 'b', linestyle = '-')\n",
    "plt.axvline(x = 5*np.pi/3, color = 'b', linestyle = '-')\n",
    "plt.xlabel(r'$\\varphi$')\n",
    "plt.ylabel(r'$R(\\varphi)$')\n",
    "plt.ylim(0,2.6)\n",
    "plt.show()"
   ]
  },
  {
   "cell_type": "markdown",
   "id": "14780cd2",
   "metadata": {
    "slideshow": {
     "slide_type": "skip"
    }
   },
   "source": [
    "Prueba con otros estados de la base de Bell. Realiza este experimento en un ordenador real."
   ]
  },
  {
   "cell_type": "markdown",
   "id": "27111d45",
   "metadata": {
    "slideshow": {
     "slide_type": "skip"
    }
   },
   "source": [
    "<div class=\"alert alert-block alert-success\">\n",
    "<b>Ejercicio  1.2.3.2</b> \n",
    "    \n",
    "Usar bases perpendiculares de  Alice $A\\perp A'$,  y Bob $B\\perp B'$, y formando un ángulo $\\varphi$ entre sí. \n",
    "    \n",
    "Sin pérdida de generalidad puedes tomar $B = X\\perp Z = B'$. \n",
    "    \n",
    "Variar $\\varphi$ en el intervalo $(0,\\pi)$ y hallar el valor de la máxima violación de la desigualdad de Bell.\n",
    "    \n",
    "¿Es mayor que en el ejemplo anterior? ¿Podrías  hallar otra violación aún mayor?\n",
    "</div>"
   ]
  },
  {
   "cell_type": "markdown",
   "id": "352d8c30",
   "metadata": {
    "slideshow": {
     "slide_type": "slide"
    }
   },
   "source": [
    "## Experimento GHZ "
   ]
  },
  {
   "cell_type": "markdown",
   "id": "b76792f6",
   "metadata": {
    "slideshow": {
     "slide_type": "-"
    }
   },
   "source": [
    "Las desigualdades de Bell-CHCS demuestran que hay una manera de distinguir una teoría con  realismo local de una en la que éste postulado no  exista.\n",
    "\n",
    "Lo hacen de una forma estadística: es necesario formar ciertas medias de datos sobre estados de 2-cúbits, los  estados de Bell. "
   ]
  },
  {
   "cell_type": "markdown",
   "id": "5a8738b7",
   "metadata": {
    "slideshow": {
     "slide_type": "fragment"
    }
   },
   "source": [
    "En 1997 Greenberger, Horne y Zeilinger estudiaron las propiedades de una serie de estados de 3-cúbits:\n",
    "<br>\n",
    "<br>\n",
    "$$\n",
    "\\ket{\\rm GHZ} = \\frac{1}{\\sqrt{2}}( \\ket{000} - \\ket{111} )\\, . \n",
    "$$\n",
    "\n",
    "Es muy fácil ver que, en vez de una violación **probabilística** de una *desigualdad*, el estado GHZ conduce a una  violación **determinista** de una *igualdad*. \n"
   ]
  },
  {
   "cell_type": "markdown",
   "id": "910657e6",
   "metadata": {
    "slideshow": {
     "slide_type": "slide"
    }
   },
   "source": [
    "Supongamos que:  \n",
    "<br>\n",
    "-  un sistema está  compuesto de  tres subsistemas, $A, B$ y $C$. \n",
    "<br>\n",
    "<br>\n",
    "-  en cada uno de ellos hay dos *magnitudes* observables, $X$ e $Y$, que al ser medidas adquieren valores binarios $x, y = \\pm 1$. "
   ]
  },
  {
   "cell_type": "markdown",
   "id": "ce876a02",
   "metadata": {
    "slideshow": {
     "slide_type": "fragment"
    }
   },
   "source": [
    "Pretendemos saber:\n",
    "\n",
    "si existe un estado del sistema tal que, con el resultado  de  medidas simultáneas $X$ o $Y$ de cada una de sus partes $A,B$ y $C$  se obtengan resultados $x$ e $y$ que verifiquen las siguientes ecuaciones:\n",
    "\n",
    "$$\n",
    "\\begin{array}{ccc}\n",
    "{\\rm medimos} & & \\hbox{obtenemos} ~ x,y ~~ \\hbox{tales que} \\\\\n",
    "XYY ~~~~~ &\\to& ~xyy =~~~ 1\\nonumber\\\\\n",
    "YXY ~~~~~ &\\to& ~yxy =~~~ 1 \\label{GHZeq}\\\\\n",
    "YYX ~~~~~ &\\to& ~yyx =~~~ 1\\nonumber\\\\\n",
    "XXX ~~~~~ &\\to& ~xxx = -1\\nonumber\n",
    "\\end{array}\n",
    "$$\n"
   ]
  },
  {
   "cell_type": "markdown",
   "id": "3a375278",
   "metadata": {
    "slideshow": {
     "slide_type": "slide"
    }
   },
   "source": [
    "Si la teoría satisface los axiomas de realismo local,  los valores de $X$ es $Y$ estarán bien definidos independientemente de la medida que efectuemos. \n",
    "\n",
    "Dicho de otra forma, las medidas que efectuamos son compatibles y no afectan a los resultados posibles.\n"
   ]
  },
  {
   "cell_type": "markdown",
   "id": "93f1a5a6",
   "metadata": {
    "slideshow": {
     "slide_type": "fragment"
    }
   },
   "source": [
    "Entonces podemos utilizar conclusiones que extraigamos de los resultados de un experimento para los de otro (notar que se supone que el estado es el mismo en todos los casos  )\n",
    "\n",
    "- Las tres primeras afirman que $x=1$ puesto que $y^2=1$. \n",
    "\n",
    "- La última afirma que $x=-1$\n",
    "\n",
    "vemos que hay una contradicción. Concluimos que las medidas efectuadas *no son compatibles entre sí*. "
   ]
  },
  {
   "cell_type": "markdown",
   "id": "d80864d6",
   "metadata": {
    "slideshow": {
     "slide_type": "slide"
    }
   },
   "source": [
    "Como vemos, la paradoja existe en tanto en cuanto atribuyamos a las magnitudes $X$ e $Y$ una noción de realidad  independiente de la medición. \n",
    "\n",
    "Sólo de esta manera podemos inferir, de las tres primeras líneas, el resultado  $xxx  =  1$ sin realizar una medición directa de $XXX$  por consistencia.\n",
    "\n"
   ]
  },
  {
   "cell_type": "markdown",
   "id": "8b7e8e2c",
   "metadata": {
    "slideshow": {
     "slide_type": "-"
    }
   },
   "source": [
    "La satisfacción, por tanto, de las cuatro afirmaciones,  pasa por aceptar que las variables $X$ e $Y$, no pueden tener valores predefinidos simultáneamente  en los cuatro experimentos. \n",
    "\n"
   ]
  },
  {
   "cell_type": "markdown",
   "id": "48c64d1d",
   "metadata": {
    "slideshow": {
     "slide_type": "fragment"
    }
   },
   "source": [
    "Cuánticamente es fácil ver que el estado GHZ proporciona una solución al conjunto de ecuaciones."
   ]
  },
  {
   "cell_type": "markdown",
   "id": "810305e8",
   "metadata": {
    "slideshow": {
     "slide_type": "slide"
    }
   },
   "source": [
    "\n",
    "Supongamos que  $x$ e $y$ son los resultados de medir $X = \\sigma_x~$ y $~Y = \\sigma_y$\n",
    "<br>\n",
    "<br>\n",
    "\n",
    "$$\n",
    "X \\ket{0} = \\ket{1}\\, , ~ X \\ket{1} = \\ket{0}\\, ~~ , ~~ Y \\ket{0} = i \\ket{1}\\, , ~ Y \\ket{1} = -i \\ket{0}\\, . ~ \n",
    "$$"
   ]
  },
  {
   "cell_type": "markdown",
   "id": "e16730a8",
   "metadata": {
    "slideshow": {
     "slide_type": "fragment"
    }
   },
   "source": [
    " Por un lado, \n",
    "<br>\n",
    "<br>\n",
    "$$xyy\\ket{{\\rm GHZ}}  = X \\otimes Y\\otimes Y \\big(\\frac{1}{\\sqrt{2}}(\\ket{000}-\\ket{111}\\big) = \\frac{1}{\\sqrt{2}} \\big(i^2 \\ket{111}- (-i)^2\n",
    "\\ket{000}\\big) = +  \\ket{{\\rm GHZ}}\\, ,$$\n",
    "\n",
    "y,\n",
    "análogamente, obtenemos $xyy=yxy=yyx= +1$.\n"
   ]
  },
  {
   "cell_type": "markdown",
   "id": "053b4a49",
   "metadata": {
    "slideshow": {
     "slide_type": "fragment"
    }
   },
   "source": [
    "Por otro, $xxx=-1$ se sigue de\n",
    "\n",
    "\n",
    "$$  \n",
    "xxx  \\ket{{\\rm GHZ}} =   X \\otimes X \\otimes X \\big(\\frac{1}{\\sqrt{2}}(\\ket{000}-\\ket{111}\\big) =\n",
    "\\frac{1}{\\sqrt{2}}(\\ket{111}-\\ket{000}) =  - \\ket{\\rm GHZ}\\, .\n",
    "$$\n",
    "\n"
   ]
  },
  {
   "cell_type": "markdown",
   "id": "86123528",
   "metadata": {
    "slideshow": {
     "slide_type": "slide"
    }
   },
   "source": [
    "Inicializamos el estado GHZ "
   ]
  },
  {
   "cell_type": "markdown",
   "id": "8eda4583",
   "metadata": {
    "slideshow": {
     "slide_type": "fragment"
    }
   },
   "source": [
    "\n",
    "\n",
    "<figure><center>\n",
    "<a id='fig_ref'></a>\n",
    "<img src=\"./images/GHZ.png\" align=center width='30%'/>\n",
    "<center></center>\n",
    "</center></figure>\n"
   ]
  },
  {
   "cell_type": "code",
   "execution_count": 2,
   "id": "48b7222b",
   "metadata": {
    "run_control": {
     "marked": false
    },
    "slideshow": {
     "slide_type": "fragment"
    }
   },
   "outputs": [
    {
     "name": "stderr",
     "output_type": "stream",
     "text": [
      "/opt/anaconda3/lib/python3.9/site-packages/qiskit/visualization/circuit/matplotlib.py:164: UserWarning: Style JSON file 'iqp.json' not found in any of these locations: /opt/anaconda3/lib/python3.9/site-packages/qiskit/visualization/circuit/styles/iqp.json, iqp.json. Will use default style.\n",
      "  self._style, def_font_ratio = load_style(style)\n"
     ]
    },
    {
     "data": {
      "image/png": "[encoded data removed]",
      "text/plain": [
       "<Figure size 454.719x367.889 with 1 Axes>"
      ]
     },
     "execution_count": 2,
     "metadata": {},
     "output_type": "execute_result"
    }
   ],
   "source": [
    "from qiskit import QuantumRegister, ClassicalRegister, QuantumCircuit, Aer, execute\n",
    "\n",
    "qc_GHZ = QuantumCircuit(3,3) \n",
    "\n",
    "qc_GHZ.x(0)\n",
    "qc_GHZ.h(0)\n",
    "qc_GHZ.cx(0,1)\n",
    "qc_GHZ.cx(0,2)\n",
    "\n",
    "qc_GHZ.draw(output='mpl',style=\"iqp\")"
   ]
  },
  {
   "cell_type": "markdown",
   "id": "d558c41e",
   "metadata": {
    "slideshow": {
     "slide_type": "slide"
    }
   },
   "source": [
    "Analicemos el valor medio de alguno de los operadores $YYX, YXY, XYY$ ó $XXX$"
   ]
  },
  {
   "cell_type": "code",
   "execution_count": 3,
   "id": "dc83268e",
   "metadata": {
    "slideshow": {
     "slide_type": "-"
    }
   },
   "outputs": [
    {
     "data": {
      "image/png": "[encoded data removed]",
      "text/plain": [
       "<Figure size 956.385x367.889 with 1 Axes>"
      ]
     },
     "execution_count": 3,
     "metadata": {},
     "output_type": "execute_result"
    }
   ],
   "source": [
    "\n",
    "\n",
    "'elige uno de los términos siguientes'\n",
    "#multibasis = 'YYX'\n",
    "#multibasis = 'YXY'\n",
    "multibasis = 'XYY'\n",
    "#multibasis = 'XXX'\n",
    "\n",
    "qc_GHZ.barrier()\n",
    "tQ.add_multimeasure_XYZ(qc_GHZ, multibasis)\n",
    "qc_GHZ.draw(output='mpl')"
   ]
  },
  {
   "cell_type": "markdown",
   "id": "03df4cad",
   "metadata": {
    "slideshow": {
     "slide_type": "slide"
    }
   },
   "source": [
    "Ejecuta el código anterior para las 4 posibles cadenas de Pauli"
   ]
  },
  {
   "cell_type": "code",
   "execution_count": 50,
   "id": "1966e126",
   "metadata": {
    "slideshow": {
     "slide_type": "-"
    }
   },
   "outputs": [
    {
     "name": "stdout",
     "output_type": "stream",
     "text": [
      "<XXX> = -1.0\n"
     ]
    }
   ],
   "source": [
    "shots=1000\n",
    "from qiskit_aer import AerSimulator\n",
    "\n",
    "cuentas_GHZ = AerSimulator().run(qc_GHZ,shots=shots).result().get_counts()\n",
    "print('<'+str(multibasis)+'> =', tQ.expval_Zn_from_counts(cuentas_GHZ)[0])\n",
    "from qiskit.tools.visualization import plot_histogram\n",
    "\n"
   ]
  },
  {
   "cell_type": "markdown",
   "id": "07de2e65",
   "metadata": {
    "slideshow": {
     "slide_type": "slide"
    }
   },
   "source": [
    "## Teleportación"
   ]
  },
  {
   "cell_type": "markdown",
   "id": "911a74df",
   "metadata": {
    "slideshow": {
     "slide_type": "-"
    }
   },
   "source": [
    "El entrelazamiento conlleva un tipo  nuevo de correlación que acaba constituyendo un recurso importante. \n",
    "\n",
    "El protocolo de teleportación fue propuesto por [C.Bennet,G. Brassar, C. Crepeau, R.Josza, A. Peres u W. Wooters](https://journals.aps.org/prl/abstract/10.1103/PhysRevLett.70.1895) en 1993.\n",
    "\n"
   ]
  },
  {
   "cell_type": "markdown",
   "id": "6b32f87f",
   "metadata": {
    "slideshow": {
     "slide_type": "slide"
    }
   },
   "source": [
    "Supongamos que Alice y Bob tiene dos cúbits que se encuentran en el estado entrelazado $\\ket{B_{00}}$\n",
    "\n",
    "\n",
    " Alice tiene, un segundo cúbit inicializado en un estado arbitrario $\\ket{\\phi}$, y se plantea la posibilidad de transferirlo o clonarlo en el laboratorio de Bob.\n",
    "\n",
    "El circuito de la imagen permite efectuar esa tarea\n"
   ]
  },
  {
   "cell_type": "markdown",
   "id": "9caf5fa6",
   "metadata": {
    "slideshow": {
     "slide_type": "-"
    }
   },
   "source": [
    "\n",
    "<br>\n",
    "<figure>\n",
    "<a id='fig_ref'></a>\n",
    "<img src=\"images/teleportacion.png\" align=center width='500px'/>\n",
    "<center></center>\n",
    "</figure>\n",
    "<br>\n"
   ]
  },
  {
   "cell_type": "markdown",
   "id": "843c464d",
   "metadata": {
    "slideshow": {
     "slide_type": "slide"
    }
   },
   "source": [
    "- El estado inicial es\n",
    "\\begin{eqnarray}\n",
    "\\ket{\\phi} \\ket{B_{00}} &=&  \\ket{\\phi}\\otimes \\frac{1}{\\sqrt{2}}\\left(\\ket{0}\\otimes \\ket{0} + \\ket{1}\\otimes\\ket{1}\\rule{0mm}{4mm}\\right)\\, \\\\\n",
    "&=& \\frac{1}{\\sqrt{2}} (a \\ket{000} + b\\ket{100} + a\\ket{011} + b\\ket{111})\n",
    "\\end{eqnarray}\n",
    "<br>\n",
    "<br>\n",
    "Alice tiene acceso a los dos primeros qubits y Bob al tercero. "
   ]
  },
  {
   "cell_type": "markdown",
   "id": "127708be",
   "metadata": {
    "slideshow": {
     "slide_type": "fragment"
    }
   },
   "source": [
    "<br>\n",
    "\n",
    "- Alice realiza una  <i>medida de Bell</i> a sus dos qubits, intercalando un operador $U_{\\rm desent}= (H \\otimes I)\\cdot U_{\\rm CNOT}~$ que rota a la base de Bell\n",
    "<br>\n",
    "<br>\n",
    "\\begin{eqnarray}\n",
    " (H \\otimes I\\otimes I)(U_{\\rm CNOT}\\otimes I)\\, \\ket{\\phi}\\ket{B_{00}} & =&  \\frac{1}{2}\n",
    "\\left[\\rule{0mm}{3mm} \\ket{00}(a\\ket{0} + b\\ket{1}) + \\ket{01}(a\\ket{1}+ b\\ket{0}) \\right. \\nonumber\\\\\n",
    "\\rule{0mm}{14mm}\n",
    "&&\\left.  \\rule{0mm}{3mm}+ ~\\ket{10}(a\\ket{0}-b\\ket{1}) + \\ket{11}(a\\ket{1}-b\\ket{0})\\right] \\label{teleport}\n",
    "\\end{eqnarray}"
   ]
  },
  {
   "cell_type": "markdown",
   "id": "11659745",
   "metadata": {
    "slideshow": {
     "slide_type": "slide"
    }
   },
   "source": [
    "\n",
    "- Alice mide el estado que obra en su poder, y obtiene un 2-bit  clásico, $xy$ de manera equiprobable para las 4 posibilidades.\n",
    "<br>\n",
    "De forma correlacionada, el cúbit\n",
    " de Bob colapsa a uno de entre 4 estados $\\ket{\\phi_{xy}},~$ pero no sabe a cuál.\n"
   ]
  },
  {
   "cell_type": "markdown",
   "id": "46e72761",
   "metadata": {
    "slideshow": {
     "slide_type": "fragment"
    }
   },
   "source": [
    "- Para resolver esta ambigüedad, Alice envía el resultado de su medida $xy$ por un canal clásico a Bob"
   ]
  },
  {
   "cell_type": "markdown",
   "id": "f3dab255",
   "metadata": {
    "slideshow": {
     "slide_type": "slide"
    }
   },
   "source": [
    "-  Bob efectúa sobre su cúbit una operación controlada por este 2-bit, $U_{xy} =  X^y Z^x $. \n",
    "<br>\n",
    "<br>\n",
    "$$\n",
    "xy ~=~ \\left\\{ \\begin{array}{c} 00 \\\\ 01 \\\\ 10 \\\\ 11 \\end{array} \\right\\}~~ \\Longrightarrow  \n",
    "~~~ X^y Z^x \\ket{\\phi_{xy}} ~=~ \\left\\{  \\begin{array}{rl}    I :& (a\\ket{0} + b\\ket{1})  \\\\    X: & (a\\ket{1} + b\\ket{0})  \\\\  Z:& (a\\ket{0} - b\\ket{1})  \n",
    "\\\\  XZ = -iY:&   (a\\ket{1} - b\\ket{0}) \\\\\n",
    "       \\end{array} \\right. ~~ \\longrightarrow  ~~ a \\ket{0} + b\\ket{1}\\,  = \\, \\ket{\\phi}\n",
    "$$\n",
    "<br>\n",
    "Como resultado de esta operación, el cúbit de Bob es finalmente $\\ket{\\phi}$.\n"
   ]
  },
  {
   "cell_type": "markdown",
   "id": "35fcdde2",
   "metadata": {
    "slideshow": {
     "slide_type": "slide"
    }
   },
   "source": [
    "Vamos preparar el estado de Alice"
   ]
  },
  {
   "cell_type": "code",
   "execution_count": null,
   "id": "ee9d9981",
   "metadata": {
    "slideshow": {
     "slide_type": "-"
    }
   },
   "outputs": [],
   "source": [
    "# escoge dos ángulos theta y phi en la esfera de Bloch\n",
    "[theta,phi]=[1.1 , 2.2]\n",
    "\n",
    "# o hazlo de forma aleatoria\n",
    "#import random\n",
    "#[theta,phi] = np.array([np.pi*np.random.rand(),2*np.pi*np.random.rand()])\n",
    "\n",
    "estado = [np.cos(theta/2),(np.exp(1j*phi))*np.sin(theta/2)]\n",
    "\n",
    "#visualicémoslo en la esfera de Bloch\n",
    "from qiskit.visualization import plot_bloch_multivector, array_to_latex  \n",
    "plot_bloch_multivector(estado)"
   ]
  },
  {
   "cell_type": "markdown",
   "id": "6cb40e6b",
   "metadata": {
    "slideshow": {
     "slide_type": "slide"
    }
   },
   "source": [
    "\n",
    "Lo primero que haremos será incializar el circuito, dotado de tres cubits y dos canales clásicos en dos registros. Alice tendrá control sobre los dos primeros $q_0, q_1$ y Bob sobre el tercero $q_2$."
   ]
  },
  {
   "cell_type": "code",
   "execution_count": null,
   "id": "5734044e",
   "metadata": {
    "run_control": {
     "marked": false
    },
    "slideshow": {
     "slide_type": "-"
    }
   },
   "outputs": [],
   "source": [
    "from qiskit import QuantumCircuit, QuantumRegister, ClassicalRegister, Aer, execute\n",
    "\n",
    "qrA = QuantumRegister(2, name=\"qAlice\") \n",
    "qrB =  QuantumRegister(1, name=\"qBob\") \n",
    "crx = ClassicalRegister(1, name=\"crx\") \n",
    "cry = ClassicalRegister(1, name=\"cry\") "
   ]
  },
  {
   "cell_type": "markdown",
   "id": "8820c078",
   "metadata": {
    "slideshow": {
     "slide_type": "-"
    }
   },
   "source": [
    "generamos el circuito de teleportación"
   ]
  },
  {
   "cell_type": "code",
   "execution_count": null,
   "id": "b50d991f",
   "metadata": {
    "slideshow": {
     "slide_type": "slide"
    }
   },
   "outputs": [],
   "source": [
    "# inicializa el circuito\n",
    "qc = QuantumCircuit(qrA,qrB, crx, cry)\n",
    "\n",
    "# Alice y Bob comparten un par de Bell\n",
    "qc.h(qrA[1])\n",
    "qc.cx(qrA[1],qrB[0])\n",
    "qc.barrier()\n",
    "\n",
    "# inyecta en el circuito el estado a teleportar\n",
    "qc.initialize(estado,0)\n",
    "\n",
    "qc.barrier()\n",
    "\n",
    "# Añade un medidor de estados de Bell en los cúbits de Alice y efectúa las medidas\n",
    "qc.cx(qrA[0],qrA[1])\n",
    "qc.h(qrA[0])\n",
    "qc.barrier()\n",
    "qc.measure([qrA[0],qrA[1]],[0,1])\n",
    "\n",
    "# Añade el operador X^y Z^x controlado clásicamente por las salidas x e y \n",
    "qc.x(qrB[0]).c_if(cry, 1)  \n",
    "qc.z(qrB[0]).c_if(crx, 1)  \n",
    "qc.barrier()\n",
    "\n",
    "#visualiza el circuito \n",
    "qc.draw('mpl')"
   ]
  },
  {
   "cell_type": "code",
   "execution_count": null,
   "id": "1a549652",
   "metadata": {
    "slideshow": {
     "slide_type": "slide"
    }
   },
   "outputs": [],
   "source": [
    "# ejecuta varias veces y observa el resultado \n",
    "S_simulator = Aer.get_backend('statevector_simulator')\n",
    "out_vector=execute(qc,S_simulator).result().get_statevector()\n",
    "plot_bloch_multivector(out_vector)"
   ]
  },
  {
   "cell_type": "markdown",
   "id": "402a51d7",
   "metadata": {
    "slideshow": {
     "slide_type": "fragment"
    }
   },
   "source": [
    "Observa al ejecutar repetidas veces que los resultados de las medidas intermedias son aleatorios, pero el estado teleportado es siempre el correcto"
   ]
  },
  {
   "cell_type": "markdown",
   "id": "5ece8864",
   "metadata": {
    "slideshow": {
     "slide_type": "slide"
    }
   },
   "source": [
    "\n",
    "El siguiente ejercicio ilustra el principio de la *medida diferida*. \n",
    "\n",
    "\n",
    "<div class=\"alert alert-block alert-success\">\n",
    "\n",
    "<b>  Ejercicio </b> \n",
    "    \n",
    "Modifica y ejecuta  el circuito de teleportación de dos formas distintas\n",
    "<br>   \n",
    "a)  sustituyendo los controles clásicos por controles cuánticos\n",
    "<br>\n",
    "<br>\n",
    "b) permutando el orden de los controles y los aparatos de medida\n",
    "<br>\n",
    "<br>    \n",
    "Discute la sutileza que distingue estas posibilidades.    \n",
    "    <i>Lectura recomendada: Nielsen-Chuang sección 4.4.  </i>\n",
    "</div>\n",
    "\n"
   ]
  },
  {
   "cell_type": "markdown",
   "id": "833eb41e",
   "metadata": {
    "slideshow": {
     "slide_type": "fragment"
    }
   },
   "source": [
    "<div class=\"alert alert-block alert-success\">\n",
    "\n",
    "<b>  Ejercicio </b> \n",
    "    \n",
    "cambia el estado que comparten Alice y Bob por $\\ket{B_{11}}$ y modifica el circuito para que teleporte igualmente.\n",
    "\n",
    "</div>\n",
    "\n"
   ]
  },
  {
   "cell_type": "markdown",
   "id": "86a94315",
   "metadata": {
    "slideshow": {
     "slide_type": "slide"
    }
   },
   "source": [
    "<div class=\"alert alert-block alert-danger\">\n",
    "El protocolo de teleportación parece poner en riesgo conceptos fundamentales. \n",
    "<br>\n",
    "\n",
    "<b> No clonación: </b>\n",
    "el protocolo tiene como ingrediente esencial la medida y, por tanto, la <i>destrucción</i> del estado de Alice. Como consecuencia, el estado ha sido teleportado pero no clonado. Es decir,   <i>no se viola el Teorema de No Clonación </i>. \n",
    "<br>\n",
    "<br>\n",
    "    \n",
    "<b> Causalidad: </b>\n",
    "el protocolo de teleportación <i> no viola causalidad </i>. \n",
    "\n",
    "Es necesario mandar una información clásica (como muy rápido a la velocidad de la luz) para resolver la ambigüedad que le queda a Bob. \n",
    "\n",
    "Esta parte es la que hace que la teleportación no sea un proceso instantáneo de acción a distancia.    \n",
    "    \n",
    "    \n",
    "</div>\n"
   ]
  },
  {
   "cell_type": "markdown",
   "id": "dd5c27a4",
   "metadata": {
    "slideshow": {
     "slide_type": "slide"
    }
   },
   "source": [
    "## Codificación superdensa"
   ]
  },
  {
   "cell_type": "markdown",
   "id": "a1ef500c",
   "metadata": {
    "slideshow": {
     "slide_type": "-"
    }
   },
   "source": [
    "Una segunda aplicación de las correlaciones que introduce el entrelazamiento permite codificar 2 bits clásicos en términos de un sólo cúbit.\n",
    "\n",
    "Este protocolo fue propuesto por [C. Bennet y S.J. Wiesner en 1992](https://journals.aps.org/prl/abstract/10.1103/PhysRevLett.69.2881)\n",
    "\n",
    "Supongamos que Alice quiere transmitir  un para de bits $xy\\in \\{00,01,10,11\\}$ a Bob.\n",
    "Ambos deben estar en posesión de un estado entrelazado que tomaremos $\\ket{B_{00}}$\n",
    "\n",
    "El circuito siguiente muestra el proceso \n"
   ]
  },
  {
   "cell_type": "markdown",
   "id": "15656541",
   "metadata": {
    "slideshow": {
     "slide_type": "slide"
    }
   },
   "source": [
    "\n",
    "<br>\n",
    "<figure>\n",
    "<a id='fig_ref'></a>\n",
    "<img src=\"images/superdense_coding.png\" align=center width='550px'/>\n",
    "<center></center>\n",
    "</figure>\n",
    "<br>"
   ]
  },
  {
   "cell_type": "markdown",
   "id": "a546079a",
   "metadata": {
    "slideshow": {
     "slide_type": "slide"
    }
   },
   "source": [
    "- Alice comienza efectuando una operación en su laboratorio sobre el cúbit que maneja, que depende del 2-bit $xy$ que quiere enviar\n",
    "<br>\n",
    "\n",
    "$$\n",
    "U_{xy} =Z^x X^y ~~:~ ~\\ket{B_{00}} ~\\Rightarrow  ~\\ket{B_{xy}} = \\left\\{ \\begin{array}{c}  \\frac{1}{\\sqrt{2}}(\\ket{00} + \\ket{11})  = \\ket{B_{00}} \\\\  \\frac{1}{\\sqrt{2}}(\\ket{10} + \\ket{01}) =\\ket{B_{01}}  \\\\   \\frac{1}{\\sqrt{2}}(\\ket{00} - \\ket{11})= \\ket{B_{10}}  \\\\  \\frac{1}{\\sqrt{2}}(\\ket{10} - \\ket{01}) =\\ket{B_{11}} \\end{array} \\right. \n",
    "$$\n",
    "<br>\n",
    "Una vez efectuada esa operación, el estado que comparten es  $\\ket{B_{xy}}$."
   ]
  },
  {
   "cell_type": "markdown",
   "id": "f87d4ef1",
   "metadata": {
    "slideshow": {
     "slide_type": "skip"
    }
   },
   "source": [
    "- Alice envía a Bob su parte del estado entrelazado a través de un canal cuántico. \n",
    "<br>\n",
    "\n",
    "- Ahora Bob está en posesión del estado $\\ket{B_{xy}}$ y sólo necesita hacer una *medida de Bell* sobre el estado que posee para recuperar la etiqueta $xy$"
   ]
  },
  {
   "cell_type": "markdown",
   "id": "5fc2bde7",
   "metadata": {
    "slideshow": {
     "slide_type": "slide"
    }
   },
   "source": [
    "# Intercambio de entrelazamiento"
   ]
  },
  {
   "cell_type": "markdown",
   "id": "5570a134",
   "metadata": {
    "slideshow": {
     "slide_type": "skip"
    }
   },
   "source": [
    "Ya hemos visto cómo el ejemplo más sencillo de entrelazamiento tiene una aplicación muy interesante en la teleportación. Vamos a ver que el entrelazamiento se puede *contagiar* a terceras partes. En inglés se denomina *entanglement swapping*.\n",
    "\n"
   ]
  },
  {
   "cell_type": "markdown",
   "id": "5648641a",
   "metadata": {
    "slideshow": {
     "slide_type": "-"
    }
   },
   "source": [
    "Consideremos el siguiente circuito\n",
    "\n",
    "\n",
    "<br>\n",
    "<figure>\n",
    "<a id='fig_ref'></a>\n",
    "<img src=\"images/entanglement_swap.png\" align=center width='400px'/>\n",
    "<center></center>\n",
    "</figure>\n",
    "<br>"
   ]
  },
  {
   "cell_type": "markdown",
   "id": "1f05bbaa",
   "metadata": {
    "slideshow": {
     "slide_type": "skip"
    }
   },
   "source": [
    "- Alice (A) entrelaza un cúbit con Charles (C) y otro con Bob (B). \n",
    "<br>\n",
    "\n"
   ]
  },
  {
   "cell_type": "markdown",
   "id": "61d08e36",
   "metadata": {
    "slideshow": {
     "slide_type": "skip"
    }
   },
   "source": [
    "- Después, Alice hace una medida de Bell, y comunica el resultado $xy$ a Charles y a Bob respectivamente, \n",
    "<br>\n",
    "\n"
   ]
  },
  {
   "cell_type": "markdown",
   "id": "9a7601ed",
   "metadata": {
    "slideshow": {
     "slide_type": "skip"
    }
   },
   "source": [
    "\n",
    "- los cuales efectúan las puertas controladas $Z^x$ y $X^y$ respectivamente."
   ]
  },
  {
   "cell_type": "markdown",
   "id": "0563dca9",
   "metadata": {
    "slideshow": {
     "slide_type": "skip"
    }
   },
   "source": [
    "-  El estado a la salida es $\\ket{B_{00}}_{CB}$ de Bell compartido por Bob y Charles."
   ]
  },
  {
   "cell_type": "markdown",
   "id": "2b26f149",
   "metadata": {
    "slideshow": {
     "slide_type": "skip"
    }
   },
   "source": [
    "<div class=\"alert alert-block alert-success\">\n",
    "\n",
    "<b> Ejercicio  </b> \n",
    "    \n",
    "1-  programa el circuito de la figura    \n",
    "\n",
    "2-  ejecuta varias veces el circuito y muestra que el estado final que comparten Bob y Charles está entrelazado. ¿Es siempre el mismo estado?\n",
    "    \n",
    "3- Completa el circuito para que sea  capaz de teleportar un cúbit arbitrario entre Charles y Bob\n",
    " \n",
    "</div>"
   ]
  },
  {
   "cell_type": "markdown",
   "id": "e4840786",
   "metadata": {
    "slideshow": {
     "slide_type": "skip"
    }
   },
   "source": [
    "<a id='LOCC'></a>\n",
    "## LOCC\n",
    "\n",
    "Bajo la denominacióm de Operaciones Locales y Comunicación Clásica se denomina un método en Teoría Cuántica de la Información, mediante el cual,\n",
    "\n",
    "- una *operación local* es efectuada en una parte del sistema. \n",
    "<br>\n",
    "\n",
    "- el resultado es comunicado clásicamente a otra del sistema\n",
    "<br>\n",
    "\n",
    "- en esa otra parte se fectúa también una operación local, condicionada al resultado comunicado clásicamente."
   ]
  },
  {
   "cell_type": "markdown",
   "id": "e40cfe7e",
   "metadata": {
    "slideshow": {
     "slide_type": "skip"
    }
   },
   "source": [
    "Al algoritmo de teleportación es un ejemplo de LOCC en el cuál \n",
    "\n",
    "- Alice realiza una medida de Bell\n",
    "<br>\n",
    "\n",
    "- Bob actúa localmente con $X$ o $Z$ dependiendo del resultado comunicado clásicamente. "
   ]
  },
  {
   "cell_type": "markdown",
   "id": "662cb058",
   "metadata": {
    "slideshow": {
     "slide_type": "skip"
    }
   },
   "source": [
    "En el intercambio de entrelazamiento vemos que LOCC se puede utilizar para transformar un estado entrelazado en otro estado entrelazado.\n",
    "\n",
    "En este caso un estado de Bell entre Alice y Bob pasa a otro estado de Bell entre Charles y Bob"
   ]
  }
 ],
 "metadata": {
  "celltoolbar": "Slideshow",
  "kernelspec": {
   "display_name": "Python 3 (ipykernel)",
   "language": "python",
   "name": "python3"
  },
  "language_info": {
   "codemirror_mode": {
    "name": "ipython",
    "version": 3
   },
   "file_extension": ".py",
   "mimetype": "text/x-python",
   "name": "python",
   "nbconvert_exporter": "python",
   "pygments_lexer": "ipython3",
   "version": "3.9.16"
  },
  "nbTranslate": {
   "displayLangs": [
    "*"
   ],
   "hotkey": "alt-t",
   "langInMainMenu": true,
   "sourceLang": "en",
   "targetLang": "fr",
   "useGoogleTranslate": true
  },
  "toc": {
   "base_numbering": 1,
   "nav_menu": {},
   "number_sections": true,
   "sideBar": true,
   "skip_h1_title": false,
   "title_cell": "Table of Contents",
   "title_sidebar": "Contents",
   "toc_cell": false,
   "toc_position": {},
   "toc_section_display": true,
   "toc_window_display": false
  },
  "varInspector": {
   "cols": {
    "lenName": 16,
    "lenType": 16,
    "lenVar": 40
   },
   "kernels_config": {
    "python": {
     "delete_cmd_postfix": "",
     "delete_cmd_prefix": "del ",
     "library": "var_list.py",
     "varRefreshCmd": "print(var_dic_list())"
    },
    "r": {
     "delete_cmd_postfix": ") ",
     "delete_cmd_prefix": "rm(",
     "library": "var_list.r",
     "varRefreshCmd": "cat(var_dic_list()) "
    }
   },
   "types_to_exclude": [
    "module",
    "function",
    "builtin_function_or_method",
    "instance",
    "_Feature"
   ],
   "window_display": false
  }
 },
 "nbformat": 4,
 "nbformat_minor": 5
}
