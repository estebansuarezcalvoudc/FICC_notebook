{
 "cells": [
  {
   "cell_type": "markdown",
   "metadata": {
    "slideshow": {
     "slide_type": "slide"
    }
   },
   "source": [
    "<img   src=\"../figures/logos/logo_usc.jpg\" align=right  width=\"12%\"/>\n",
    "<br>\n",
    "\n",
    "<table width=\"100%\">\n",
    "<td style=\"font-size:40px;font-style:italic;text-align:left;background-color:rgba(0, 220, 170,0.7)\">\n",
    "The Art of Measuring II\n",
    "</td></table>\n",
    "\n",
    "\n",
    "\n",
    "$ \\renewcommand{\\bra}[1]{\\langle #1|} $\n",
    "$ \\renewcommand{\\ket}[1]{|#1\\rangle} $\n",
    "$ \\renewcommand{\\braket}[2]{\\langle #1|#2\\rangle} $\n",
    "$ \\renewcommand{\\i}{{\\color{blue} i}} $ \n",
    "$ \\renewcommand{\\Hil}{{\\mathcal H}} $\n",
    "$ \\renewcommand{\\boldn}{{\\bf n}} $\n",
    "$ \\renewcommand{\\tr}{{\\rm tr}}$\n",
    "$ \\renewcommand{\\Ps}{P} $\n"
   ]
  },
  {
   "cell_type": "code",
   "execution_count": 1,
   "metadata": {
    "slideshow": {
     "slide_type": "-"
    }
   },
   "outputs": [],
   "source": [
    "import sys\n",
    "sys.path.append('../')\n",
    "import macro_tQ as tQ\n",
    "\n",
    "import numpy as np\n",
    "import scipy.linalg as la\n",
    "from IPython.display import display,Markdown,Latex\n",
    "import matplotlib.pyplot as plt\n",
    "from qiskit.visualization import array_to_latex"
   ]
  },
  {
   "cell_type": "markdown",
   "metadata": {
    "slideshow": {
     "slide_type": "slide"
    }
   },
   "source": [
    "# Multiqubit State Measurements"
   ]
  },
  {
   "cell_type": "markdown",
   "metadata": {
    "slideshow": {
     "slide_type": "-"
    }
   },
   "source": [
    "A measuring device in the base associated with the Hermitian operator \n",
    "\n",
    "$$\\sigma_z^{\\otimes n} = Z\\otimes \\ldots \\otimes Z$$\n",
    "\n",
    "*collapses* the state it measures to an element \n",
    "\n",
    "$$\\ket{\\psi} \\to \\ket{x} = \\ket{a_{n-1}...a_0}$$ \n",
    "\n",
    "of the *computational basis*, which we identify by a bit string $(a_{n-1}...a_0)$ with $a_i=0,1$, where $x= a_{n-1}2^{n-1}+...+2^0 a_0$.\n",
    "\n",
    "\n",
    "<br>\n",
    "\n",
    "<figure><center>\n",
    "<a id='fig_ref'></a>\n",
    "<img src=\"images/Multimeter_zbasis.png\" align=center width='50%'/>\n",
    "<center></center>\n",
    "</center></figure>\n"
   ]
  },
  {
   "cell_type": "markdown",
   "metadata": {
    "slideshow": {
     "slide_type": "slide"
    }
   },
   "source": [
    "## Circuits with Multiple Qubits and Measurements in Qiskit\n",
    "<br>"
   ]
  },
  {
   "cell_type": "markdown",
   "metadata": {
    "slideshow": {
     "slide_type": "-"
    }
   },
   "source": [
    "\n",
    "Let's initialize a state of 3 qubits \n",
    "$$\n",
    "\\ket{\\psi} = \\sum_{i,j,k = 0,1} c_{ijk} \\ket{ijk} = \\sum_a c_a \\ket{a}\n",
    "$$"
   ]
  },
  {
   "cell_type": "code",
   "execution_count": 2,
   "metadata": {
    "slideshow": {
     "slide_type": "-"
    }
   },
   "outputs": [
    {
     "data": {
      "text/latex": [
       "$$\\frac{1}{4} |000\\rangle- \\frac{1}{2} |001\\rangle- \\frac{1}{2} |010\\rangle+\\frac{1}{4} |011\\rangle+\\frac{1}{4} |100\\rangle+\\frac{1}{2} |110\\rangle- \\frac{1}{4} |111\\rangle$$"
      ],
      "text/plain": [
       "<IPython.core.display.Latex object>"
      ]
     },
     "execution_count": 2,
     "metadata": {},
     "output_type": "execute_result"
    }
   ],
   "source": [
    "from numpy import linalg as la\n",
    "from qiskit.quantum_info import Statevector\n",
    "\n",
    "'''definimos un estado de entrada en H^3$'''\n",
    "psi =[1.,-2, -2,1,1,0,2,-1]\n",
    "psi/=la.norm(psi)\n",
    "#psi = tQ.random_ket(8).reshape(8)\n",
    "\n",
    "Statevector(psi).draw('Latex')"
   ]
  },
  {
   "cell_type": "markdown",
   "metadata": {
    "slideshow": {
     "slide_type": "slide"
    }
   },
   "source": [
    "The measurement is essentially a map between n quantum qubits and n classical bits.\n",
    "\n",
    "$$\n",
    "\\ket{i_{n-1} i_{n-2}\\, ... \\, i_0} \\in \\Hil^{\\otimes n}  ~~~ \\to ~~~ i_{n-1}i_{n-2}...i_0\\in \\{0,1\\}^n\n",
    "$$"
   ]
  },
  {
   "cell_type": "code",
   "execution_count": null,
   "metadata": {
    "run_control": {
     "marked": false
    },
    "slideshow": {
     "slide_type": "-"
    }
   },
   "outputs": [],
   "source": [
    "from qiskit import ClassicalRegister, QuantumRegister,QuantumCircuit\n",
    "\n",
    "qr = QuantumRegister(3,name='qr')\n",
    "cr = ClassicalRegister(3,name='cr')\n",
    "\n",
    "qc = QuantumCircuit(qr,cr)\n",
    "qc.initialize(psi,qr)\n",
    "\n",
    "qc.measure(qr,cr)\n",
    "#qc.measure(qr,reversed(list(cr)))  # esta opcion invierte la asignación de bits clasicos a cúbits\n",
    "#qc.measure([qr[0],qr[1]],[cr[1],cr[2]])\n",
    "\n",
    "qc.draw(output='mpl')"
   ]
  },
  {
   "cell_type": "markdown",
   "metadata": {
    "slideshow": {
     "slide_type": "slide"
    }
   },
   "source": [
    "The way to access the amplitudes (state tomography) is by measuring repeatedly to reconstruct the probability function"
   ]
  },
  {
   "cell_type": "code",
   "execution_count": null,
   "metadata": {
    "slideshow": {
     "slide_type": "-"
    }
   },
   "outputs": [],
   "source": [
    "from qiskit_aer import Aer, AerSimulator\n",
    "#simulator = Aer.get_backend('aer_simulator')\n",
    "simulator = AerSimulator()\n",
    "'numero todal de medidas'\n",
    "nshots = 100000\n",
    "'ejecutamos el circuito'\n",
    "counts=simulator.run(qc,shots=nshots).result().get_counts() \n",
    "print('Cuentas=',counts) #diccionario de cuentas\n",
    "\n",
    "from qiskit.visualization import plot_histogram\n",
    "plot_histogram(counts) # Mostramos un histograma de resultados"
   ]
  },
  {
   "cell_type": "markdown",
   "metadata": {
    "slideshow": {
     "slide_type": "skip"
    }
   },
   "source": [
    "Now we can generate dictionaries with the probabilities and amplitudes of the different results, to obtain the tomography of the state"
   ]
  },
  {
   "cell_type": "code",
   "execution_count": null,
   "metadata": {
    "slideshow": {
     "slide_type": "skip"
    }
   },
   "outputs": [],
   "source": [
    "def get_probs(cuentas): # frecuencias_dict es un diccionario con la estadística de resultados\n",
    "    \n",
    "    prob_dict=cuentas.copy() # vamos a modificar el diccionario \"cuentas\" con las probabilidades \n",
    "    keys = list(cuentas.keys())\n",
    "    values = list(cuentas.values())\n",
    "    \n",
    "    N=sum(values)\n",
    "    probabilidades = [v/N for v in values] # lista de frecuencias relativas\n",
    " \n",
    "    for i in range(len(keys)):\n",
    "        prob_dict[keys[i]]= probabilidades[i]\n",
    "    \n",
    "    return  prob_dict\n",
    "\n",
    "probs = get_probs(counts)\n",
    "\n",
    "print(\"Probabilidades =\",probs )\n",
    "\n"
   ]
  },
  {
   "cell_type": "markdown",
   "metadata": {
    "slideshow": {
     "slide_type": "slide"
    }
   },
   "source": [
    "# General Base Measures"
   ]
  },
  {
   "cell_type": "markdown",
   "metadata": {
    "slideshow": {
     "slide_type": "-"
    }
   },
   "source": [
    "Let's suppose we want to measure in an **arbitrary orthonormal basis** $\\{\\ket{ x}'\\}$, $x=0,...,2^n-1$. \n",
    "\n",
    "$\\Rightarrow~ $ we are looking for a circuit that, upon the arrival of a specific vector from the basis $\\ket{x}'=\\ket{i_{n-1}...i_0}'$, returns exactly *the collection* of bits:  $~i_{n-1}...i_0$."
   ]
  },
  {
   "cell_type": "markdown",
   "metadata": {
    "slideshow": {
     "slide_type": "fragment"
    }
   },
   "source": [
    "Let's suppose we know the unitary operator that relates this basis to the computational basis  \n",
    "\n",
    "$$\\ket{ x}'= U\\ket{x}~~~~~~\\Longrightarrow ~~~~~~   U^\\dagger\\ket{x}' = \\ket{ x}  \\, .$$\n",
    "\n"
   ]
  },
  {
   "cell_type": "markdown",
   "metadata": {
    "slideshow": {
     "slide_type": "fragment"
    }
   },
   "source": [
    "Then it is evident that we only need to add the operator $U^\\dagger$ before the standard meter\n",
    "\n",
    "\n",
    "<br>\n",
    "\n",
    "<center>\n",
    "<figure>\n",
    "<a id='fig_ref'></a>\n",
    "<img src=\"images/Multimeter_basis.png\" align=center width='50%'/>\n",
    "<center></center>\n",
    "</figure>\n",
    "</center>\n"
   ]
  },
  {
   "cell_type": "markdown",
   "metadata": {
    "slideshow": {
     "slide_type": "slide"
    }
   },
   "source": [
    "## Pauli Measurements"
   ]
  },
  {
   "cell_type": "markdown",
   "metadata": {
    "slideshow": {
     "slide_type": "-"
    }
   },
   "source": [
    "The most common case involves measuring different qubits in different Pauli bases, $X$, $Y$, or $Z$."
   ]
  },
  {
   "cell_type": "markdown",
   "metadata": {
    "slideshow": {
     "slide_type": "fragment"
    }
   },
   "source": [
    "In this case, $U= R_1\\otimes \\ldots \\otimes R_n$ is a product of *local rotations*, $Z\\to X$ or $Z\\to Y$ "
   ]
  },
  {
   "cell_type": "markdown",
   "metadata": {
    "slideshow": {
     "slide_type": "fragment"
    }
   },
   "source": [
    " For example, the following circuit measures in the base $YXZ \\sim Y_2X_1Z_0$\n",
    "\n",
    "<br>\n",
    "\n",
    "<center>\n",
    "<figure>\n",
    "<a id='fig_ref'></a>\n",
    "<img src=\"images/XYZ_multimeter.png\" align=center width='35%'/>\n",
    "<center></center>\n",
    "</figure>\n",
    "</center>\n",
    "<br>"
   ]
  },
  {
   "cell_type": "markdown",
   "metadata": {
    "slideshow": {
     "slide_type": "slide"
    }
   },
   "source": [
    "Let's define a function that adds measuring devices in bases $X$, $Y$, or $Z$ from a *string* like 'xxy', etc."
   ]
  },
  {
   "cell_type": "code",
   "execution_count": null,
   "metadata": {
    "slideshow": {
     "slide_type": "-"
    }
   },
   "outputs": [],
   "source": [
    "def add_multimeasure_XYZ(qc,paulistring):\n",
    "\n",
    "    assert(qc.num_qubits==len(paulistring)) #check whether width of circuit coincides with length of Pauli string\n",
    "    \n",
    "    # reverse the order of the string to place the rightmost gate at the top\n",
    "    for i,basis in enumerate(reversed(paulistring)):\n",
    "        if  basis == 'X':\n",
    "            qc.h(i)    \n",
    "            qc.measure(i, i)\n",
    "        elif basis == 'Z':\n",
    "            qc.measure(i, i)\n",
    "            pass    \n",
    "        elif basis == 'Y':\n",
    "            qc.sdg(i)\n",
    "            qc.h(i)\n",
    "            qc.measure(i, i)\n",
    "\n",
    "    return qc "
   ]
  },
  {
   "cell_type": "markdown",
   "metadata": {
    "slideshow": {
     "slide_type": "slide"
    }
   },
   "source": [
    "Let's see an example"
   ]
  },
  {
   "cell_type": "code",
   "execution_count": null,
   "metadata": {
    "run_control": {
     "marked": false
    },
    "slideshow": {
     "slide_type": "-"
    }
   },
   "outputs": [],
   "source": [
    "from qiskit import QuantumCircuit\n",
    "qc = QuantumCircuit(4,4)\n",
    "add_multimeasure_XYZ(qc,'ZYIX')  # probar a cambiar el aparato de medida\n",
    "qc.draw('mpl')"
   ]
  },
  {
   "cell_type": "markdown",
   "metadata": {
    "slideshow": {
     "slide_type": "slide"
    }
   },
   "source": [
    "## Bell Measurement"
   ]
  },
  {
   "cell_type": "markdown",
   "metadata": {
    "slideshow": {
     "slide_type": "fragment"
    }
   },
   "source": [
    "The circuit \n",
    "<br>\n",
    "\n",
    "<figure>\n",
    "<a id='fig_ref'></a>\n",
    "<center>\n",
    "<img src=\"images/Bell_basis.png\" align=center width='30%'/>\n",
    "</center>\n",
    "</figure>\n",
    "\n",
    "<br>\n",
    "\n",
    " generates the <i>Bell basis</i> $\\ket{B_{xy}} = \\ket{xy}_B $ from the <i>computational basis</i> $\\{\\ket{xy}\\}$ \n",
    " <br>\n",
    "<br>\n",
    "\n",
    "\\begin{array}{rcl}\n",
    "\\ket{00}_B &=& \\frac{1}{\\sqrt{2}} \\big( \\ket{00} + \\ket{11} \\big) \\\\\n",
    "\\ket{01}_B &=& \\frac{1}{\\sqrt{2}} \\big( \\ket{00} - \\ket{11} \\big) \\\\\n",
    "\\ket{10}_B &=& \\frac{1}{\\sqrt{2}} \\big( \\ket{01} + \\ket{10} \\big) \\\\\n",
    "\\ket{11}_B &=& \\frac{1}{\\sqrt{2}} \\big( \\ket{01} - \\ket{10} \\big) \\\\\n",
    "\\end{array}\n",
    "\n"
   ]
  },
  {
   "cell_type": "markdown",
   "metadata": {
    "slideshow": {
     "slide_type": "slide"
    }
   },
   "source": [
    "\n",
    "The circuit that performs a **Bell measurement**  \n",
    "\n",
    "$$\n",
    "\\ket{xy}_B \\to xy\n",
    "$$\n",
    "uses the *disentangler* \n",
    "\n",
    "$$U^\\dagger = ( \\hbox{CNOT}\\cdot H)^\\dagger = H\\cdot \\hbox{CNOT}$$ \n",
    "\n",
    "before the meter \n",
    "\n",
    "<br>\n",
    "\n",
    "<center>\n",
    "<figure>\n",
    "<a id='fig_ref'></a>\n",
    "<img src=\"images/Bell_meter.png\" align=center width='50%'/>\n",
    "<center></center>\n",
    "</figure>\n",
    "</center>\n"
   ]
  },
  {
   "cell_type": "markdown",
   "metadata": {
    "slideshow": {
     "slide_type": "slide"
    }
   },
   "source": [
    "Let's create the Bell measurement"
   ]
  },
  {
   "cell_type": "code",
   "execution_count": null,
   "metadata": {
    "slideshow": {
     "slide_type": "-"
    }
   },
   "outputs": [],
   "source": [
    "def add_Bell_measurement(qc,qubits=[0,1]):\n",
    "    qc.cx(qubits[0],qubits[1])\n",
    "    qc.h(0)\n",
    "    qc.barrier()\n",
    "    qc.measure([0,1],[0,1])"
   ]
  },
  {
   "cell_type": "markdown",
   "metadata": {
    "slideshow": {
     "slide_type": "slide"
    }
   },
   "source": [
    "And verify"
   ]
  },
  {
   "cell_type": "code",
   "execution_count": null,
   "metadata": {
    "slideshow": {
     "slide_type": "-"
    }
   },
   "outputs": [],
   "source": [
    "from qiskit import QuantumCircuit\n",
    "\n",
    "# creamos el circuito\n",
    "qc = QuantumCircuit(2,2)\n",
    "\n",
    "# definimos la base de Bell\n",
    "B00 = np.array([1,0,0,1]/np.sqrt(2))\n",
    "B01 = np.array([1,0,0,-1]/np.sqrt(2))\n",
    "B10 = np.array([0,1,1,0]/np.sqrt(2))\n",
    "B11 = np.array([0,1,-1,0]/np.sqrt(2))\n",
    "\n",
    "# inicializamos el estado de entrada en cualquiera de los estados anteriores\n",
    "qc.initialize(B00,[0,1])\n",
    "\n",
    "# añadimos el medidor en la base de Bell\n",
    "add_Bell_measurement(qc)\n",
    "display(qc.draw('mpl'))\n",
    "\n",
    "AerSimulator().run(qc,shots=1).result().get_counts()"
   ]
  },
  {
   "cell_type": "markdown",
   "metadata": {
    "slideshow": {
     "slide_type": "slide"
    }
   },
   "source": [
    "# Expected Values of Multi-Qubit Observables"
   ]
  },
  {
   "cell_type": "markdown",
   "metadata": {},
   "source": [
    "The *essential* problem in measuring an expected value $\\bra{\\psi} A \\ket{\\psi}$ is that, in general, $A$ **is not a unitary operator**. Therefore, it cannot be included as part of a circuit."
   ]
  },
  {
   "cell_type": "markdown",
   "metadata": {},
   "source": [
    "If we could express it as a combination of unitary operators, $A = \\sum_i c_i U_i$, then we could indeed calculate each expected value $\\langle U_i\\rangle$ using a circuit and, finally, compose the result $\\langle A\\rangle = \\sum_i c_i \\langle U_i\\rangle$"
   ]
  },
  {
   "cell_type": "markdown",
   "metadata": {
    "slideshow": {
     "slide_type": "slide"
    }
   },
   "source": [
    "A basis is constituted by the *Pauli strings*, $\\Ps_{i_1...i_n} = \\sigma_{i_1}\\otimes \\ldots \\otimes \\sigma_{i_n}$ which are both Hermitian and unitary, and allow the expansion of any Hermitian operator\n",
    "\n",
    "\\begin{equation}\n",
    "A = \\sum_{i_1,...,i_n=0}^3 a_{i_1\\ldots i_n} \\, \\sigma_{i_1}\\otimes \\ldots \\otimes \\sigma_{i_n}\n",
    " = \\sum_{I= 0}^{4^n-1} a_I \\Ps_I\n",
    "\\end{equation}\n",
    "\n",
    "where $\\sigma_i = (I,X,Y,Z)$\n"
   ]
  },
  {
   "cell_type": "markdown",
   "metadata": {
    "slideshow": {
     "slide_type": "fragment"
    }
   },
   "source": [
    "For example, with $n=3$ \n",
    "$$\n",
    "\\Ps_{203} \\equiv \\sigma_2\\otimes \\sigma_0 \\otimes \\sigma_3 =  Y\\otimes I\\otimes Z \n",
    "$$"
   ]
  },
  {
   "cell_type": "markdown",
   "metadata": {
    "slideshow": {
     "slide_type": "slide"
    }
   },
   "source": [
    "In Numpy, the Kronecker product is invoked with the function *kron*"
   ]
  },
  {
   "cell_type": "code",
   "execution_count": null,
   "metadata": {
    "slideshow": {
     "slide_type": "fragment"
    }
   },
   "outputs": [],
   "source": [
    "' Matrices de Pauli'\n",
    "s0 = np.matrix([[1,0],[0,1]]) # matriz identidad\n",
    "s1 = np.matrix([[0,1],[1,0]])\n",
    "s2 = np.matrix([[0,-1j],[1j,0]])\n",
    "s3 = np.matrix([[1,0],[0,-1]])\n",
    "\n",
    "Pauli_basis = [s0,s1,s2,s3]\n",
    "\n",
    "' Cadena de Pauli YIZ = s2s0s3' \n",
    "Pauli_string_203 = np.kron(s2,np.kron(s0,s3))\n",
    "array_to_latex(Pauli_string_203)"
   ]
  },
  {
   "cell_type": "markdown",
   "metadata": {
    "slideshow": {
     "slide_type": "slide"
    }
   },
   "source": [
    "the components can be obtained by calculating the traces\n",
    "$$\n",
    "a_{i_1\\ldots i_n} =\\frac{1}{2^n} \\tr \\, (A \\,  \\Ps_{i_1...i_n})\n",
    "$$\n"
   ]
  },
  {
   "cell_type": "markdown",
   "metadata": {},
   "source": [
    "<div class='alert alert-block alert-success'>\n",
    "<b>Ejercicio </b>; \n",
    "demonstrate this result. Show that these coefficients are all real if and only if $A$ is Hermitian.    \n",
    "</div>"
   ]
  },
  {
   "cell_type": "markdown",
   "metadata": {
    "slideshow": {
     "slide_type": "fragment"
    }
   },
   "source": [
    "<div class='alert alert-block alert-danger'>\n",
    "<b>Notice: </b> \n",
    " \n",
    "- remember that $\\tr (O_1\\otimes O_2) = \\tr (O_1) \\tr (O_2)$. \n",
    "    \n",
    "- Also notice that $\\tr (A)$ is concentrated in the first component, $\\tr (A I) = a_{0...0}$.\n",
    "</div>"
   ]
  },
  {
   "cell_type": "code",
   "execution_count": null,
   "metadata": {
    "slideshow": {
     "slide_type": "slide"
    }
   },
   "outputs": [],
   "source": [
    "'Arbitrary matrix'\n",
    "A = np.random.rand(8,8) + 1j* np.random.rand(8,8)\n",
    "A+= A.conj().T\n",
    "\n",
    "'Component'\n",
    "a_203 = np.trace(np.dot(A,Pauli_string_203))/2**3\n",
    "\n",
    "print('a_{203} = ', a_203)"
   ]
  },
  {
   "cell_type": "markdown",
   "metadata": {
    "slideshow": {
     "slide_type": "slide"
    }
   },
   "source": [
    "\n",
    "Therefore, we only need to find the expected values of Pauli strings\n",
    "<br>\n",
    "\n",
    "$$\n",
    "\\langle \\Ps_{i_1...i_n}\\rangle_\\psi = \\bra{\\psi} \\sigma_{i_1}\\otimes \\ldots   \\otimes\\sigma_{i_n}\\ket{\\psi}\n",
    "$$\n",
    "\n",
    "in order to compose the final result \n",
    "$$\n",
    "\\langle A \\rangle_{\\psi} =  \\sum_{i_1,...,i_n=0}^3 a_{i_1\\ldots i_n} \\langle \\Ps_{i_1...i_n}\\rangle_\\psi\n",
    "$$"
   ]
  },
  {
   "cell_type": "markdown",
   "metadata": {
    "slideshow": {
     "slide_type": "slide"
    }
   },
   "source": [
    "## Expected Values of Pauli Strings"
   ]
  },
  {
   "cell_type": "markdown",
   "metadata": {
    "slideshow": {
     "slide_type": "-"
    }
   },
   "source": [
    "**Example**: Let's see how to calculate the expected value of the operator\n",
    "<br>\n",
    "<br>\n",
    "$$\n",
    "\\langle Z\\otimes Z\\otimes Z\\rangle_\\Psi  = \\bra{\\Psi}   P_{333} \\ket{\\Psi}\n",
    "$$\n",
    "\n",
    "in the following state\n",
    "\n",
    "$$\n",
    "\\ket{\\psi} = \\frac{i}{4}\\ket{000}-\\frac{i}{2}\\ket{001}-\\frac{1}{2}\\ket{010}+\\frac{1}{4}\\ket{011}+\n",
    "\\frac{i}{4}\\ket{100} + \\frac{1}{2}\\ket{110} - \\frac{1}{4}\\ket{111}\n",
    "$$\n"
   ]
  },
  {
   "cell_type": "markdown",
   "metadata": {
    "slideshow": {
     "slide_type": "slide"
    }
   },
   "source": [
    "First we initialize it"
   ]
  },
  {
   "cell_type": "code",
   "execution_count": null,
   "metadata": {
    "run_control": {
     "marked": false
    },
    "slideshow": {
     "slide_type": "-"
    }
   },
   "outputs": [],
   "source": [
    "' estado '\n",
    "psi =np.array([1j,-2*1J, -2,1,1J,0,2,-1])\n",
    "psi/=tQ.norm(psi)\n",
    "\n",
    "#e_init = tq_random_ket(8).reshape(8)\n",
    "\n",
    "from qiskit.quantum_info import Statevector\n",
    "Statevector(psi).draw('latex')"
   ]
  },
  {
   "cell_type": "markdown",
   "metadata": {
    "slideshow": {
     "slide_type": "slide"
    }
   },
   "source": [
    "Given that $Z\\ket{a} = (-1)^a\\ket{a}$ where $a=0,1$, then we will have that, on a state $\\ket{i_2 i_1 i_0}$ of the computational basis\n",
    "<br>\n",
    "<br>\n",
    "\n",
    "$$\n",
    "Z\\otimes Z\\otimes Z \\ket{i_2 i_1 i_0} = Z\\ket{i_2}\\otimes Z\\ket{i_1}\\otimes Z\\ket{i_0} = (-1)^{i_2+i_1+i_0}\\ket{i_2 i_1 i_0}\n",
    "$$\n",
    "\n",
    "<br>"
   ]
  },
  {
   "cell_type": "markdown",
   "metadata": {
    "slideshow": {
     "slide_type": "fragment"
    }
   },
   "source": [
    "then the expected value of this operator is\n",
    "<br>\n",
    "<br>\n",
    "\n",
    "\\begin{eqnarray}\n",
    "\\langle Z\\otimes Z\\otimes Z\\rangle_\\Psi &=&\n",
    "\\bra{\\Psi} Z\\otimes Z\\otimes Z \\ket{\\Psi} \\\\ \n",
    "&=& \\sum_{i_2,i_1,i_0=0,1}\\bra{\\Psi} Z\\otimes Z\\otimes Z \\ket{i_2 i_1 i_0}\\braket{i_2 i_1 i_0}{\\Psi}  \\rule{0mm}{10mm}  \\\\\n",
    "&=& \\sum_{i_2,i_1,i_0=0,1}(-1)^{i_2 + i_1 + i_0}\\big|\\bra{i_2 i_1 i_0}\\Psi\\rangle\\big|^2 \\\\ \\rule{0mm}{8mm}\n",
    "&=& \\sum_{i_2,i_1,i_0=0,1} (-1)^{i_2 + i_1 + i_0} p(i_2,i_1,i_0) \\nonumber\\\\ \n",
    "\\end{eqnarray}"
   ]
  },
  {
   "cell_type": "markdown",
   "metadata": {
    "slideshow": {
     "slide_type": "slide"
    }
   },
   "source": [
    "The circuit that calculates the necessary probabilities is the following"
   ]
  },
  {
   "cell_type": "code",
   "execution_count": null,
   "metadata": {
    "slideshow": {
     "slide_type": "-"
    }
   },
   "outputs": [],
   "source": [
    "from qiskit import ClassicalRegister, QuantumRegister,QuantumCircuit\n",
    "\n",
    "qr = QuantumRegister(3)\n",
    "cr = ClassicalRegister(3)\n",
    "qc = QuantumCircuit(qr,cr)\n",
    "\n",
    "from qiskit.circuit.library import Initialize\n",
    "\n",
    "qc.initialize(psi, qr)\n",
    "qc.measure(qr,cr)\n",
    "qc.draw(output='mpl')"
   ]
  },
  {
   "cell_type": "markdown",
   "metadata": {
    "slideshow": {
     "slide_type": "slide"
    }
   },
   "source": [
    "We run the circuit a number of times and obtain the counts dictionary"
   ]
  },
  {
   "cell_type": "code",
   "execution_count": null,
   "metadata": {
    "slideshow": {
     "slide_type": "-"
    }
   },
   "outputs": [],
   "source": [
    "from qiskit_aer import AerSimulator\n",
    "nshots = 10000\n",
    "\n",
    "\n",
    "counts = AerSimulator().run(qc,shots=nshots).result().get_counts()\n",
    "print(\"counts=\", counts)\n",
    "\n",
    "from qiskit.visualization import plot_histogram\n",
    "plot_histogram(counts)"
   ]
  },
  {
   "cell_type": "markdown",
   "metadata": {
    "slideshow": {
     "slide_type": "slide"
    }
   },
   "source": [
    "Finally, $\\langle ZZZ\\rangle $ is the mean value of a probability distribution of the form $\\{\\lambda(x),p(x)\\},$ with $x=(i_2 i_1 i_0)$ and\n",
    "\n",
    "$$\n",
    "\\lambda(x) = (-1)^{i_{2}+i_1+i_0}~~~~~~,~~~~~~ p(x)= \\frac{n(x)}{\\sum_x n(x)} = \\frac{\\hbox{counts}(x)}{\\hbox{shots}}\n",
    "$$\n",
    "\n",
    "The mean will be the expected value we are looking for\n",
    "\n",
    "$$\n",
    " \\langle ZZZ\\rangle = \\bar \\lambda = \\sum_x \\lambda(x) p(x) = \\sum_{x}(-1)^{i_{2}+i_1+i_0}\\frac{\\hbox{counts}(x)}{\\hbox{shots}}\n",
    "$$"
   ]
  },
  {
   "cell_type": "code",
   "execution_count": null,
   "metadata": {
    "run_control": {
     "marked": false
    },
    "slideshow": {
     "slide_type": "fragment"
    }
   },
   "outputs": [],
   "source": [
    "mean_ZZZ = 0.\n",
    "for bitstring,count  in counts.items():\n",
    "    eigenvalue = (-1)**(sum([int(bit) for bit in bitstring]))\n",
    "    mean_ZZZ += eigenvalue * count/nshots \n",
    "\n",
    "print('<ZZZ> =', np.round(mean_ZZZ,5) )"
   ]
  },
  {
   "cell_type": "markdown",
   "metadata": {
    "slideshow": {
     "slide_type": "slide"
    }
   },
   "source": [
    "which we can verify with the analytical expression\n",
    "\n",
    "$$\\langle ZZZ\\rangle = \\bra{\\psi} ZZZ\\ket{\\psi} $$\n"
   ]
  },
  {
   "cell_type": "code",
   "execution_count": null,
   "metadata": {},
   "outputs": [],
   "source": [
    "Z = np.array([[1,0],[0,-1]])\n",
    "ZZZ = np.kron(Z,np.kron(Z,Z))\n",
    "\n",
    "\n",
    "vev_ZZZ = np.dot(psi.conj().T,np.dot(ZZZ,psi)).real\n",
    "\n",
    "print(\"<ZZZ>=\",vev_ZZZ)"
   ]
  },
  {
   "cell_type": "markdown",
   "metadata": {
    "slideshow": {
     "slide_type": "skip"
    }
   },
   "source": [
    "We can also look at the dispersion. For the variance\n",
    "\n",
    "$$\n",
    "\\sigma^2 = \\sum_{x}\\left((-1)^{i_{2}+i_1+i_0}-\\bar\\lambda \\right)^2 p(x)\n",
    "$$"
   ]
  },
  {
   "cell_type": "code",
   "execution_count": null,
   "metadata": {
    "slideshow": {
     "slide_type": "skip"
    }
   },
   "outputs": [],
   "source": [
    "var_ZZZ=0\n",
    "for bitstring,count  in counts.items():\n",
    "    var_ZZZ += ((-1)**(sum([int(bit) for bit in bitstring]))-mean_ZZZ)**2 * count/nshots \n",
    "    \n",
    "print('sigma(ZZZ) = ', np.round(np.sqrt(var_ZZZ),4) )"
   ]
  },
  {
   "cell_type": "markdown",
   "metadata": {
    "slideshow": {
     "slide_type": "skip"
    }
   },
   "source": [
    "and similarly compare with the analytical expression\n",
    "\n",
    "$$\n",
    "\\sigma = \\sqrt{\\bra{\\psi}\\Ps_{ZZZ}^2\\ket{\\psi} - \\bra{\\psi}\\Ps_{ZZZ}\\ket{\\psi}^2} =\\sqrt{1- \\bra{\\psi}\\Ps_{ZZZ}\\ket{\\psi}^2}\n",
    "$$"
   ]
  },
  {
   "cell_type": "code",
   "execution_count": null,
   "metadata": {
    "slideshow": {
     "slide_type": "skip"
    }
   },
   "outputs": [],
   "source": [
    "np.round(np.sqrt(1- mean_ZZZ**2),4)"
   ]
  },
  {
   "cell_type": "markdown",
   "metadata": {
    "slideshow": {
     "slide_type": "slide"
    }
   },
   "source": [
    "We can also see how to measure the expected value\n",
    "\n",
    "$$\n",
    "\\langle Z\\otimes X\\otimes Y\\rangle_\\Psi  = \\bra{\\Psi}   Z\\otimes X\\otimes Y \\ket{\\Psi}\n",
    "$$\n",
    "\n",
    "in the same state"
   ]
  },
  {
   "cell_type": "code",
   "execution_count": null,
   "metadata": {
    "slideshow": {
     "slide_type": "-"
    }
   },
   "outputs": [],
   "source": [
    "qr = QuantumRegister(3)\n",
    "cr = ClassicalRegister(3)\n",
    "\n",
    "qc2 = QuantumCircuit(qr,cr)\n",
    "\n",
    "\n",
    "qc2.initialize(psi, qr)\n",
    "add_multimeasure_XYZ(qc2,'ZXY')\n",
    "qc2.draw(output='mpl')"
   ]
  },
  {
   "cell_type": "code",
   "execution_count": null,
   "metadata": {
    "slideshow": {
     "slide_type": "slide"
    }
   },
   "outputs": [],
   "source": [
    "nshots = 1000000\n",
    "\n",
    "counts2 = AerSimulator().run(qc2,shots=nshots).result().get_counts()\n",
    "plot_histogram(counts2)"
   ]
  },
  {
   "cell_type": "code",
   "execution_count": null,
   "metadata": {
    "slideshow": {
     "slide_type": "fragment"
    }
   },
   "outputs": [],
   "source": [
    "mean = 0\n",
    "for bitstring,count  in counts2.items():\n",
    "    mean += (-1)**(sum([int(bit) for bit in bitstring])) * count/nshots \n",
    "\n",
    "    \n",
    "print('<ZXY> =', np.round(mean,5) )"
   ]
  },
  {
   "cell_type": "markdown",
   "metadata": {
    "slideshow": {
     "slide_type": "slide"
    }
   },
   "source": [
    "<div class='alert alert-block alert-success'>\n",
    "    <b>Exercise </b> \n",
    "<br>\n",
    "write a function $expval\\_pauli(P,u)$ that receives as input a state $\\ket{u}\\in \\Hil^{\\otimes n}$ and a Pauli string $P = IXYZZ...$ and returns the expected value $\\bra{u}P\\ket{u}$.\n",
    "    \n",
    "</div>"
   ]
  },
  {
   "cell_type": "markdown",
   "metadata": {
    "slideshow": {
     "slide_type": "skip"
    }
   },
   "source": [
    "<div class=\"alert alert-block alert-success\">\n",
    " <b>Exercise</b>  \n",
    "    \n",
    "Consider the Hamiltonian $H=(X X+Y Y+Z Z)$. Show that its eigenvectors are given by the four Bell states $\\ket{B_{ij}}$. Compute the energy levels, given by the eigenvalues. \n",
    "\n",
    "Check  by obtaining, with a quantum circuit, the expected value of the energy $E = \\langle H\\rangle_\\Psi$ in the four Bell states.\n",
    "<div>"
   ]
  },
  {
   "cell_type": "markdown",
   "metadata": {
    "slideshow": {
     "slide_type": "-"
    }
   },
   "source": [
    "<div class=\"alert alert-block alert-success\">\n",
    " <b>Exercise</b>  \n",
    "    \n",
    "write a function $expect\\_value(A,\\psi)$ that takes as an argument a state $\\ket{\\psi}$ and an observable $A$, defined over $\\Hil^{\\otimes n}$, and returns the expected value $\\bra{\\psi}A\\ket{\\psi}$. You will need to generate all Pauli strings of length $n$. \n",
    "<div>"
   ]
  },
  {
   "cell_type": "markdown",
   "metadata": {
    "slideshow": {
     "slide_type": "slide"
    }
   },
   "source": [
    "## Hadamard Test"
   ]
  },
  {
   "cell_type": "markdown",
   "metadata": {
    "slideshow": {
     "slide_type": "-"
    }
   },
   "source": [
    "In the end, the expected value of an operator is a simple number obtained from a random distribution of values.\n",
    "\n",
    "Couldn't we design a random variable whose average value matches that result?\n",
    "\n",
    "The Hadamard measure does precisely this **by taking advantage of entanglement**\n",
    "\n"
   ]
  },
  {
   "cell_type": "markdown",
   "metadata": {
    "slideshow": {
     "slide_type": "fragment"
    }
   },
   "source": [
    "Let's consider the following circuit\n",
    "\n",
    "<figure><center>\n",
    "<a id='fig_ref'></a>\n",
    "<img src=\"images/Hadamard_measure.png\" align=center width='40%'/>\n",
    "<center></center>\n",
    "</center></figure>\n"
   ]
  },
  {
   "cell_type": "markdown",
   "metadata": {
    "slideshow": {
     "slide_type": "slide"
    }
   },
   "source": [
    "The measuring device only records values $\\{0,1\\}$ as a result of the projective measurements on $\\ket{\\pm}$\n",
    "\n",
    "Suppose we measure with the device $x$. The average \n",
    "\n",
    "$$\n",
    "\\frac{n_{0}}{N} - \\frac{n_{1}}{N} =  + p(0)-p(1) =  \\langle X\\rangle_{ancilla}\n",
    "$$\n",
    "\n",
    "is the expected value of $X$ in the ancilla. "
   ]
  },
  {
   "cell_type": "markdown",
   "metadata": {
    "slideshow": {
     "slide_type": "-"
    }
   },
   "source": [
    "\n",
    "Analogously, it will be $\\langle Y\\rangle_{ancilla}$ if we use the device $y$."
   ]
  },
  {
   "cell_type": "markdown",
   "metadata": {
    "slideshow": {
     "slide_type": "fragment"
    }
   },
   "source": [
    "We are going to demonstrate the following result that relates this number to the expected value of $U$ in the state $\\ket{\\psi}$"
   ]
  },
  {
   "cell_type": "markdown",
   "metadata": {
    "slideshow": {
     "slide_type": "slide"
    }
   },
   "source": [
    "<div class=\"alert alert-block alert-info\",text-align:center>\n",
    "<p style=\"text-align: left ;color: navy;\">  \n",
    "<b>Theorem:</b>\n",
    "<br>\n",
    "<br>\n",
    "$$\n",
    "\\langle X\\rangle_{ancilla} = {\\rm Re} \\langle U\\rangle_{\\psi} ~~~,~~~ \\langle Y\\rangle_{ancilla} = {\\rm Im} \\langle U\\rangle_{\\psi}\\, \n",
    "$$\n",
    "<br>\n",
    "</div>\n",
    "\n"
   ]
  },
  {
   "cell_type": "markdown",
   "metadata": {
    "slideshow": {
     "slide_type": "fragment"
    }
   },
   "source": [
    "**Demonstration**: for the case $x$, the previous circuit will be\n",
    "<br>\n",
    "<br>\n",
    "\n",
    "<figure><center>\n",
    "<a id='fig_ref'></a>\n",
    "<img src=\"images/Hadamard_measurea.png\" align=center width='40%'/>\n",
    "<center></center>\n",
    "</center></figure>\n",
    "\n",
    "<br>\n",
    "\n",
    "An explicit calculation gives us the state that reaches the measuring device\n",
    "<br>\n",
    "\n",
    "$$\n",
    "\\ket{0}\\ket{\\psi} ~~\\longrightarrow ~~ \\ket{\\Psi} = \\frac{1}{2} \\big[\\rule{0mm}{3mm} \\ket{0}\\otimes  (1 + U) \n",
    "|\\psi\\rangle  + \\ket{1}\\otimes   (1 - U) \\ket{\\psi} \\big] \n",
    "$$\n"
   ]
  },
  {
   "cell_type": "markdown",
   "metadata": {
    "slideshow": {
     "slide_type": "slide"
    }
   },
   "source": [
    "If we measure the ancilla qubit, we will obtain results, values $0$ and $1$ with probabilities \n",
    "<br>\n",
    "<br>\n",
    "\\begin{align} \n",
    " p(0)  &=  \\left\\vert \\frac{1}{2}  (1 + U) \\ket{\\psi}  \\right\\vert^{2} = \n",
    " \\frac{1}{4}\\bra{\\psi}(1 + U^\\dagger) (1 + U) \\ket{\\psi} =\\frac{1}{2}(1+\\operatorname{Re}\\langle \\psi|U|\\psi\\rangle) \\nonumber\\\\ \\rule{0mm}{12mm}\n",
    " p(1)  &= \\left\\vert \\frac{1}{2}  (1 - U) \\ket{\\psi}  \\right\\vert^{2}=\n",
    " \\frac{1}{4}\\bra{\\psi}(1 - U^\\dagger) (1 - U) \\ket{\\psi} =\n",
    " \\frac{1}{2}(1-\\operatorname{Re}\\langle \\psi|U|\\psi\\rangle) \\nonumber\n",
    "\\end{align}\n",
    "<br>\n"
   ]
  },
  {
   "cell_type": "markdown",
   "metadata": {
    "slideshow": {
     "slide_type": "fragment"
    }
   },
   "source": [
    "The number $ p(0) - p(1)$ is the expected value of $\\langle X\\rangle $ in the ancilla state just before the barrier. We find the following result\n",
    "\n",
    "$$\n",
    "\\langle{X}\\rangle_{ancilla}  =  \\hbox{Re}\\bra{\\psi} U \\ket{\\psi}\n",
    "$$"
   ]
  },
  {
   "cell_type": "markdown",
   "metadata": {
    "slideshow": {
     "slide_type": "slide"
    }
   },
   "source": [
    "Suppose now that we measure in the $Y$ basis, that is, with the following circuit"
   ]
  },
  {
   "cell_type": "markdown",
   "metadata": {
    "slideshow": {
     "slide_type": "fragment"
    }
   },
   "source": [
    "<br>\n",
    "<figure><center>\n",
    "<a id='fig_ref'></a>\n",
    "<img src=\"images/Hadamard_measureb.png\" align=center width='50%'/>\n",
    "<center></center>\n",
    "</center></figure>\n",
    "<br>"
   ]
  },
  {
   "cell_type": "markdown",
   "metadata": {
    "slideshow": {
     "slide_type": "fragment"
    }
   },
   "source": [
    "<div class=\"alert alert-block alert-success\">\n",
    "<b>Exercise 1.2.2.3</b>\n",
    "<br>   \n",
    "<br>    \n",
    "verify that the imaginary part comes from measuring  $\\langle Y\\rangle$ in the ancilla\n",
    "\n",
    "$$\n",
    "\\langle{Y}\\rangle_{ancilla}  =  \\hbox{Im}\\bra{\\psi} U \\ket{\\psi} \\, .\n",
    "$$\n",
    "<br>\n",
    "</div>"
   ]
  },
  {
   "cell_type": "markdown",
   "metadata": {
    "slideshow": {
     "slide_type": "slide"
    }
   },
   "source": [
    "We are going to retrieve the expected value of $\\langle Z\\otimes Z\\otimes Z\\rangle_\\psi$ in the state \n",
    "\n",
    "$$\n",
    "\\ket{\\psi} = \\frac{i}{4}\\ket{000}-\\frac{i}{2}\\ket{001}-\\frac{1}{2}\\ket{010}+\\frac{1}{4}\\ket{011}+\n",
    "\\frac{i}{4}\\ket{100} + \\frac{1}{2}\\ket{110} - \\frac{1}{4}\\ket{111}\n",
    "$$\n",
    "\n",
    "using the Hadamard method. We generate the Hadamard measurement circuit"
   ]
  },
  {
   "cell_type": "code",
   "execution_count": null,
   "metadata": {
    "slideshow": {
     "slide_type": "slide"
    }
   },
   "outputs": [],
   "source": [
    "from qiskit import QuantumRegister, QuantumCircuit, ClassicalRegister\n",
    "\n",
    "qr = QuantumRegister(3, name = 'qr')\n",
    "qra = QuantumRegister(1, name = 'ancilla')\n",
    "cr = ClassicalRegister(1,\"cr\")\n",
    "\n",
    "'creamos el operador como una puerta \"gate\"  '\n",
    "qc0 = QuantumCircuit(qr)\n",
    "qc0.z(qr)\n",
    "'que admite el método \"control\" '\n",
    "CZZZ_gate = qc0.to_gate().control(1,ctrl_state= 1) \n",
    "\n",
    "'creamos el circuito con el operador controlado'\n",
    "qc_Had = QuantumCircuit(qra,qr,cr)\n",
    "qc_Had.initialize(psi,qr)\n",
    "qc_Had.h(qra)  \n",
    "qc_Had.append(CZZZ_gate,qra[:] + qr[:])\n",
    "\n",
    "'añadimos el aparato de medida en la dirección de X o de Y'\n",
    "#qc_Had.sdg(qra) #descomentar para Y, comentar para X\n",
    "qc_Had.h(qra)\n",
    "qc_Had.measure(qra,cr)\n",
    "\n",
    "qc_Had.draw('mpl')"
   ]
  },
  {
   "cell_type": "markdown",
   "metadata": {
    "slideshow": {
     "slide_type": "slide"
    }
   },
   "source": [
    "We execute and obtain the expected value\n",
    "\n",
    "Having added a circuit converted into a gate, we need to compile the circuit before executing it"
   ]
  },
  {
   "cell_type": "code",
   "execution_count": null,
   "metadata": {},
   "outputs": [],
   "source": [
    "from qiskit_aer import AerSimulator\n",
    "from qiskit.compiler import transpile\n",
    "nshots = 10000\n",
    "\n",
    "simulator = AerSimulator()\n",
    "\n",
    "ac_Had_compiled = transpile(qc_Had,backend = simulator)\n",
    "\n",
    "counts_Had = simulator.run(ac_Had_compiled,shots=nshots).result().get_counts()\n",
    "\n",
    "ac_Had_compiled.draw('mpl')"
   ]
  },
  {
   "cell_type": "markdown",
   "metadata": {
    "slideshow": {
     "slide_type": "skip"
    }
   },
   "source": [
    "If we wanted to send the circuit to a quantum computer, we would need the Sampler class\n",
    "\n",
    "https://docs.quantum.ibm.com/api/qiskit/qiskit.primitives.Sampler\n"
   ]
  },
  {
   "cell_type": "code",
   "execution_count": null,
   "metadata": {
    "slideshow": {
     "slide_type": "slide"
    }
   },
   "outputs": [],
   "source": [
    "from qiskit.primitives import StatevectorSampler\n",
    "\n",
    "sampler = StatevectorSampler()\n",
    "\n",
    "nshots = 1000000\n",
    "\n",
    "# Run the sampler\n",
    "result = sampler.run([qc_Had], shots=nshots).result()[0]\n",
    "counts_Had = result.data.cr.get_counts()\n"
   ]
  },
  {
   "cell_type": "code",
   "execution_count": null,
   "metadata": {
    "slideshow": {
     "slide_type": "slide"
    }
   },
   "outputs": [],
   "source": [
    "from qiskit.visualization import plot_histogram\n",
    "print(\"counts=\", counts_Had)\n",
    "plot_histogram(counts_Had)"
   ]
  },
  {
   "cell_type": "code",
   "execution_count": null,
   "metadata": {
    "slideshow": {
     "slide_type": "slide"
    }
   },
   "outputs": [],
   "source": [
    "mean = 0\n",
    "for bitstring, count  in counts_Had.items():\n",
    "    mean += (-1)**(int(bitstring)) * count/nshots\n",
    "\n",
    "   \n",
    "print('<X> = Re(<ZZZ>) = <ZZZ> =', np.round(mean,5) )"
   ]
  },
  {
   "cell_type": "markdown",
   "metadata": {
    "slideshow": {
     "slide_type": "skip"
    }
   },
   "source": [
    "<div class=\"alert alert-block alert-success\">\n",
    "    <b>Exercise 1.2.2.5</b> \n",
    "    \n",
    "define a function <i>add_Hadamard_measure</i> that receives a circuit and a Pauli string and adds the associated Hadamard measurement to the circuit.\n",
    "</div>"
   ]
  }
 ],
 "metadata": {
  "celltoolbar": "Slideshow",
  "kernelspec": {
   "display_name": "Python 3 (ipykernel)",
   "language": "python",
   "name": "python3"
  },
  "language_info": {
   "codemirror_mode": {
    "name": "ipython",
    "version": 3
   },
   "file_extension": ".py",
   "mimetype": "text/x-python",
   "name": "python",
   "nbconvert_exporter": "python",
   "pygments_lexer": "ipython3",
   "version": "3.12.3"
  },
  "nbTranslate": {
   "displayLangs": [
    "*"
   ],
   "hotkey": "alt-t",
   "langInMainMenu": true,
   "sourceLang": "en",
   "targetLang": "fr",
   "useGoogleTranslate": true
  },
  "toc": {
   "base_numbering": 1,
   "nav_menu": {},
   "number_sections": true,
   "sideBar": true,
   "skip_h1_title": false,
   "title_cell": "Table of Contents",
   "title_sidebar": "Contents",
   "toc_cell": false,
   "toc_position": {},
   "toc_section_display": true,
   "toc_window_display": false
  },
  "varInspector": {
   "cols": {
    "lenName": 16,
    "lenType": 16,
    "lenVar": 40
   },
   "kernels_config": {
    "python": {
     "delete_cmd_postfix": "",
     "delete_cmd_prefix": "del ",
     "library": "var_list.py",
     "varRefreshCmd": "print(var_dic_list())"
    },
    "r": {
     "delete_cmd_postfix": ") ",
     "delete_cmd_prefix": "rm(",
     "library": "var_list.r",
     "varRefreshCmd": "cat(var_dic_list()) "
    }
   },
   "types_to_exclude": [
    "module",
    "function",
    "builtin_function_or_method",
    "instance",
    "_Feature"
   ],
   "window_display": false
  }
 },
 "nbformat": 4,
 "nbformat_minor": 4
}
