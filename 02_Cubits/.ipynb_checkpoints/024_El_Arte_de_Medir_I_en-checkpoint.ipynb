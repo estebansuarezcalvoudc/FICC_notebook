{
 "cells": [
  {
   "cell_type": "markdown",
   "metadata": {
    "slideshow": {
     "slide_type": "slide"
    }
   },
   "source": [
    "<img src=\"../figures/logos/logo_usc.jpg\" align=right width='80px'/>\n",
    "<br>\n",
    "\n",
    "<table width=\"100%\">\n",
    "<tr>\n",
    "<td style=\"font-size:40px;font-style:italic;text-align:left;background-color:rgba(0, 220, 170,0.7)\">\n",
    "The Art of Measurements I\n",
    "</td>\n",
    "</tr>\n",
    "</table>\n",
    "\n",
    "$ \\renewcommand{\\bra}[1]{\\langle #1|} $\n",
    "$ \\renewcommand{\\ket}[1]{|#1\\rangle} $\n",
    "$ \\renewcommand{\\braket}[2]{\\langle #1|#2\\rangle} $\n",
    "$ \\renewcommand{\\i}{{\\color{blue} i}} $ \n",
    "$ \\renewcommand{\\tr}{{\\rm tr}} $\n",
    "$ \\renewcommand{\\Hil}{{\\mathcal H}} $\n",
    "$ \\renewcommand{\\boldn}{{\\bf n}} $\n",
    "$ \\renewcommand{\\bn}{{\\bf n}} $\n",
    "$ \\renewcommand{\\bsig}{\\boldsymbol{\\sigma}} $"
   ]
  },
  {
   "cell_type": "code",
   "execution_count": 9,
   "metadata": {
    "run_control": {
     "marked": true
    },
    "slideshow": {
     "slide_type": "-"
    }
   },
   "outputs": [],
   "source": [
    "import sys\n",
    "sys.path.append('../')\n",
    "\n",
    "import macro_tQ as tQ\n",
    "\n",
    "import numpy as np\n",
    "import scipy.linalg as la\n",
    "\n",
    "from IPython.display import display,Markdown,Latex\n",
    "import matplotlib.pyplot as plt\n",
    "from qiskit.visualization import array_to_latex"
   ]
  },
  {
   "cell_type": "markdown",
   "metadata": {
    "slideshow": {
     "slide_type": "skip"
    }
   },
   "source": [
    "# Measurements of 1 Cubit"
   ]
  },
  {
   "cell_type": "markdown",
   "metadata": {
    "slideshow": {
     "slide_type": "slide"
    }
   },
   "source": [
    "## Measurements in the computational base"
   ]
  },
  {
   "cell_type": "markdown",
   "metadata": {
    "slideshow": {
     "slide_type": "-"
    }
   },
   "source": [
    "The **standard measurement circuit** is represented in the following form\n",
    "<br>\n",
    "<br>\n",
    "\n",
    "<figure><center>\n",
    "<img src=\"images/cubit_meter_zbasis.png\" align=center width='50%'/>\n",
    "</center></figure>\n",
    "<br>\n",
    "\n"
   ]
  },
  {
   "cell_type": "markdown",
   "metadata": {
    "slideshow": {
     "slide_type": "fragment"
    }
   },
   "source": [
    "By default, it is a *projective measurement* associated with the observable operator $Z$. That is, it projects onto the basis $\\ket{a} = \\ket{0},\\ket{1}$ of eigenstates of $Z$\n",
    "\n",
    "$$\n",
    "Z\\ket{0} = +\\ket{0}~~~~,~~~~~ Z\\ket{1} = -\\ket{1}\n",
    "$$ \n",
    "\n",
    "We can abbreviate jointly, with $~a=0,1$ \n",
    "\n",
    "$$\n",
    "Z\\ket{a} = (-1)^a\\ket{a}\n",
    "$$ \n"
   ]
  },
  {
   "cell_type": "markdown",
   "metadata": {
    "slideshow": {
     "slide_type": "slide"
    }
   },
   "source": [
    "In general, the state is destroyed to the extent that the quantum thread is usually omitted at its output\n",
    "<br>\n",
    "<br>\n",
    "<br>\n",
    "    \n",
    "<figure><center>\n",
    "<img src=\"images/cubit_meter1.png\" align=center width='30%'/>\n",
    "</center></figure>\n",
    "<br>"
   ]
  },
  {
   "cell_type": "markdown",
   "metadata": {
    "slideshow": {
     "slide_type": "fragment"
    }
   },
   "source": [
    "It is a *projective measure* associated with the observable $Z = \\sigma_z $. \n",
    "<br>\n",
    "\n",
    "$$\n",
    "Z\\ket{0} = +\\ket{0}~~~~,~~~~~ Z\\ket{1} = -\\ket{1}\n",
    "$$ "
   ]
  },
  {
   "cell_type": "markdown",
   "metadata": {
    "slideshow": {
     "slide_type": "fragment"
    }
   },
   "source": [
    "\n",
    "We can unify both results as: $~Z\\ket{a} = (-1)^a\\ket{a}$, \n",
    "with $a=\\{0,1\\}$."
   ]
  },
  {
   "cell_type": "markdown",
   "metadata": {
    "slideshow": {
     "slide_type": "slide"
    }
   },
   "source": [
    "## Measurement Probabilities\n",
    "\n",
    "A repetition of measurements of the state $\\ket{\\psi} = c_0\\ket{0} + c_1\\ket{1}$ provides statistical access to the *probability amplitudes* \n",
    "\n",
    "<br>\n",
    "\n",
    "\n",
    "$$\n",
    "p(0) = \\frac{n_{0}}{N} = |c_0|^2 = |\\braket{0}{\\psi}|^2~~~~~~~~~~~~~~~~ p(1) = \\frac{n_{1}}{N}=|c_1|^2 =  |\\braket{1}{\\psi}|^2 \\, .\n",
    "$$\n",
    "<br>\n",
    "\n",
    "This reconstruction procedure is the basis of **quantum tomography**.\n",
    "\n"
   ]
  },
  {
   "cell_type": "markdown",
   "metadata": {
    "slideshow": {
     "slide_type": "slide"
    }
   },
   "source": [
    "Let's define a random vector"
   ]
  },
  {
   "cell_type": "code",
   "execution_count": 11,
   "metadata": {
    "run_control": {
     "marked": false
    },
    "slideshow": {
     "slide_type": "-"
    }
   },
   "outputs": [
    {
     "data": {
      "text/latex": [
       "$$0.5816830895 |0\\rangle+(0.5667120397 + 0.5835085668 i) |1\\rangle$$"
      ],
      "text/plain": [
       "<IPython.core.display.Latex object>"
      ]
     },
     "metadata": {},
     "output_type": "display_data"
    }
   ],
   "source": [
    "from qiskit.quantum_info import Statevector\n",
    "from qiskit.visualization import plot_bloch_multivector, array_to_latex  \n",
    "\n",
    "theta = 1.9\n",
    "phi   = 0.8\n",
    "\n",
    "' inicialicemos un estado cuántico'\n",
    "psi_ket = np.array([np.cos(theta/2),(np.exp(1j*phi))*np.sin(theta/2)]).reshape(2,1)\n",
    "array_to_latex(psi_ket,prefix= '\\ket{\\psi} = ')\n",
    "\n",
    "display(Statevector(psi_ket).draw('latex'))\n",
    "#display(Statevector(psi_ket).draw('Bloch'))"
   ]
  },
  {
   "cell_type": "markdown",
   "metadata": {
    "slideshow": {
     "slide_type": "fragment"
    }
   },
   "source": [
    "The probabilities of obtaining '0' and '1' are the squares of the amplitudes in absolute value"
   ]
  },
  {
   "cell_type": "code",
   "execution_count": 12,
   "metadata": {
    "run_control": {
     "marked": false
    },
    "slideshow": {
     "slide_type": "-"
    }
   },
   "outputs": [
    {
     "name": "stdout",
     "output_type": "stream",
     "text": [
      "p(0)= [0.33836] , p(1)= [0.66164]\n"
     ]
    }
   ],
   "source": [
    "p0 = np.abs(psi_ket[0])**2\n",
    "p1 = np.abs(psi_ket[1])**2\n",
    "\n",
    "print('p(0)=', np.round(p0,5),', p(1)=', np.round(p1,5))"
   ]
  },
  {
   "cell_type": "markdown",
   "metadata": {
    "slideshow": {
     "slide_type": "slide"
    }
   },
   "source": [
    "We are going to recover them *experimentally* by simulating a circuit. First, we obtain the dictionary of accounts obtained after executing the circuit a number of times"
   ]
  },
  {
   "cell_type": "code",
   "execution_count": 17,
   "metadata": {
    "run_control": {
     "marked": false
    },
    "slideshow": {
     "slide_type": "fragment"
    }
   },
   "outputs": [
    {
     "data": {
      "image/png": "[encoded data removed]",
      "text/plain": [
       "<Figure size 352.675x200.667 with 1 Axes>"
      ]
     },
     "metadata": {},
     "output_type": "display_data"
    }
   ],
   "source": [
    "nshots = 10000\n",
    "\n",
    "from qiskit import QuantumCircuit\n",
    "from qiskit_aer import AerSimulator\n",
    "backend = AerSimulator()\n",
    "\n",
    "'insert the state $\\psi$ into a circuit'\n",
    "qc_psi_Qiskit = QuantumCircuit(1,1)\n",
    "qc_psi_Qiskit.u(theta,phi,0,0)\n",
    "qc_psi_Qiskit.measure(0,0)\n",
    "display(qc_psi_Qiskit.draw('mpl'))\n",
    "\n",
    "'execute the circuit a number of times = nshots'\n",
    "counts_psi =  backend.run(qc_psi_Qiskit,shots=nshots).result().get_counts()\n"
   ]
  },
  {
   "cell_type": "markdown",
   "metadata": {
    "slideshow": {
     "slide_type": "slide"
    }
   },
   "source": [
    "We visualize the result using a histogram"
   ]
  },
  {
   "cell_type": "code",
   "execution_count": 18,
   "metadata": {},
   "outputs": [
    {
     "name": "stdout",
     "output_type": "stream",
     "text": [
      "counts_psi =  {'1': 6589, '0': 3411}\n"
     ]
    },
    {
     "data": {
      "image/png": "[encoded data removed]",
      "text/plain": [
       "<Figure size 640x480 with 1 Axes>"
      ]
     },
     "execution_count": 18,
     "metadata": {},
     "output_type": "execute_result"
    }
   ],
   "source": [
    "from qiskit.visualization import plot_histogram\n",
    "print('counts_psi = ',counts_psi)\n",
    "\n",
    "plot_histogram(counts_psi)  "
   ]
  },
  {
   "cell_type": "markdown",
   "metadata": {
    "slideshow": {
     "slide_type": "slide"
    }
   },
   "source": [
    "Now we can calculate the relative frequencies $n_i/N$ and compare them with the probabilities $p(i)$"
   ]
  },
  {
   "cell_type": "code",
   "execution_count": 19,
   "metadata": {
    "run_control": {
     "marked": true
    }
   },
   "outputs": [
    {
     "name": "stdout",
     "output_type": "stream",
     "text": [
      "p(0)_experiment = 0.3411   p(1)_experiment =  0.6589\n"
     ]
    }
   ],
   "source": [
    "p0_experiment = counts_psi['0']/nshots\n",
    "p1_experiment = counts_psi['1']/nshots\n",
    "\n",
    "print('p(0)_experiment =', p0_experiment,'  p(1)_experiment = ',p1_experiment)"
   ]
  },
  {
   "cell_type": "markdown",
   "metadata": {
    "slideshow": {
     "slide_type": "skip"
    }
   },
   "source": [
    "## Measurements in a Real Quantum Computer"
   ]
  },
  {
   "cell_type": "markdown",
   "metadata": {
    "slideshow": {
     "slide_type": "skip"
    }
   },
   "source": [
    "\n",
    "Once we have verified that the program runs well in our simulator, we can launch it on a real quantum computer by simply changing the *backend*.\n",
    "\n",
    "For now, we will use IBM's free computers. To do this, it is necessary to create a user account at https://quantum-computing.ibm.com/\n",
    "\n",
    "Go to https://quantum-computing.ibm.com/account and get API-token in the MyAccount section. Copy token and paste in the following cell in between the brackets (after uncommenting the line)\n",
    "\n",
    "https://docs.quantum.ibm.com/guides/setup-channel"
   ]
  },
  {
   "cell_type": "code",
   "execution_count": null,
   "metadata": {
    "run_control": {
     "marked": true
    },
    "slideshow": {
     "slide_type": "skip"
    }
   },
   "outputs": [],
   "source": [
    "from qiskit_ibm_runtime import QiskitRuntimeService\n",
    "service = QiskitRuntimeService(channel=\"ibm_quantum\", token=\"<TOKEN>\")"
   ]
  },
  {
   "cell_type": "code",
   "execution_count": null,
   "metadata": {
    "slideshow": {
     "slide_type": "skip"
    }
   },
   "outputs": [],
   "source": [
    "# Save an IBM Quantum account and set it as your default account.\n",
    "#QiskitRuntimeService.save_account(\n",
    "#    token=\"<TOKEN>\",\n",
    "#    channel=\"ibm_quantum\",\n",
    "#    set_as_default=True,\n",
    "#    # Use `overwrite=True` if you're updating your token.\n",
    "#    overwrite=True,\n",
    "#)"
   ]
  },
  {
   "cell_type": "code",
   "execution_count": null,
   "metadata": {
    "slideshow": {
     "slide_type": "skip"
    }
   },
   "outputs": [],
   "source": [
    "from qiskit\n",
    "# Load saved credentials\n",
    "service = QiskitRuntimeService()"
   ]
  },
  {
   "cell_type": "code",
   "execution_count": null,
   "metadata": {
    "slideshow": {
     "slide_type": "skip"
    }
   },
   "outputs": [],
   "source": [
    "# Create empty circuit\n",
    "qc = QuantumCircuit(2)\n",
    "qc.h(0)\n",
    "qc.cx(0, 1)\n",
    "qc.measure_all()\n",
    "\n",
    "# Get the least busy backend\n",
    "backend = service.least_busy(operational=True, simulator=False)\n",
    "print(backend)\n",
    "\n",
    "from qiskit.compiler import transpile\n",
    "transqc = transpile(qc,backend)\n",
    "transqc.draw('mpl')"
   ]
  },
  {
   "cell_type": "code",
   "execution_count": null,
   "metadata": {
    "slideshow": {
     "slide_type": "skip"
    }
   },
   "outputs": [],
   "source": [
    "from qiskit_ibm_runtime import SamplerV2 as Sampler\n",
    "\n",
    "sampler = Sampler(backend)\n",
    "job = sampler.run([transqc])\n",
    "\n",
    "service.jobs(backend_name=backend)"
   ]
  },
  {
   "cell_type": "code",
   "execution_count": null,
   "metadata": {
    "slideshow": {
     "slide_type": "skip"
    }
   },
   "outputs": [],
   "source": [
    "job.cancel()"
   ]
  },
  {
   "cell_type": "code",
   "execution_count": null,
   "metadata": {
    "slideshow": {
     "slide_type": "skip"
    }
   },
   "outputs": [],
   "source": [
    "service.jobs(backend_name=backend)"
   ]
  },
  {
   "cell_type": "code",
   "execution_count": null,
   "metadata": {
    "slideshow": {
     "slide_type": "skip"
    }
   },
   "outputs": [],
   "source": [
    "print(f\"job id: {job.job_id()}\")\n",
    "result=job.result().quasi_dists[0]\n",
    "print(result)\n",
    "\n"
   ]
  },
  {
   "cell_type": "code",
   "execution_count": null,
   "metadata": {
    "jupyter": {
     "outputs_hidden": true
    },
    "run_control": {
     "marked": true
    },
    "slideshow": {
     "slide_type": "skip"
    }
   },
   "outputs": [],
   "source": [
    "plot_histogram(counts)"
   ]
  },
  {
   "cell_type": "markdown",
   "metadata": {
    "slideshow": {
     "slide_type": "skip"
    }
   },
   "source": [
    "## Quantum Interference and Measurements"
   ]
  },
  {
   "cell_type": "markdown",
   "metadata": {
    "slideshow": {
     "slide_type": "skip"
    }
   },
   "source": [
    "The result of flipping a coin is an equiprobable binary random variable: X = (heads,tails)."
   ]
  },
  {
   "cell_type": "markdown",
   "metadata": {
    "slideshow": {
     "slide_type": "skip"
    }
   },
   "source": [
    "It is irrelevant whether we analyze the result of each toss or every two or three tosses. The relative frequencies of heads and tails will always be close to $1/2$."
   ]
  },
  {
   "cell_type": "markdown",
   "metadata": {
    "slideshow": {
     "slide_type": "skip"
    }
   },
   "source": [
    "We can imagine a similar experiment with a qubit, where heads $\\to \\ket{0}$ and tails $\\to\\ket{1}$ are the possible measurement states in the $Z$ basis."
   ]
  },
  {
   "cell_type": "markdown",
   "metadata": {
    "slideshow": {
     "slide_type": "skip"
    }
   },
   "source": [
    "Flipping the classic coin is putting it in a state that can be heads or tails when it lands on the table.\n",
    "\n",
    "Flipping the quantum coin is applying the operator $H$ to put either of the two results in a superposition.\n",
    "\n",
    "$$\n",
    "H\\ket{0} = \\frac{1}{\\sqrt{2}}(\\ket{0} + \\ket{1})$$ \n",
    "\n",
    "and \n",
    "\n",
    "$$H\\ket{1} = \\frac{1}{\\sqrt{2}}(\\ket{0} - \\ket{1})$$ \n"
   ]
  },
  {
   "cell_type": "markdown",
   "metadata": {
    "slideshow": {
     "slide_type": "skip"
    }
   },
   "source": [
    "Now it is not the same to measure the result after one throw\n",
    "\n",
    "$$\n",
    "\\ket{0}~ \\stackrel{\\rm throw}{\\longrightarrow} ~ H \\ket{0}= \\ket{+} ~ \\stackrel{\\rm measure}{\\longrightarrow} ~p(0) = p(1) = 0.5\n",
    "$$\n",
    "as doing it after two throws\n",
    "\n",
    "$$\n",
    "\\ket{0}~ \\stackrel{\\rm throw}{\\longrightarrow} ~ H \\ket{0}~ \\stackrel{\\rm throw}{\\longrightarrow} H^2\\ket{0} = \\ket{0} ~ \\stackrel{\\rm measure}{\\longrightarrow} ~p(0) = 1 ~,~p(1) = 0\n",
    "$$"
   ]
  },
  {
   "cell_type": "code",
   "execution_count": null,
   "metadata": {
    "run_control": {
     "marked": true
    },
    "slideshow": {
     "slide_type": "skip"
    }
   },
   "outputs": [],
   "source": [
    "qc = QuantumCircuit(1,1)\n",
    "\n",
    "qc.h(0)\n",
    "#qc.measure(0,0) #anula o no esta medición intermedia para ver la diferencia\n",
    "qc.h(0)\n",
    "qc.measure(0,0)\n",
    "qc.draw('mpl')"
   ]
  },
  {
   "cell_type": "markdown",
   "metadata": {
    "slideshow": {
     "slide_type": "skip"
    }
   },
   "source": [
    "Let's run the circuit with and without intermediate measurement"
   ]
  },
  {
   "cell_type": "code",
   "execution_count": null,
   "metadata": {
    "run_control": {
     "marked": true
    },
    "slideshow": {
     "slide_type": "skip"
    }
   },
   "outputs": [],
   "source": [
    "AerSimulator().run(qc).result().get_counts()"
   ]
  },
  {
   "cell_type": "markdown",
   "metadata": {
    "slideshow": {
     "slide_type": "skip"
    }
   },
   "source": [
    "The intermediate measurement destroys the superposition and collapses the state to $\\ket{0}$ or $\\ket{1}$.\n",
    "\n",
    "Without such measurement, the probability amplitudes of the paths that would lead to $\\ket{1}$ from $\\ket{0}$ interfere destructively."
   ]
  },
  {
   "cell_type": "markdown",
   "metadata": {
    "slideshow": {
     "slide_type": "skip"
    }
   },
   "source": [
    "This example we have just seen is the simplest version of the <i>double-slit experiment</i>. In it, the dark stripes that appear behind are due to destructive interference of the wave function. This interference disappears if we try to find out through which of the two slits the electron has passed."
   ]
  },
  {
   "cell_type": "markdown",
   "metadata": {
    "slideshow": {
     "slide_type": "slide"
    }
   },
   "source": [
    "# Measurements in a General Basis"
   ]
  },
  {
   "cell_type": "markdown",
   "metadata": {
    "slideshow": {
     "slide_type": "slide"
    }
   },
   "source": [
    "Conventionally, $Z$ is referred to as the observable associated with the standard measurement in a quantum computer.\n",
    "\n",
    "We should be able to modify the measurement basis at will. We will first study how to use the $X$ and $Y$ bases and then analyze the arbitrary case."
   ]
  },
  {
   "cell_type": "markdown",
   "metadata": {
    "slideshow": {
     "slide_type": "slide"
    }
   },
   "source": [
    "## Bases X and Y\n",
    "\n",
    "The eigenvectors of the operator $X$ are called $\\ket{+}, \\ket{-}$ with eigenvalues $+1$ and $-1$ respectively.\n",
    "\n",
    "We would like to have a circuit associated with this observable, so than states $\\ket{\\pm}$  will we detected as an eigenstates with eigenvalue $\\pm 1$ hence returning values $a = 0,1$ respectively.\n",
    "\n",
    "It is easy to construct such a circuit, as seen in the figure below.\n",
    "<br>\n",
    "<br>"
   ]
  },
  {
   "cell_type": "markdown",
   "metadata": {
    "slideshow": {
     "slide_type": "slide"
    }
   },
   "source": [
    "<figure><center>\n",
    "<img src=\"images/meter_xybasis.png\" align=center width='60%'/>\n",
    "</center></figure>"
   ]
  },
  {
   "cell_type": "markdown",
   "metadata": {
    "slideshow": {
     "slide_type": "fragment"
    }
   },
   "source": [
    "\n",
    "In the first, the action of $H$ sends each eigenstate of $X$ to an eigenstate of $Z$, $H\\ket{+} = \\ket{0}$ and $H\\ket{-} = \\ket{1}$.\n",
    "\n",
    "Next, a standard meter will record the value of $a =0,1$ depending on the measured state.\n",
    "\n",
    "A subsequent application of $H$ will return us to the original state $H\\ket{0} = \\ket{+}$ and similarly $H\\ket{1} = \\ket{-}$\n"
   ]
  },
  {
   "cell_type": "markdown",
   "metadata": {
    "slideshow": {
     "slide_type": "slide"
    }
   },
   "source": [
    "Similarly, let's denote $\\ket{+ i}$ and $\\ket{- i}$ as the eigenstates of the operator $Y$.\n",
    "\n",
    "We can construct a circuit that records $a = 0,1$ when the incident state is $\\ket{\\pm i}$.\n",
    "\n",
    "It is enough to observe that $\\ket{\\pm i} = SH\\ket{a}$. Conversely, $\\ket{a} = HS^\\dagger \\ket{\\pm i}$ and proceed as before."
   ]
  },
  {
   "cell_type": "markdown",
   "metadata": {
    "slideshow": {
     "slide_type": "slide"
    }
   },
   "source": [
    "In summary: we can *build* *effective* measuring devices that act on the bases $X$ and $Y$ just as the standard meter does on $Z$\n",
    "<br>\n",
    "<br>\n",
    "\n",
    "<figure><center>\n",
    "<img src=\"images/meter_xybasis2.png\" align=center width='60%'/>\n",
    "</center></figure>\n",
    "<br>\n",
    "\n",
    "Behind these circuit equivalences, now with meters, lies the following gate conjugation\n",
    "\n",
    "$$\n",
    "X = H Z H\n",
    "~~~~~~~~,~~~~~~~~~Y = SHZ HS^\\dagger\n",
    "$$\n",
    "\n",
    "<div class=\"alert alert-block alert-danger\",text-align:center>\n",
    "<p style=\"text-align: left ;\">  \n",
    "<b>Note</b>:\n",
    "remember that the order of operator composition is reversed when implementing them in a circuit\n",
    "</p>    \n",
    "</div>\n",
    "\n",
    "<div class=\"alert alert-block alert-success\">\n",
    "<b>Exercise:</b> \n",
    "Verify that these conjugation equations are correct\n",
    "</div>"
   ]
  },
  {
   "cell_type": "markdown",
   "metadata": {
    "slideshow": {
     "slide_type": "slide"
    }
   },
   "source": [
    "<div class=\"alert alert-block alert-success\">\n",
    "<b>Exercise:</b> \n",
    "In the figure, we observe the result of passing a cloud of electrons through three perpendicular Stern-Gerlach detectors.\n",
    "<br>\n",
    "<br>\n",
    "    \n",
    "    \n",
    "<div>\n",
    "<img src=\"images/Stern-Gerlach3.png\" width=\"600\"/>\n",
    "</div>\n",
    "<i>credits: https://commons.wikimedia.org/wiki/user:MJasK</i>\n",
    "    \n",
    "Reproduce this experiment on a quantum computer. Take the $Y$ axis as the propagation axis and orient the detectors successively along $Z$, and $X$ and $Z$ again. \n",
    "    \n",
    "Run the circuit by launching the electrons one by one in an arbitrary initial state and observe the intermediate results. \n",
    "    \n",
    "Now launch a cloud of electrons and observe the statistics    \n",
    "</div>"
   ]
  },
  {
   "cell_type": "code",
   "execution_count": 21,
   "metadata": {
    "run_control": {
     "marked": false
    },
    "slideshow": {
     "slide_type": "slide"
    }
   },
   "outputs": [
    {
     "data": {
      "image/png": "[encoded data removed]",
      "text/plain": [
       "<Figure size 770.731x200.667 with 1 Axes>"
      ]
     },
     "metadata": {},
     "output_type": "display_data"
    },
    {
     "data": {
      "text/plain": [
       "{'010': 1}"
      ]
     },
     "execution_count": 21,
     "metadata": {},
     "output_type": "execute_result"
    }
   ],
   "source": [
    "'solution'\n",
    "qc = QuantumCircuit(1,3)\n",
    "\n",
    "qc.h(0)\n",
    "\n",
    "qc.measure(0,2)\n",
    "\n",
    "qc.barrier()\n",
    "qc.h(0)\n",
    "qc.measure(0,1)\n",
    "qc.h(0)\n",
    "qc.barrier()\n",
    "\n",
    "qc.measure(0,0)\n",
    "\n",
    "display(qc.draw('mpl',style=\"iqp\"))\n",
    "\n",
    "AerSimulator().run(qc,shots=1).result().get_counts()\n"
   ]
  },
  {
   "cell_type": "markdown",
   "metadata": {
    "slideshow": {
     "slide_type": "slide"
    }
   },
   "source": [
    "\n",
    "Let's define a function that executes measurements on any of the three axes"
   ]
  },
  {
   "cell_type": "code",
   "execution_count": 19,
   "metadata": {
    "run_control": {
     "marked": false
    },
    "slideshow": {
     "slide_type": "slide"
    }
   },
   "outputs": [],
   "source": [
    "def measure_XYZ(qc,axis=\"Z\",shots=1024):\n",
    "     \n",
    "    import copy \n",
    "    qc0 = copy.deepcopy(qc)\n",
    "    if axis == \"Z\":\n",
    "        qc0.measure(0,0)\n",
    "    if axis == \"X\":\n",
    "        qc0.h(0)\n",
    "        qc0.measure(0,0) \n",
    "        qc0.h(0)\n",
    "    elif axis == \"Y\":\n",
    "        qc0.sdg(0)\n",
    "        qc0.h(0)\n",
    "        qc0.measure(0,0) \n",
    "        qc0.h(0)\n",
    "        qc0.s(0)\n",
    "     \n",
    "    from qiskit_aer import AerSimulator\n",
    "    counts=AerSimulator().run(qc0,shots=shots).result().get_counts()\n",
    "    \n",
    "    return counts"
   ]
  },
  {
   "cell_type": "markdown",
   "metadata": {
    "slideshow": {
     "slide_type": "slide"
    }
   },
   "source": [
    "Now we can observe the result of successive measurements along different axes"
   ]
  },
  {
   "cell_type": "code",
   "execution_count": 20,
   "metadata": {
    "run_control": {
     "marked": false
    },
    "slideshow": {
     "slide_type": "slide"
    }
   },
   "outputs": [
    {
     "data": {
      "image/png": "[encoded data removed]",
      "text/plain": [
       "<Figure size 143.647x200.667 with 1 Axes>"
      ]
     },
     "metadata": {},
     "output_type": "display_data"
    },
    {
     "name": "stdout",
     "output_type": "stream",
     "text": [
      "cuentas(base Z)= {'0': 10000}\n",
      "cuentas(base X)= {'1': 5034, '0': 4966}\n",
      "cuentas( base Y)= {'1': 5043, '0': 4957}\n"
     ]
    }
   ],
   "source": [
    "shots = 10000\n",
    "\n",
    "qc = QuantumCircuit(1,1)\n",
    "#qc.h(0)\n",
    "display(qc.draw('mpl',style=\"iqp\"))\n",
    "\n",
    "cuentasz = measure_XYZ(qc,axis=\"Z\",shots=shots)\n",
    "print(\"cuentas(base Z)=\",cuentasz)\n",
    "\n",
    "cuentasx = measure_XYZ(qc,axis=\"X\",shots=shots)\n",
    "print(\"cuentas(base X)=\",cuentasx)\n",
    "\n",
    "cuentasy = measure_XYZ(qc,axis=\"Y\",shots=shots)\n",
    "print(\"cuentas( base Y)=\",cuentasy)\n"
   ]
  },
  {
   "cell_type": "markdown",
   "metadata": {
    "slideshow": {
     "slide_type": "slide"
    }
   },
   "source": [
    "## General Formalism\n",
    "\n",
    "Let's look at the two previous cases as particular instances of a measurement apparatus associated with an arbitrary direction on the Bloch sphere. Given a unit vector $~\\hat\\boldn~$\n",
    "\n",
    "$$\n",
    "\\hat\\bn(\\theta,\\phi) = \\sin\\theta\\cos\\phi \\, \\hat {\\bf x} + \\sin\\theta\\sin\\phi \\, \\hat {\\bf y} + \\cos\\theta \\, \\hat {\\bf z}\n",
    "$$\n"
   ]
  },
  {
   "cell_type": "markdown",
   "metadata": {
    "slideshow": {
     "slide_type": "fragment"
    }
   },
   "source": [
    "the associated observable will be $ \\hat{\\boldn}\\cdot \\boldsymbol{\\sigma}$ whose eigenstates form a basis $\\{\\ket{0}_{\\hat{\\bf n}}, \\ket{1}_{\\hat{\\bf n}}\\}$ with eigenvalues $\\pm 1$\n",
    "\n",
    "$$\n",
    "\\hat{\\boldn}\\cdot \\boldsymbol{\\sigma}\\,\\ket{0}_{\\hat{\\bf n}} = + \\ket{0}_{\\hat{\\bf n}}~~~~~~,~~~~~~~\n",
    "\\hat{\\boldn}\\cdot \\boldsymbol{\\sigma}\\,\\ket{1}_{\\hat{\\bf n}} = - \\ket{1}_{\\hat{\\bf n}}\n",
    "$$\n",
    "\n",
    "given by \n",
    "\n",
    "\n",
    "$$\n",
    " \\ket{0}_{\\hat{\\bf n}} = ~\\begin{bmatrix} \\cos\\displaystyle\\frac{\\theta}{2} \\\\  ~e^{i\\phi}\\sin\\displaystyle\\frac{\\theta}{2} \\end{bmatrix} ~~~~~~~~~~~,~~~~~~~~~~~\n",
    " \\ket{1}_{\\hat{\\bf n}} =  \\begin{bmatrix} -e^{-i\\phi}\\sin\\displaystyle\\frac{\\theta}{2} \\\\  \\cos\\displaystyle\\frac{\\theta}{2} \\end{bmatrix} \n",
    "$$\n",
    "\n"
   ]
  },
  {
   "cell_type": "markdown",
   "metadata": {
    "slideshow": {
     "slide_type": "fragment"
    }
   },
   "source": [
    "\n",
    "Using rotation operators, we can convert the standard meter associated with $Z$ into an effective meter associated with the general observable $\\hat {\\bf n} \\cdot \\bsig$. Let's see how:\n",
    "\n",
    "- let $~\\hat{\\bf z}\\cdot\\bsig ~$ be the <u>*standard measuring device*</u> oriented along the $~\\hat{\\bf z}$ axis\n",
    "\n",
    "$$\n",
    " \\hat{\\bf z}\\cdot \\bsig \\,  \\ket{a}_{\\hat{\\bf z}} = (-1)^a\\ket{a}_{\\hat{\\bf z}} = Z \\ket{a} \n",
    "$$\n",
    "\n",
    "- and $~\\hat\\bn\\cdot \\bsig~$ the <u>oriented measuring device</u> along the $\\hat\\bn$ axis\n",
    "\n",
    "$$\n",
    "\\hat\\bn\\cdot \\bsig \\,  \\ket{a}_{\\hat{\\bf n}} = (-1)^a\\ket{a}_{\\hat{\\bf n}}\n",
    "$$\n"
   ]
  },
  {
   "cell_type": "markdown",
   "metadata": {
    "slideshow": {
     "slide_type": "slide"
    }
   },
   "source": [
    "\n",
    "the eigenvector bases associated $\\{\\ket{a}_{\\hat{\\bf z}}\\}$ and  $\\{\\ket{a}_{\\hat{\\bf n}}\\}$ are related through a simple unitary *rotation*\n",
    "\n",
    "$$\n",
    "\\ket{0}_{\\hat\\boldn} = U \\ket{0}_{\\hat{\\bf z}}~~~~~~,~~~~~~\n",
    "\\ket{1}_{\\hat\\boldn} = U \\ket{1}_{\\hat{\\bf z}}\n",
    "$$\n",
    "\n",
    "\n",
    "<figure><center> \n",
    "<img src=\"images/BlochSphere_basis.png\" align=center width='25%'/>\n",
    "</center></figure>"
   ]
  },
  {
   "cell_type": "markdown",
   "metadata": {
    "slideshow": {
     "slide_type": "slide"
    }
   },
   "source": [
    "\n",
    "The operator in question is \n",
    "\n",
    "$$\n",
    "U(\\hat {\\bf z}\\to \\hat \\bn) = U(\\theta,\\phi,0)=\\begin{bmatrix}   \\cos \\displaystyle\\frac{\\theta}{2}  & -  \\sin\\displaystyle\\frac{\\theta}{2}  \\\\ \n",
    "\\rule{0mm}{4mm} e^{i\\phi} \\sin \\displaystyle\\frac{\\theta}{2} &e^{i\\phi} \\cos \\displaystyle\\frac{\\theta}{2} \\end{bmatrix}\n",
    "$$\n",
    "\n",
    "as is easy to verify\n",
    "\n",
    "$$ \n",
    "\\begin{bmatrix} \\cos\\theta \\\\ e^{i\\phi}\\sin\\theta \\end{bmatrix} = U\\cdot \\begin{bmatrix}1\\\\0 \\end{bmatrix} ~~~~~~~,~~~~~~~\n",
    "\\begin{bmatrix} -\\sin\\theta \\\\ e^{i\\phi}\\cos\\theta \\end{bmatrix} = U\\cdot \\begin{bmatrix}0\\\\1 \\end{bmatrix}  \n",
    "$$"
   ]
  },
  {
   "cell_type": "markdown",
   "metadata": {
    "slideshow": {
     "slide_type": "skip"
    }
   },
   "source": [
    "If the components of the vectors rotate in the form $\\ket{a}_{\\hat{\\bf n}} = U\\ket{a}_{\\hat{\\bf z}}$\n",
    "the associated observables are related algebraically *as any operator does*\n",
    "\n",
    "$$\n",
    "\\hat {\\bf n} \\cdot\\bsig =  U \\, (\\hat {\\bf z} \\cdot \\bsig)\\,  U^\\dagger \n",
    "$$\n",
    "\n",
    "<details><summary><p> >> <i>We verify the consistency</i>  </p></summary>\n",
    "\\begin{eqnarray}\n",
    "\\hat {\\bf n} \\cdot \\bsig\\,  \\ket{a}_{\\hat{\\bf n}} ~~&=&~~ \n",
    "U~ \\hat {\\bf z} \\cdot \\bsig ~  U^\\dagger ~ U  \\ket{a}_{\\hat{\\bf z}}\\\\  \\rule{0mm}{8mm}\n",
    "&=& U~ \\hat {\\bf z} \\cdot \\bsig ~   \\ket{a}_{\\hat{\\bf z}}\\\\   \\rule{0mm}{8mm}\n",
    "&=& U\\, Z \\ket{a} = U (-1)^a \\ket{a}_{\\hat{\\bf z}} \\\\  \\rule{0mm}{8mm}\n",
    "&=&  (-1)^a U\\ket{a}_{\\hat{\\bf z}} \\\\  \\rule{0mm}{8mm}\n",
    "&=& (-1)^a \\ket{a}_{\\hat{\\bf n}}  \\rule{0mm}{8mm}\n",
    "\\end{eqnarray}\n",
    "</details>\n"
   ]
  },
  {
   "cell_type": "markdown",
   "metadata": {
    "slideshow": {
     "slide_type": "skip"
    }
   },
   "source": [
    "<div class=\"alert alert-block alert-success\",text-align:center>\n",
    "<p style=\"text-align: left ;\">  \n",
    "<b>Exercise</b>: \n",
    "verify by operating the previous equation\n",
    "</p>    \n",
    "</div>"
   ]
  },
  {
   "cell_type": "markdown",
   "metadata": {
    "slideshow": {
     "slide_type": "slide"
    }
   },
   "source": [
    "The following circuit *simulates* a measurement apparatus in the basis $\\{\\ket{a}_{\\hat{\\bf n}}\\}$\n",
    "obtained by rotating the measurement apparatus in the basis $\\{\\ket{a}_{\\hat{\\bf n}}\\}$ of $Z$ eigenstates.\n",
    "\n",
    "<figure><center>   \n",
    "<img src=\"images/nbasis_measure2.png\" align=center width='40%'/>\n",
    "</center></figure>\n",
    "\n",
    "Note that\n",
    "\n",
    "- the particular cases of $X$ and $Y$ bases are recovered with $U = H$ in the first case and $U = SH$ in the second.\n",
    "\n",
    "- if the state is destroyed in the measurement or is not preserved afterward, we can simplify the measurement circuit to only report the measured value.\n",
    "\n",
    "<figure><center>   \n",
    "<img src=\"images/Un_meter_simple.png\" align=center width='40%'/>\n",
    "</center></figure>\n"
   ]
  },
  {
   "cell_type": "markdown",
   "metadata": {
    "slideshow": {
     "slide_type": "slide"
    }
   },
   "source": [
    "# Expectation Values\n"
   ]
  },
  {
   "cell_type": "markdown",
   "metadata": {
    "slideshow": {
     "slide_type": "slide"
    }
   },
   "source": [
    "\n",
    "Knowing the probabilities of occurrence of the possible eigenvalues $\\lambda_i$ of an operator $A$, we have access to the expectation value\n",
    "\n",
    "$$\n",
    "\\langle A \\rangle_\\psi = \\bra{\\psi}A\\ket{\\psi} = \\sum_i p(\\lambda_i) \\lambda_i\n",
    "$$\n",
    "\n",
    "Since we only have one observable, the standard meter in the $Z$ direction, we will have to be creative to obtain this expected value.\n",
    "\n",
    "The key is that we will only need the effective meters in the $X, Y$, and $Z$ bases."
   ]
  },
  {
   "cell_type": "markdown",
   "metadata": {
    "slideshow": {
     "slide_type": "slide"
    }
   },
   "source": [
    "## Decomposition in the Pauli Basis"
   ]
  },
  {
   "cell_type": "markdown",
   "metadata": {},
   "source": [
    "The key lies in observing that <i>any observable</i> on a qubit $A = A^\\dagger$ can be expanded in the basis $\\sigma_i = \\{I,X,Y,Z\\}, \\, i=0,1,2,3$\n",
    "\n",
    "$$\n",
    "A = a_0 I + a_1 X + a_2 Y  + a_3 Z \\, . \n",
    "$$\n",
    "\n",
    "with coefficients\n",
    "\n",
    "$$\n",
    "a_i = \\frac{1}{2} \\tr \\, (A \\sigma_i)\\, .\n",
    "$$\n",
    "\n",
    "This expression is obtained by using the relation $\\to  \\tr\\,  (\\sigma_i \\sigma_j) = 2 \\delta_{ij}$.\n",
    "<br>\n",
    "<br>\n",
    "    \n",
    "<details><summary><p  > >> <i>Verification</i> </p></summary>\n",
    "$$\n",
    "\\frac{1}{2} \\tr \\, (A \\sigma_i) = \\frac{1}{2} \\tr \\, \\left((\\sum_{j=0}^3 a_j \\sigma_j) \\sigma_i\\right)\n",
    "= \\sum_{j=0}^3 a_j \\, \\frac{1}{2} \\tr ( \\sigma_j \\sigma_i) = \\sum_{j=0}^3 a_j \\delta_{ji} = a_i\n",
    "$$\n",
    "    \n",
    "</details>\n"
   ]
  },
  {
   "cell_type": "markdown",
   "metadata": {
    "slideshow": {
     "slide_type": "slide"
    }
   },
   "source": [
    "Then, we will be able to obtain the expected value of $A$ if we are capable of measuring those of $X,$ $Y,$ and $Z$.\n",
    "\n",
    "<br>\n",
    "\n",
    "\\begin{eqnarray*}\n",
    "\\langle A\\rangle_\\psi ~=~\\bra{\\psi}A\\ket{\\psi} ~&=& ~ \n",
    "\\bra{\\psi} a_0 I + a_1 X + a_2 Y  + a_3 Z \\ket{\\psi} \\\\ \\rule{0mm}{16mm}\n",
    "&=& ~a_0 + a_1 \\langle X\\rangle_\\psi + a_2 \\langle Y\\rangle_\\psi + a_3 \\langle Z\\rangle_\\psi\n",
    "\\end{eqnarray*}\n"
   ]
  },
  {
   "cell_type": "markdown",
   "metadata": {
    "slideshow": {
     "slide_type": "slide"
    }
   },
   "source": [
    "- $\\langle Z \\rangle_{\\psi}$\n",
    "\n",
    "The computational basis states are eigenstates of the operator $Z$ with eigenvalue $\\pm 1$\n",
    "<br>\n",
    "\n",
    "$$\n",
    "Z \\ket{0} =+ \\ket{0}   ~~~~~~~~~~~~~~~~~~~~~ Z \\ket{1} =-\\ket{1} \n",
    "$$\n",
    "<br>\n",
    "\n",
    "Given a state $\\ket{\\psi} = c^Z_0\\ket{0} + c^Z_1\\ket{1}$, repeated measurement randomly yields the eigenvalues of $Z \\to \\pm 1$ with relative frequencies \n",
    "<br>\n",
    "<br>\n",
    "$$(+1)\\to n^Z_0 ~~~~~~~~~~~~~~~~~~~~~~~~ (-1)\\to n^Z_1$$ "
   ]
  },
  {
   "cell_type": "markdown",
   "metadata": {
    "slideshow": {
     "slide_type": "slide"
    }
   },
   "source": [
    "The expected value is \n",
    "\n",
    "\\begin{eqnarray*}\n",
    "\\langle Z \\rangle_\\psi = \\bra{\\psi} Z \\ket{\\psi} \n",
    "&=& \\left( c^{*Z}_0\\bra{0} + c^{*}Z_1\\bra{1}\\right) Z\\left( c^Z_0\\ket{0} + c^Z_1\\ket{1}\\right)  \\nonumber \\\\ \\rule{0mm}{12mm}\n",
    "&=& \\left( c^{*Z}_0\\bra{0} + c^{*Z}_1\\bra{1}\\right) \\left(+ c^Z_0\\ket{0} - c^Z_1\\ket{1}\\right)  \\nonumber \\\\  \\rule{0mm}{12mm}\n",
    "&=& (+1) |c^Z_0|^2 + (-1) |c^Z_1|^2    \\nonumber \\\\  \\rule{0mm}{12mm}\n",
    "&=& +\\frac{n^Z_0}{N}- \\frac{ n^Z_1}{N}\n",
    "\\end{eqnarray*}\n",
    "\n",
    "the average value, as expected"
   ]
  },
  {
   "cell_type": "markdown",
   "metadata": {
    "slideshow": {
     "slide_type": "fragment"
    }
   },
   "source": [
    "To measure eigenvalues $(-1)^a=+1,-1$ of $Z$ the circuit is simply\n",
    "<br>\n",
    "<br>\n",
    "\n",
    "\n",
    "<figure><center>\n",
    "<img src=\"images/cubit_meter1.png\" align=center width='30%'/>\n",
    "</center></figure>"
   ]
  },
  {
   "cell_type": "markdown",
   "metadata": {
    "slideshow": {
     "slide_type": "slide"
    }
   },
   "source": [
    "- $\\langle X \\rangle_{\\psi}$\n",
    "\n",
    "In the $X$ basis, **the same state** of input will be written with other components $\\ket{\\psi} = c_0^X\\ket{+} + c_1^X\\ket{-}$.\n",
    "\n",
    "If we now measure $\\ket{\\psi}$ in the $X$ basis, the repetition will yield a random sample of eigenvalues of $X\\to \\pm 1$ with frequencies \n",
    "\n",
    "$$~(+1)\\to n^X_0  ~~~~~~~~~~~~~~~~~~~ (-1)\\to n^X_1  $$\n",
    "\n",
    "The expected value of $X$ is obtained from the average of *relative* frequencies\n",
    "<br>\n",
    "<br>\n",
    "\n",
    "\\begin{align}\n",
    "\\langle X \\rangle_\\psi & = (c^{*X}_0\\bra{+} + c_1^{*X}\\bra{-})\\, X \\, (c_0^X\\ket{+} + c_1^X\\ket{-}) \n",
    "& \\\\  \\rule{0mm}{10mm}\n",
    "& = (+1)|c_0^X|^2 +(-1)|c_1^X|^2 \\\\ \\rule{0mm}{10mm}\n",
    "& =~ +\\frac{n^X_0}{N}- \\frac{ n^X_1}{N}\n",
    "\\end{align}\n"
   ]
  },
  {
   "cell_type": "markdown",
   "metadata": {
    "slideshow": {
     "slide_type": "fragment"
    }
   },
   "source": [
    "We have already seen the circuit necessary to measure eigenstates $(-1)^a$ in the $X$ basis \n",
    "<br>\n",
    "<br>\n",
    "\n",
    "<figure><center>\n",
    "<img src=\"images/cubit_meter_xbasis.png\" align=center width='35%'/>\n",
    "</center></figure>"
   ]
  },
  {
   "cell_type": "markdown",
   "metadata": {
    "slideshow": {
     "slide_type": "slide"
    }
   },
   "source": [
    "- $\\langle Y \\rangle_{\\psi}$\n",
    "\n",
    "\n",
    "Similarly, if we measure the state $\\ket{\\psi} = c_0^Y\\ket{+i} + c_1^Y\\ket{-i}$ with a meter associated with the operator $Y = SHZHS^\\dagger$, the repetition will yield a random sample of eigenvalues of $Y\\to \\pm 1$ with relative frequencies $+1\\to n^Y_0$ and $-1\\to n^Y_1$. Then\n",
    "\n",
    "$$\n",
    "\\langle Y \\rangle_\\psi = +\\frac{n^Y_0}{N}- \\frac{ n^Y_1}{N}\\, .\n",
    "$$\n",
    "\n"
   ]
  },
  {
   "cell_type": "markdown",
   "metadata": {
    "slideshow": {
     "slide_type": "fragment"
    }
   },
   "source": [
    "Necessary circuit to measure in the base $ Y$ \n",
    "<br>\n",
    "<br>\n",
    "\n",
    "\n",
    "<figure><center>\n",
    "<img src=\"images/cubit_meter_ybasis.png\" align=center width='35%'/>\n",
    "</center></figure>"
   ]
  },
  {
   "cell_type": "code",
   "execution_count": 23,
   "metadata": {
    "slideshow": {
     "slide_type": "slide"
    }
   },
   "outputs": [
    {
     "data": {
      "image/png": "[encoded data removed]",
      "text/plain": [
       "<Figure size 519.897x200.667 with 1 Axes>"
      ]
     },
     "metadata": {},
     "output_type": "display_data"
    },
    {
     "name": "stdout",
     "output_type": "stream",
     "text": [
      "{'1': 15852, '0': 84148}\n"
     ]
    }
   ],
   "source": [
    "qc_psi_Qiskit = QuantumCircuit(1,1)\n",
    "qc_psi_Qiskit.u(theta,phi,0,0)\n",
    "\n",
    "'añadimos el medidor efectivo segun queramos medir <X>, <Y> o <Z>'\n",
    "#P = 'Z'\n",
    "#P = 'X'\n",
    "P = 'Y'\n",
    "\n",
    "if P =='X':\n",
    "    qc_psi_Qiskit.h(0)    \n",
    "\n",
    "elif P =='Y':\n",
    "    qc_psi_Qiskit.sdg(0)\n",
    "    qc_psi_Qiskit.h(0)\n",
    "\n",
    "qc_psi_Qiskit.measure(0,0)    \n",
    "display(qc_psi_Qiskit.draw('mpl')) \n",
    "\n",
    "nshots = 100000\n",
    "\n",
    "counts_psi = AerSimulator().run(qc_psi_Qiskit,shots = nshots).result().get_counts()\n",
    "print(counts_psi)\n"
   ]
  },
  {
   "cell_type": "markdown",
   "metadata": {
    "slideshow": {
     "slide_type": "slide"
    }
   },
   "source": [
    "Now, with the relative frequencies of the eigenvalues of Z, we can calculate the mean values\n"
   ]
  },
  {
   "cell_type": "code",
   "execution_count": 24,
   "metadata": {
    "slideshow": {
     "slide_type": "-"
    }
   },
   "outputs": [
    {
     "name": "stdout",
     "output_type": "stream",
     "text": [
      "< Y > = 0.68296\n"
     ]
    }
   ],
   "source": [
    "mean_P = 0\n",
    "for bits, counts  in counts_psi.items():\n",
    "    mean_P += (-1)**(int(bits))* (counts/nshots)\n",
    "\n",
    "print('<',P,'>','=',np.round(mean_P,5))\n"
   ]
  },
  {
   "cell_type": "markdown",
   "metadata": {
    "slideshow": {
     "slide_type": "fragment"
    }
   },
   "source": [
    "Finally, we are now in a position to calculate the expected value of an arbitrary observable"
   ]
  },
  {
   "cell_type": "markdown",
   "metadata": {
    "slideshow": {
     "slide_type": "slide"
    }
   },
   "source": [
    "<div class=\"alert alert-block alert-success\">\n",
    "<b>Exercise:</b> \n",
    "<br>    \n",
    "generate an arbitrary observable $A$. Obtain the coefficients $a_i$ and calculate the expected value \n",
    "    \n",
    "\\begin{eqnarray*}\n",
    "\\langle A\\rangle_\\psi  = ~a_0 + a_1 \\langle X\\rangle_\\psi + a_2 \\langle Y\\rangle_\\psi + a_3 \\langle Z\\rangle_\\psi\n",
    "\\end{eqnarray*}\n",
    "</div>"
   ]
  },
  {
   "cell_type": "markdown",
   "metadata": {
    "slideshow": {
     "slide_type": "slide"
    }
   },
   "source": [
    "### $\\langle A \\rangle$ with a single circuit**\n",
    "\n",
    "We can write the decomposition of $A$ in the following way\n",
    "\n",
    "$$\n",
    "A = a_0 I + |{\\bf a}| ~ \\hat \\bn \\cdot \\bsig \n",
    "$$\n",
    "\n",
    "where ${\\bf a} = (a_1,a_2,a_3)~$ and $~\\hat \\bn = {\\bf a}/ |{\\bf a}|$.\n",
    "So now\n",
    "\n",
    "$$\n",
    "\\langle A \\rangle_\\psi  = a_0 + |\\bf a| \\,  \\langle \\bn \\cdot \\bsig  \\rangle_\\psi\n",
    "$$\n",
    "\n",
    "We see that to calculate $\\langle A \\rangle_\\psi$ it is sufficient to know the values $a_i = (a_0,{\\bf a})$ and **a single circuit** that provides us with the expected value $\\langle \\bn \\cdot \\bsig  \\rangle_\\psi$. \n"
   ]
  },
  {
   "cell_type": "markdown",
   "metadata": {
    "slideshow": {
     "slide_type": "slide"
    }
   },
   "source": [
    "The key to this last point is to use the *effective meter* in the direction $\\hat \\bn$ \n",
    "\n",
    "<br>\n",
    "\n",
    "<figure><center>\n",
    "<img src=\"images/Un_meter.png\" align=center width='40%'/>\n",
    "</center></figure>\n",
    "\n",
    "<br>\n",
    "\n",
    "With the output of this circuit, the expected value is analogous\n",
    "\n",
    "$$\n",
    "\\langle \\bn \\cdot \\bsig  \\rangle_\\psi =  + \\frac{n_0}{N} - \\frac{n_1}{N}\n",
    "$$"
   ]
  },
  {
   "cell_type": "markdown",
   "metadata": {},
   "source": [
    "<div class=\"alert alert-block alert-success\">\n",
    "<b>Exercise:</b> \n",
    "   \n",
    "Write a function that calculates the expected value of an operator $A$ in a state $\\ket{\\psi}$ using this method. Verify that it is consistent with the previous method. \n",
    "</div>"
   ]
  },
  {
   "cell_type": "markdown",
   "metadata": {
    "slideshow": {
     "slide_type": "skip"
    }
   },
   "source": [
    "## Standard Deviation"
   ]
  },
  {
   "cell_type": "markdown",
   "metadata": {
    "slideshow": {
     "slide_type": "skip"
    }
   },
   "source": [
    "\n",
    "Given a random variable, $(\\lambda,p(\\lambda))$, the *variance* is *the mean value of the squared deviation around the mean*\n",
    "<br>\n",
    "<br>\n",
    "$$\n",
    "~~\\sigma ^2 = \\overline{(\\lambda-\\bar\\lambda)^2}\n",
    "$$\n"
   ]
  },
  {
   "cell_type": "markdown",
   "metadata": {
    "slideshow": {
     "slide_type": "skip"
    }
   },
   "source": [
    "In the case where the random variable is the results of the measurements of an observable $A$ in a quantum state $\\ket{\\psi}$, the variance will be the mean value of the operator $(A-\\langle A\\rangle_\\psi)^2$, that is\n",
    "<br>\n",
    "<br>\n",
    "\\begin{align}\n",
    "\\sigma(A,\\psi)^2 &= \\langle  (A - \\langle A\\rangle_\\psi )^2 \\rangle_\\psi \\\\  \\rule{0mm}{8mm}\n",
    "&= \\bra{\\psi} (A - \\langle A\\rangle_\\psi )^2 \\ket{\\psi} \\\\ \\rule{0mm}{8mm}\n",
    "&= \\bra{\\psi} (A^2 - 2 A \\langle A\\rangle_\\psi + \\langle A\\rangle_\\psi^2 ) \\ket{\\psi} \\\\  \\rule{0mm}{8mm}\n",
    "& = \\bra{\\psi}A^2\\ket{\\psi} - \\bra{\\psi}A\\ket{\\psi}^2\n",
    "\\end{align}\n",
    "<br>\n",
    "\n",
    "so that, we arrive at the following expression for the standard deviation $\\Delta_\\psi A = \\sigma(A,\\psi)$"
   ]
  },
  {
   "cell_type": "markdown",
   "metadata": {
    "slideshow": {
     "slide_type": "skip"
    }
   },
   "source": [
    "<div class=\"alert alert-block alert-info\",text-align:center>\n",
    "<p style=\"color: navy;\">  \n",
    "<b>Theorem:</b> <i> standard deviation of an observable in a state</i>\n",
    "<br>\n",
    "<br>\n",
    "$$  \\Delta_\\psi A =  \\sqrt{\\bra{\\psi}A^2\\ket{\\psi} - \\bra{\\psi} A\\ket{\\psi}^2}\n",
    "$$\n",
    "<br>\n",
    "</div>\n"
   ]
  },
  {
   "cell_type": "markdown",
   "metadata": {
    "slideshow": {
     "slide_type": "skip"
    }
   },
   "source": [
    "Neither the variance nor the standard deviation are linear operations $\\Delta_\\psi(A+B) \\neq \\Delta_\\psi A + \\Delta_\\psi B$.\n",
    "\n",
    "Therefore, it is necessary to calculate the expected values $\\langle A^2\\rangle_\\psi$ and $\\langle A\\rangle_\\psi^2$ separately."
   ]
  },
  {
   "cell_type": "markdown",
   "metadata": {
    "slideshow": {
     "slide_type": "skip"
    }
   },
   "source": [
    "<div class=\"alert alert-block alert-success\">\n",
    "<b>Exercise:</b> \n",
    "<br>\n",
    "Write a function <i>desv_estandar</i>, which receives as arguments an observable $A$ and a state $\\ket{\\psi}$ and calculates by quantum simulation $\\Delta_\\psi A$. \n",
    "</div>"
   ]
  },
  {
   "cell_type": "markdown",
   "metadata": {
    "slideshow": {
     "slide_type": "skip"
    }
   },
   "source": [
    "<div class=\"alert alert-block alert-success\">\n",
    "<b>Exercise:</b> \n",
    "<br>\n",
    "Generate two random observables $A$ and $B$. Using the <i>std_dev</i> function, verify the Heisenberg uncertainty relation\n",
    "<br>\n",
    "<br>\n",
    "$$\n",
    "\\Delta_\\psi A\\, \\Delta_\\psi B \\geq \\frac{1}{2} | \\langle [A,B]\\rangle_\\psi |\n",
    "$$\n",
    "</div>"
   ]
  },
  {
   "cell_type": "markdown",
   "metadata": {
    "slideshow": {
     "slide_type": "skip"
    }
   },
   "source": [
    "## Expected Value of a Unitary Operator"
   ]
  },
  {
   "cell_type": "markdown",
   "metadata": {
    "slideshow": {
     "slide_type": "skip"
    }
   },
   "source": [
    "Suppose we know how to prepare, using a circuit, the state $\\ket{\\psi}$ from the state $\\ket{0}$.\n",
    "\n",
    "$$\\ket{\\psi} = U\\ket{0}$$\n",
    "\n",
    "In this case, we can calculate the expected value of any unitary operator $V$ as follows\n",
    "\n",
    "$$\n",
    "\\bra{\\psi}V\\ket{\\psi} = \\bra{0} U^\\dagger V U\\ket{0} = \\braket{0}{\\tilde \\psi}\n",
    "$$\n",
    "\n",
    "where $$\\ket{\\tilde\\psi} \\equiv U^\\dagger V U\\ket{0}$$ \n",
    "\n",
    "and the action of the unitary operator $U^\\dagger V U$ is performed through a composition of circuits initialized in $\\ket{0}$"
   ]
  },
  {
   "cell_type": "markdown",
   "metadata": {
    "slideshow": {
     "slide_type": "skip"
    }
   },
   "source": [
    "Measuring $\\ket{\\tilde \\psi}$ in the $Z$ basis, the relative fraction of results $0\\to n_0/N$ gives us access to the *modulus of the expected value*,\n",
    "\n",
    "$$\n",
    "\\sqrt{ \\frac{n_{0}(\\tilde\\psi)}{N} } ~=~  \\sqrt{p_0}  ~=~   | \\braket{0}{\\tilde \\psi}|  ~=~ |\\bra{\\psi}V\\ket{\\psi}|   \n",
    "$$\n"
   ]
  },
  {
   "cell_type": "markdown",
   "metadata": {
    "slideshow": {
     "slide_type": "skip"
    }
   },
   "source": [
    "<div class=\"alert alert-block alert-info\">\n",
    "<p style=\"text-align:left ;color: navy;\">  \n",
    "Circuit necessary to measure $\\langle V\\rangle_{\\psi} $ where $\\ket{\\psi} = U\\ket{0}$ is a preparable state\n",
    "<br>\n",
    "<br>\n",
    "<div>\n",
    "<img src=\"images/vev_unitary_V.png\" width=\"45%\" style=\"margin:auto\"/>\n",
    "</p>\n",
    "</div>\n"
   ]
  },
  {
   "cell_type": "markdown",
   "metadata": {
    "slideshow": {
     "slide_type": "skip"
    }
   },
   "source": [
    "If $V$, in addition to being <i>unitary</i>, were <i>hermitian</i>, then we would have access to the complete expected value, as it is a real quantity.\n",
    "\n",
    "One-qubit unitary and hermitian operators are, for example, the operators \n",
    "$V = X,Y,Z,H$. \n",
    "</div>"
   ]
  },
  {
   "cell_type": "markdown",
   "metadata": {
    "slideshow": {
     "slide_type": "skip"
    }
   },
   "source": [
    "This argument allows us to calculate in another way \n",
    "\n",
    "$$\n",
    "\\left. \n",
    "\\begin{array}{c} \\langle Z\\rangle_\\psi \\\\ \\rule{0mm}{8mm} \\langle X\\rangle_\\psi \\\\ \\rule{0mm}{8mm} \\langle Y\\rangle_\\psi \\end{array}\n",
    "\\right\\} ~=~\\braket{0}{\\tilde\\psi} ~=~ \\sqrt{\\frac{n_{0}(\\tilde\\psi)}{N}} ~~~\\hbox{with}~~~~\n",
    "\\left\\{ \n",
    "\\begin{array}{l}  \\ket{\\tilde \\psi} = U^\\dagger  Z  U\\ket{0} \\\\ \\rule{0mm}{8mm} \\ket{\\tilde \\psi} = U^\\dagger H Z H U\\ket{0}  \\\\ \\rule{0mm}{8mm}  \\ket{\\tilde \\psi} = U^\\dagger SH Z HS^\\dagger U\\ket{0} \\end{array}\n",
    "\\right.\n",
    "$$"
   ]
  },
  {
   "cell_type": "markdown",
   "metadata": {
    "slideshow": {
     "slide_type": "skip"
    }
   },
   "source": [
    "As we can see, we gain ease of calculation but lose information about the sign of $\\langle V\\rangle_\\psi$"
   ]
  },
  {
   "cell_type": "markdown",
   "metadata": {
    "slideshow": {
     "slide_type": "skip"
    }
   },
   "source": [
    "<div class=\"alert alert-block alert-success\">\n",
    "<b>Exercise:</b> \n",
    "Calculate using this procedure the values of $\\langle X\\rangle_\\psi$, $\\langle Y\\rangle_\\psi$, and $\\langle Z\\rangle_\\psi$ found previously and verify that you obtain the same result. \n",
    "</div>"
   ]
  },
  {
   "cell_type": "code",
   "execution_count": null,
   "metadata": {
    "run_control": {
     "marked": true
    },
    "slideshow": {
     "slide_type": "skip"
    }
   },
   "outputs": [],
   "source": [
    "' el operador unitario que genera |psi>  a partir de |0> es U(theta, phi, 0,0)'\n",
    "qc_psi_U = QuantumCircuit(1,1)\n",
    "qc_psi_U.u(theta,phi,0,0)\n",
    "\n",
    "\n",
    "'fijemos el observable a medir'\n",
    "P = 'Y'\n",
    "\n",
    "if P =='X':\n",
    "    qc_psi_U.x(0)\n",
    "elif P=='Y':\n",
    "    qc_psi_U.y(0)\n",
    "elif P=='Z':\n",
    "    qc_psi_U.z(0)\n",
    "    \n",
    "qc_psi_U.u(-theta,-phi,0,0)\n",
    "\n",
    "\n",
    "qc_psi_U.measure(0,0)\n",
    "\n",
    "display(qc_psi_U.draw('mpl'))\n",
    "\n",
    "' ejecutamos '\n",
    "shots= 100000\n",
    "counts=AerSimulator().run(qc_psi_U,shots=shots).result().get_counts()\n",
    "\n",
    "' ahora solo nos interesa la fracción de 0s '\n",
    "mean_P = np.sqrt(counts['0']/shots)\n",
    "print('|<',P,'>| =',np.round(mean_P,5))"
   ]
  }
 ],
 "metadata": {
  "celltoolbar": "Slideshow",
  "kernelspec": {
   "display_name": "Python 3 (ipykernel)",
   "language": "python",
   "name": "python3"
  },
  "language_info": {
   "codemirror_mode": {
    "name": "ipython",
    "version": 3
   },
   "file_extension": ".py",
   "mimetype": "text/x-python",
   "name": "python",
   "nbconvert_exporter": "python",
   "pygments_lexer": "ipython3",
   "version": "3.12.3"
  },
  "nbTranslate": {
   "displayLangs": [
    "*"
   ],
   "hotkey": "alt-t",
   "langInMainMenu": true,
   "sourceLang": "en",
   "targetLang": "fr",
   "useGoogleTranslate": true
  },
  "toc": {
   "base_numbering": 1,
   "nav_menu": {},
   "number_sections": true,
   "sideBar": true,
   "skip_h1_title": false,
   "title_cell": "Table of Contents",
   "title_sidebar": "Contents",
   "toc_cell": false,
   "toc_position": {},
   "toc_section_display": true,
   "toc_window_display": false
  },
  "varInspector": {
   "cols": {
    "lenName": 16,
    "lenType": 16,
    "lenVar": 40
   },
   "kernels_config": {
    "python": {
     "delete_cmd_postfix": "",
     "delete_cmd_prefix": "del ",
     "library": "var_list.py",
     "varRefreshCmd": "print(var_dic_list())"
    },
    "r": {
     "delete_cmd_postfix": ") ",
     "delete_cmd_prefix": "rm(",
     "library": "var_list.r",
     "varRefreshCmd": "cat(var_dic_list()) "
    }
   },
   "types_to_exclude": [
    "module",
    "function",
    "builtin_function_or_method",
    "instance",
    "_Feature"
   ],
   "window_display": false
  }
 },
 "nbformat": 4,
 "nbformat_minor": 4
}
