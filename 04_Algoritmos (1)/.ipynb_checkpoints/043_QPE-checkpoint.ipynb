{
 "cells": [
  {
   "cell_type": "markdown",
   "metadata": {
    "slideshow": {
     "slide_type": "slide"
    }
   },
   "source": [
    "<img src=\"../figuras/logos/logo_usc.jpg\" align=right width='80px'/>\n",
    "<br>\n",
    "\n",
    "<table width=\"100%\">\n",
    "<td style=\"font-size:40px;font-style:italic;text-align:left;background-color:rgba(0, 220, 170,0.7)\">\n",
    "Estimación Cuántica de Fase\n",
    "</td></table>\n",
    "\n",
    "\n",
    "$ \\newcommand{\\bra}[1]{\\langle #1|} $\n",
    "$ \\newcommand{\\ket}[1]{|#1\\rangle} $\n",
    "$ \\newcommand{\\braket}[2]{\\langle #1|#2\\rangle} $\n",
    "$ \\newcommand{\\i}{{\\color{blue} i}} $ \n",
    "$ \\newcommand{\\Hil}{{\\cal H}} $\n",
    "$ \\newcommand{\\cg}[1]{{\\rm C}#1} $\n",
    "\n"
   ]
  },
  {
   "cell_type": "code",
   "execution_count": 1,
   "metadata": {
    "slideshow": {
     "slide_type": "slide"
    }
   },
   "outputs": [],
   "source": [
    "import sys\n",
    "sys.path.append('../')\n",
    "import macro_tQ as tQ\n",
    "import numpy as np"
   ]
  },
  {
   "cell_type": "markdown",
   "metadata": {
    "slideshow": {
     "slide_type": "slide"
    }
   },
   "source": [
    "# Estimación Cuántica de Fase"
   ]
  },
  {
   "cell_type": "markdown",
   "metadata": {
    "slideshow": {
     "slide_type": "slide"
    }
   },
   "source": [
    " Sea $U$ un operador unitario y  $\\ket{u}$ un autovector. Por ser unitario, su autovalor es una fase compleja \n",
    "<br>\n",
    "<br>\n",
    "\n",
    "$$\n",
    "U \\ket{u} = e^{2\\pi i \\varphi} \\ket{u}\\, ,\n",
    "$$\n",
    "<br>\n"
   ]
  },
  {
   "cell_type": "markdown",
   "metadata": {
    "slideshow": {
     "slide_type": "fragment"
    }
   },
   "source": [
    "\n",
    "$\\Rightarrow~$ **Promesa**: *podemos preparar*  $\\ket{u}$ y aplicar el operador $U$ <u>tantas veces como sea necesario<u> \n",
    "\n",
    "\n",
    "$\\Rightarrow~$ **Problema**:  calcular  la <u>*mejor aproximación posible*</u> a $\\varphi$. "
   ]
  },
  {
   "cell_type": "markdown",
   "metadata": {
    "slideshow": {
     "slide_type": "skip"
    }
   },
   "source": [
    "<div class=\"alert alert-block alert-danger\">\n",
    "<b> Notar: </b> $~$    los autovalores  $\\lambda = e^{i2\\pi \\varphi}=e^{i2\\pi (\\varphi+n)}$  son iguales, para cualquier $n\\in {\\mathbb Z}$ entero. Por tanto será suficiente considerar valores de $\\varphi$ en el intervalo\n",
    "    \n",
    "$$\\varphi \\in [0,1)$$\n",
    "    \n",
    "para generar <i>todos</i> los  posibles autovalores $\\lambda$ distintos.\n",
    "</div> \n",
    " \n",
    " "
   ]
  },
  {
   "cell_type": "markdown",
   "metadata": {
    "slideshow": {
     "slide_type": "slide"
    }
   },
   "source": [
    "\n",
    "<br>\n",
    "<figure>\n",
    "<a id='fig_ref'></a>\n",
    "<img src=\"./figuras/QPE.png\" align=center width='500px'/>\n",
    "<center></center>\n",
    "</figure>\n",
    "<br>"
   ]
  },
  {
   "cell_type": "markdown",
   "metadata": {
    "slideshow": {
     "slide_type": "-"
    }
   },
   "source": [
    "El circuito  QPE (\"Quantum Phase Estimation\") viene representado en la figura,  donde el primer registro tiene dimensión $t$ y la entrada es el estado $\\ket{0}_t\\otimes \\ket{u}$.  \n",
    "\n",
    "- La dimensión $t$ del primer registro **controlará la precisión de nuestra aproximación** a $\\varphi$. \n",
    "\n",
    "\n",
    "- La dimensión $n$ del espacio al que pertenece $\\ket{u}$  es la necesaria para servir de espacio de representación para $U$.\n"
   ]
  },
  {
   "cell_type": "markdown",
   "metadata": {
    "slideshow": {
     "slide_type": "slide"
    }
   },
   "source": [
    "Si el primer registro tiene $t$ cúbits $\\{\\ket{y}\\}$ con $y \\in S_t = 0,1,... 2^t-1$\n"
   ]
  },
  {
   "cell_type": "markdown",
   "metadata": {
    "slideshow": {
     "slide_type": "fragment"
    }
   },
   "source": [
    "Si el primer registro tiene $t$ cúbits, el estado que genera el circuito justo antes de la transformada de Fourier\n",
    "\n",
    "\\begin{eqnarray}\n",
    "\\ket{0}_t \\otimes \\ket{u} ~ &\\stackrel{H^t}{\\longrightarrow} & ~  \\sum_{y\\in S_t}\\ket{y} \\otimes \\ket{u} ~ =  \\sum_{y_0...y_{t-1}=0,1}\\ket{y_{t-1}}...\\ket{y_0}\\otimes \\ket{u}  \n",
    "\\\\   \\rule{0mm}{10mm}\n",
    " &\\stackrel{\\cg{U^y}}{\\longrightarrow} & \\sum_{y_0...y_{t-1}=0,1}\\ket{y_{t-1}}...\\ket{y_0}\\otimes U^{y_{t-1}2^{t-1}}...U^{y_0 2^{0}} \\ket{u} \\\\  \\rule{0mm}{10mm}\n",
    " && =    \\sum_{y\\in S_t} \\ket{y} \\,  U^{y_{t-1}2^{t-1}+ \\ldots +y_0 2^0}\\ket{u}  \\\\\n",
    " && = \\,    \\sum_{y\\in S_t} \\ket{y} \\,  U^y\\ket{u} \\rule{0mm}{10mm}\n",
    "\\end{eqnarray}"
   ]
  },
  {
   "cell_type": "markdown",
   "metadata": {
    "slideshow": {
     "slide_type": "fragment"
    }
   },
   "source": [
    "**La clave**: cuando $\\ket{u}$ es un <i>autoestado</i>  de $U$, se produce un <i>retroceso de fase</i> \n",
    "<br>\n",
    "<br>\n",
    "\\begin{eqnarray}\n",
    " \\frac{1}{2^{t/2}} \\sum_{y\\in S_t} \\ket{y} U^{y}\\ket{u}  ~= ~  \\frac{1}{2^{t/2}} \\sum_{y\\in S_t} \\ket{y} \\otimes e^{2\\pi i \\varphi y}  \\ket{u} ~= ~ \\frac{1}{2^{t/2}} \\sum_{y\\in S_t} e^{2\\pi i (2^t \\varphi)  y/2^t} \\ket{y} \\otimes \\ket{u}  \\label{fase1}  \n",
    "\\end{eqnarray}"
   ]
  },
  {
   "cell_type": "markdown",
   "metadata": {
    "slideshow": {
     "slide_type": "slide"
    }
   },
   "source": [
    "<u>Observa el primer registro</u> : parece la <i>transformada de Fourier</i> $\\ket{\\widetilde{2^t \\varphi}}$   del vector $\\ket{2^t \\varphi}$ \n",
    "\n",
    "$$\n",
    "  \\frac{1}{2^{t/2}} \\sum_{y\\in S_t} e^{2\\pi i (2^t \\varphi)  y/2^t} \\ket{y}  \n",
    "  = U_{TFC}\\ket{2^t \\varphi} =  \\ket{\\widetilde{2^t \\varphi}}  \n",
    "$$\n",
    "\n",
    " Esto sería correcto si el número $2^t\\varphi \\in S_t$ *fuese un entero*"
   ]
  },
  {
   "cell_type": "markdown",
   "metadata": {
    "slideshow": {
     "slide_type": "fragment"
    }
   },
   "source": [
    "Sin embargo $2^t\\varphi \\notin {\\mathbb Z}$ en general <b>¡ no será\n",
    "un entero </b>!\n",
    "\n",
    "  Vamos entonces a separarlo en la forma siguiente en sus partes *entera* $a\\in {\\mathbb Z}$ y *mantisa* $\\delta \\in [0,1)$\n",
    "\n",
    "$$\n",
    "2^t \\varphi  =a + \\delta \n",
    "$$"
   ]
  },
  {
   "cell_type": "markdown",
   "metadata": {
    "slideshow": {
     "slide_type": "fragment"
    }
   },
   "source": [
    "<br>\n",
    "<br>\n",
    "\n",
    "<div class=\"alert alert-block alert-warning\">\n",
    "<b> Ejemplo: </b> si $\\varphi = 0.4375 \\in [0,1) $ entonces\n",
    "<br>\n",
    "    \n",
    "- $ 2^2 \\varphi = 1.75 \\Rightarrow a=1~,~\\delta = 0.75$ \n",
    "- $ 2^3 \\varphi = 3.5~ \\Rightarrow a=3~,~\\delta = 0.5$ \n",
    "- $ 2^4 \\varphi = 7  ~~~ \\Rightarrow a=7~,~\\delta = 0$\n",
    "    \n",
    "En el fondo esto es así porque $0.4375 = 7 / 2^{4}$ pero si $\\varphi$ fuese *irracional* no existiría ningún $t$ para el cuál $2^t\\varphi$ no tenga mantisa.   \n",
    "</div>"
   ]
  },
  {
   "cell_type": "markdown",
   "metadata": {
    "slideshow": {
     "slide_type": "slide"
    }
   },
   "source": [
    "Vamos a terminar el circuito\n",
    "<br>\n",
    "<figure>\n",
    "<a id='fig_ref'></a>\n",
    "<img src=\"./figuras/QPE.png\" align=center width='500px'/>\n",
    "<center></center>\n",
    "</figure>\n",
    "<br>\n"
   ]
  },
  {
   "cell_type": "markdown",
   "metadata": {
    "slideshow": {
     "slide_type": "fragment"
    }
   },
   "source": [
    "\n",
    "Introduciendo el cambio de variable $2^t \\varphi  =a + \\delta$  vamos a efectuar la transformada de Fourier inversa en el primer registro\n",
    "<br>\n",
    "<br>\n",
    "\n",
    "\\begin{eqnarray}\n",
    "U^\\dagger_{TFC} \\frac{1}{\\sqrt{2^t}} \\sum_{y=0}^{2^t-1} e^{2\\pi i  \\, (a + \\delta) y/2^t} \\ket{y} &=&\\frac{1}{\\sqrt{2^t}} \\sum_{y=0}^{2^t-1} e^{2\\pi i  \\, (a + \\delta) y/2^t} U^\\dagger_{TFC} \\ket{y}\n",
    "\\\\ \\rule{0mm}{10mm}\n",
    "~&=&~ \\frac{1}{2^{t}}  \\sum_{y=0}^{2^t-1}  e^{2\\pi i (a + \\delta) y/2^t}\\left( \\sum_{x=0}^{2^t-1}e^{-2\\pi i  yx/2^t}\\ket{x} \\right)   \\\\\n",
    "~&=&~ \\frac{1}{2^{t}} \\sum_{x=0}^{2^t-1} \\sum_{y=0}^{2^t-1}  e^{2\\pi i (a + \\delta  -x) y/2^t} \\ket{x}  ~ \\equiv ~ \\ket{\\Phi}\n",
    "\\end{eqnarray}\n",
    "\n",
    "<br>"
   ]
  },
  {
   "cell_type": "markdown",
   "metadata": {
    "slideshow": {
     "slide_type": "slide"
    }
   },
   "source": [
    "Si $\\underline{\\delta = 0}:~$  es decir, si $2^t\\varphi$ fuese un entero $a\\in S_t = \\{0, \\ldots, 2^t-1\\}$, \n",
    " entonces el resultado\n",
    "sería  <b>exactamente</b> $\\ket{\\Phi} = \\ket{a} = \\ket{2^t\\varphi}$ \n",
    "<br>\n",
    "<br>\n",
    "\\begin{eqnarray}\n",
    "\\ket{\\Phi} &=&  \\sum_{x=0}^{2^t-1} \\frac{1}{2^{t}}  \\left(\\sum_{y=0}^{2^t-1}  e^{2\\pi i (a-x) y/2^t} \\right)\\ket{x}  \\\\  \\rule{0mm}{10mm}\n",
    "&=&  \\sum_{x=0}^{2^t-1}  \\frac{1}{2^{t}} \\left(2^t \\delta_{x,a} \\right)\\ket{x}\\\\ \\rule{0mm}{10mm}\n",
    "&=& \\ket{a}\n",
    "\\end{eqnarray}\n",
    "\n",
    "\n"
   ]
  },
  {
   "cell_type": "markdown",
   "metadata": {
    "slideshow": {
     "slide_type": "fragment"
    }
   },
   "source": [
    "En este caso: \n",
    " \n",
    "-    midiendo el primer registro obtendríamos un registro binario del número $a\\in[0, 2^t-1]$ \n",
    "\n",
    "-    con $a$ recuperaríamos la *fase* buscada *de forma exacta*.\n",
    "\n",
    "$$\n",
    " \\varphi = \\frac{a}{2^t}  \\in [0,1)\n",
    "$$ \n",
    " \n",
    " \n"
   ]
  },
  {
   "cell_type": "markdown",
   "metadata": {
    "slideshow": {
     "slide_type": "slide"
    }
   },
   "source": [
    "Si $\\underline{\\delta \\neq 0}:~$ \n",
    "\n",
    "- El estado en el primer registro  $\\ket{\\Phi} = \\sum_{x=0}^{2^t-1} f(x) \\ket{x}$ será una superposición. \n",
    "<br>\n",
    "<br>\n",
    "\n",
    "$$\n",
    "\\ket{\\Phi} =  \\sum_{x=0}^{2^t-1} \\left( \\frac{1}{2^{t}}\\sum_{y=0}^{2^t-1}  e^{2\\pi i (a + \\delta  -x) y/2^t} \\right) \\ket{x}  \n",
    "= \\sum_{x=0}^{2^t-1} f(x) \\ket{x}\n",
    "$$\n",
    "<br>\n"
   ]
  },
  {
   "cell_type": "markdown",
   "metadata": {
    "slideshow": {
     "slide_type": "fragment"
    }
   },
   "source": [
    "\n",
    "- Una medida dará el registro binario de *un número entero* $x \\to m \\in [0,2^t-1)$ con distribución de probabilidad $p(m) = |f(m)|^2$ centrada en $m=a=[2^t\\varphi]$\n",
    "\n"
   ]
  },
  {
   "cell_type": "markdown",
   "metadata": {
    "slideshow": {
     "slide_type": "slide"
    }
   },
   "source": [
    "## Ejemplo\n",
    "\n",
    "Vamos a estudiar esta distribución analizando el operador unitario de fase\n",
    "<br>\n",
    "<br>\n",
    "\n",
    "$$\n",
    "U =  \\begin{bmatrix} e^{2\\pi i \\phi_0} & 0 \\\\ 0 & e^{2\\pi i\\phi_1}\\end{bmatrix} \n",
    "$$\n",
    "<br>\n",
    "\n",
    "que tiene por autoestados  $\\ket{0}$ y $\\ket{1}$ con autovalores $e^{2\\pi\\phi_0}$ y $e^{2\\pi \\phi_1}$ respectivamente. \n",
    "<br>\n",
    "<br>"
   ]
  },
  {
   "cell_type": "markdown",
   "metadata": {
    "slideshow": {
     "slide_type": "fragment"
    }
   },
   "source": [
    "\n",
    "Para programar este operador notamos que \n",
    "<br>\n",
    "<br>\n",
    "\n",
    "$$\n",
    "U =  \n",
    "\\begin{bmatrix} e^{2\\pi \\phi_0} & 0 \\\\ 0 & e^{-2\\pi i\\phi_0}\\end{bmatrix}\n",
    "\\begin{bmatrix} 1 & 0 \\\\ 0 & e^{2\\pi i(\\phi_0+\\phi_1)}\\end{bmatrix} = \n",
    "R_z(\\theta = -4\\pi \\phi_0) \\cdot P(\\theta = 2\\pi (\\phi_1+\\phi_0))\n",
    "$$\n",
    "<br>\n"
   ]
  },
  {
   "cell_type": "markdown",
   "metadata": {
    "slideshow": {
     "slide_type": "fragment"
    }
   },
   "source": [
    "El circuito requiere la versión *controlada* $\\cg U^k$ de potencias de este operador"
   ]
  },
  {
   "cell_type": "code",
   "execution_count": 2,
   "metadata": {
    "slideshow": {
     "slide_type": "fragment"
    }
   },
   "outputs": [],
   "source": [
    "def c_Uop(phi0,phi1,power):\n",
    "    U = QuantumCircuit(1)        \n",
    "    for _ in range(power):\n",
    "        U.rz(-phi0*4*np.pi,0)\n",
    "        U.p((phi1+phi0)*2*np.pi,0)\n",
    "    U = U.to_gate()\n",
    "    U.name = \"c_U(%f ,%f)^%i\" % (np.round(phi0,5), np.round(phi1,5),power)\n",
    "    U = U.control()\n",
    "    return U\n",
    "    "
   ]
  },
  {
   "cell_type": "markdown",
   "metadata": {
    "slideshow": {
     "slide_type": "slide"
    }
   },
   "source": [
    "Para poner a prueba el algoritmo vamos a  por seleccionar unos valores de $\\phi_i = (\\phi_0,\\phi_1)$ de la forma  \n",
    "\n",
    "$$\\phi_i = (a_i + \\delta_i) 2^{-t}$$"
   ]
  },
  {
   "cell_type": "code",
   "execution_count": 3,
   "metadata": {
    "slideshow": {
     "slide_type": "fragment"
    }
   },
   "outputs": [
    {
     "name": "stdout",
     "output_type": "stream",
     "text": [
      "phi0= 0.275  ->   2^t*phi0 = a0 + delta0 =  2.2  , a0 = 2 => 010\n",
      "phi1= 0.375  ->   2^t*phi1 = a1 + delta1 =  3.0  , a1 = 3 => 011\n"
     ]
    }
   ],
   "source": [
    "t_seed=3\n",
    "\n",
    "a0 = 2.\n",
    "delta0 = 0.2\n",
    "phi0 = (a0+delta0)*2.**(-t_seed) \n",
    "\n",
    "a1 = 3.\n",
    "delta1 = 0.\n",
    "phi1 =(a1+ delta1)*2.**(-t_seed) \n",
    "\n",
    "print('phi0=', phi0, ' ->   2^t*phi0 = a0 + delta0 = ', 2**t_seed*phi0 , ' , a0 =' ,int(2**t_seed*phi0), '=>', format(int(2**t_seed*phi0),'b').zfill(t_seed) )\n",
    "print('phi1=', phi1, ' ->   2^t*phi1 = a1 + delta1 = ', 2**t_seed*phi1 , ' , a1 =' ,int(2**t_seed*phi1), '=>', format(int(2**t_seed*phi1),'b').zfill(t_seed) )\n"
   ]
  },
  {
   "cell_type": "markdown",
   "metadata": {
    "slideshow": {
     "slide_type": "fragment"
    }
   },
   "source": [
    "Construimos el circuito QPE"
   ]
  },
  {
   "cell_type": "code",
   "execution_count": 4,
   "metadata": {
    "slideshow": {
     "slide_type": "slide"
    }
   },
   "outputs": [
    {
     "data": {
      "image/png": "[encoded data removed]",
      "text/plain": [
       "<Figure size 2239.99x1454.83 with 1 Axes>"
      ]
     },
     "execution_count": 4,
     "metadata": {},
     "output_type": "execute_result"
    }
   ],
   "source": [
    "from qiskit import QuantumCircuit, QuantumRegister, ClassicalRegister\n",
    "\n",
    "t = 6 # la dimensión del registro de evaluación \n",
    "n = 1 # la dimensiónd el espacio de representación del opeador U\n",
    "\n",
    "qrt=QuantumRegister(t,name=\"t\")\n",
    "qra=QuantumRegister(n,name=\"qr_U\") # aquí 1 es la dimensión del espacio en el que opera U\n",
    "crt=ClassicalRegister(t)\n",
    "\n",
    "qpe = QuantumCircuit(qrt,qra,crt)   \n",
    "\n",
    "##########################################################################\n",
    "#inicializamos la ancilla en un autoestado |u> =|0> o |u> = |1>\n",
    "#qpe.x(qra)   \n",
    "##########################################################################\n",
    "\n",
    "qpe.h(range(t))\n",
    "qpe.barrier()\n",
    "\n",
    "# aplicamos los operadores controlados c-U^j \n",
    "for j in range(t):\n",
    "    qpe.append(c_Uop(phi0,phi1,2**j),[qrt[j]]+qra[:])\n",
    "\n",
    "qpe.barrier()\n",
    "\n",
    "# aplicamos la QFT^-1 que está definida en macro.py \n",
    "qpe.append(tQ.TFC_adj(t),qrt)\n",
    "\n",
    "# podemos hacerlo usando la librería de qiskit \n",
    "#from qiskit.circuit.library import QFT\n",
    "#qpe.append(QFT(len(qr),do_swaps=True).inverse(),qr)\n",
    "\n",
    "\n",
    "qpe.measure(qrt,crt)\n",
    "\n",
    "qpe.draw(output=\"mpl\")"
   ]
  },
  {
   "cell_type": "code",
   "execution_count": 7,
   "metadata": {
    "slideshow": {
     "slide_type": "slide"
    }
   },
   "outputs": [
    {
     "data": {
      "image/png": "[encoded data removed]",
      "text/plain": [
       "<Figure size 640x480 with 1 Axes>"
      ]
     },
     "execution_count": 7,
     "metadata": {},
     "output_type": "execute_result"
    }
   ],
   "source": [
    "from qiskit_aer import AerSimulator\n",
    "from qiskit.visualization import plot_histogram\n",
    "from qiskit.compiler import transpile\n",
    "\n",
    "backend = AerSimulator()\n",
    "\n",
    "counts = backend.run(transpile(qpe,backend), shots=2048).result().get_counts()\n",
    "plot_histogram(counts)"
   ]
  },
  {
   "cell_type": "markdown",
   "metadata": {
    "slideshow": {
     "slide_type": "fragment"
    }
   },
   "source": [
    "De aquí extraemos la aproximación que hemos obtenido. "
   ]
  },
  {
   "cell_type": "code",
   "execution_count": 8,
   "metadata": {
    "slideshow": {
     "slide_type": "-"
    }
   },
   "outputs": [
    {
     "data": {
      "text/plain": [
       "'010010'"
      ]
     },
     "execution_count": 8,
     "metadata": {},
     "output_type": "execute_result"
    }
   ],
   "source": [
    "max(counts, key=counts.get)"
   ]
  },
  {
   "cell_type": "code",
   "execution_count": 9,
   "metadata": {
    "slideshow": {
     "slide_type": "fragment"
    }
   },
   "outputs": [
    {
     "name": "stdout",
     "output_type": "stream",
     "text": [
      "el valor de phi original era = 0.275\n",
      "la mejor aproximación al valor verdadero es a/2^t = 0.28125\n",
      "el error relativo es delta/(2^t phi) = -0.022727272727272645\n"
     ]
    }
   ],
   "source": [
    "a_resultante = int(max(counts, key=counts.get),2)\n",
    "\n",
    "# Seleccionamos el autovalor asociado a |u> \n",
    "phi = phi0  # si |0>\n",
    "#phi = phi1   # si |1>\n",
    "\n",
    "print('el valor de phi original era =', phi)\n",
    "\n",
    "print('la mejor aproximación al valor verdadero es a/2^t =', a_resultante*2**(-t))\n",
    "\n",
    "print('el error relativo es delta/(2^t phi) =', (phi -a_resultante*2**(-t))/phi)"
   ]
  },
  {
   "cell_type": "markdown",
   "metadata": {
    "slideshow": {
     "slide_type": "slide"
    }
   },
   "source": [
    "## Distribución de medidas\n",
    "\n",
    "Para una mantisa fija, $\\delta \\Rightarrow  \\phi = a+\\delta$ las distintas medidas del estado resultante $\\ket{m}$ se distribuirán en el torno a un *valor central* $\\ket{a} = \\ket{[2^t\\varphi]} $.\n",
    "\n",
    " Escribiendo $\\ket{m=a+l}$  podemos obtener la *distribución de probabilidad* $p(m) = p(\\delta, l)$ de medir $m=a+l$\n",
    "<br>\n",
    "<br>\n",
    "\n",
    "\\begin{eqnarray}\n",
    "p(\\delta, l) ~~&=&~~ \\left\\vert \\,  \\bra{a+ l} \\,  \\frac{1}{2^{t}}\\sum_{x=0}^{2^t-1}   \\sum_{y=0}^{2^t-1}  e^{2\\pi i (\\delta + a -x) y/2^t} \\ket{x}  \\,  \\right\\vert^2  ~~ \\stackrel{x= a + l}{=} ~~\n",
    "  \\frac{1}{2^{2t}} \\left\\vert \\,  \\sum_{y=0}^{2^t-1} \\left(e^{2\\pi i (\\delta-l) /2^t}\\right)^y \\,  \\right\\vert^2 \n",
    "\\end{eqnarray}"
   ]
  },
  {
   "cell_type": "markdown",
   "metadata": {
    "slideshow": {
     "slide_type": "fragment"
    }
   },
   "source": [
    "\\begin{eqnarray}\n",
    "&=& ~~  \\frac{1}{2^{2t}} \\left\\vert\\,  \\frac{1- e^{2\\pi i  \\,  (\\delta-l) }}{1- e^{2\\pi i (\\delta-l)/2^t}} \\, \\right\\vert^2   ~= ~ \n",
    "\\frac{1}{2^{2t}} \\left\\vert \\, \\frac{\\sin \\pi   (\\delta-l)}{\\sin (\\pi(\\delta-l)/2^t)} \\, \\right\\vert^2 \\, \n",
    "\\hspace{2.5cm}\n",
    "\\end{eqnarray}\n"
   ]
  },
  {
   "cell_type": "markdown",
   "metadata": {
    "slideshow": {
     "slide_type": "fragment"
    }
   },
   "source": [
    "$$\n",
    "\\geq   \\frac{1}{2^{2t}} \\left(\\frac{2 (\\delta-l)}{\\pi(\\delta-l)/2^t }\\right)^2 = \\left(\\frac{2}{\\pi}\\right)^2 \\sim 0.405 \\hspace{4cm}\n",
    "$$\n",
    "<br>\n",
    "<br>\n",
    "\n",
    "donde hemos usado que   $\\pi x\\geq \\sin(\\pi x) \\geq 2 x$ para $x\\in [ 0,\\pi/2 ]$.\n"
   ]
  },
  {
   "cell_type": "markdown",
   "metadata": {
    "slideshow": {
     "slide_type": "slide"
    }
   },
   "source": [
    "A $\\delta$ fijo  hasta $\\delta = 0.5$, vemos que la probabilidad está *picada* en $l=0$, es decir en $m=a$. A partir de ahí, como es de esperar, está picada en $l=1$. \n",
    "<br>\n",
    "<br>\n",
    "<center> \n",
    "<img src=\"./figuras/xprobeigenvalues.png\" width='40%' style='margin:left'/>\n",
    "</center>\n",
    "<br>\n",
    "<br>\n",
    "La probabilidad nunca es menor de 0.405 en su máximo."
   ]
  },
  {
   "cell_type": "markdown",
   "metadata": {
    "slideshow": {
     "slide_type": "skip"
    }
   },
   "source": [
    "A $l = 0$ fijo, la probabilidad de encontrar $m=a+0=a$ es 1 cuando $\\delta=0$ y decrece con $\\delta$. \n",
    "<br>\n",
    "<br>\n",
    "<center> \n",
    "<img src=\"./figuras/xmaxprobeigen.png\" width='40%' style='margin:right'/>\n",
    "</center>\n",
    "<br>\n",
    "<br>\n",
    "Cuando $l=1$ la probabilidad máxima corresponde al número $m=a+1$.\n"
   ]
  },
  {
   "cell_type": "markdown",
   "metadata": {
    "slideshow": {
     "slide_type": "slide"
    }
   },
   "source": [
    "La **anchura $t$ del circuito auxiliar** determina la anchura de la curva de probabilidad en torno al valor medio.\n",
    "\n",
    "Ello permite acotar la aproximación al valor real de la fase buscada según el siguiente teorema  (ver Nielsen p. 224)"
   ]
  },
  {
   "cell_type": "markdown",
   "metadata": {
    "slideshow": {
     "slide_type": "fragment"
    }
   },
   "source": [
    "<div class=\"alert alert-block alert-info\">\n",
    "<p style=\"text-align: center;\"> <p style=\"text-align: left ;color: navy;\">  \n",
    "<b>Teorema:</b> \n",
    "<br>    \n",
    "    el algoritmo QPE (Quantum Phase Estimation) es capaz de producir ua <i>estimación $m$ de orden $k$</i>  para la fase $\\varphi$ (en el sentido de que  $|\\varphi- m/2^t |<2^{-k}$) con una  probabilidad $1-\\epsilon$,  tomando una dimensión del espacio de representación\n",
    "<br>\n",
    "<br>\n",
    "$$\n",
    "t \\geq k  + \\left[ \\log\\left(1 + \\frac{1}{2\\epsilon}\\right) \\right] \\label{tedeene}\n",
    "$$\n",
    "</div>"
   ]
  },
  {
   "cell_type": "markdown",
   "metadata": {
    "slideshow": {
     "slide_type": "slide"
    }
   },
   "source": [
    "## ¿y si no podemos preparar  un autoestado?"
   ]
  },
  {
   "cell_type": "markdown",
   "metadata": {
    "slideshow": {
     "slide_type": "fragment"
    }
   },
   "source": [
    "Una de las premisas usadas en la sección anterior es la posibilidad de preparar el autoestado $\\ket{\\psi}$ de $U$ \n",
    "\n",
    "En caso contrario, ¿qué *resultado* obtenemos después de usar el circuito de estimación cuántica de fase?\n"
   ]
  },
  {
   "cell_type": "markdown",
   "metadata": {
    "slideshow": {
     "slide_type": "fragment"
    }
   },
   "source": [
    "Apliquemos el circuito anterior a un vector arbitrario $\\ket{b}$. Genéricamente dicho vector admitirá una expansión de la forma\n",
    "\n",
    "$$\n",
    "\\ket{b} = \\sum_{i=1}^N c_i \\ket{u_i}\n",
    "$$\n",
    "en la *base de autovectores* de $U$\n",
    "\n",
    "$$U\\ket{u_i} = e^{2\\pi i\\varphi_i}\\ket{u_i}$$  \n",
    "\n",
    "\n",
    "\n",
    "\n"
   ]
  },
  {
   "cell_type": "markdown",
   "metadata": {
    "slideshow": {
     "slide_type": "slide"
    }
   },
   "source": [
    "Debido a la linealidad del circuito QPE, a la salida del mismo encontraremos una combinación lineal de estados \n",
    "de la forma\n",
    "\n",
    "\\begin{eqnarray}\n",
    "U_{QPE}\\, :\\,\\ket{0}_t \\left(\\sum_{i=1}c_i\\ket{u_i}\\right) &=& \\sum_{i=1}c_i U_{QPE}\\left(\\ket{0}_t\\ket{u_i}\n",
    "\\rule{0mm}{6mm}\\right)  \\\\\n",
    "&=& \\sum_{i=1}^N  c_i \\ket{\\Phi_i}\\ket{u_i} \n",
    "\\\\\n",
    "&=& \\sum_{i\\in S_n}\\sum_{x\\in S_t} c_i \\ket{x}\\braket{x}{\\Phi_i}\\ket{u_i}\n",
    "\\\\\n",
    "&=& \\sum_{i\\in S_n}\\sum_{x\\in S_t} c_i \\braket{x}{\\Phi_i} \\ket{x}\\ket{u_i} \n",
    "\\end{eqnarray}\n",
    "\n"
   ]
  },
  {
   "cell_type": "markdown",
   "metadata": {
    "slideshow": {
     "slide_type": "fragment"
    }
   },
   "source": [
    "Midiendo en el primer registro $\\ket{x}\\hookrightarrow \\ket{m}$ obtendremos un número entero $\\to m $ con probabilidad\n",
    "\n",
    "$$\n",
    "p(m) = \\sum_i  |c_i|^2  |\\braket{m}{\\Phi_i}|^2   = \\sum_i  |c_i|^2  p(\\delta_i,l_i)\n",
    "$$\n",
    "\n"
   ]
  },
  {
   "cell_type": "markdown",
   "metadata": {
    "slideshow": {
     "slide_type": "fragment"
    }
   },
   "source": [
    "\n",
    "La probabilidad $p(m)$ es una **suma ponderada de distribuciones** $p(\\delta_i,l_i) =  |\\braket{m}{\\Phi_i}|^2$\n",
    "con  $m = a_i + l_i$ *picadas* en torno  $l_i = 0$.\n"
   ]
  },
  {
   "cell_type": "markdown",
   "metadata": {
    "slideshow": {
     "slide_type": "fragment"
    }
   },
   "source": [
    "Si $t$ se escoge como en el teorema descrito anteriormente, el resultado será una aproximación $a_i$ a $2^t\\varphi_i$ con una probabilidad de acierto de, al menos, $|c_i|^2 (1-\\epsilon)$.\n",
    "\n"
   ]
  },
  {
   "cell_type": "markdown",
   "metadata": {
    "slideshow": {
     "slide_type": "slide"
    }
   },
   "source": [
    "*Ejemplo:*\n",
    "\n",
    "Vamos a correr el circuito QPE inicializando para una  combinaciones $\\ket{b} = \\cos \\theta/2 \\ket{0} + \\sin \\theta/2\n",
    " \\ket{1}= R_y(\\theta)\\ket{0}$ de autoestados de $P(\\varphi)$.\n",
    "\n"
   ]
  },
  {
   "cell_type": "code",
   "execution_count": 33,
   "metadata": {
    "slideshow": {
     "slide_type": "fragment"
    }
   },
   "outputs": [
    {
     "name": "stdout",
     "output_type": "stream",
     "text": [
      "phi0= 0.1375  ->   2^t*phi0 = a0 + delta0 =  1.1  , a0 = 1 => 001\n",
      "phi1= 0.3875  ->   2^t*phi1 = a1 + delta1 =  3.1  , a1 = 1 => 011\n"
     ]
    }
   ],
   "source": [
    "t_seed = 3\n",
    "\n",
    "a0 = 1.\n",
    "delta0 = 0.1\n",
    "phi0 = (a0+ delta0)*2.**(-t_seed) \n",
    "\n",
    "a1 = 3.\n",
    "delta1 = 0.1\n",
    "phi1 =(a1+ delta1)*2.**(-t_seed) \n",
    "\n",
    "print('phi0=', phi0, ' ->   2^t*phi0 = a0 + delta0 = ', 2**t_seed*phi0 , ' , a0 =' ,int(2**t_seed*phi0), '=>', format(int(2**t_seed*phi0),'b').zfill(t_seed) )\n",
    "print('phi1=', phi1, ' ->   2^t*phi1 = a1 + delta1 = ', 2**t_seed*phi1 , ' , a1 =' ,int(2**t_seed*phi0), '=>', format(int(2**t_seed*phi1),'b').zfill(t_seed) )\n"
   ]
  },
  {
   "cell_type": "code",
   "execution_count": 34,
   "metadata": {
    "slideshow": {
     "slide_type": "slide"
    }
   },
   "outputs": [
    {
     "data": {
      "image/png": "[encoded data removed]",
      "text/plain": [
       "<Figure size 1612.8x1047.48 with 1 Axes>"
      ]
     },
     "execution_count": 34,
     "metadata": {},
     "output_type": "execute_result"
    }
   ],
   "source": [
    "from qiskit import QuantumCircuit, QuantumRegister, ClassicalRegister\n",
    "\n",
    "t = 6 # la dimensión del registro de evaluación \n",
    "n = 1 # la dimensiónd el espacio de representación del opeador U\n",
    "\n",
    "qrt=QuantumRegister(t,name=\"t\")\n",
    "qra=QuantumRegister(n,name=\"qr_U\") # aquí 1 es la dimensión del espacio en el que opera U\n",
    "crt=ClassicalRegister(t)\n",
    "\n",
    "qpe = QuantumCircuit(qrt,qra,crt)   \n",
    "\n",
    "##########################################################################\n",
    "#inicializamos la ancilla en una combinación cos(th/2)|0> + sin(th/2)|1>\n",
    "theta = 2*np.pi*0.15 \n",
    "qpe.ry(theta,qra) \n",
    "##########################################################################\n",
    "\n",
    "qpe.h(range(t))\n",
    "qpe.barrier()\n",
    "\n",
    "# aplicamos los operadores controlados c-U^j \n",
    "for j in range(t):\n",
    "    qpe.append(c_Uop(phi0,phi1,2**j),[qrt[j]]+qra[:])\n",
    "#    qpe.cp(2*np.pi*phi1*(2**j), qrt[j], qra); # This is C-U\n",
    "    \n",
    "\n",
    "qpe.barrier()\n",
    "\n",
    "# aplicamos la QFT^-1 que está definida en macro.py \n",
    "qpe.append(TFC_adj(t),qrt)\n",
    "\n",
    "# podemos hacerlo usando la librería de qiskit \n",
    "#from qiskit.circuit.library import QFT\n",
    "#qpe.append(QFT(len(qr),do_swaps=True).inverse(),qr)\n",
    "\n",
    "\n",
    "qpe.measure(qrt,crt)\n",
    "\n",
    "qpe.draw(output=\"mpl\")"
   ]
  },
  {
   "cell_type": "code",
   "execution_count": 35,
   "metadata": {
    "slideshow": {
     "slide_type": "slide"
    }
   },
   "outputs": [
    {
     "data": {
      "image/png": "[encoded data removed]",
      "text/plain": [
       "<Figure size 504x360 with 1 Axes>"
      ]
     },
     "execution_count": 35,
     "metadata": {},
     "output_type": "execute_result"
    }
   ],
   "source": [
    "from qiskit import Aer, execute\n",
    "M_backend = Aer.get_backend('qasm_simulator')\n",
    "\n",
    "from qiskit.visualization import plot_histogram\n",
    "results = execute(qpe, M_backend, shots=1024).result()\n",
    "counts = results.get_counts()\n",
    "plot_histogram(counts)"
   ]
  },
  {
   "cell_type": "markdown",
   "metadata": {
    "slideshow": {
     "slide_type": "slide"
    }
   },
   "source": [
    "# Orden  modular"
   ]
  },
  {
   "cell_type": "markdown",
   "metadata": {
    "slideshow": {
     "slide_type": "slide"
    }
   },
   "source": [
    "<div class=\"alert alert-block alert-info\">\n",
    "<p style=\"text-align: center;\"> <p style=\"text-align: left ;color: navy;\">  \n",
    "<b>Definición</b> (Orden modular): \n",
    "<br>\n",
    "<br>\n",
    "Sean $m,N \\in {\\mathbb N}$ dos enteros $m<N$ coprimos (sin divisores  comunes).<br><br>\n",
    "Definimos el <b> orden de $m$ módulo $N$</b> como el  menor entero positivo, $r$, tal que $m^r = 1$ mod$N$.\n",
    "</div>\n",
    "<br>\n"
   ]
  },
  {
   "cell_type": "markdown",
   "metadata": {
    "slideshow": {
     "slide_type": "fragment"
    }
   },
   "source": [
    "**Problema**: dados $m$ y $N$,   hallar $r$ con el número mínimo de operaciones."
   ]
  },
  {
   "cell_type": "markdown",
   "metadata": {
    "slideshow": {
     "slide_type": "fragment"
    }
   },
   "source": [
    "*Ejemplo:*"
   ]
  },
  {
   "cell_type": "code",
   "execution_count": 36,
   "metadata": {
    "slideshow": {
     "slide_type": "-"
    }
   },
   "outputs": [
    {
     "data": {
      "text/plain": [
       "[1, 7, 4, 13, 1, 7, 4, 13, 1, 7, 4, 13, 1, 7, 4, 13, 1]"
      ]
     },
     "execution_count": 36,
     "metadata": {},
     "output_type": "execute_result"
    }
   ],
   "source": [
    "{2,4,7,8,11,13}   # comprimos con 15\n",
    "m=7\n",
    "N=15\n",
    "[m**i%N for i in range(17)]"
   ]
  },
  {
   "cell_type": "markdown",
   "metadata": {
    "slideshow": {
     "slide_type": "fragment"
    }
   },
   "source": [
    "<br>\n",
    "<div class=\"alert alert-block alert-danger\">\n",
    "En general, si $N=2^n$, clásicamente no existen algoritmos capaces de resolver este problema en un número  de pasos que sea <i> polinómico en $n$</i>. \n",
    "\n",
    "Por el contrario, verificar si un $r$ es solución es fácil.\n",
    "<br>\n",
    "<br> \n",
    "    \n",
    "Nos hallamos ante un problema de tipo NP.\n",
    "<div>"
   ]
  },
  {
   "cell_type": "markdown",
   "metadata": {
    "slideshow": {
     "slide_type": "skip"
    }
   },
   "source": [
    "<div class=\"alert alert-block alert-danger\">\n",
    "<b> Notar: </b>\n",
    "    \n",
    "Como  $m^r = 1 = m^0$, a partir de ese momento la serie de valores $\\{m^0,m^1,\\ldots m^{r-1}\\}$ se repite. \n",
    "Por tanto, halla el <i> orden modular </i> de $m$ módulo $N$  es lo mismo que hallar la <i> periodicidad</i> de la función $f(x) = m^x\\, $mod$N$. \n",
    "     \n",
    "    \n",
    "Sin embargo, si tratamos de fabricar un oráculo para el operador unitario $U_f:\\ket{x}\\ket{y} \\to \\ket{x}\\ket{m^x y \\,{\\rm mod} N}$ nos encontraremos con una complejidad exponencial\n",
    "</div>"
   ]
  },
  {
   "cell_type": "markdown",
   "metadata": {
    "slideshow": {
     "slide_type": "slide"
    }
   },
   "source": [
    "Sea $U ; \\Hil_n \\to \\Hil_n $ un oráculo que actúa en la forma siguiente sobre la base $\\{\\ket{y}\\}$  donde $y \\in S_n = {0,1,...,N-1}$.\n",
    "\n",
    "$$\n",
    "U\\ket{y }  = \\ket{m y \\,{\\rm mod} N}\n",
    "$$\n"
   ]
  },
  {
   "cell_type": "markdown",
   "metadata": {
    "slideshow": {
     "slide_type": "skip"
    }
   },
   "source": [
    "<div class=\"alert alert-block alert-danger\">\n",
    "Un oráculo general que funcione para cualquier $(m,N)$ no es conocido.\n",
    "</div>"
   ]
  },
  {
   "cell_type": "markdown",
   "metadata": {
    "slideshow": {
     "slide_type": "fragment"
    }
   },
   "source": [
    "La composición  $U^x = \\underbrace{U\\cdot U \\cdots U}_{x}$ genera todos los vectores que buscamos\n",
    "\n",
    "$$\n",
    "U^x\\ket{y }  = U^{x-1}\\ket{m y \\,{\\rm mod} N} =  U^{x-2}\\ket{m^2 y \\,{\\rm mod} N} = ... = \\ket{m^x y \\,{\\rm mod} N}\n",
    "$$\n"
   ]
  },
  {
   "cell_type": "markdown",
   "metadata": {
    "slideshow": {
     "slide_type": "fragment"
    }
   },
   "source": [
    "El *orden* de $m$ mod$N$ es claramente el número $r$ tal que \n",
    "\n",
    "$$U^{r }\\ket{y} = \\ket{m^r  y \\,{\\rm mod} N} = \\ket{y}$$\n",
    "\n"
   ]
  },
  {
   "cell_type": "markdown",
   "metadata": {
    "slideshow": {
     "slide_type": "skip"
    }
   },
   "source": [
    "Con $U$ podríamos implementar la función $f(x) = m^x{\\rm mod} N$ en la forma\n",
    "\n",
    "$$\n",
    "U_f \\ket{x}\\ket{1}  = \\ket{x}U^x\\ket{1} = \\ket{x}\\ket{m^x \\, {\\rm mod} N }\n",
    "$$\n",
    "\n",
    "y buscar la periodicidad de $f(x+r) = f(x)$ siguiento el método de la lección anterior."
   ]
  },
  {
   "cell_type": "markdown",
   "metadata": {
    "slideshow": {
     "slide_type": "skip"
    }
   },
   "source": [
    "<div class=\"alert alert-block alert-danger\">\n",
    "<b> Notar: </b>\n",
    "<br>\n",
    "    \n",
    "\n",
    "- La acción de $U_f$ parece mucho a la de un operador controlado $\\cg{U}\\ket{x}\\ket{y} = \\ket{x}U^x\\ket{y}$. Sin embargo ahora $x = 0,1,...,2^t-1$ es un entero. El circuito que implementa $U_f$ es precisamente el que se utiliza en el circuito de QPE. \n",
    "\n",
    "\n",
    "- Con esta observación vemos que el circuito de QPE se parece mucho al que hemos usado en la búsqueda de un período en el tema anterior.\n",
    "    \n",
    "\n",
    "    \n",
    "</b>    "
   ]
  },
  {
   "cell_type": "markdown",
   "metadata": {
    "slideshow": {
     "slide_type": "slide"
    }
   },
   "source": [
    "Vamos a aplicar el  método de <i> Estimación Cuántica de Fase</i> (QPE) al operador $U$ \n",
    "\n",
    "Recordemos que dicho método <u>nos pide evaluar el operador $U$ sobre sus autovectores</u> $U\\ket{u} = e^{i\\varphi}\\ket{u}$."
   ]
  },
  {
   "cell_type": "markdown",
   "metadata": {
    "slideshow": {
     "slide_type": "fragment"
    }
   },
   "source": [
    "Si *conociésemos* $r$ podríamos construir el siguiente conjunto de $r$  vectores $\\ket{u_s}$ con $s=0,...,r-1$ \n",
    "<br>\n",
    "<br>\n",
    "$$\n",
    "\\ket{u_s} = \\frac{1}{\\sqrt{r}} \\sum_{j=0}^{r-1} e^{-2\\pi i \\frac{s }{r}j} U^j\\ket{1}\n",
    "$$\n",
    "<br>\n"
   ]
  },
  {
   "cell_type": "markdown",
   "metadata": {
    "slideshow": {
     "slide_type": "slide"
    }
   },
   "source": [
    "<div class=\"alert alert-block alert-info\">\n",
    "<p style=\"text-align: center;\"> <p style=\"text-align: left ;color: navy;\">  \n",
    "<b>Teorema:</b> \n",
    "<br>\n",
    "<br>\n",
    " Los vectores   $\\{\\ket{u_s}\\}$   forman un conjunto de <i>autovectores</i> de  $U$ con <i>autovalores</i> $e^{2\\pi i s/r}~$. Es decir\n",
    "<br>    \n",
    "<br>\n",
    "$$\n",
    "U\\ket{ u_s} = e^{i\\varphi_s} \\ket{u_s}\n",
    "$$\n",
    "<br>\n",
    "con \n",
    "$$\n",
    "\\varphi_s = s/r~~~~~~ s=0,...,r-1\n",
    "$$\n",
    "<br>"
   ]
  },
  {
   "cell_type": "markdown",
   "metadata": {
    "slideshow": {
     "slide_type": "fragment"
    }
   },
   "source": [
    "**Prueba**:\n",
    "\\begin{eqnarray}\n",
    "U \\ket{u_s} &=& \\frac{1}{\\sqrt{r}} \\sum_{j=0}^{r-1} e^{-2\\pi i s j/r} U^{j+1}\\ket{1} \n",
    "\\nonumber\\\\\n",
    " &=& e^{2\\pi i \\frac{s}{r}}  \\frac{1}{\\sqrt{r}} \\sum_{j=0}^{r-1} e^{-2\\pi i  s (j+1)/r} U^{j+1}\\ket{1} =\n",
    " e^{2\\pi i \\frac{s}{r}}  \\frac{1}{\\sqrt{r}} \\sum_{j=0}^{r-1} e^{-2\\pi i  s j/r} U^{j}\\ket{1} \n",
    "\\nonumber\\\\\n",
    "&=& e^{2\\pi i s/r} \\ket{u_s}\\, .  \\rule{0mm}{8mm}\n",
    "\\end{eqnarray}\n"
   ]
  },
  {
   "cell_type": "markdown",
   "metadata": {
    "slideshow": {
     "slide_type": "slide"
    }
   },
   "source": [
    "Podríamos sencillamente aplicar el algoritmo de estimación de fase para *extraer la serie* de valores de $\\varphi_s = s/r$ y de ahí recuperar el *orden modular* $r$.\n",
    "\n",
    "El problema es que, para generar $\\{\\ket{u_s}\\}$ necesitamos conocer $r$, que, *precisamente, es el dato  que buscamos* "
   ]
  },
  {
   "cell_type": "markdown",
   "metadata": {
    "slideshow": {
     "slide_type": "fragment"
    }
   },
   "source": [
    "Una *observación importante* nos permite soslayar esta dificultad: vamos a tomar una *combinación homogénea* de los autoestados $\\ket{u_s}$\n",
    "\n",
    "<br>\n",
    "<br>\n",
    "\\begin{eqnarray}\n",
    "\\frac{1}{\\sqrt{r}} \\sum_{s=0}^{r-1}\\ket{u_s}   &=& \\frac{1}{\\sqrt{r}} \\sum_{s=0}^{r-1} \\left(  \\frac{1}{\\sqrt{r}}   \\sum_{j=0}^{r-1} e^{-2\\pi i  sj/r} U^{j}\\ket{1} \\right) ~=~ \\frac{1}{r}   \\sum_{j=0}^{r-1} \\left(  \\sum_{s=0}^{r-1}e^{-2\\pi i  sj/r} \\right)U^{j}\\ket{1} \\nonumber\\\\ \n",
    "\\rule{0mm}{12mm}\n",
    "&=&   \\frac{1}{r}   \\sum_{j=0}^{r-1} \\, (r \\delta_{j,0}) \\,  U^{j}\\ket{1} = U^0\\ket{1} \\nonumber\\\\  \\rule{0mm}{10mm}\n",
    "&=& \\ket{1}\n",
    "\\end{eqnarray}\n",
    "<br>\n"
   ]
  },
  {
   "cell_type": "markdown",
   "metadata": {
    "slideshow": {
     "slide_type": "slide"
    }
   },
   "source": [
    "<u>¡El resultado es asombrosamente simple!</u>:\n",
    "\n",
    "si inicializamos el circuito de estimación de fase con el estado $\\ket{0}_t\\ket{1}_n$ a la salida obtendremos una superposición uniforme\n",
    "\n",
    "$$\n",
    "U_{QPE} : \\ket{0}_t \\otimes \\ket{1}_n  ~ \\to ~ \\frac{1}{\\sqrt{r}}\\sum_{s=0}^{r-1} \\ket{m_s}\\otimes\\ket{u_s}\n",
    "$$\n",
    "\n",
    "donde $m_s = 2^t s/r$ siempre que $t$ se haya elegido de forma que $~2^t s/r \\in {\\mathbb Z}$ sea entero.\n"
   ]
  },
  {
   "cell_type": "markdown",
   "metadata": {
    "run_control": {
     "marked": true
    },
    "slideshow": {
     "slide_type": "fragment"
    }
   },
   "source": [
    "<center> \n",
    "<img src=\"./figuras/Orden_modular.png\" width='60%' style='margin:left'/>\n",
    "</center>\n"
   ]
  },
  {
   "cell_type": "markdown",
   "metadata": {
    "slideshow": {
     "slide_type": "slide"
    }
   },
   "source": [
    "## **Ejemplo**:  \n",
    "necesitamos un oráculo que implemente la operación \n",
    "\n",
    "$$U^{x }\\ket{y} = \\ket{m^x  y \\,{\\rm mod} N} $$"
   ]
  },
  {
   "cell_type": "markdown",
   "metadata": {
    "slideshow": {
     "slide_type": "fragment"
    }
   },
   "source": [
    "El siguiente código implementa este oráculo para $N=15$ y $m\\in \\{2,4,7,8,11,13\\}$ coprimos, y lo convierte en una puerta controlada"
   ]
  },
  {
   "cell_type": "code",
   "execution_count": 37,
   "metadata": {
    "slideshow": {
     "slide_type": "-"
    }
   },
   "outputs": [],
   "source": [
    "def c_amod15(m, power):\n",
    "    \"\"\"Controlled multiplication by a mod 15\"\"\"\n",
    "    if m not in [2,4,7,8,11,13]:\n",
    "        raise ValueError(\"'a' must be 2,4,7,8,11 or 13\")\n",
    "    U = QuantumCircuit(4)        \n",
    "    for iteration in range(power):\n",
    "        if m in [2,13]:\n",
    "            U.swap(2,3)\n",
    "            U.swap(1,2)\n",
    "            U.swap(0,1)\n",
    "        if m in [7,8]:\n",
    "            U.swap(0,1)\n",
    "            U.swap(1,2)\n",
    "            U.swap(2,3)\n",
    "        if m in [4, 11]:\n",
    "            U.swap(1,3)\n",
    "            U.swap(0,2)\n",
    "        if m in [7,11,13]:\n",
    "            for q in range(4):\n",
    "                U.x(q)\n",
    "#    print(U)\n",
    "    U = U.to_gate()\n",
    "    U.name = \"%i^%i mod 15\" % (m, power)\n",
    "    c_U = U.control()\n",
    "    return c_U"
   ]
  },
  {
   "cell_type": "markdown",
   "metadata": {
    "slideshow": {
     "slide_type": "-"
    }
   },
   "source": [
    "Función definida en [Qiskit Textbook](https://qiskit.org/textbook/ch-algorithms/shor.html)"
   ]
  },
  {
   "cell_type": "code",
   "execution_count": null,
   "metadata": {
    "slideshow": {
     "slide_type": "skip"
    }
   },
   "outputs": [],
   "source": [
    "c_amod15(4,3 ).definition.draw('mpl')"
   ]
  },
  {
   "cell_type": "markdown",
   "metadata": {
    "slideshow": {
     "slide_type": "fragment"
    }
   },
   "source": [
    "<div class=\"alert alert-block alert-success\">\n",
    "<b>Ejercicio:</b>  <br>\n",
    "construye un circuito con esta puerta y verifica que reproduce la lista $m^x$ mod 15 con $x=0,1,2,...$\n",
    "</div>\n"
   ]
  },
  {
   "cell_type": "code",
   "execution_count": 38,
   "metadata": {
    "slideshow": {
     "slide_type": "slide"
    }
   },
   "outputs": [
    {
     "data": {
      "image/png": "[encoded data removed]",
      "text/plain": [
       "<Figure size 1385.27x565.88 with 1 Axes>"
      ]
     },
     "execution_count": 38,
     "metadata": {},
     "output_type": "execute_result"
    }
   ],
   "source": [
    "from qiskit import QuantumCircuit, QuantumRegister, ClassicalRegister\n",
    "\n",
    "t = 4 \n",
    "n = 4 \n",
    "m = 7\n",
    "\n",
    "qr=QuantumRegister(t,name=\"t\")\n",
    "ar=QuantumRegister(4,name=\"qr_U\") # aquí 1 es la dimensión del espacio en el que opera U\n",
    "cr=ClassicalRegister(t)\n",
    "\n",
    "qc = QuantumCircuit(qr,ar,cr)   \n",
    "\n",
    "qc.x(ar[0]) #  inicializamos la ancilla al autoestado de P(phi) ->  |u> = |1>\n",
    "#qpe.h(ar[0]) #  \n",
    "\n",
    "qc.h(range(n))\n",
    "qc.barrier()\n",
    "\n",
    "# aplicamos los operadores controlados c-U^j \n",
    "for q in range(t):\n",
    "    qc.append(c_amod15(m, 2**q), [qr[q]] + ar[:])\n",
    "\n",
    "\n",
    "qc.barrier()\n",
    "\n",
    "# aplicamos la QFT^-1 que está definida en macro.py \n",
    "qc.append(TFC_adj(t),qr)\n",
    "\n",
    "# podemos hacerlo usando la librería de qiskit \n",
    "#from qiskit.circuit.library import QFT\n",
    "#qpe.append(QFT(len(qr),do_swaps=True).inverse(),qr)\n",
    "\n",
    "\n",
    "qc.measure(qr,cr)\n",
    "\n",
    "qc.draw(output=\"mpl\")"
   ]
  },
  {
   "cell_type": "markdown",
   "metadata": {
    "slideshow": {
     "slide_type": "slide"
    }
   },
   "source": [
    "Ejecutamos el circuito y listamos los suceso más probables"
   ]
  },
  {
   "cell_type": "code",
   "execution_count": 39,
   "metadata": {
    "slideshow": {
     "slide_type": "-"
    }
   },
   "outputs": [
    {
     "data": {
      "image/png": "[encoded data removed]",
      "text/plain": [
       "<Figure size 504x360 with 1 Axes>"
      ]
     },
     "execution_count": 39,
     "metadata": {},
     "output_type": "execute_result"
    }
   ],
   "source": [
    "from qiskit import Aer, execute\n",
    "M_simulator = Aer.get_backend('qasm_simulator')\n",
    "\n",
    "job = execute(qc,M_simulator,shots = 1024)\n",
    "counts = job.result().get_counts()\n",
    "counts\n",
    "\n",
    "from qiskit.visualization import plot_histogram\n",
    "plot_histogram(counts)"
   ]
  },
  {
   "cell_type": "markdown",
   "metadata": {
    "slideshow": {
     "slide_type": "fragment"
    }
   },
   "source": [
    "de aquí obtenemos la lista de valores enteros $2^t s/r$"
   ]
  },
  {
   "cell_type": "code",
   "execution_count": 40,
   "metadata": {
    "slideshow": {
     "slide_type": "-"
    }
   },
   "outputs": [
    {
     "name": "stdout",
     "output_type": "stream",
     "text": [
      "[2^ts/r] ~  [4, 8, 12]\n",
      "phi_s [0.25, 0.5, 0.75]\n"
     ]
    }
   ],
   "source": [
    "Ns_list = sorted([int(keys,2) for  keys in counts])[1:] \n",
    "print('[2^ts/r] ~ ', Ns_list)\n",
    "\n",
    "# dividiendo por 2**t\n",
    "phis_list = [Ns_list[i]/2**t for i in range(len(Ns_list))]\n",
    "print('phi_s', phis_list)\n"
   ]
  },
  {
   "cell_type": "markdown",
   "metadata": {
    "slideshow": {
     "slide_type": "slide"
    }
   },
   "source": [
    "Ahora podemos usar, como antes, dos estrategias para extraer el valor del período $r$:\n",
    "\n",
    "1. analizando las diferencias: $r = \\displaystyle \\left(\\frac{s+1}{r} - \\frac{s}{r}\\right)^{-1}$"
   ]
  },
  {
   "cell_type": "code",
   "execution_count": 41,
   "metadata": {
    "slideshow": {
     "slide_type": "-"
    }
   },
   "outputs": [
    {
     "name": "stdout",
     "output_type": "stream",
     "text": [
      "[4, 4]\n",
      "el valor entero del promedio = 4\n"
     ]
    }
   ],
   "source": [
    "differences = [int((phis_list[s+1]-phis_list[s])**(-1)) for s in range(len(phis_list)-1)]\n",
    "\n",
    "print(differences)\n",
    "\n",
    "print('el valor entero del promedio =', int(sum(differences)/len(differences)))"
   ]
  },
  {
   "cell_type": "markdown",
   "metadata": {
    "slideshow": {
     "slide_type": "fragment"
    }
   },
   "source": [
    "2. usando la representación en fracciones continuas: $\\, \\displaystyle \\varphi_s = \\frac{s}{r}$"
   ]
  },
  {
   "cell_type": "code",
   "execution_count": 42,
   "metadata": {
    "slideshow": {
     "slide_type": "-"
    }
   },
   "outputs": [
    {
     "name": "stdout",
     "output_type": "stream",
     "text": [
      "[s/r]= [Fraction(1, 4), Fraction(1, 2), Fraction(3, 4)]\n"
     ]
    }
   ],
   "source": [
    "from fractions import Fraction\n",
    "print('[s/r]=',[Fraction(phis_list[i]).limit_denominator(20) for i in range(int(len(phis_list)))])"
   ]
  },
  {
   "cell_type": "markdown",
   "metadata": {
    "slideshow": {
     "slide_type": "fragment"
    }
   },
   "source": [
    "<br>\n",
    "\n",
    "<div class=\"alert alert-block alert-danger\">\n",
    "<b> Notar: </b>\n",
    "<br>\n",
    "\n",
    "- En el caso más general $\\varphi_s = 2^t s/r \\notin {\\mathbb Z}$ no será un entero\n",
    "    \n",
    "\n",
    "- Entonces el resultado de la medida $m_s$ seguirá una distribución de probabilidad <i>picada</i> en torno a la parte entera $a_s = [2^t s/r]$\n",
    "    \n",
    "\n",
    "- Haciendo un número alto de medidas y seleccionando los eventos  $m_s = a_s$ más probables podemos recuperar $r$ por los mismos métodos anteriores.\n",
    "</div>"
   ]
  }
 ],
 "metadata": {
  "celltoolbar": "Slideshow",
  "kernelspec": {
   "display_name": "Python 3 (ipykernel)",
   "language": "python",
   "name": "python3"
  },
  "language_info": {
   "codemirror_mode": {
    "name": "ipython",
    "version": 3
   },
   "file_extension": ".py",
   "mimetype": "text/x-python",
   "name": "python",
   "nbconvert_exporter": "python",
   "pygments_lexer": "ipython3",
   "version": "3.9.18"
  },
  "nbTranslate": {
   "displayLangs": [
    "*"
   ],
   "hotkey": "alt-t",
   "langInMainMenu": true,
   "sourceLang": "en",
   "targetLang": "fr",
   "useGoogleTranslate": true
  },
  "toc": {
   "base_numbering": 1,
   "nav_menu": {},
   "number_sections": true,
   "sideBar": true,
   "skip_h1_title": false,
   "title_cell": "Table of Contents",
   "title_sidebar": "Contents",
   "toc_cell": false,
   "toc_position": {},
   "toc_section_display": true,
   "toc_window_display": false
  },
  "varInspector": {
   "cols": {
    "lenName": 16,
    "lenType": 16,
    "lenVar": 40
   },
   "kernels_config": {
    "python": {
     "delete_cmd_postfix": "",
     "delete_cmd_prefix": "del ",
     "library": "var_list.py",
     "varRefreshCmd": "print(var_dic_list())"
    },
    "r": {
     "delete_cmd_postfix": ") ",
     "delete_cmd_prefix": "rm(",
     "library": "var_list.r",
     "varRefreshCmd": "cat(var_dic_list()) "
    }
   },
   "types_to_exclude": [
    "module",
    "function",
    "builtin_function_or_method",
    "instance",
    "_Feature"
   ],
   "window_display": false
  }
 },
 "nbformat": 4,
 "nbformat_minor": 4
}
